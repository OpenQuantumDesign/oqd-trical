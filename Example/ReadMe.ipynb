{
 "cells": [
  {
   "cell_type": "markdown",
   "metadata": {},
   "source": [
    "# TrICal Trapped Ion Calculator\n",
    "\n",
    "This is a package for simulating a chain of trapped ions. The aim of this package is to remove the need for rewriting the same code to calculate equilibrium spacing, normal modes, and $J_{ij}$ every time a trap is being designed.\n",
    "\n",
    "## Class Structure\n",
    "![class structure](class_structure.png)\n",
    "\n",
    "The basic form of the class structure is shown in the diagram. Typically in an ion trap there are three major terms in the potential; the DC part, the RF part and the coulomb part. In this code the user will input the DC and RF parts into the potential class. For the RF potential the pondermotive approximation will have to be taken before inputing the potential into the code. \n",
    "\n",
    "## Usage\n",
    "\n",
    "The typical usage for this code will be to find the normal modes and frequencies for a given trap and for a given set of voltage applied to the trap electrodes. The potential around the centre of the trap is should be calculated via an appropriate method. The results of that calculation can then be input into the Potential class via three methods. The potential class is then used to calculate equilibrium spacing and normal modes. These are in turn fed into the SimulatedSpinLattice class to get out $J_{ij}$ coefficients."
   ]
  },
  {
   "cell_type": "markdown",
   "metadata": {},
   "source": [
    "## PolynomialPotential\n",
    "\n",
    "The PolynomialPotential approximates your trapping potential in the region around the ion chain with the following sum of polynomials:\n",
    "$$\n",
    "    \\sum_{ijk} \\alpha_{ijk}  x^iy^jz^k\n",
    "$$\n",
    "\n",
    "\n",
    "There are three ways to effectivly input the alpha values for your potential. To demonstrate all three methods the same trapping potential with $\\omega_x = 2\\pi*6$MHz, $\\omega_y = 2\\pi*5$MHz, and $\\omega_z = 2\\pi*1$MHz will be entered via all three methods. This potential written in full is:\n",
    "$$\n",
    "    V(x, y, z) = \\alpha_{2,0,0}x^2 + \\alpha_{0,2,0}y^2 + \\alpha_{0,0,2}z^2\n",
    "$$\n",
    "\n"
   ]
  },
  {
   "cell_type": "markdown",
   "metadata": {},
   "source": [
    "The first is to directly input the alpha values in a NxNxN matrix. The matrix must be the same dimention in every axis. This is shown bellow where in the p matrix the index indicates the power in x, y, or z."
   ]
  },
  {
   "cell_type": "code",
   "execution_count": 7,
   "metadata": {
    "ExecuteTime": {
     "end_time": "2019-12-03T20:00:36.924961Z",
     "start_time": "2019-12-03T20:00:36.914968Z"
    }
   },
   "outputs": [
    {
     "name": "stdout",
     "output_type": "stream",
     "text": [
      "[[[0.00000000e+00 0.00000000e+00 5.60290428e-12]\n",
      "  [0.00000000e+00 0.00000000e+00 0.00000000e+00]\n",
      "  [1.40072607e-10 0.00000000e+00 0.00000000e+00]]\n",
      "\n",
      " [[0.00000000e+00 0.00000000e+00 0.00000000e+00]\n",
      "  [0.00000000e+00 0.00000000e+00 0.00000000e+00]\n",
      "  [0.00000000e+00 0.00000000e+00 0.00000000e+00]]\n",
      "\n",
      " [[2.01704554e-10 0.00000000e+00 0.00000000e+00]\n",
      "  [0.00000000e+00 0.00000000e+00 0.00000000e+00]\n",
      "  [0.00000000e+00 0.00000000e+00 0.00000000e+00]]]\n"
     ]
    }
   ],
   "source": [
    "import sys\n",
    "sys.path.append(\"../\")\n",
    "from trical.classes import *\n",
    "from trical.constants import m_a\n",
    "import numpy as np\n",
    "from scipy.constants import mega, kilo, micro\n",
    "\n",
    "mass = m_a['Yb171']\n",
    "omega_x = 2*np.pi*6*mega #Hz\n",
    "omega_y = 2*np.pi*5*mega #Hz\n",
    "omega_z = 2*np.pi*1*mega #Hz\n",
    "\n",
    "# Potential in Joules\n",
    "p = np.zeros( (3, 3, 3) )\n",
    "p[2,0,0] = mass*(omega_x)**2/2 # alpha_2,0,0\n",
    "p[0,2,0] = mass*(omega_y)**2/2 # alpha_0,2,0\n",
    "p[0,0,2] = mass*(omega_z)**2/2 # alpha_0,0,2\n",
    "\n",
    "potential_alpha = PolynomialPotential(p)\n",
    "print(p)"
   ]
  },
  {
   "cell_type": "markdown",
   "metadata": {},
   "source": [
    "The second method is to insert a symbolic expression using sympy for the potential. This is intended to be useful when you have an analyitical expression for your trapping potential. Using the same potential as the first example."
   ]
  },
  {
   "cell_type": "code",
   "execution_count": 8,
   "metadata": {
    "ExecuteTime": {
     "end_time": "2019-12-03T20:00:36.946729Z",
     "start_time": "2019-12-03T20:00:36.928565Z"
    }
   },
   "outputs": [
    {
     "name": "stdout",
     "output_type": "stream",
     "text": [
      "2.01704554192163e-10*x**2 + 1.40072607077891e-10*y**2 + 5.60290428311563e-12*z**2\n"
     ]
    }
   ],
   "source": [
    "import sympy as sym \n",
    "x, y, z = sym.symbols('x, y ,z')\n",
    "V_sym = mass*(omega_x)**2/2*x**2 + mass*(omega_y)**2/2*y**2 + mass*(omega_z)**2/2*z**2\n",
    "potential_symbolic = SymbolicPotential(V_sym)\n",
    "print(V_sym)"
   ]
  },
  {
   "cell_type": "markdown",
   "metadata": {},
   "source": [
    "Finally the third method of defining a potential is to give a grid of points with the potential at each point. This grid will then be fit with polynomial and the coefficients of the polynomial will be returned in a format that can be submitted to the PolynomialPotential class via the first example method.\n",
    "\n",
    "The format for submitting the grid to the fitting function is in two arrays. The first is a list of \\[x,y,z\\] positions, and the second is a list of the value of the potential at each point."
   ]
  },
  {
   "cell_type": "code",
   "execution_count": 9,
   "metadata": {
    "ExecuteTime": {
     "end_time": "2019-12-03T20:00:37.232978Z",
     "start_time": "2019-12-03T20:00:36.950961Z"
    }
   },
   "outputs": [],
   "source": [
    "lscale = micro # a length scaling may have to be applied for fitting to converge\n",
    "\n",
    "rx = np.linspace(-10e-6, 10e-6, 100)/lscale # x position grid\n",
    "ry = np.linspace(-10e-6, 10e-6, 100)/lscale # y position grid\n",
    "rz = np.linspace(-40e-6, 40e-6, 100)/lscale # z position grid\n",
    "\n",
    "# Using the same potential funciton as before\n",
    "V_lambda = sym.lambdify( (x,y,z), V_sym)\n",
    "\n",
    "# Create a gird of x, y, z points\n",
    "R = np.meshgrid(rx, ry, rz)\n",
    "\n",
    "# Get the potential value at each grid point\n",
    "V_grid = V_lambda(*R)\n",
    "\n",
    "# The potential values must be in 1D list where the position in the list\n",
    "# matches the position in the coordinate list\n",
    "vals = np.reshape(V_grid, (-1))\n",
    "\n",
    "# Reshape the coordinate list to be a list of [x, y, z] positions\n",
    "R = np.reshape(R, (3, -1))\n",
    "R = R.transpose()"
   ]
  },
  {
   "cell_type": "code",
   "execution_count": 10,
   "metadata": {
    "ExecuteTime": {
     "end_time": "2019-12-03T20:00:39.510810Z",
     "start_time": "2019-12-03T20:00:37.238201Z"
    }
   },
   "outputs": [
    {
     "name": "stdout",
     "output_type": "stream",
     "text": [
      "[[[-3.18452152e-22  2.81090073e-25  5.60290428e-12]\n",
      "  [ 1.35706474e-22  2.87576813e-25 -9.19814655e-26]\n",
      "  [ 1.40072607e-10 -4.04172091e-26  2.00163594e-27]]\n",
      "\n",
      " [[ 7.41594249e-24  2.11325082e-25 -1.68754986e-26]\n",
      "  [ 7.30816164e-25 -5.11559573e-25 -2.84860679e-26]\n",
      "  [-2.57002755e-25 -1.30140283e-26 -1.15482758e-26]]\n",
      "\n",
      " [[ 2.01704554e-10  7.95184832e-25  1.33116333e-26]\n",
      "  [-4.03270347e-25 -1.36609697e-26  1.61523134e-27]\n",
      "  [ 9.90295182e-26 -1.07615655e-26 -3.18699806e-28]]]\n"
     ]
    }
   ],
   "source": [
    "from trical.misc import polynomial\n",
    "\n",
    "# specify the degree polynomial which has to be fitted along x, y, and z. In this case since we know the\n",
    "# function is harmonic we're fitting to 2nd degree\n",
    "deg = np.array([2,2,2])\n",
    "p = polynomial.multivariate_polyfit(R, vals, deg)\n",
    "potential_grid = PolynomialPotential(p)\n",
    "print(p)"
   ]
  },
  {
   "cell_type": "markdown",
   "metadata": {},
   "source": [
    "## TrappedIons Class\n",
    "\n",
    "This class calculates the equilibrium positions, normal modes, and frequencies of a given number of ions and trapping potential. The method of inputing the potential should not have any bearing on the equilibrum position. Using the equilibrium_position funciton we can see that all three input methods give the same positions in z."
   ]
  },
  {
   "cell_type": "code",
   "execution_count": 11,
   "metadata": {
    "ExecuteTime": {
     "end_time": "2019-12-03T20:00:39.659092Z",
     "start_time": "2019-12-03T20:00:39.517702Z"
    }
   },
   "outputs": [
    {
     "name": "stdout",
     "output_type": "stream",
     "text": [
      "Input Alpha valudes Directly: [-3.93817181 -1.24528026  1.24528     3.93817157]\n",
      "Symbolic Potential Function:  [-3.9381719  -1.24528033  1.24528004  3.93817162]\n",
      "Fitting Alpha from a Grid:    [-3.93817159 -1.24528022  1.24527997  3.93817137]\n"
     ]
    }
   ],
   "source": [
    "N=4\n",
    "\n",
    "a1 = TrappedIons(N, potential_alpha, m=mass)\n",
    "a2 = TrappedIons(N, potential_symbolic, m=mass)\n",
    "a3 = TrappedIons(N, potential_grid, m=mass)\n",
    "\n",
    "print(\"Input Alpha valudes Directly:\",a1.equilibrium_position()[:,2]/micro)\n",
    "print(\"Symbolic Potential Function: \", a2.equilibrium_position()[:,2]/micro)\n",
    "print(\"Fitting Alpha from a Grid:   \", a3.equilibrium_position()[:,2]/micro)\n"
   ]
  },
  {
   "cell_type": "markdown",
   "metadata": {},
   "source": [
    "## SimulatedSplinLattice \n",
    "\n",
    "This class takes in a TrappedIons class and using the eigen frequencies produces a Jij coupling matrix along some axis with the axis, wavelength, detuning and adressing being input parameters.\n"
   ]
  },
  {
   "cell_type": "code",
   "execution_count": 12,
   "metadata": {
    "ExecuteTime": {
     "end_time": "2019-12-03T20:00:39.731587Z",
     "start_time": "2019-12-03T20:00:39.662588Z"
    }
   },
   "outputs": [],
   "source": [
    "detuning = 2*np.pi*10*kilo #Hz\n",
    "mu = omega_x+detuning \n",
    "omega = np.ones((N, 1)) # The intensity at each ion, this array gives uniform intensity across each ion\n",
    "wavelength = 355e-9 # wavelength of light used for MS\n",
    "\n",
    "b1 = SimulatedSpinLattice(a1, [mu], omega, k=2*np.pi/wavelength)"
   ]
  },
  {
   "cell_type": "code",
   "execution_count": 13,
   "metadata": {
    "ExecuteTime": {
     "end_time": "2019-12-03T20:00:39.742055Z",
     "start_time": "2019-12-03T20:00:39.734343Z"
    }
   },
   "outputs": [
    {
     "name": "stdout",
     "output_type": "stream",
     "text": [
      "[[0.00000000e+00 1.22476828e-08 1.11311619e-08 1.04014492e-08]\n",
      " [1.22476828e-08 0.00000000e+00 1.19910590e-08 1.11311619e-08]\n",
      " [1.11311619e-08 1.19910590e-08 0.00000000e+00 1.22476828e-08]\n",
      " [1.04014492e-08 1.11311619e-08 1.22476828e-08 0.00000000e+00]]\n"
     ]
    }
   ],
   "source": [
    "print( b1.J )"
   ]
  },
  {
   "cell_type": "markdown",
   "metadata": {},
   "source": [
    "\n",
    "\n",
    "\n",
    "\n",
    "\n",
    "\n",
    "\n",
    "\n",
    "\n",
    "\n",
    "\n",
    "\n",
    "\n",
    "\n",
    "\n",
    "\n",
    "\n",
    "\n"
   ]
  }
 ],
 "metadata": {
  "kernelspec": {
   "display_name": "Python 3",
   "language": "python",
   "name": "python3"
  },
  "language_info": {
   "codemirror_mode": {
    "name": "ipython",
    "version": 3
   },
   "file_extension": ".py",
   "mimetype": "text/x-python",
   "name": "python",
   "nbconvert_exporter": "python",
   "pygments_lexer": "ipython3",
   "version": "3.6.5"
  }
 },
 "nbformat": 4,
 "nbformat_minor": 2
}
