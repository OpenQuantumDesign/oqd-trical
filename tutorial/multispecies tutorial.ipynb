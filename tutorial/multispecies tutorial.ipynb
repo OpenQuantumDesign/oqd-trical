{
 "cells": [
  {
   "cell_type": "code",
   "execution_count": 1,
   "metadata": {
    "ExecuteTime": {
     "end_time": "2020-03-24T19:13:06.378546Z",
     "start_time": "2020-03-24T19:13:05.100338Z"
    }
   },
   "outputs": [],
   "source": [
    "import os\n",
    "import sys\n",
    "\n",
    "sys.path.append(os.path.abspath(\"../\"))\n",
    "\n",
    "import matplotlib\n",
    "from matplotlib import pyplot as plt\n",
    "from matplotlib import cm\n",
    "from matplotlib import rc\n",
    "from matplotlib.widgets import Slider\n",
    "\n",
    "import numpy as np\n",
    "import sympy as sym\n",
    "\n",
    "import trical\n",
    "from trical import classes\n",
    "from trical.misc.constants import convert_m_a"
   ]
  },
  {
   "cell_type": "code",
   "execution_count": 2,
   "metadata": {
    "ExecuteTime": {
     "end_time": "2020-03-24T19:13:06.595931Z",
     "start_time": "2020-03-24T19:13:06.380521Z"
    }
   },
   "outputs": [],
   "source": [
    "sym.init_printing(forecolor=\"White\")"
   ]
  },
  {
   "cell_type": "markdown",
   "metadata": {},
   "source": [
    "# Single Species Trapped Ions System\n"
   ]
  },
  {
   "cell_type": "code",
   "execution_count": 3,
   "metadata": {
    "ExecuteTime": {
     "end_time": "2020-03-24T19:13:06.668751Z",
     "start_time": "2020-03-24T19:13:06.596913Z"
    }
   },
   "outputs": [],
   "source": [
    "# Number of Ions\n",
    "N = 5\n",
    "\n",
    "# Mass of Ytterbium 171 ion\n",
    "m_1 = convert_m_a(171) \n",
    "\n",
    "# Trapping strengths of conventional trap\n",
    "omega_x = 2 * np.pi * 4e5 \n",
    "omega_y = 2 * np.pi * 3.6e5\n",
    "omega_z = 2 * np.pi * 8e4\n",
    "omega = np.array([omega_x, omega_y, omega_z])\n",
    "\n",
    "# Polynomial coefficients for convential trap potential\n",
    "alpha = np.zeros([3, 3, 3])\n",
    "alpha[tuple(np.eye(3, dtype=int) * 2)] = m_1 * omega ** 2 / 2\n",
    "\n",
    "# Conventional trap potential\n",
    "p0 =classes.PolynomialPotential(alpha)\n",
    "\n",
    "# Single species trapped ion system\n",
    "ti0 = classes.TrappedIons(N, p0)\n",
    "\n",
    "# Calculate equilibrium position and normal modes\n",
    "ti0.principle_axis()\n",
    "x_ep0 = ti0.x_ep\n",
    "w0, b0 = ti0.w_pa, ti0.b_pa\n",
    "b0 = np.array([b0[i * N : (i + 1) * N, i * N : (i + 1) * N] for i in range(3)])"
   ]
  },
  {
   "cell_type": "markdown",
   "metadata": {},
   "source": [
    "# Multispecies Trapped Ions System\n",
    "## Excluding Additonal Optical Potential"
   ]
  },
  {
   "cell_type": "code",
   "execution_count": 4,
   "metadata": {
    "ExecuteTime": {
     "end_time": "2020-03-24T19:13:07.509097Z",
     "start_time": "2020-03-24T19:13:06.670716Z"
    }
   },
   "outputs": [],
   "source": [
    "# Mass of Barium 133 ion\n",
    "m_2 = convert_m_a(133)\n",
    "\n",
    "# Define sympy symbols \n",
    "x = np.array(sym.symbols(\" \".join([\"x{}\".format(i) for i in range(N)])))\n",
    "y = np.array(sym.symbols(\" \".join([\"y{}\".format(i) for i in range(N)])))\n",
    "z = np.array(sym.symbols(\" \".join([\"z{}\".format(i) for i in range(N)])))\n",
    "\n",
    "# Arrangement of the ions\n",
    "m = np.array([m_2, m_2, m_1, m_2, m_2])\n",
    "\n",
    "# Conventional trap potential for multispecies system\n",
    "expr = (\n",
    "    (m_1 ** 2 * omega_x ** 2 * x ** 2 / (2 * m)).sum()\n",
    "    + (m_1 ** 2 * omega_y ** 2 * y ** 2 / (2 * m)).sum()\n",
    "    + (m_1 * omega_z ** 2 * z ** 2 / 2).sum()\n",
    ")\n",
    "p1 = trical.classes.AdvancedSymbolicPotential(N, expr)\n",
    "\n",
    "# Multispecies trapped ion system w/o additional optical potential\n",
    "ti1 = trical.classes.TrappedIons(N, p1, m=m)\n",
    "\n",
    "# Calculate equilibrium position and normal modes\n",
    "ti1.principle_axis()\n",
    "w1, b1 = ti1.w_pa, ti1.b_pa\n",
    "b1 = np.array([b1[i * N : (i + 1) * N, i * N : (i + 1) * N] for i in range(3)])"
   ]
  },
  {
   "cell_type": "markdown",
   "metadata": {},
   "source": [
    "## Including Additional Optical Potential"
   ]
  },
  {
   "cell_type": "code",
   "execution_count": 5,
   "metadata": {
    "ExecuteTime": {
     "end_time": "2020-03-24T19:13:10.082248Z",
     "start_time": "2020-03-24T19:13:07.511092Z"
    }
   },
   "outputs": [],
   "source": [
    "# Optical potentials\n",
    "p2 = [\n",
    "    classes.GaussianOpticalPotential(\n",
    "        ti1.x_ep[i],\n",
    "        70e-3,\n",
    "        375e-9,\n",
    "        1e-6,\n",
    "        # rabi_frequencies_per_root_intensity=5.46e6,\n",
    "        # transition_wavelength=493.55e-9,\n",
    "    )\n",
    "    for i in (m == m_1).nonzero()[0]\n",
    "]\n",
    "\n",
    "# Multispecies trapped ion system w/ additional optical potential\n",
    "ti2 = trical.classes.TrappedIons(N, p1, *p2, m=m)\n",
    "\n",
    "# Calculate equilibrium position and normal modes\n",
    "ti2.principle_axis()\n",
    "w2, b2 = ti2.w_pa, ti2.b_pa\n",
    "b2 = np.array([b2[i * N : (i + 1) * N, i * N : (i + 1) * N] for i in range(3)])"
   ]
  },
  {
   "cell_type": "markdown",
   "metadata": {},
   "source": [
    "# Plots\n",
    "## Equilibrium Position"
   ]
  },
  {
   "cell_type": "code",
   "execution_count": 6,
   "metadata": {
    "ExecuteTime": {
     "end_time": "2020-03-24T19:13:10.092136Z",
     "start_time": "2020-03-24T19:13:10.084188Z"
    }
   },
   "outputs": [],
   "source": [
    "%matplotlib inline\n",
    "rc(\"font\", **{\"family\": \"serif\", \"serif\": [\"Computer Modern\"]})\n",
    "matplotlib.rcParams[\"figure.figsize\"] = (12, 8)\n",
    "matplotlib.rcParams[\"font.size\"] = 20\n",
    "matplotlib.rcParams[\"text.usetex\"] = True"
   ]
  },
  {
   "cell_type": "code",
   "execution_count": 7,
   "metadata": {
    "ExecuteTime": {
     "end_time": "2020-03-24T19:13:12.684848Z",
     "start_time": "2020-03-24T19:13:10.094130Z"
    }
   },
   "outputs": [
    {
     "data": {
      "text/plain": [
       "Text(0, 0.5, '$x \\\\ (\\\\mathrm{\\\\mu m})$')"
      ]
     },
     "execution_count": 7,
     "metadata": {},
     "output_type": "execute_result"
    },
    {
     "data": {
      "image/png": "[encoded data removed]",
      "text/plain": [
       "<Figure size 864x576 with 1 Axes>"
      ]
     },
     "metadata": {
      "needs_background": "light"
     },
     "output_type": "display_data"
    }
   ],
   "source": [
    "fig = plt.figure()\n",
    "ax = fig.add_subplot(111)\n",
    "\n",
    "x_ep = np.array([ti0.x_ep, ti1.x_ep, ti2.x_ep]) / 1e-6\n",
    "\n",
    "for i in range(3):\n",
    "    ax.plot(\n",
    "        x_ep[i, :, 2],\n",
    "        x_ep[i, :, 0],\n",
    "        [\"h\", \"^\", \"o\"][i],\n",
    "        color=[\"r\", \"b\", \"g\"][i],\n",
    "        alpha=0.5,\n",
    "        ms=10,\n",
    "    )\n",
    "\n",
    "ax.set_xlim(\n",
    "    1.05 * x_ep.min() - 0.05 * x_ep.max(), -0.05 * x_ep.min() + 1.05 * x_ep.max()\n",
    ")\n",
    "ax.set_xlabel(r\"$z \\ (\\mathrm{\\mu m})$\")\n",
    "ax.set_ylim(x_ep.min(), x_ep.max())\n",
    "ax.set_ylabel(r\"$x \\ (\\mathrm{\\mu m})$\")"
   ]
  },
  {
   "cell_type": "markdown",
   "metadata": {},
   "source": [
    "## Normal Modes"
   ]
  },
  {
   "cell_type": "code",
   "execution_count": 8,
   "metadata": {
    "ExecuteTime": {
     "end_time": "2020-03-24T19:13:12.742673Z",
     "start_time": "2020-03-24T19:13:12.687821Z"
    }
   },
   "outputs": [],
   "source": [
    "%matplotlib qt5\n",
    "rc(\"font\", **{\"family\": \"serif\", \"serif\": [\"Computer Modern\"]})\n",
    "matplotlib.rcParams[\"figure.figsize\"] = (12, 8)\n",
    "matplotlib.rcParams[\"font.size\"] = 20\n",
    "matplotlib.rcParams[\"text.usetex\"] = True"
   ]
  },
  {
   "cell_type": "code",
   "execution_count": 9,
   "metadata": {
    "ExecuteTime": {
     "end_time": "2020-03-24T19:13:15.197172Z",
     "start_time": "2020-03-24T19:13:12.744701Z"
    }
   },
   "outputs": [
    {
     "data": {
      "image/png": "[encoded data removed]",
      "text/latex": [
       "$\\displaystyle 0$"
      ],
      "text/plain": [
       "0"
      ]
     },
     "execution_count": 9,
     "metadata": {},
     "output_type": "execute_result"
    },
    {
     "data": {
      "image/png": "[encoded data removed]",
      "text/plain": [
       "<Figure size 864x576 with 4 Axes>"
      ]
     },
     "metadata": {
      "needs_background": "light"
     },
     "output_type": "display_data"
    }
   ],
   "source": [
    "fig = plt.figure()\n",
    "ax = fig.subplots(2, 1)\n",
    "fig.subplots_adjust(bottom=0.3, hspace=0.3)\n",
    "\n",
    "l0, = ax[0].plot(range(N), b0[0, :, 0], \"h\", color=\"r\", alpha=0.5, ms=10)\n",
    "l1, = ax[0].plot(range(N), b1[0, :, 0], \"^\", color=\"b\", alpha=0.5, ms=10)\n",
    "l2, = ax[0].plot(range(N), b2[0, :, 0], \"o\", color=\"g\", alpha=0.5, ms=10)\n",
    "\n",
    "l3 = [\n",
    "    ax[1].plot([w0[i], w0[i]], [0, 1], \":\", color=\"r\", alpha=0.5)[0] for i in range(N)\n",
    "]\n",
    "l4 = [\n",
    "    ax[1].plot([w1[i], w1[i]], [0, 1], \"--\", color=\"b\", alpha=0.5)[0] for i in range(N)\n",
    "]\n",
    "l5 = [\n",
    "    ax[1].plot([w2[i], w2[i]], [0, 1], \"-\", color=\"g\", alpha=0.5)[0] for i in range(N)\n",
    "]\n",
    "\n",
    "w_min = np.min([w0.min(), w1.min(), w2.min()])\n",
    "w_max = np.max([w0.max(), w1.max(), w2.max()])\n",
    "\n",
    "ax[0].set_ylim(-1, 1)\n",
    "ax[0].set_xlabel(r\"$i$\")\n",
    "ax[0].set_ylabel(r\"$b_{im}$\")\n",
    "\n",
    "ax[1].set_xlim(w_min - 0.05 * (w_max - w_min), w_max + 0.05 * (w_max - w_min))\n",
    "ax[1].set_xlabel(r\"$\\omega_m$\")\n",
    "ax[1].set_yticks([])\n",
    "\n",
    "\n",
    "[ax[i].ticklabel_format(style=\"sci\", scilimits=(-1, 1)) for i in range(2)]\n",
    "\n",
    "\n",
    "def update(val):\n",
    "    s0 = np.sign(b0[int(slider_direction.val), :, int(slider_mode.val)][0])\n",
    "    s1 = np.sign(b1[int(slider_direction.val), :, int(slider_mode.val)][0])\n",
    "    s2 = np.sign(b2[int(slider_direction.val), :, int(slider_mode.val)][0])\n",
    "    l0.set_ydata(b0[int(slider_direction.val), :, int(slider_mode.val)])\n",
    "    l1.set_ydata(\n",
    "        b1[int(slider_direction.val), :, int(slider_mode.val)]\n",
    "        if s0 == s1\n",
    "        else -b1[int(slider_direction.val), :, int(slider_mode.val)]\n",
    "    )\n",
    "    l2.set_ydata(\n",
    "        b2[int(slider_direction.val), :, int(slider_mode.val)]\n",
    "        if s0 == s2\n",
    "        else -b2[int(slider_direction.val), :, int(slider_mode.val)]\n",
    "    )\n",
    "\n",
    "    [\n",
    "        l3[i].set_xdata(\n",
    "            [\n",
    "                w0[N * int(slider_direction.val) + i],\n",
    "                w0[N * int(slider_direction.val) + i],\n",
    "            ]\n",
    "        )\n",
    "        for i in range(N)\n",
    "    ]\n",
    "    [\n",
    "        l4[i].set_xdata(\n",
    "            [\n",
    "                w1[N * int(slider_direction.val) + i],\n",
    "                w1[N * int(slider_direction.val) + i],\n",
    "            ]\n",
    "        )\n",
    "        for i in range(N)\n",
    "    ]\n",
    "    [\n",
    "        l5[i].set_xdata(\n",
    "            [\n",
    "                w2[N * int(slider_direction.val) + i],\n",
    "                w2[N * int(slider_direction.val) + i],\n",
    "            ]\n",
    "        )\n",
    "        for i in range(N)\n",
    "    ]\n",
    "    fig.canvas.draw_idle()\n",
    "\n",
    "\n",
    "ax_direction = plt.axes([0.15, 0.15, 0.7, 0.03])\n",
    "slider_direction = Slider(ax_direction, r\"Direction\", 0, 2, valinit=0, valstep=1)\n",
    "slider_direction.on_changed(update)\n",
    "\n",
    "ax_mode = plt.axes([0.15, 0.10, 0.7, 0.03])\n",
    "slider_mode = Slider(ax_mode, r\"Mode\", 0, N - 1, valinit=0, valstep=1)\n",
    "slider_mode.on_changed(update)"
   ]
  },
  {
   "cell_type": "markdown",
   "metadata": {},
   "source": [
    "# SimulatedSpinLattice"
   ]
  },
  {
   "cell_type": "code",
   "execution_count": 10,
   "metadata": {
    "ExecuteTime": {
     "end_time": "2020-03-24T19:13:15.213128Z",
     "start_time": "2020-03-24T19:13:15.201161Z"
    }
   },
   "outputs": [],
   "source": [
    "%matplotlib inline\n",
    "rc(\"font\", **{\"family\": \"serif\", \"serif\": [\"Computer Modern\"]})\n",
    "matplotlib.rcParams[\"figure.figsize\"] = (12, 8)\n",
    "matplotlib.rcParams[\"font.size\"] = 20\n",
    "matplotlib.rcParams[\"text.usetex\"] = True"
   ]
  },
  {
   "cell_type": "markdown",
   "metadata": {},
   "source": [
    "## Single Species"
   ]
  },
  {
   "cell_type": "code",
   "execution_count": 11,
   "metadata": {
    "ExecuteTime": {
     "end_time": "2020-03-24T19:13:59.642166Z",
     "start_time": "2020-03-24T19:13:58.867238Z"
    }
   },
   "outputs": [
    {
     "data": {
      "text/plain": [
       "<matplotlib.colorbar.Colorbar at 0x1782b12fdc8>"
      ]
     },
     "execution_count": 11,
     "metadata": {},
     "output_type": "execute_result"
    },
    {
     "data": {
      "image/png": "[encoded data removed]",
      "text/plain": [
       "<Figure size 1440x1080 with 6 Axes>"
      ]
     },
     "metadata": {
      "needs_background": "light"
     },
     "output_type": "display_data"
    }
   ],
   "source": [
    "wavelength = 355e-9\n",
    "\n",
    "detuning = 2 * np.pi * 1e3\n",
    "mu = np.array([np.array([w0[N + i] + detuning]) for i in range(N)])\n",
    "omega = np.full((N, 1), 1e6)\n",
    "\n",
    "ssl = [\n",
    "    classes.SimulatedSpinLattice(ti0, mu[i], omega, k=2 * np.pi / wavelength, dir=\"y\")\n",
    "    for i in range(N)\n",
    "]\n",
    "\n",
    "J = np.array([ssl[i].J for i in range(N)])\n",
    "\n",
    "norm = matplotlib.colors.Normalize(J.min(), J.max())\n",
    "sm = cm.ScalarMappable(norm, cmap=cm.viridis)\n",
    "sm.set_array(J)\n",
    "\n",
    "fig = plt.figure(figsize=(20, 15))\n",
    "ax = [fig.add_subplot(1, N, i + 1) for i in range(N)]\n",
    "for i in range(N):\n",
    "    im = ax[i].imshow(J[i], cmap=cm.viridis, norm=norm)\n",
    "    ax[i].set_xticks(np.arange(N))\n",
    "    ax[i].set_yticks(np.arange(N))\n",
    "    ax[i].set_xticklabels(np.arange(N) + 1)\n",
    "    ax[i].set_yticklabels(np.arange(N) + 1)\n",
    "fig.colorbar(sm, ax=ax,orientation=\"horizontal\")"
   ]
  },
  {
   "cell_type": "markdown",
   "metadata": {},
   "source": [
    "## Multispecies w/o Optical Potential"
   ]
  },
  {
   "cell_type": "code",
   "execution_count": 12,
   "metadata": {
    "ExecuteTime": {
     "end_time": "2020-03-24T19:14:03.201518Z",
     "start_time": "2020-03-24T19:13:59.644162Z"
    }
   },
   "outputs": [
    {
     "data": {
      "text/plain": [
       "<matplotlib.colorbar.Colorbar at 0x17828cf3d48>"
      ]
     },
     "execution_count": 12,
     "metadata": {},
     "output_type": "execute_result"
    },
    {
     "data": {
      "image/png": "[encoded data removed]",
      "text/plain": [
       "<Figure size 1440x1080 with 6 Axes>"
      ]
     },
     "metadata": {
      "needs_background": "light"
     },
     "output_type": "display_data"
    }
   ],
   "source": [
    "wavelength = 355e-9\n",
    "\n",
    "detuning = 2 * np.pi * 1e3\n",
    "mu = np.array([np.array([w1[N + i] + detuning]) for i in range(N)])\n",
    "omega = np.full((N, 1), 1e6)\n",
    "\n",
    "ssl = [\n",
    "    classes.SimulatedSpinLattice(ti1, mu[i], omega, k=2 * np.pi / wavelength, dir=\"y\")\n",
    "    for i in range(N)\n",
    "]\n",
    "\n",
    "J = np.array([ssl[i].J for i in range(N)])\n",
    "\n",
    "norm = matplotlib.colors.Normalize(J.min(), J.max())\n",
    "sm = cm.ScalarMappable(norm, cmap=cm.viridis)\n",
    "sm.set_array(J)\n",
    "\n",
    "fig = plt.figure(figsize=(20, 15))\n",
    "ax = [fig.add_subplot(1, N, i + 1) for i in range(N)]\n",
    "for i in range(N):\n",
    "    im = ax[i].imshow(J[i], cmap=cm.viridis, norm=norm)\n",
    "    ax[i].set_xticks(np.arange(N))\n",
    "    ax[i].set_yticks(np.arange(N))\n",
    "    ax[i].set_xticklabels(np.arange(N) + 1)\n",
    "    ax[i].set_yticklabels(np.arange(N) + 1)\n",
    "fig.colorbar(sm, ax=ax,orientation=\"horizontal\")"
   ]
  },
  {
   "cell_type": "markdown",
   "metadata": {},
   "source": [
    "## Multispecies w/ Optical Potential"
   ]
  },
  {
   "cell_type": "code",
   "execution_count": 13,
   "metadata": {
    "ExecuteTime": {
     "end_time": "2020-03-24T19:14:15.346192Z",
     "start_time": "2020-03-24T19:14:03.204511Z"
    },
    "scrolled": true
   },
   "outputs": [
    {
     "data": {
      "text/plain": [
       "<matplotlib.colorbar.Colorbar at 0x17828c9b748>"
      ]
     },
     "execution_count": 13,
     "metadata": {},
     "output_type": "execute_result"
    },
    {
     "data": {
      "image/png": "[encoded data removed]",
      "text/plain": [
       "<Figure size 1440x1080 with 6 Axes>"
      ]
     },
     "metadata": {
      "needs_background": "light"
     },
     "output_type": "display_data"
    }
   ],
   "source": [
    "wavelength = 355e-9\n",
    "\n",
    "detuning = 2 * np.pi * 1e3\n",
    "mu = np.array([np.array([w2[N + i] + detuning]) for i in range(N)])\n",
    "omega = np.full((N, 1), 1e6)\n",
    "\n",
    "ssl = [\n",
    "    classes.SimulatedSpinLattice(ti2, mu[i], omega, k=2 * np.pi / wavelength, dir=\"y\")\n",
    "    for i in range(N)\n",
    "]\n",
    "\n",
    "J = np.array([ssl[i].J for i in range(N)])\n",
    "\n",
    "norm = matplotlib.colors.Normalize(J.min(), J.max())\n",
    "sm = cm.ScalarMappable(norm, cmap=cm.viridis)\n",
    "sm.set_array(J)\n",
    "\n",
    "fig = plt.figure(figsize=(20, 15))\n",
    "ax = [fig.add_subplot(1, N, i + 1) for i in range(N)]\n",
    "for i in range(N):\n",
    "    im = ax[i].imshow(J[i], cmap=cm.viridis, norm=norm)\n",
    "    ax[i].set_xticks(np.arange(N))\n",
    "    ax[i].set_yticks(np.arange(N))\n",
    "    ax[i].set_xticklabels(np.arange(N) + 1)\n",
    "    ax[i].set_yticklabels(np.arange(N) + 1)\n",
    "fig.colorbar(sm, ax=ax,orientation=\"horizontal\")"
   ]
  },
  {
   "cell_type": "code",
   "execution_count": null,
   "metadata": {
    "ExecuteTime": {
     "end_time": "2020-03-24T19:13:47.913449Z",
     "start_time": "2020-03-24T19:13:47.907465Z"
    }
   },
   "outputs": [],
   "source": []
  },
  {
   "cell_type": "code",
   "execution_count": null,
   "metadata": {},
   "outputs": [],
   "source": []
  }
 ],
 "metadata": {
  "kernelspec": {
   "display_name": "Python 3",
   "language": "python",
   "name": "python3"
  },
  "language_info": {
   "codemirror_mode": {
    "name": "ipython",
    "version": 3
   },
   "file_extension": ".py",
   "mimetype": "text/x-python",
   "name": "python",
   "nbconvert_exporter": "python",
   "pygments_lexer": "ipython3",
   "version": "3.7.6"
  },
  "toc": {
   "base_numbering": 1,
   "nav_menu": {},
   "number_sections": true,
   "sideBar": true,
   "skip_h1_title": false,
   "title_cell": "Table of Contents",
   "title_sidebar": "Contents",
   "toc_cell": false,
   "toc_position": {
    "height": "calc(100% - 180px)",
    "left": "10px",
    "top": "150px",
    "width": "384px"
   },
   "toc_section_display": true,
   "toc_window_display": false
  }
 },
 "nbformat": 4,
 "nbformat_minor": 2
}
