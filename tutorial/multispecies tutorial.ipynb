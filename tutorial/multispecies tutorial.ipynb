{
  "cells": [
    {
      "cell_type": "code",
      "execution_count": 1,
      "metadata": {
        "ExecuteTime": {
          "end_time": "2020-06-25T15:22:55.395009Z",
          "start_time": "2020-06-25T15:22:54.497810Z"
        }
      },
      "outputs": [],
      "source": [
        "import os\n",
        "import sys\n",
        "\n",
        "sys.path.append(os.path.abspath(\"../\"))\n",
        "\n",
        "import matplotlib\n",
        "from matplotlib import pyplot as plt\n",
        "from matplotlib import cm\n",
        "from matplotlib import rc\n",
        "from matplotlib.widgets import Slider\n",
        "\n",
        "import numpy as np\n",
        "import sympy as sym\n",
        "\n",
        "import oqd_trical\n",
        "from oqd_trical import mechanical\n",
        "from oqd_trical.misc.constants import convert_m_a"
      ]
    },
    {
      "cell_type": "code",
      "execution_count": 2,
      "metadata": {
        "ExecuteTime": {
          "end_time": "2020-06-25T15:22:55.669071Z",
          "start_time": "2020-06-25T15:22:55.396010Z"
        }
      },
      "outputs": [],
      "source": [
        "sym.init_printing(forecolor=\"White\")"
      ]
    },
    {
      "cell_type": "markdown",
      "metadata": {},
      "source": [
        "# Single Species Trapped Ions System\n"
      ]
    },
    {
      "cell_type": "code",
      "execution_count": 3,
      "metadata": {
        "ExecuteTime": {
          "end_time": "2020-06-25T15:22:55.746090Z",
          "start_time": "2020-06-25T15:22:55.670071Z"
        }
      },
      "outputs": [],
      "source": [
        "# Number of Ions\n",
        "N = 5\n",
        "\n",
        "# Mass of Ytterbium 171 ion\n",
        "m_1 = convert_m_a(171)\n",
        "\n",
        "# Trapping strengths of conventional trap\n",
        "omega_x = 2 * np.pi * 4e5\n",
        "omega_y = 2 * np.pi * 3.6e5\n",
        "omega_z = 2 * np.pi * 8e4\n",
        "omega = np.array([omega_x, omega_y, omega_z])\n",
        "\n",
        "# Polynomial coefficients for convential trap potential\n",
        "alpha = np.zeros([3, 3, 3])\n",
        "alpha[tuple(np.eye(3, dtype=int) * 2)] = m_1 * omega**2 / 2\n",
        "\n",
        "# Conventional trap potential\n",
        "p0 = oqd_trical.mechanical.PolynomialPotential(alpha)\n",
        "\n",
        "# Single species trapped ion system\n",
        "ti0 = oqd_trical.mechanical.TrappedIons(N, p0, m=m_1)\n",
        "\n",
        "# Calculate equilibrium position and normal modes\n",
        "ti0.principle_axis()\n",
        "x_ep0 = ti0.x_ep\n",
        "w0, b0 = ti0.w_pa, ti0.b_pa\n",
        "b0 = np.array([b0[i * N : (i + 1) * N, i * N : (i + 1) * N] for i in range(3)])"
      ]
    },
    {
      "cell_type": "markdown",
      "metadata": {},
      "source": [
        "# Multispecies Trapped Ions System\n",
        "\n",
        "## Excluding Additonal Optical Potential\n"
      ]
    },
    {
      "cell_type": "code",
      "execution_count": 4,
      "metadata": {
        "ExecuteTime": {
          "end_time": "2020-06-25T15:22:56.498257Z",
          "start_time": "2020-06-25T15:22:55.747089Z"
        }
      },
      "outputs": [],
      "source": [
        "# Mass of Barium 133 ion\n",
        "m_2 = convert_m_a(133)\n",
        "\n",
        "# Define sympy symbols\n",
        "x = np.array(sym.symbols(\" \".join([\"x{}\".format(i) for i in range(N)])))\n",
        "y = np.array(sym.symbols(\" \".join([\"y{}\".format(i) for i in range(N)])))\n",
        "z = np.array(sym.symbols(\" \".join([\"z{}\".format(i) for i in range(N)])))\n",
        "\n",
        "# Arrangement of the ions\n",
        "m = np.array([m_2, m_2, m_1, m_2, m_2])\n",
        "\n",
        "# Conventional trap potential for multispecies system\n",
        "expr = (\n",
        "    (m_1**2 * omega_x**2 * x**2 / (2 * m)).sum()\n",
        "    + (m_1**2 * omega_y**2 * y**2 / (2 * m)).sum()\n",
        "    + (m_1 * omega_z**2 * z**2 / 2).sum()\n",
        ")\n",
        "p1 = oqd_trical.mechanical.AdvancedSymbolicPotential(N, expr)\n",
        "\n",
        "# Multispecies trapped ion system w/o additional optical potential\n",
        "ti1 = oqd_trical.mechanical.TrappedIons(N, p1, m=m)\n",
        "\n",
        "# Calculate equilibrium position and normal modes\n",
        "ti1.principle_axis()\n",
        "w1, b1 = ti1.w_pa, ti1.b_pa\n",
        "b1 = np.array([b1[i * N : (i + 1) * N, i * N : (i + 1) * N] for i in range(3)])"
      ]
    },
    {
      "cell_type": "markdown",
      "metadata": {},
      "source": [
        "## Including Additional Optical Potential\n"
      ]
    },
    {
      "cell_type": "code",
      "execution_count": 5,
      "metadata": {
        "ExecuteTime": {
          "end_time": "2020-06-25T15:22:57.055382Z",
          "start_time": "2020-06-25T15:22:56.499257Z"
        }
      },
      "outputs": [],
      "source": [
        "# Optical potentials\n",
        "p2 = [\n",
        "    oqd_trical.mechanical.GaussianOpticalPotential(\n",
        "        ti1.x_ep[i],\n",
        "        210e-3,\n",
        "        375e-9,\n",
        "        1e-6,\n",
        "    )\n",
        "    for i in (m == m_1).nonzero()[0]\n",
        "]\n",
        "\n",
        "# Multispecies trapped ion system w/ additional optical potential\n",
        "ti2 = oqd_trical.mechanical.TrappedIons(N, p1, *p2, m=m)\n",
        "\n",
        "# Calculate equilibrium position and normal modes\n",
        "ti2.principle_axis()\n",
        "w2, b2 = ti2.w_pa, ti2.b_pa\n",
        "b2 = np.array([b2[i * N : (i + 1) * N, i * N : (i + 1) * N] for i in range(3)])"
      ]
    },
    {
      "cell_type": "markdown",
      "metadata": {},
      "source": [
        "# Plots\n",
        "\n",
        "## Equilibrium Position\n"
      ]
    },
    {
      "cell_type": "code",
      "execution_count": 6,
      "metadata": {
        "ExecuteTime": {
          "end_time": "2020-06-25T15:22:57.062384Z",
          "start_time": "2020-06-25T15:22:57.056383Z"
        }
      },
      "outputs": [],
      "source": [
        "%matplotlib inline\n",
        "rc(\"font\", **{\"family\": \"serif\", \"serif\": [\"Computer Modern\"]})\n",
        "matplotlib.rcParams[\"figure.figsize\"] = (12, 8)\n",
        "matplotlib.rcParams[\"font.size\"] = 20\n",
        "matplotlib.rcParams[\"text.usetex\"] = True"
      ]
    },
    {
      "cell_type": "code",
      "execution_count": 7,
      "metadata": {
        "ExecuteTime": {
          "end_time": "2020-06-25T15:22:59.153853Z",
          "start_time": "2020-06-25T15:22:57.063384Z"
        }
      },
      "outputs": [
        {
          "data": {
            "text/plain": [
              "Text(0, 0.5, '$x \\\\ (\\\\mathrm{\\\\mu m})$')"
            ]
          },
          "execution_count": 7,
          "metadata": {},
          "output_type": "execute_result"
        },
        {
          "data": {
            "image/png": "[encoded data removed]",
            "text/plain": [
              "<Figure size 1200x800 with 1 Axes>"
            ]
          },
          "metadata": {},
          "output_type": "display_data"
        }
      ],
      "source": [
        "fig = plt.figure()\n",
        "ax = fig.add_subplot(111)\n",
        "\n",
        "x_ep = np.array([ti0.x_ep, ti1.x_ep, ti2.x_ep]) / 1e-6\n",
        "\n",
        "for i in range(3):\n",
        "    ax.plot(\n",
        "        x_ep[i, :, 2],\n",
        "        x_ep[i, :, 0],\n",
        "        [\"h\", \"^\", \"o\"][i],\n",
        "        color=[\"r\", \"b\", \"g\"][i],\n",
        "        alpha=0.5,\n",
        "        ms=10,\n",
        "    )\n",
        "\n",
        "ax.set_xlim(\n",
        "    1.05 * x_ep.min() - 0.05 * x_ep.max(), -0.05 * x_ep.min() + 1.05 * x_ep.max()\n",
        ")\n",
        "ax.set_xlabel(r\"$z \\ (\\mathrm{\\mu m})$\")\n",
        "ax.set_ylim(x_ep.min(), x_ep.max())\n",
        "ax.set_ylabel(r\"$x \\ (\\mathrm{\\mu m})$\")"
      ]
    },
    {
      "cell_type": "markdown",
      "metadata": {},
      "source": [
        "## Normal Modes\n"
      ]
    },
    {
      "cell_type": "code",
      "execution_count": 8,
      "metadata": {
        "ExecuteTime": {
          "end_time": "2020-06-25T15:22:59.189862Z",
          "start_time": "2020-06-25T15:22:59.154854Z"
        }
      },
      "outputs": [
        {
          "ename": "ImportError",
          "evalue": "Failed to import any of the following Qt binding modules: PyQt5, PySide2",
          "output_type": "error",
          "traceback": [
            "\u001b[1;31m---------------------------------------------------------------------------\u001b[0m",
            "\u001b[1;31mImportError\u001b[0m                               Traceback (most recent call last)",
            "Cell \u001b[1;32mIn[8], line 1\u001b[0m\n\u001b[1;32m----> 1\u001b[0m \u001b[43mget_ipython\u001b[49m\u001b[43m(\u001b[49m\u001b[43m)\u001b[49m\u001b[38;5;241;43m.\u001b[39;49m\u001b[43mrun_line_magic\u001b[49m\u001b[43m(\u001b[49m\u001b[38;5;124;43m'\u001b[39;49m\u001b[38;5;124;43mmatplotlib\u001b[39;49m\u001b[38;5;124;43m'\u001b[39;49m\u001b[43m,\u001b[49m\u001b[43m \u001b[49m\u001b[38;5;124;43m'\u001b[39;49m\u001b[38;5;124;43mqt5\u001b[39;49m\u001b[38;5;124;43m'\u001b[39;49m\u001b[43m)\u001b[49m\n\u001b[0;32m      2\u001b[0m rc(\u001b[38;5;124m\"\u001b[39m\u001b[38;5;124mfont\u001b[39m\u001b[38;5;124m\"\u001b[39m, \u001b[38;5;241m*\u001b[39m\u001b[38;5;241m*\u001b[39m{\u001b[38;5;124m\"\u001b[39m\u001b[38;5;124mfamily\u001b[39m\u001b[38;5;124m\"\u001b[39m: \u001b[38;5;124m\"\u001b[39m\u001b[38;5;124mserif\u001b[39m\u001b[38;5;124m\"\u001b[39m, \u001b[38;5;124m\"\u001b[39m\u001b[38;5;124mserif\u001b[39m\u001b[38;5;124m\"\u001b[39m: [\u001b[38;5;124m\"\u001b[39m\u001b[38;5;124mComputer Modern\u001b[39m\u001b[38;5;124m\"\u001b[39m]})\n\u001b[0;32m      3\u001b[0m matplotlib\u001b[38;5;241m.\u001b[39mrcParams[\u001b[38;5;124m\"\u001b[39m\u001b[38;5;124mfigure.figsize\u001b[39m\u001b[38;5;124m\"\u001b[39m] \u001b[38;5;241m=\u001b[39m (\u001b[38;5;241m12\u001b[39m, \u001b[38;5;241m8\u001b[39m)\n",
            "File \u001b[1;32md:\\work\\Projects\\TrICal\\venv\\lib\\site-packages\\IPython\\core\\interactiveshell.py:2480\u001b[0m, in \u001b[0;36mInteractiveShell.run_line_magic\u001b[1;34m(self, magic_name, line, _stack_depth)\u001b[0m\n\u001b[0;32m   2478\u001b[0m     kwargs[\u001b[38;5;124m'\u001b[39m\u001b[38;5;124mlocal_ns\u001b[39m\u001b[38;5;124m'\u001b[39m] \u001b[38;5;241m=\u001b[39m \u001b[38;5;28mself\u001b[39m\u001b[38;5;241m.\u001b[39mget_local_scope(stack_depth)\n\u001b[0;32m   2479\u001b[0m \u001b[38;5;28;01mwith\u001b[39;00m \u001b[38;5;28mself\u001b[39m\u001b[38;5;241m.\u001b[39mbuiltin_trap:\n\u001b[1;32m-> 2480\u001b[0m     result \u001b[38;5;241m=\u001b[39m fn(\u001b[38;5;241m*\u001b[39margs, \u001b[38;5;241m*\u001b[39m\u001b[38;5;241m*\u001b[39mkwargs)\n\u001b[0;32m   2482\u001b[0m \u001b[38;5;66;03m# The code below prevents the output from being displayed\u001b[39;00m\n\u001b[0;32m   2483\u001b[0m \u001b[38;5;66;03m# when using magics with decorator @output_can_be_silenced\u001b[39;00m\n\u001b[0;32m   2484\u001b[0m \u001b[38;5;66;03m# when the last Python token in the expression is a ';'.\u001b[39;00m\n\u001b[0;32m   2485\u001b[0m \u001b[38;5;28;01mif\u001b[39;00m \u001b[38;5;28mgetattr\u001b[39m(fn, magic\u001b[38;5;241m.\u001b[39mMAGIC_OUTPUT_CAN_BE_SILENCED, \u001b[38;5;28;01mFalse\u001b[39;00m):\n",
            "File \u001b[1;32md:\\work\\Projects\\TrICal\\venv\\lib\\site-packages\\IPython\\core\\magics\\pylab.py:103\u001b[0m, in \u001b[0;36mPylabMagics.matplotlib\u001b[1;34m(self, line)\u001b[0m\n\u001b[0;32m     98\u001b[0m     \u001b[38;5;28mprint\u001b[39m(\n\u001b[0;32m     99\u001b[0m         \u001b[38;5;124m\"\u001b[39m\u001b[38;5;124mAvailable matplotlib backends: \u001b[39m\u001b[38;5;132;01m%s\u001b[39;00m\u001b[38;5;124m\"\u001b[39m\n\u001b[0;32m    100\u001b[0m         \u001b[38;5;241m%\u001b[39m _list_matplotlib_backends_and_gui_loops()\n\u001b[0;32m    101\u001b[0m     )\n\u001b[0;32m    102\u001b[0m \u001b[38;5;28;01melse\u001b[39;00m:\n\u001b[1;32m--> 103\u001b[0m     gui, backend \u001b[38;5;241m=\u001b[39m \u001b[38;5;28;43mself\u001b[39;49m\u001b[38;5;241;43m.\u001b[39;49m\u001b[43mshell\u001b[49m\u001b[38;5;241;43m.\u001b[39;49m\u001b[43menable_matplotlib\u001b[49m\u001b[43m(\u001b[49m\u001b[43margs\u001b[49m\u001b[38;5;241;43m.\u001b[39;49m\u001b[43mgui\u001b[49m\u001b[43m)\u001b[49m\n\u001b[0;32m    104\u001b[0m     \u001b[38;5;28mself\u001b[39m\u001b[38;5;241m.\u001b[39m_show_matplotlib_backend(args\u001b[38;5;241m.\u001b[39mgui, backend)\n",
            "File \u001b[1;32md:\\work\\Projects\\TrICal\\venv\\lib\\site-packages\\IPython\\core\\interactiveshell.py:3677\u001b[0m, in \u001b[0;36mInteractiveShell.enable_matplotlib\u001b[1;34m(self, gui)\u001b[0m\n\u001b[0;32m   3673\u001b[0m         \u001b[38;5;28mprint\u001b[39m(\u001b[38;5;124m'\u001b[39m\u001b[38;5;124mWarning: Cannot change to a different GUI toolkit: \u001b[39m\u001b[38;5;132;01m%s\u001b[39;00m\u001b[38;5;124m.\u001b[39m\u001b[38;5;124m'\u001b[39m\n\u001b[0;32m   3674\u001b[0m                 \u001b[38;5;124m'\u001b[39m\u001b[38;5;124m Using \u001b[39m\u001b[38;5;132;01m%s\u001b[39;00m\u001b[38;5;124m instead.\u001b[39m\u001b[38;5;124m'\u001b[39m \u001b[38;5;241m%\u001b[39m (gui, \u001b[38;5;28mself\u001b[39m\u001b[38;5;241m.\u001b[39mpylab_gui_select))\n\u001b[0;32m   3675\u001b[0m         gui, backend \u001b[38;5;241m=\u001b[39m pt\u001b[38;5;241m.\u001b[39mfind_gui_and_backend(\u001b[38;5;28mself\u001b[39m\u001b[38;5;241m.\u001b[39mpylab_gui_select)\n\u001b[1;32m-> 3677\u001b[0m \u001b[43mpt\u001b[49m\u001b[38;5;241;43m.\u001b[39;49m\u001b[43mactivate_matplotlib\u001b[49m\u001b[43m(\u001b[49m\u001b[43mbackend\u001b[49m\u001b[43m)\u001b[49m\n\u001b[0;32m   3679\u001b[0m \u001b[38;5;28;01mfrom\u001b[39;00m \u001b[38;5;21;01mmatplotlib_inline\u001b[39;00m\u001b[38;5;21;01m.\u001b[39;00m\u001b[38;5;21;01mbackend_inline\u001b[39;00m \u001b[38;5;28;01mimport\u001b[39;00m configure_inline_support\n\u001b[0;32m   3681\u001b[0m configure_inline_support(\u001b[38;5;28mself\u001b[39m, backend)\n",
            "File \u001b[1;32md:\\work\\Projects\\TrICal\\venv\\lib\\site-packages\\IPython\\core\\pylabtools.py:410\u001b[0m, in \u001b[0;36mactivate_matplotlib\u001b[1;34m(backend)\u001b[0m\n\u001b[0;32m    405\u001b[0m \u001b[38;5;66;03m# Due to circular imports, pyplot may be only partially initialised\u001b[39;00m\n\u001b[0;32m    406\u001b[0m \u001b[38;5;66;03m# when this function runs.\u001b[39;00m\n\u001b[0;32m    407\u001b[0m \u001b[38;5;66;03m# So avoid needing matplotlib attribute-lookup to access pyplot.\u001b[39;00m\n\u001b[0;32m    408\u001b[0m \u001b[38;5;28;01mfrom\u001b[39;00m \u001b[38;5;21;01mmatplotlib\u001b[39;00m \u001b[38;5;28;01mimport\u001b[39;00m pyplot \u001b[38;5;28;01mas\u001b[39;00m plt\n\u001b[1;32m--> 410\u001b[0m \u001b[43mplt\u001b[49m\u001b[38;5;241;43m.\u001b[39;49m\u001b[43mswitch_backend\u001b[49m\u001b[43m(\u001b[49m\u001b[43mbackend\u001b[49m\u001b[43m)\u001b[49m\n\u001b[0;32m    412\u001b[0m plt\u001b[38;5;241m.\u001b[39mshow\u001b[38;5;241m.\u001b[39m_needmain \u001b[38;5;241m=\u001b[39m \u001b[38;5;28;01mFalse\u001b[39;00m\n\u001b[0;32m    413\u001b[0m \u001b[38;5;66;03m# We need to detect at runtime whether show() is called by the user.\u001b[39;00m\n\u001b[0;32m    414\u001b[0m \u001b[38;5;66;03m# For this, we wrap it into a decorator which adds a 'called' flag.\u001b[39;00m\n",
            "File \u001b[1;32md:\\work\\Projects\\TrICal\\venv\\lib\\site-packages\\matplotlib\\pyplot.py:415\u001b[0m, in \u001b[0;36mswitch_backend\u001b[1;34m(newbackend)\u001b[0m\n\u001b[0;32m    412\u001b[0m \u001b[38;5;66;03m# have to escape the switch on access logic\u001b[39;00m\n\u001b[0;32m    413\u001b[0m old_backend \u001b[38;5;241m=\u001b[39m \u001b[38;5;28mdict\u001b[39m\u001b[38;5;241m.\u001b[39m\u001b[38;5;21m__getitem__\u001b[39m(rcParams, \u001b[38;5;124m'\u001b[39m\u001b[38;5;124mbackend\u001b[39m\u001b[38;5;124m'\u001b[39m)\n\u001b[1;32m--> 415\u001b[0m module \u001b[38;5;241m=\u001b[39m \u001b[43mbackend_registry\u001b[49m\u001b[38;5;241;43m.\u001b[39;49m\u001b[43mload_backend_module\u001b[49m\u001b[43m(\u001b[49m\u001b[43mnewbackend\u001b[49m\u001b[43m)\u001b[49m\n\u001b[0;32m    416\u001b[0m canvas_class \u001b[38;5;241m=\u001b[39m module\u001b[38;5;241m.\u001b[39mFigureCanvas\n\u001b[0;32m    418\u001b[0m required_framework \u001b[38;5;241m=\u001b[39m canvas_class\u001b[38;5;241m.\u001b[39mrequired_interactive_framework\n",
            "File \u001b[1;32md:\\work\\Projects\\TrICal\\venv\\lib\\site-packages\\matplotlib\\backends\\registry.py:323\u001b[0m, in \u001b[0;36mBackendRegistry.load_backend_module\u001b[1;34m(self, backend)\u001b[0m\n\u001b[0;32m    309\u001b[0m \u001b[38;5;250m\u001b[39m\u001b[38;5;124;03m\"\"\"\u001b[39;00m\n\u001b[0;32m    310\u001b[0m \u001b[38;5;124;03mLoad and return the module containing the specified backend.\u001b[39;00m\n\u001b[0;32m    311\u001b[0m \n\u001b[1;32m   (...)\u001b[0m\n\u001b[0;32m    320\u001b[0m \u001b[38;5;124;03m    Module containing backend.\u001b[39;00m\n\u001b[0;32m    321\u001b[0m \u001b[38;5;124;03m\"\"\"\u001b[39;00m\n\u001b[0;32m    322\u001b[0m module_name \u001b[38;5;241m=\u001b[39m \u001b[38;5;28mself\u001b[39m\u001b[38;5;241m.\u001b[39m_backend_module_name(backend)\n\u001b[1;32m--> 323\u001b[0m \u001b[38;5;28;01mreturn\u001b[39;00m \u001b[43mimportlib\u001b[49m\u001b[38;5;241;43m.\u001b[39;49m\u001b[43mimport_module\u001b[49m\u001b[43m(\u001b[49m\u001b[43mmodule_name\u001b[49m\u001b[43m)\u001b[49m\n",
            "File \u001b[1;32md:\\work\\Projects\\TrICal\\venv\\lib\\importlib\\__init__.py:126\u001b[0m, in \u001b[0;36mimport_module\u001b[1;34m(name, package)\u001b[0m\n\u001b[0;32m    124\u001b[0m             \u001b[38;5;28;01mbreak\u001b[39;00m\n\u001b[0;32m    125\u001b[0m         level \u001b[38;5;241m+\u001b[39m\u001b[38;5;241m=\u001b[39m \u001b[38;5;241m1\u001b[39m\n\u001b[1;32m--> 126\u001b[0m \u001b[38;5;28;01mreturn\u001b[39;00m \u001b[43m_bootstrap\u001b[49m\u001b[38;5;241;43m.\u001b[39;49m\u001b[43m_gcd_import\u001b[49m\u001b[43m(\u001b[49m\u001b[43mname\u001b[49m\u001b[43m[\u001b[49m\u001b[43mlevel\u001b[49m\u001b[43m:\u001b[49m\u001b[43m]\u001b[49m\u001b[43m,\u001b[49m\u001b[43m \u001b[49m\u001b[43mpackage\u001b[49m\u001b[43m,\u001b[49m\u001b[43m \u001b[49m\u001b[43mlevel\u001b[49m\u001b[43m)\u001b[49m\n",
            "File \u001b[1;32m<frozen importlib._bootstrap>:1050\u001b[0m, in \u001b[0;36m_gcd_import\u001b[1;34m(name, package, level)\u001b[0m\n",
            "File \u001b[1;32m<frozen importlib._bootstrap>:1027\u001b[0m, in \u001b[0;36m_find_and_load\u001b[1;34m(name, import_)\u001b[0m\n",
            "File \u001b[1;32m<frozen importlib._bootstrap>:1006\u001b[0m, in \u001b[0;36m_find_and_load_unlocked\u001b[1;34m(name, import_)\u001b[0m\n",
            "File \u001b[1;32m<frozen importlib._bootstrap>:688\u001b[0m, in \u001b[0;36m_load_unlocked\u001b[1;34m(spec)\u001b[0m\n",
            "File \u001b[1;32m<frozen importlib._bootstrap_external>:883\u001b[0m, in \u001b[0;36mexec_module\u001b[1;34m(self, module)\u001b[0m\n",
            "File \u001b[1;32m<frozen importlib._bootstrap>:241\u001b[0m, in \u001b[0;36m_call_with_frames_removed\u001b[1;34m(f, *args, **kwds)\u001b[0m\n",
            "File \u001b[1;32md:\\work\\Projects\\TrICal\\venv\\lib\\site-packages\\matplotlib\\backends\\backend_qt5agg.py:7\u001b[0m\n\u001b[0;32m      4\u001b[0m \u001b[38;5;28;01mfrom\u001b[39;00m \u001b[38;5;21;01m.\u001b[39;00m\u001b[38;5;21;01m.\u001b[39;00m \u001b[38;5;28;01mimport\u001b[39;00m backends\n\u001b[0;32m      6\u001b[0m backends\u001b[38;5;241m.\u001b[39m_QT_FORCE_QT5_BINDING \u001b[38;5;241m=\u001b[39m \u001b[38;5;28;01mTrue\u001b[39;00m\n\u001b[1;32m----> 7\u001b[0m \u001b[38;5;28;01mfrom\u001b[39;00m \u001b[38;5;21;01m.\u001b[39;00m\u001b[38;5;21;01mbackend_qtagg\u001b[39;00m \u001b[38;5;28;01mimport\u001b[39;00m (    \u001b[38;5;66;03m# noqa: F401, E402 # pylint: disable=W0611\u001b[39;00m\n\u001b[0;32m      8\u001b[0m     _BackendQTAgg, FigureCanvasQTAgg, FigureManagerQT, NavigationToolbar2QT,\n\u001b[0;32m      9\u001b[0m     FigureCanvasAgg, FigureCanvasQT)\n\u001b[0;32m     12\u001b[0m \u001b[38;5;129m@_BackendQTAgg\u001b[39m\u001b[38;5;241m.\u001b[39mexport\n\u001b[0;32m     13\u001b[0m \u001b[38;5;28;01mclass\u001b[39;00m \u001b[38;5;21;01m_BackendQT5Agg\u001b[39;00m(_BackendQTAgg):\n\u001b[0;32m     14\u001b[0m     \u001b[38;5;28;01mpass\u001b[39;00m\n",
            "File \u001b[1;32md:\\work\\Projects\\TrICal\\venv\\lib\\site-packages\\matplotlib\\backends\\backend_qtagg.py:9\u001b[0m\n\u001b[0;32m      5\u001b[0m \u001b[38;5;28;01mimport\u001b[39;00m \u001b[38;5;21;01mctypes\u001b[39;00m\n\u001b[0;32m      7\u001b[0m \u001b[38;5;28;01mfrom\u001b[39;00m \u001b[38;5;21;01mmatplotlib\u001b[39;00m\u001b[38;5;21;01m.\u001b[39;00m\u001b[38;5;21;01mtransforms\u001b[39;00m \u001b[38;5;28;01mimport\u001b[39;00m Bbox\n\u001b[1;32m----> 9\u001b[0m \u001b[38;5;28;01mfrom\u001b[39;00m \u001b[38;5;21;01m.\u001b[39;00m\u001b[38;5;21;01mqt_compat\u001b[39;00m \u001b[38;5;28;01mimport\u001b[39;00m QT_API, QtCore, QtGui\n\u001b[0;32m     10\u001b[0m \u001b[38;5;28;01mfrom\u001b[39;00m \u001b[38;5;21;01m.\u001b[39;00m\u001b[38;5;21;01mbackend_agg\u001b[39;00m \u001b[38;5;28;01mimport\u001b[39;00m FigureCanvasAgg\n\u001b[0;32m     11\u001b[0m \u001b[38;5;28;01mfrom\u001b[39;00m \u001b[38;5;21;01m.\u001b[39;00m\u001b[38;5;21;01mbackend_qt\u001b[39;00m \u001b[38;5;28;01mimport\u001b[39;00m _BackendQT, FigureCanvasQT\n",
            "File \u001b[1;32md:\\work\\Projects\\TrICal\\venv\\lib\\site-packages\\matplotlib\\backends\\qt_compat.py:130\u001b[0m\n\u001b[0;32m    128\u001b[0m         \u001b[38;5;28;01mbreak\u001b[39;00m\n\u001b[0;32m    129\u001b[0m     \u001b[38;5;28;01melse\u001b[39;00m:\n\u001b[1;32m--> 130\u001b[0m         \u001b[38;5;28;01mraise\u001b[39;00m \u001b[38;5;167;01mImportError\u001b[39;00m(\n\u001b[0;32m    131\u001b[0m             \u001b[38;5;124m\"\u001b[39m\u001b[38;5;124mFailed to import any of the following Qt binding modules: \u001b[39m\u001b[38;5;132;01m{}\u001b[39;00m\u001b[38;5;124m\"\u001b[39m\n\u001b[0;32m    132\u001b[0m             \u001b[38;5;241m.\u001b[39mformat(\u001b[38;5;124m\"\u001b[39m\u001b[38;5;124m, \u001b[39m\u001b[38;5;124m\"\u001b[39m\u001b[38;5;241m.\u001b[39mjoin([QT_API \u001b[38;5;28;01mfor\u001b[39;00m _, QT_API \u001b[38;5;129;01min\u001b[39;00m _candidates]))\n\u001b[0;32m    133\u001b[0m         )\n\u001b[0;32m    134\u001b[0m \u001b[38;5;28;01melse\u001b[39;00m:  \u001b[38;5;66;03m# We should not get there.\u001b[39;00m\n\u001b[0;32m    135\u001b[0m     \u001b[38;5;28;01mraise\u001b[39;00m \u001b[38;5;167;01mAssertionError\u001b[39;00m(\u001b[38;5;124mf\u001b[39m\u001b[38;5;124m\"\u001b[39m\u001b[38;5;124mUnexpected QT_API: \u001b[39m\u001b[38;5;132;01m{\u001b[39;00mQT_API\u001b[38;5;132;01m}\u001b[39;00m\u001b[38;5;124m\"\u001b[39m)\n",
            "\u001b[1;31mImportError\u001b[0m: Failed to import any of the following Qt binding modules: PyQt5, PySide2"
          ]
        }
      ],
      "source": [
        "rc(\"font\", **{\"family\": \"serif\", \"serif\": [\"Computer Modern\"]})\n",
        "matplotlib.rcParams[\"figure.figsize\"] = (12, 8)\n",
        "matplotlib.rcParams[\"font.size\"] = 20\n",
        "matplotlib.rcParams[\"text.usetex\"] = True"
      ]
    },
    {
      "cell_type": "code",
      "execution_count": null,
      "metadata": {
        "ExecuteTime": {
          "end_time": "2020-06-25T15:23:01.409361Z",
          "start_time": "2020-06-25T15:22:59.190862Z"
        }
      },
      "outputs": [],
      "source": [
        "fig = plt.figure()\n",
        "ax = fig.subplots(2, 1)\n",
        "fig.subplots_adjust(bottom=0.3, hspace=0.3)\n",
        "\n",
        "(l0,) = ax[0].plot(range(N), b0[0, :, 0], \"h\", color=\"r\", alpha=0.5, ms=10)\n",
        "(l1,) = ax[0].plot(range(N), b1[0, :, 0], \"^\", color=\"b\", alpha=0.5, ms=10)\n",
        "(l2,) = ax[0].plot(range(N), b2[0, :, 0], \"o\", color=\"g\", alpha=0.5, ms=10)\n",
        "\n",
        "l3 = [\n",
        "    ax[1].plot([w0[i], w0[i]], [0, 1], \":\", color=\"r\", alpha=0.5)[0] for i in range(N)\n",
        "]\n",
        "l4 = [\n",
        "    ax[1].plot([w1[i], w1[i]], [0, 1], \"--\", color=\"b\", alpha=0.5)[0] for i in range(N)\n",
        "]\n",
        "l5 = [\n",
        "    ax[1].plot([w2[i], w2[i]], [0, 1], \"-\", color=\"g\", alpha=0.5)[0] for i in range(N)\n",
        "]\n",
        "\n",
        "w_min = np.min([w0.min(), w1.min(), w2.min()])\n",
        "w_max = np.max([w0.max(), w1.max(), w2.max()])\n",
        "\n",
        "ax[0].set_ylim(-1, 1)\n",
        "ax[0].set_xlabel(r\"$i$\")\n",
        "ax[0].set_ylabel(r\"$b_{im}$\")\n",
        "\n",
        "ax[1].set_xlim(w_min - 0.05 * (w_max - w_min), w_max + 0.05 * (w_max - w_min))\n",
        "ax[1].set_xlabel(r\"$\\omega_m$\")\n",
        "ax[1].set_yticks([])\n",
        "\n",
        "\n",
        "[ax[i].ticklabel_format(style=\"sci\", scilimits=(-1, 1)) for i in range(2)]\n",
        "\n",
        "\n",
        "def update(val):\n",
        "    s0 = np.sign(b0[int(slider_direction.val), :, int(slider_mode.val)][0])\n",
        "    s1 = np.sign(b1[int(slider_direction.val), :, int(slider_mode.val)][0])\n",
        "    s2 = np.sign(b2[int(slider_direction.val), :, int(slider_mode.val)][0])\n",
        "    l0.set_ydata(b0[int(slider_direction.val), :, int(slider_mode.val)])\n",
        "    l1.set_ydata(\n",
        "        b1[int(slider_direction.val), :, int(slider_mode.val)]\n",
        "        if s0 == s1\n",
        "        else -b1[int(slider_direction.val), :, int(slider_mode.val)]\n",
        "    )\n",
        "    l2.set_ydata(\n",
        "        b2[int(slider_direction.val), :, int(slider_mode.val)]\n",
        "        if s0 == s2\n",
        "        else -b2[int(slider_direction.val), :, int(slider_mode.val)]\n",
        "    )\n",
        "\n",
        "    [\n",
        "        l3[i].set_xdata(\n",
        "            [\n",
        "                w0[N * int(slider_direction.val) + i],\n",
        "                w0[N * int(slider_direction.val) + i],\n",
        "            ]\n",
        "        )\n",
        "        for i in range(N)\n",
        "    ]\n",
        "    [\n",
        "        l4[i].set_xdata(\n",
        "            [\n",
        "                w1[N * int(slider_direction.val) + i],\n",
        "                w1[N * int(slider_direction.val) + i],\n",
        "            ]\n",
        "        )\n",
        "        for i in range(N)\n",
        "    ]\n",
        "    [\n",
        "        l5[i].set_xdata(\n",
        "            [\n",
        "                w2[N * int(slider_direction.val) + i],\n",
        "                w2[N * int(slider_direction.val) + i],\n",
        "            ]\n",
        "        )\n",
        "        for i in range(N)\n",
        "    ]\n",
        "    fig.canvas.draw_idle()\n",
        "\n",
        "\n",
        "ax_direction = plt.axes([0.15, 0.15, 0.7, 0.03])\n",
        "slider_direction = Slider(ax_direction, r\"Direction\", 0, 2, valinit=0, valstep=1)\n",
        "slider_direction.on_changed(update)\n",
        "\n",
        "ax_mode = plt.axes([0.15, 0.10, 0.7, 0.03])\n",
        "slider_mode = Slider(ax_mode, r\"Mode\", 0, N - 1, valinit=0, valstep=1)\n",
        "slider_mode.on_changed(update)"
      ]
    },
    {
      "cell_type": "markdown",
      "metadata": {},
      "source": [
        "# SimulatedSpinLattice\n"
      ]
    },
    {
      "cell_type": "code",
      "execution_count": 10,
      "metadata": {
        "ExecuteTime": {
          "end_time": "2020-06-25T15:23:01.417361Z",
          "start_time": "2020-06-25T15:23:01.410361Z"
        }
      },
      "outputs": [],
      "source": [
        "%matplotlib inline\n",
        "rc(\"font\", **{\"family\": \"serif\", \"serif\": [\"Computer Modern\"]})\n",
        "matplotlib.rcParams[\"figure.figsize\"] = (12, 8)\n",
        "matplotlib.rcParams[\"font.size\"] = 20\n",
        "matplotlib.rcParams[\"text.usetex\"] = True"
      ]
    },
    {
      "cell_type": "markdown",
      "metadata": {},
      "source": [
        "## Single Species\n"
      ]
    },
    {
      "cell_type": "code",
      "execution_count": null,
      "metadata": {
        "ExecuteTime": {
          "end_time": "2020-06-25T15:23:02.044502Z",
          "start_time": "2020-06-25T15:23:01.418362Z"
        }
      },
      "outputs": [],
      "source": [
        "wavelength = 355e-9\n",
        "\n",
        "detuning = 2 * np.pi * 1e3\n",
        "mu = np.array([np.array([w0[N + i] + detuning]) for i in range(N)])\n",
        "Omega = np.full((N, 1), 1e6)\n",
        "\n",
        "ssl = [\n",
        "    oqd_trical.mechanical.SimulatedSpinLattice(\n",
        "        ti0, mu[i], Omega, k=2 * np.pi / wavelength, direc=\"y\"\n",
        "    )\n",
        "    for i in range(N)\n",
        "]\n",
        "\n",
        "J = np.array([ssl[i].J for i in range(N)])\n",
        "\n",
        "norm = matplotlib.colors.Normalize(J.min(), J.max())\n",
        "sm = cm.ScalarMappable(norm, cmap=cm.viridis)\n",
        "sm.set_array(J)\n",
        "\n",
        "fig = plt.figure(figsize=(20, 15))\n",
        "ax = [fig.add_subplot(1, N, i + 1) for i in range(N)]\n",
        "for i in range(N):\n",
        "    im = ax[i].imshow(J[i], cmap=cm.viridis, norm=norm)\n",
        "    ax[i].set_xticks(np.arange(N))\n",
        "    ax[i].set_yticks(np.arange(N))\n",
        "    ax[i].set_xticklabels(np.arange(N) + 1)\n",
        "    ax[i].set_yticklabels(np.arange(N) + 1)\n",
        "fig.colorbar(sm, ax=ax, orientation=\"horizontal\")"
      ]
    },
    {
      "cell_type": "markdown",
      "metadata": {},
      "source": [
        "## Multispecies w/o Optical Potential\n"
      ]
    },
    {
      "cell_type": "code",
      "execution_count": null,
      "metadata": {
        "ExecuteTime": {
          "end_time": "2020-06-25T15:23:05.120194Z",
          "start_time": "2020-06-25T15:23:02.045502Z"
        }
      },
      "outputs": [],
      "source": [
        "wavelength = 355e-9\n",
        "\n",
        "detuning = 2 * np.pi * 1e3\n",
        "mu = np.array([np.array([w1[N + i] + detuning]) for i in range(N)])\n",
        "omega = np.full((N, 1), 1e6)\n",
        "\n",
        "ssl = [\n",
        "    oqd_trical.mechanical.SimulatedSpinLattice(\n",
        "        ti1, mu[i], omega, k=2 * np.pi / wavelength, direc=\"y\"\n",
        "    )\n",
        "    for i in range(N)\n",
        "]\n",
        "\n",
        "J = np.array([ssl[i].J for i in range(N)])\n",
        "\n",
        "norm = matplotlib.colors.Normalize(J.min(), J.max())\n",
        "sm = cm.ScalarMappable(norm, cmap=cm.viridis)\n",
        "sm.set_array(J)\n",
        "\n",
        "fig = plt.figure(figsize=(20, 15))\n",
        "ax = [fig.add_subplot(1, N, i + 1) for i in range(N)]\n",
        "for i in range(N):\n",
        "    im = ax[i].imshow(J[i], cmap=cm.viridis, norm=norm)\n",
        "    ax[i].set_xticks(np.arange(N))\n",
        "    ax[i].set_yticks(np.arange(N))\n",
        "    ax[i].set_xticklabels(np.arange(N) + 1)\n",
        "    ax[i].set_yticklabels(np.arange(N) + 1)\n",
        "fig.colorbar(sm, ax=ax, orientation=\"horizontal\")"
      ]
    },
    {
      "cell_type": "markdown",
      "metadata": {},
      "source": [
        "## Multispecies w/ Optical Potential\n"
      ]
    },
    {
      "cell_type": "code",
      "execution_count": null,
      "metadata": {
        "ExecuteTime": {
          "end_time": "2020-06-25T15:23:08.191882Z",
          "start_time": "2020-06-25T15:23:05.121195Z"
        },
        "scrolled": true
      },
      "outputs": [],
      "source": [
        "wavelength = 355e-9\n",
        "\n",
        "detuning = 2 * np.pi * 1e3\n",
        "mu = np.array([np.array([w2[N + i] + detuning]) for i in range(N)])\n",
        "omega = np.full((N, 1), 1e6)\n",
        "\n",
        "ssl = [\n",
        "    oqd_trical.mechanical.SimulatedSpinLattice(\n",
        "        ti2, mu[i], omega, k=2 * np.pi / wavelength, direc=\"y\"\n",
        "    )\n",
        "    for i in range(N)\n",
        "]\n",
        "\n",
        "J = np.array([ssl[i].J for i in range(N)])\n",
        "\n",
        "norm = matplotlib.colors.Normalize(J.min(), J.max())\n",
        "sm = cm.ScalarMappable(norm, cmap=cm.viridis)\n",
        "sm.set_array(J)\n",
        "\n",
        "fig = plt.figure(figsize=(20, 15))\n",
        "ax = [fig.add_subplot(1, N, i + 1) for i in range(N)]\n",
        "for i in range(N):\n",
        "    im = ax[i].imshow(J[i], cmap=cm.viridis, norm=norm)\n",
        "    ax[i].set_xticks(np.arange(N))\n",
        "    ax[i].set_yticks(np.arange(N))\n",
        "    ax[i].set_xticklabels(np.arange(N) + 1)\n",
        "    ax[i].set_yticklabels(np.arange(N) + 1)\n",
        "fig.colorbar(sm, ax=ax, orientation=\"horizontal\")"
      ]
    },
    {
      "cell_type": "code",
      "execution_count": null,
      "metadata": {
        "ExecuteTime": {
          "end_time": "2020-03-24T19:13:47.913449Z",
          "start_time": "2020-03-24T19:13:47.907465Z"
        }
      },
      "outputs": [],
      "source": []
    },
    {
      "cell_type": "code",
      "execution_count": null,
      "metadata": {},
      "outputs": [],
      "source": []
    },
    {
      "cell_type": "code",
      "execution_count": null,
      "metadata": {},
      "outputs": [],
      "source": []
    }
  ],
  "metadata": {
    "kernelspec": {
      "display_name": "Python 3",
      "language": "python",
      "name": "python3"
    },
    "language_info": {
      "codemirror_mode": {
        "name": "ipython",
        "version": 3
      },
      "file_extension": ".py",
      "mimetype": "text/x-python",
      "name": "python",
      "nbconvert_exporter": "python",
      "pygments_lexer": "ipython3",
      "version": "3.10.14"
    },
    "toc": {
      "base_numbering": 1,
      "nav_menu": {},
      "number_sections": true,
      "sideBar": true,
      "skip_h1_title": false,
      "title_cell": "Table of Contents",
      "title_sidebar": "Contents",
      "toc_cell": false,
      "toc_position": {
        "height": "calc(100% - 180px)",
        "left": "10px",
        "top": "150px",
        "width": "384px"
      },
      "toc_section_display": true,
      "toc_window_display": true
    }
  },
  "nbformat": 4,
  "nbformat_minor": 2
}
