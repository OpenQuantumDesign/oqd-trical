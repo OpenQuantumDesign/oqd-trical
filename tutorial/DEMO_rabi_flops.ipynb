{
 "cells": [
  {
   "cell_type": "code",
   "execution_count": 6,
   "metadata": {},
   "outputs": [
    {
     "name": "stdout",
     "output_type": "stream",
     "text": [
      "Setting laser 0 wavelength based on transition ('S', 'D')\n",
      "Setting laser 0 intensity based on pi_time 2e-06\n",
      "Constructing Hamiltonian tree with timescale 1e-06\n",
      "str(Hamiltonian Tree)\n"
     ]
    }
   ],
   "source": [
    "import oqd_compiler_infrastructure as ci\n",
    "from trical.backend.qutip.rule import time_evolve\n",
    "import numpy as np\n",
    "from math import sqrt\n",
    "from typing import List, Tuple\n",
    "\n",
    "class Ion(ci.TypeReflectBaseModel):\n",
    "    name: str\n",
    "    energy_levels: List[tuple]\n",
    "\n",
    "class Ca40(Ion):\n",
    "    def __init__(self, energy_levels):\n",
    "        super().__init__(name=\"Ca40\", energy_levels=energy_levels)\n",
    "\n",
    "    def transition(self, states):\n",
    "        return states  \n",
    "\n",
    "class Chain(ci.TypeReflectBaseModel):\n",
    "    ions: List[Ion]\n",
    "    trap_freqs: List[float]\n",
    "    selected_modes: List[int]\n",
    "    modes: List[int] = [0]  \n",
    "\n",
    "class Laser(ci.TypeReflectBaseModel):\n",
    "    phi: float\n",
    "    k_hat: Tuple[float, float, float]\n",
    "    eps_hat: Tuple[float, float, float]\n",
    "    wavelength: float = None\n",
    "    intensity: float = None\n",
    "\n",
    "class Chamber(ci.TypeReflectBaseModel):\n",
    "    chain: Chain\n",
    "    lasers: List[Laser]\n",
    "    B: float\n",
    "    Bhat: Tuple[float, float, float]\n",
    "\n",
    "    def set_laser_wavelength_from_transition(self, laser_index, transition):\n",
    "        print(f\"Setting laser {laser_index} wavelength based on transition {transition}\")\n",
    "\n",
    "    def set_laser_intensity_from_pi_time(self, laser_index, pi_time, transition):\n",
    "        print(f\"Setting laser {laser_index} intensity based on pi_time {pi_time}\")\n",
    "\n",
    "def construct_H_tree(chamber, timescale):\n",
    "    print(f\"Constructing Hamiltonian tree with timescale {timescale}\")\n",
    "    return \"Hamiltonian Tree\"\n",
    "\n",
    "ion = Ca40([(\"S1/2\", -1/2, \"S\"), (\"D5/2\", -1/2, \"D\")])\n",
    "chain = Chain(ions=[ion], trap_freqs=[3e6, 3e6, 1e6], selected_modes=[])\n",
    "\n",
    "mode = chain.modes[-1]\n",
    "chain.selected_modes = [mode]\n",
    "\n",
    "laser = Laser(\n",
    "    phi=0,\n",
    "    k_hat=tuple(np.array([1, 0, 1]) / sqrt(2)),\n",
    "    eps_hat=tuple(np.array([1, 0, -1]) / sqrt(2))\n",
    ")\n",
    "\n",
    "chamber = Chamber(\n",
    "    chain=chain,\n",
    "    lasers=[laser],\n",
    "    B=4e-4,\n",
    "    Bhat=(0, 0, 1)\n",
    ")\n",
    "\n",
    "chamber.set_laser_wavelength_from_transition(0, ion.transition((\"S\", \"D\")))\n",
    "chamber.set_laser_intensity_from_pi_time(0, 2e-6, ion.transition((\"S\", \"D\")))\n",
    "\n",
    "timescale = 1e-6\n",
    "H_tree = construct_H_tree(chamber, timescale)\n",
    "\n",
    "printer = ci.Post(ci.PrettyPrint())\n",
    "print(printer(H_tree))\n"
   ]
  },
  {
   "cell_type": "code",
   "execution_count": 2,
   "metadata": {},
   "outputs": [
    {
     "ename": "NameError",
     "evalue": "name 'ion' is not defined",
     "output_type": "error",
     "traceback": [
      "\u001b[0;31m---------------------------------------------------------------------------\u001b[0m",
      "\u001b[0;31mNameError\u001b[0m                                 Traceback (most recent call last)",
      "Cell \u001b[0;32mIn [2], line 8\u001b[0m\n\u001b[1;32m      5\u001b[0m duration \u001b[38;5;241m=\u001b[39m \u001b[38;5;241m10\u001b[39m\n\u001b[1;32m      6\u001b[0m times \u001b[38;5;241m=\u001b[39m np\u001b[38;5;241m.\u001b[39mlinspace(\u001b[38;5;241m0\u001b[39m, duration,  \u001b[38;5;241m1000\u001b[39m)\n\u001b[0;32m----> 8\u001b[0m psi_ion \u001b[38;5;241m=\u001b[39m ion\u001b[38;5;241m.\u001b[39mstate[\u001b[38;5;124m\"\u001b[39m\u001b[38;5;124mS\u001b[39m\u001b[38;5;124m\"\u001b[39m]\n\u001b[1;32m      9\u001b[0m psi_mot \u001b[38;5;241m=\u001b[39m mode\u001b[38;5;241m.\u001b[39msetstate(\u001b[38;5;241m0\u001b[39m)\n\u001b[1;32m     11\u001b[0m psi_0 \u001b[38;5;241m=\u001b[39m tensor(psi_ion, psi_mot)\n",
      "\u001b[0;31mNameError\u001b[0m: name 'ion' is not defined"
     ]
    }
   ],
   "source": [
    "from qutip import tensor\n",
    "import numpy as np\n",
    "\n",
    "\n",
    "duration = 10\n",
    "times = np.linspace(0, duration,  1000)\n",
    "\n",
    "psi_ion = ion.state[\"S\"]\n",
    "psi_mot = mode.setstate(0)\n",
    "\n",
    "psi_0 = tensor(psi_ion, psi_mot)\n",
    "\n",
    "op = chain.ion_projector(1, \"D\")\n",
    "\n",
    "results = time_evolve(H_tree, psi_0, times, expt_ops=[op], progress_bar= True)\n",
    "results.quick_plot()\n"
   ]
  },
  {
   "cell_type": "code",
   "execution_count": 14,
   "metadata": {},
   "outputs": [
    {
     "name": "stdout",
     "output_type": "stream",
     "text": [
      "Updated sys.path: ['/Users/rivajangra/.qutip/qutip_coeffs_1.1', '/Users/rivajangra/Desktop/OQD/TrICal/tutorial', '/Library/Frameworks/Python.framework/Versions/3.10/lib/python310.zip', '/Library/Frameworks/Python.framework/Versions/3.10/lib/python3.10', '/Library/Frameworks/Python.framework/Versions/3.10/lib/python3.10/lib-dynload', '', '/Users/rivajangra/Library/Python/3.10/lib/python/site-packages', '/Library/Frameworks/Python.framework/Versions/3.10/lib/python3.10/site-packages', '/Users/rivajangra/Desktop/OQD/TrICal/tutorial/src']\n"
     ]
    }
   ],
   "source": [
    "backend = QutipBackend()\n",
    "\n",
    "compiled_prog = backend.compile(chamber, args)\n",
    "\n",
    "results = backend.run(program=compiled_prog, args =args)\n"
   ]
  }
 ],
 "metadata": {
  "kernelspec": {
   "display_name": "TrICal",
   "language": "python",
   "name": "python3"
  },
  "language_info": {
   "codemirror_mode": {
    "name": "ipython",
    "version": 3
   },
   "file_extension": ".py",
   "mimetype": "text/x-python",
   "name": "python",
   "nbconvert_exporter": "python",
   "pygments_lexer": "ipython3",
   "version": "3.10.11"
  }
 },
 "nbformat": 4,
 "nbformat_minor": 2
}
