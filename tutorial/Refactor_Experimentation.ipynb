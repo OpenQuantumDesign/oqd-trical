{
 "cells": [
  {
   "cell_type": "code",
   "execution_count": 1,
   "metadata": {},
   "outputs": [],
   "source": [
    "from numpy import pi\n",
    "\n",
    "from oqd_compiler_infrastructure import PrettyPrint, Post, FixedPoint, Chain\n",
    "\n",
    "from oqd_core.compiler.math.passes import simplify_math_expr, evaluate_math_expr\n",
    "from oqd_core.compiler.math.rules import (\n",
    "    DistributeMathExpr,\n",
    "    ProperOrderMathExpr,\n",
    "    PartitionMathExpr,\n",
    "    PrintMathExpr,\n",
    ")\n",
    "\n",
    "from trical.light_matter2 import *"
   ]
  },
  {
   "cell_type": "code",
   "execution_count": 2,
   "metadata": {},
   "outputs": [],
   "source": [
    "printer = Post(OperatorPrinter())"
   ]
  },
  {
   "cell_type": "code",
   "execution_count": 3,
   "metadata": {},
   "outputs": [
    {
     "name": "stdout",
     "output_type": "stream",
     "text": [
      "class_='Displacement' alpha=WaveCoefficient(class_='WaveCoefficient', amplitude=MathNum(class_='MathNum', value=1), frequency=MathNum(class_='MathNum', value=0), phase=MathNum(class_='MathNum', value=0))\n"
     ]
    }
   ],
   "source": [
    "op = Displacement(alpha=WaveCoefficient(amplitude=1, frequency=0, phase=0))\n",
    "\n",
    "print(printer(op))"
   ]
  },
  {
   "cell_type": "code",
   "execution_count": 10,
   "metadata": {},
   "outputs": [],
   "source": [
    "downstate = Level(\n",
    "    principal=6,\n",
    "    spin=1 / 2,\n",
    "    orbital=0,\n",
    "    nuclear=1 / 2,\n",
    "    spin_orbital=1 / 2,\n",
    "    spin_orbital_nuclear=0,\n",
    "    spin_orbital_nuclear_magnetization=0,\n",
    "    energy=0,\n",
    ")\n",
    "upstate = Level(\n",
    "    principal=6,\n",
    "    spin=1 / 2,\n",
    "    orbital=0,\n",
    "    nuclear=1 / 2,\n",
    "    spin_orbital=1 / 2,\n",
    "    spin_orbital_nuclear=1,\n",
    "    spin_orbital_nuclear_magnetization=0,\n",
    "    energy=2 * pi * 12.643e9,\n",
    ")\n",
    "estate = Level(\n",
    "    principal=5,\n",
    "    spin=1 / 2,\n",
    "    orbital=1,\n",
    "    nuclear=1 / 2,\n",
    "    spin_orbital=1 / 2,\n",
    "    spin_orbital_nuclear=0,\n",
    "    spin_orbital_nuclear_magnetization=0,\n",
    "    energy=2 * pi * 811.52e12,\n",
    ")\n",
    "estate2 = Level(\n",
    "    principal=5,\n",
    "    spin=1 / 2,\n",
    "    orbital=1,\n",
    "    nuclear=1 / 2,\n",
    "    spin_orbital=1 / 2,\n",
    "    spin_orbital_nuclear=1,\n",
    "    spin_orbital_nuclear_magnetization=0,\n",
    "    energy=2 * pi * 811.52e12,\n",
    ")\n",
    "\n",
    "transitions = [\n",
    "    Transition(\n",
    "        level1=downstate,\n",
    "        level2=estate2,\n",
    "        einsteinA=1.23e8,\n",
    "        multipole=\"E1\",\n",
    "    ),\n",
    "    Transition(\n",
    "        level1=upstate,\n",
    "        level2=estate,\n",
    "        einsteinA=1.23e8,\n",
    "        multipole=\"E1\",\n",
    "    ),\n",
    "]\n",
    "\n",
    "Yb171 = Ion(\n",
    "    mass=171,\n",
    "    charge=1,\n",
    "    position=[0, 0, 0],\n",
    "    levels=[downstate, upstate, estate, estate2],\n",
    "    transitions=transitions,\n",
    ")\n",
    "\n",
    "COM_x = Phonon(energy=2 * pi * 5e6, eigenvector=[1, 0, 0])\n",
    "COM_y = Phonon(energy=2 * pi * 5e6, eigenvector=[0, 1, 0])\n",
    "COM_z = Phonon(energy=2 * pi * 1e6, eigenvector=[0, 0, 1])\n",
    "\n",
    "system = System(\n",
    "    ions=[\n",
    "        Yb171,\n",
    "    ],\n",
    "    modes=[\n",
    "        COM_x,\n",
    "        COM_y,\n",
    "        COM_z,\n",
    "    ],\n",
    ")\n",
    "\n",
    "beam = Beam(\n",
    "    transition=transitions[1],\n",
    "    rabi=2 * pi * 1e9,\n",
    "    detuning=0,\n",
    "    phase=0,\n",
    "    polarization=[0, 0, 1],\n",
    "    wavevector=[0, 2 * pi / 0.02371213, 0],\n",
    "    target=0,\n",
    ")\n",
    "\n",
    "beam2 = Beam(\n",
    "    transition=transitions[0],\n",
    "    rabi=2 * pi * 1e9,\n",
    "    detuning=0,\n",
    "    phase=0,\n",
    "    polarization=[0, 0, 1],\n",
    "    wavevector=[0, 2 * pi / 0.02371213, 0],\n",
    "    target=0,\n",
    ")\n",
    "\n",
    "protocol = ParallelProtocol(\n",
    "    sequence=[\n",
    "        Pulse(beam=beam, duration=1),\n",
    "        Pulse(beam=beam2, duration=1),\n",
    "    ]\n",
    ")\n",
    "\n",
    "circuit = AtomicCircuit(system=system, protocol=protocol)"
   ]
  },
  {
   "cell_type": "code",
   "execution_count": 11,
   "metadata": {},
   "outputs": [
    {
     "name": "stdout",
     "output_type": "stream",
     "text": [
      "Zero + (Zero + (0.0) * |0><0| + (79438311838.67151) * |1><1| + (5098930540482378.0) * |2><2| + (5098930540482378.0) * |3><3|) @ I @ I @ I + I @ (31415926.535897933) * C * A @ I @ I + I @ I @ (31415926.535897933) * C * A @ I + I @ I @ I @ (6283185.307179586) * C * A + (Zero + (5.344929169906417e-11 * (2 * 0.0013272093648958553 * (1.054571817e-34 * 6283185307.179586 / 8.563720752160326e-30) ** 2 / 0.0026544187297917105) ** 0.5 * 1.602176634e-19 / 1.054571817e-34 / 2 * exp(1j * (5098851102170539.0 + 0 * t)) + 5.344929169906417e-11 * (2 * 0.0013272093648958553 * (1.054571817e-34 * 6283185307.179586 / 8.563720752160326e-30) ** 2 / 0.0026544187297917105) ** 0.5 * 1.602176634e-19 / 1.054571817e-34 / 2 * exp(1j * (-1 * (5098851102170539.0 + 0) * t + -1 * 0))) * |0><3| + |3><0| + (5.3450540785756624e-11 * (2 * 0.0013272093648958553 * (1.054571817e-34 * 6283185307.179586 / 8.563720752160326e-30) ** 2 / 0.0026544187297917105) ** 0.5 * 1.602176634e-19 / 1.054571817e-34 / 2 * exp(1j * (5098851102170539.0 + 0 * t)) + 5.3450540785756624e-11 * (2 * 0.0013272093648958553 * (1.054571817e-34 * 6283185307.179586 / 8.563720752160326e-30) ** 2 / 0.0026544187297917105) ** 0.5 * 1.602176634e-19 / 1.054571817e-34 / 2 * exp(1j * (-1 * (5098851102170539.0 + 0) * t + -1 * 0))) * |1><2| + |2><1|) @ exp(1j * 0.0 * (A + C)) @ exp(1j * 0.0025563558694769676 * (A + C)) @ exp(1j * 0.0 * (A + C)) + (Zero + (5.344929169906417e-11 * (2 * 0.0013272093648958553 * (1.054571817e-34 * 6283185307.179586 / 8.563520626409076e-30) ** 2 / 0.0026544187297917105) ** 0.5 * 1.602176634e-19 / 1.054571817e-34 / 2 * exp(1j * (5098930540482378.0 + 0 * t)) + 5.344929169906417e-11 * (2 * 0.0013272093648958553 * (1.054571817e-34 * 6283185307.179586 / 8.563520626409076e-30) ** 2 / 0.0026544187297917105) ** 0.5 * 1.602176634e-19 / 1.054571817e-34 / 2 * exp(1j * (-1 * (5098930540482378.0 + 0) * t + -1 * 0))) * |0><3| + |3><0| + (5.3450540785756624e-11 * (2 * 0.0013272093648958553 * (1.054571817e-34 * 6283185307.179586 / 8.563520626409076e-30) ** 2 / 0.0026544187297917105) ** 0.5 * 1.602176634e-19 / 1.054571817e-34 / 2 * exp(1j * (5098930540482378.0 + 0 * t)) + 5.3450540785756624e-11 * (2 * 0.0013272093648958553 * (1.054571817e-34 * 6283185307.179586 / 8.563520626409076e-30) ** 2 / 0.0026544187297917105) ** 0.5 * 1.602176634e-19 / 1.054571817e-34 / 2 * exp(1j * (-1 * (5098930540482378.0 + 0) * t + -1 * 0))) * |1><2| + |2><1|) @ exp(1j * 0.0 * (A + C)) @ exp(1j * 0.0025563558694769676 * (A + C)) @ exp(1j * 0.0 * (A + C))\n"
     ]
    }
   ],
   "source": [
    "compiler = Post(ConstructHamiltonian())\n",
    "\n",
    "op = compiler(circuit)\n",
    "\n",
    "print(printer(op))"
   ]
  },
  {
   "cell_type": "code",
   "execution_count": 12,
   "metadata": {},
   "outputs": [
    {
     "name": "stdout",
     "output_type": "stream",
     "text": [
      "((79438311838.67151) * |1><1| + (5098930540482378.0) * |2><2| + (5098930540482378.0) * |3><3|) @ I @ I @ I + I @ (31415926.535897933) * C * A @ I @ I + I @ I @ (31415926.535897933) * C * A @ I + I @ I @ I @ (6283185.307179586) * C * A + ((3141519237.6520114 * exp(1j * (5098851102170539.0 * t)) + 3141519237.6520114 * exp(1j * (-5098851102170539.0 * t))) * |0><3| + |3><0| + (3141592653.589793 * exp(1j * (5098851102170539.0 * t)) + 3141592653.589793 * exp(1j * (-5098851102170539.0 * t))) * |1><2| + |2><1|) @ I @ exp(1j * 0.0025563558694769676 * (A + C)) @ I + ((3141592653.589793 * exp(1j * (5098930540482378.0 * t)) + 3141592653.589793 * exp(1j * (-5098930540482378.0 * t))) * |0><3| + |3><0| + (3141666071.2432733 * exp(1j * (5098930540482378.0 * t)) + 3141666071.2432733 * exp(1j * (-5098930540482378.0 * t))) * |1><2| + |2><1|) @ I @ exp(1j * 0.0025563558694769676 * (A + C)) @ I\n"
     ]
    }
   ],
   "source": [
    "from oqd_compiler_infrastructure import RewriteRule\n",
    "from oqd_core.interface.math import MathNum\n",
    "\n",
    "\n",
    "class Prune(RewriteRule):\n",
    "    def map_OperatorAdd(self, model):\n",
    "        if isinstance(model.op1, Zero):\n",
    "            return model.op2\n",
    "        if isinstance(model.op2, Zero):\n",
    "            return model.op1\n",
    "\n",
    "    def map_OperatorMul(self, model):\n",
    "        if isinstance(model.op1, Zero) or isinstance(model.op2, Zero):\n",
    "            return Zero()\n",
    "\n",
    "    def map_OperatorScalarMul(self, model):\n",
    "        if isinstance(\n",
    "            model.coeff, WaveCoefficient\n",
    "        ) and model.coeff.amplitude == MathNum(value=0):\n",
    "            return Zero()\n",
    "\n",
    "    def map_CoefficientAdd(self, model):\n",
    "        if isinstance(\n",
    "            model.coeff1, WaveCoefficient\n",
    "        ) and model.coeff1.amplitude == MathNum(value=0):\n",
    "            return model.coeff2\n",
    "        if isinstance(\n",
    "            model.coeff2, WaveCoefficient\n",
    "        ) and model.coeff2.amplitude == MathNum(value=0):\n",
    "            return model.coeff1\n",
    "\n",
    "    def map_Wave(self, model):\n",
    "        if isinstance(\n",
    "            model.lamb_dicke, WaveCoefficient\n",
    "        ) and model.lamb_dicke.amplitude == MathNum(value=0):\n",
    "            return Identity()\n",
    "\n",
    "\n",
    "simplify = Chain(\n",
    "    Chain(\n",
    "        FixedPoint(Post(DistributeMathExpr())),\n",
    "        FixedPoint(Post(ProperOrderMathExpr())),\n",
    "        FixedPoint(Post(PartitionMathExpr())),\n",
    "    ),\n",
    "    simplify_math_expr,\n",
    "    FixedPoint(Post(Prune())),\n",
    "    Chain(\n",
    "        FixedPoint(Post(DistributeMathExpr())),\n",
    "        FixedPoint(Post(ProperOrderMathExpr())),\n",
    "        FixedPoint(Post(PartitionMathExpr())),\n",
    "    ),\n",
    "    simplify_math_expr,\n",
    ")\n",
    "\n",
    "simplified_op = simplify(op)\n",
    "\n",
    "print(printer(simplified_op))"
   ]
  },
  {
   "cell_type": "code",
   "execution_count": null,
   "metadata": {},
   "outputs": [],
   "source": []
  },
  {
   "cell_type": "code",
   "execution_count": null,
   "metadata": {},
   "outputs": [],
   "source": []
  }
 ],
 "metadata": {
  "kernelspec": {
   "display_name": "Python 3",
   "language": "python",
   "name": "python3"
  },
  "language_info": {
   "codemirror_mode": {
    "name": "ipython",
    "version": 3
   },
   "file_extension": ".py",
   "mimetype": "text/x-python",
   "name": "python",
   "nbconvert_exporter": "python",
   "pygments_lexer": "ipython3",
   "version": "3.10.14"
  }
 },
 "nbformat": 4,
 "nbformat_minor": 2
}
