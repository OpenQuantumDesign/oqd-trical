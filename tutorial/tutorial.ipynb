{
 "cells": [
  {
   "cell_type": "markdown",
   "metadata": {},
   "source": [
    "# TrICal Trapped Ion Calculator\n",
    "\n",
    "This is a package for simulating a chain of trapped ions. The aim of this package is to remove the need for rewriting the same code to calculate equilibrium spacing, normal modes, and $J_{ij}$ every time a trap is being designed.\n",
    "\n",
    "## Class Structure\n",
    "![class structure](class_structure.png)\n",
    "\n",
    "The basic form of the class structure is shown in the diagram. Typically in an ion trap there are three major terms in the potential; the DC part, the RF part and the coulomb part. In this code the user will input the DC and RF parts into the potential class. For the RF potential the pondermotive approximation will have to be taken before inputing the potential into the code. \n",
    "\n",
    "## Usage\n",
    "\n",
    "The typical usage for this code will be to find the normal modes and frequencies for a given trap and for a given set of voltage applied to the trap electrodes. The potential around the centre of the trap is should be calculated via an appropriate method. The results of that calculation can then be input into the Potential class via three methods. The potential class is then used to calculate equilibrium spacing and normal modes. These are in turn fed into the SimulatedSpinLattice class to get out $J_{ij}$ coefficients."
   ]
  },
  {
   "cell_type": "markdown",
   "metadata": {},
   "source": [
    "## PolynomialPotential\n",
    "\n",
    "The PolynomialPotential approximates your trapping potential in the region around the ion chain with the following multivariate polynomial:\n",
    "$$\n",
    "    p \\,(x,y,z) = \\sum_{ijk} \\alpha_{ijk}  x^iy^jz^k\n",
    "$$\n",
    "\n",
    "\n",
    "There are three ways to effectivly input the alpha values for your potential. To demonstrate all three methods the same trapping potential with $\\omega_x = 2\\pi\\times6$MHz, $\\omega_y = 2\\pi\\times5$MHz, and $\\omega_z = 2\\pi\\times1$MHz will be entered via all three methods. This potential written in full is:\n",
    "$$\n",
    "    V(x, y, z) = \\alpha_{2,0,0}x^2 + \\alpha_{0,2,0}y^2 + \\alpha_{0,0,2}z^2\n",
    "$$\n",
    "\n"
   ]
  },
  {
   "cell_type": "markdown",
   "metadata": {},
   "source": [
    "The first is to directly input the alpha values in a $N\\times N \\times N$ matrix. The matrix must be the same dimention in every axis. This is shown bellow where in the p matrix the index indicates the power in $x$, $y$, or $z$."
   ]
  },
  {
   "cell_type": "code",
   "execution_count": 1,
   "metadata": {
    "ExecuteTime": {
     "end_time": "2019-12-13T21:12:01.866567Z",
     "start_time": "2019-12-13T21:12:00.862386Z"
    }
   },
   "outputs": [
    {
     "name": "stdout",
     "output_type": "stream",
     "text": [
      "[[[0.00000000e+00 0.00000000e+00 5.60290428e-12]\n",
      "  [0.00000000e+00 0.00000000e+00 0.00000000e+00]\n",
      "  [1.40072607e-10 0.00000000e+00 0.00000000e+00]]\n",
      "\n",
      " [[0.00000000e+00 0.00000000e+00 0.00000000e+00]\n",
      "  [0.00000000e+00 0.00000000e+00 0.00000000e+00]\n",
      "  [0.00000000e+00 0.00000000e+00 0.00000000e+00]]\n",
      "\n",
      " [[2.01704554e-10 0.00000000e+00 0.00000000e+00]\n",
      "  [0.00000000e+00 0.00000000e+00 0.00000000e+00]\n",
      "  [0.00000000e+00 0.00000000e+00 0.00000000e+00]]]\n"
     ]
    }
   ],
   "source": [
    "import sys\n",
    "\n",
    "sys.path.append(\"../\")\n",
    "from trical.classes import *\n",
    "from trical.constants import m_a\n",
    "import numpy as np\n",
    "from scipy.constants import mega, kilo, micro\n",
    "\n",
    "mass = m_a[\"Yb171\"]\n",
    "omega_x = 2 * np.pi * 6 * mega  # Hz\n",
    "omega_y = 2 * np.pi * 5 * mega  # Hz\n",
    "omega_z = 2 * np.pi * 1 * mega  # Hz\n",
    "\n",
    "# Potential in Joules\n",
    "p = np.zeros((3, 3, 3))\n",
    "p[2, 0, 0] = mass * (omega_x) ** 2 / 2  # alpha_2,0,0\n",
    "p[0, 2, 0] = mass * (omega_y) ** 2 / 2  # alpha_0,2,0\n",
    "p[0, 0, 2] = mass * (omega_z) ** 2 / 2  # alpha_0,0,2\n",
    "\n",
    "potential_alpha = PolynomialPotential(p)\n",
    "print(p)"
   ]
  },
  {
   "cell_type": "markdown",
   "metadata": {},
   "source": [
    "The second method is to insert a symbolic expression using sympy for the potential. This is intended to be useful when you have an analyitical expression for your trapping potential. Using the same potential as the first example."
   ]
  },
  {
   "cell_type": "code",
   "execution_count": 11,
   "metadata": {
    "ExecuteTime": {
     "end_time": "2019-12-13T21:12:41.116216Z",
     "start_time": "2019-12-13T21:12:41.103818Z"
    },
    "scrolled": true
   },
   "outputs": [
    {
     "name": "stdout",
     "output_type": "stream",
     "text": [
      "2.01704554192163e-10*x**2 + 1.40072607077891e-10*y**2 + 5.60290428311563e-12*z**2\n"
     ]
    }
   ],
   "source": [
    "import sympy as sym\n",
    "\n",
    "x, y, z = sym.symbols(\"x, y ,z\")\n",
    "V_sym = (\n",
    "    mass * (omega_x) ** 2 / 2 * x ** 2\n",
    "    + mass * (omega_y) ** 2 / 2 * y ** 2\n",
    "    + mass * (omega_z) ** 2 / 2 * z ** 2\n",
    ")\n",
    "potential_symbolic = SymbolicPotential(V_sym)\n",
    "print(V_sym)"
   ]
  },
  {
   "cell_type": "markdown",
   "metadata": {},
   "source": [
    "Finally the third method of defining a potential is to give a grid of points with the potential at each point. This grid will then be fit with polynomial and the coefficients of the polynomial will be returned in a format that can be submitted to the PolynomialPotential class via the first example method.\n",
    "\n",
    "The format for submitting the grid to the fitting function is in two arrays. The first is a list of \\[x,y,z\\] positions, and the second is a list of the value of the potential at each point."
   ]
  },
  {
   "cell_type": "code",
   "execution_count": 17,
   "metadata": {
    "ExecuteTime": {
     "end_time": "2019-12-13T21:22:56.548213Z",
     "start_time": "2019-12-13T21:22:56.486710Z"
    }
   },
   "outputs": [],
   "source": [
    "rx = np.linspace(-10e-6, 10e-6, 100)  # x position grid\n",
    "ry = np.linspace(-10e-6, 10e-6, 100)  # y position grid\n",
    "rz = np.linspace(-40e-6, 40e-6, 100)  # z position grid\n",
    "\n",
    "# Using the same potential funciton as before\n",
    "V_lambda = sym.lambdify((x, y, z), V_sym)\n",
    "\n",
    "# Create a gird of x, y, z points\n",
    "R = np.meshgrid(rx, ry, rz)\n",
    "\n",
    "# Get the potential value at each grid point\n",
    "V_grid = V_lambda(*R)\n",
    "\n",
    "# The potential values must be in 1D list where the position in the list\n",
    "# matches the position in the coordinate list\n",
    "vals = np.reshape(V_grid, (-1))\n",
    "\n",
    "# Reshape the coordinate list to be a list of [x, y, z] positions\n",
    "R = np.reshape(R, (3, -1))\n",
    "R = R.transpose()"
   ]
  },
  {
   "cell_type": "code",
   "execution_count": 19,
   "metadata": {
    "ExecuteTime": {
     "end_time": "2019-12-13T21:23:01.355006Z",
     "start_time": "2019-12-13T21:23:00.642749Z"
    }
   },
   "outputs": [
    {
     "name": "stdout",
     "output_type": "stream",
     "text": [
      "[[[ 2.34755188e-34 -1.48756572e-30  5.60290428e-12]\n",
      "  [-1.12038575e-28 -4.03042842e-25  4.36932156e-20]\n",
      "  [ 1.40072607e-10 -1.10369821e-19 -6.07311021e-16]]\n",
      "\n",
      " [[ 1.04353603e-30  8.72044835e-27  7.60183085e-21]\n",
      "  [ 3.52347123e-26 -6.73077924e-21 -3.13706099e-15]\n",
      "  [-2.62240076e-22 -2.83938713e-14 -3.08082167e-10]]\n",
      "\n",
      " [[ 2.01704554e-10  1.92200332e-19 -8.65478945e-15]\n",
      "  [-1.62017289e-18  2.15064378e-14  1.44870964e-08]\n",
      "  [-1.55052534e-13 -2.04737035e-09  7.25693221e-05]]]\n"
     ]
    }
   ],
   "source": [
    "from trical.misc import polynomial\n",
    "\n",
    "lscale = micro  # a length scaling may have to be applied for fitting to converge\n",
    "\n",
    "# specify the degree polynomial which has to be fitted along x, y, and z. In this case since we know the\n",
    "# function is harmonic we're fitting to 2nd degree\n",
    "deg = np.array([2, 2, 2])\n",
    "p = polynomial.multivariate_polyfit(R / lscale, vals, deg) / lscale ** np.indices(deg+1).sum(0)\n",
    "potential_grid = PolynomialPotential(p)\n",
    "print(p)"
   ]
  },
  {
   "cell_type": "markdown",
   "metadata": {},
   "source": [
    "## TrappedIons\n",
    "\n",
    "This class calculates the equilibrium positions, normal modes, and frequencies of a given number of ions and trapping potential. The method of inputing the potential should not have any bearing on the equilibrum position. Using the equilibrium_position funciton we can see that all three input methods give the same positions in z."
   ]
  },
  {
   "cell_type": "code",
   "execution_count": 5,
   "metadata": {
    "ExecuteTime": {
     "end_time": "2019-12-13T21:12:02.961186Z",
     "start_time": "2019-12-13T21:12:02.877858Z"
    }
   },
   "outputs": [
    {
     "name": "stdout",
     "output_type": "stream",
     "text": [
      "Input Alpha values Directly: [-3.93817181 -1.24528026  1.24528     3.93817157]\n",
      "Symbolic Potential Function:  [-3.9381719  -1.24528033  1.24528004  3.93817162]\n",
      "Fitting Alpha from a Grid:    [-3.93817163 -1.24528005  1.24528016  3.93817172]\n"
     ]
    }
   ],
   "source": [
    "N = 4\n",
    "\n",
    "a1 = TrappedIons(N, potential_alpha, m=mass)\n",
    "a2 = TrappedIons(N, potential_symbolic, m=mass)\n",
    "a3 = TrappedIons(N, potential_grid, m=mass)\n",
    "\n",
    "print(\"Input Alpha values Directly:\", a1.equilibrium_position()[:, 2] / micro)\n",
    "print(\"Symbolic Potential Function: \", a2.equilibrium_position()[:, 2] / micro)\n",
    "print(\"Fitting Alpha from a Grid:   \", a3.equilibrium_position()[:, 2] / micro)"
   ]
  },
  {
   "cell_type": "markdown",
   "metadata": {},
   "source": [
    "## SimulatedSpinLattice \n",
    "\n",
    "This class takes in a TrappedIons class and using the eigen frequencies produces a Jij coupling matrix along some axis with the axis, wavelength, detuning and adressing being input parameters.\n"
   ]
  },
  {
   "cell_type": "code",
   "execution_count": 6,
   "metadata": {
    "ExecuteTime": {
     "end_time": "2019-12-13T21:12:02.995410Z",
     "start_time": "2019-12-13T21:12:02.963666Z"
    }
   },
   "outputs": [],
   "source": [
    "detuning = 2 * np.pi * 10 * kilo  # Hz\n",
    "mu = omega_x + detuning\n",
    "omega = np.ones(\n",
    "    (N, 1)\n",
    ")  # The intensity at each ion, this array gives uniform intensity across each ion\n",
    "wavelength = 355e-9  # wavelength of light used for MS\n",
    "\n",
    "b1 = SimulatedSpinLattice(a1, [mu], omega, k=2 * np.pi / wavelength)"
   ]
  },
  {
   "cell_type": "code",
   "execution_count": 7,
   "metadata": {
    "ExecuteTime": {
     "end_time": "2019-12-13T21:12:03.002354Z",
     "start_time": "2019-12-13T21:12:02.997395Z"
    }
   },
   "outputs": [
    {
     "name": "stdout",
     "output_type": "stream",
     "text": [
      "[[0.00000000e+00 1.22476828e-08 1.11311619e-08 1.04014492e-08]\n",
      " [1.22476828e-08 0.00000000e+00 1.19910590e-08 1.11311619e-08]\n",
      " [1.11311619e-08 1.19910590e-08 0.00000000e+00 1.22476828e-08]\n",
      " [1.04014492e-08 1.11311619e-08 1.22476828e-08 0.00000000e+00]]\n"
     ]
    }
   ],
   "source": [
    "print( b1.J )"
   ]
  },
  {
   "cell_type": "markdown",
   "metadata": {},
   "source": [
    "\n",
    "\n",
    "\n",
    "\n",
    "\n",
    "\n",
    "\n",
    "\n",
    "\n",
    "\n",
    "\n",
    "\n",
    "\n",
    "\n",
    "\n",
    "\n",
    "\n",
    "\n"
   ]
  }
 ],
 "metadata": {
  "kernelspec": {
   "display_name": "Python 3",
   "language": "python",
   "name": "python3"
  },
  "language_info": {
   "codemirror_mode": {
    "name": "ipython",
    "version": 3
   },
   "file_extension": ".py",
   "mimetype": "text/x-python",
   "name": "python",
   "nbconvert_exporter": "python",
   "pygments_lexer": "ipython3",
   "version": "3.7.3"
  },
  "toc": {
   "base_numbering": 1,
   "nav_menu": {},
   "number_sections": true,
   "sideBar": true,
   "skip_h1_title": false,
   "title_cell": "Table of Contents",
   "title_sidebar": "Contents",
   "toc_cell": false,
   "toc_position": {
    "height": "calc(100% - 180px)",
    "left": "10px",
    "top": "150px",
    "width": "235px"
   },
   "toc_section_display": true,
   "toc_window_display": true
  }
 },
 "nbformat": 4,
 "nbformat_minor": 2
}
