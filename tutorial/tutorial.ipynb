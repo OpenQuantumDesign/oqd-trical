{
 "cells": [
  {
   "cell_type": "markdown",
   "metadata": {},
   "source": [
    "# Trapped Ion Calculator (TrICal)\n",
    "\n",
    "\n",
    "This is a package for simulating a chain of trapped ions. The aim of this package is to remove the need for rewriting the same code to calculate equilibrium spacing, normal modes, and $J_{ij}$ every time a trap is being designed.\n",
    "\n",
    "## Class Structure\n",
    "![class structure](class_structure.png)\n",
    "\n",
    "The basic form of the class structure is shown in the diagram. Typically in an ion trap there are three major terms in the potential; the DC part, the RF part and the coulomb part. In this code the user will input the DC and RF parts into the potential class. For the RF potential the pondermotive approximation will have to be taken before inputing the potential into the code. \n",
    "\n",
    "## Usage\n",
    "\n",
    "The typical usage for this code will be to find the normal modes and frequencies for a given trap and for a given set of voltage applied to the trap electrodes. The potential around the centre of the trap is should be calculated via an appropriate method. The results of that calculation can then be input into the Potential class via three methods. The potential class is then used to calculate equilibrium spacing and normal modes. These are in turn fed into the SimulatedSpinLattice class to get out $J_{ij}$ coefficients."
   ]
  },
  {
   "cell_type": "code",
   "execution_count": 1,
   "metadata": {
    "ExecuteTime": {
     "end_time": "2020-06-15T21:46:04.625827Z",
     "start_time": "2020-06-15T21:46:03.431556Z"
    }
   },
   "outputs": [],
   "source": [
    "import os\n",
    "import sys\n",
    "\n",
    "sys.path.append(os.path.abspath(\"../\"))\n",
    "\n",
    "import matplotlib\n",
    "from matplotlib import cm\n",
    "import matplotlib.colors\n",
    "import matplotlib.pyplot as plt\n",
    "import numpy as np\n",
    "import sympy as sym\n",
    "import trical\n",
    "import trical.misc.constants as cst\n",
    "from trical.misc.polynomial import multivariate_polyfit"
   ]
  },
  {
   "cell_type": "code",
   "execution_count": 2,
   "metadata": {
    "ExecuteTime": {
     "end_time": "2020-06-15T21:46:04.929896Z",
     "start_time": "2020-06-15T21:46:04.626827Z"
    }
   },
   "outputs": [],
   "source": [
    "matplotlib.rcParams[\"figure.figsize\"] = (12, 8)\n",
    "matplotlib.rcParams[\"font.family\"] = \"serif\"\n",
    "matplotlib.rcParams[\"font.size\"] = 20\n",
    "matplotlib.rcParams[\"text.usetex\"] = True\n",
    "\n",
    "sym.init_printing()"
   ]
  },
  {
   "cell_type": "markdown",
   "metadata": {},
   "source": [
    "# TrICal Classes"
   ]
  },
  {
   "cell_type": "markdown",
   "metadata": {},
   "source": [
    "## Potential Class\n",
    "The potential class represents a potential applied to the trapped ion system. <br />\n",
    "Requirements of the potential class are functions corresponding to:\n",
    "$$\n",
    "U,\\frac{\\partial U}{\\partial a_i},\\frac{\\partial^2 U}{\\partial a_i \\partial b_j}  \n",
    "$$\n",
    "where $a,b \\in [x,y,z]$ and $1 \\leq i,j \\leq N$ "
   ]
  },
  {
   "cell_type": "code",
   "execution_count": 3,
   "metadata": {
    "ExecuteTime": {
     "end_time": "2020-06-15T21:46:04.944900Z",
     "start_time": "2020-06-15T21:46:04.930898Z"
    }
   },
   "outputs": [
    {
     "name": "stdout",
     "output_type": "stream",
     "text": [
      "Gradient of the potential:\n",
      "[ 0.  6. 12.  2.  8. 14.  4. 10. 16.]\n",
      "Hessian of the potential:\n",
      "[[2. 0. 0. 0. 0. 0. 0. 0. 0.]\n",
      " [0. 2. 0. 0. 0. 0. 0. 0. 0.]\n",
      " [0. 0. 2. 0. 0. 0. 0. 0. 0.]\n",
      " [0. 0. 0. 2. 0. 0. 0. 0. 0.]\n",
      " [0. 0. 0. 0. 2. 0. 0. 0. 0.]\n",
      " [0. 0. 0. 0. 0. 2. 0. 0. 0.]\n",
      " [0. 0. 0. 0. 0. 0. 2. 0. 0.]\n",
      " [0. 0. 0. 0. 0. 0. 0. 2. 0.]\n",
      " [0. 0. 0. 0. 0. 0. 0. 0. 2.]]\n"
     ]
    }
   ],
   "source": [
    "N = 3\n",
    "dim = 3\n",
    "mass = cst.convert_m_a(171)\n",
    "\n",
    "\n",
    "def phi(x):\n",
    "    x = np.array(x)\n",
    "    return\n",
    "\n",
    "\n",
    "def dphi(var):\n",
    "    a = {\"x\": 0, \"y\": 1, \"z\": 2}[var[0]]\n",
    "    i = int(var[1:] if type(var) == str else var[1:][0]) - 1\n",
    "\n",
    "    def dphi_dai(x):\n",
    "        return 2 * x[i, a]\n",
    "\n",
    "    return dphi_dai\n",
    "\n",
    "\n",
    "def d2phi(var1, var2):\n",
    "    a = {\"x\": 0, \"y\": 1, \"z\": 2}[var1[0]]\n",
    "    b = {\"x\": 0, \"y\": 1, \"z\": 2}[var2[0]]\n",
    "    i = int(var1[1:] if type(var1) == str else var1[1:][0]) - 1\n",
    "    j = int(var2[1:] if type(var2) == str else var2[1:][0]) - 1\n",
    "\n",
    "    def d2phi_daidbj(x):\n",
    "        if a == b and i == j:\n",
    "            return 2\n",
    "        else:\n",
    "            return 0\n",
    "\n",
    "    return d2phi_daidbj\n",
    "\n",
    "\n",
    "p = trical.classes.Potential(phi, dphi, d2phi, N=N, dim=dim)\n",
    "\n",
    "p_grad = p.gradient()\n",
    "p_hess = p.hessian()\n",
    "\n",
    "x = np.arange(N * dim).reshape(N, dim)\n",
    "\n",
    "print(\"Gradient of the potential:\")\n",
    "print(p_grad(x))\n",
    "print(\"Hessian of the potential:\")\n",
    "print(p_hess(x))"
   ]
  },
  {
   "cell_type": "markdown",
   "metadata": {},
   "source": [
    "\n",
    "### CoulombPotential Subclass\n",
    "\n",
    "The CoulombPotential subclass of Potential represents the coulomb interaction between the ions in the trapped ion system.\n",
    "$$\n",
    "U(\\{\\vec{x}_i\\}) = \\sum_{i \\neq j} \\frac{q^2}{4 \\pi \\epsilon_0} \\frac{1}{||\\vec{x}_i - \\vec{x}_j||_2}\n",
    "$$"
   ]
  },
  {
   "cell_type": "code",
   "execution_count": 4,
   "metadata": {
    "ExecuteTime": {
     "end_time": "2020-06-15T21:46:04.950901Z",
     "start_time": "2020-06-15T21:46:04.945901Z"
    }
   },
   "outputs": [],
   "source": [
    "cp = trical.classes.CoulombPotential(N, dim=dim)"
   ]
  },
  {
   "cell_type": "markdown",
   "metadata": {},
   "source": [
    "### GaussianOpticalPotential Subclass\n",
    "The GaussianOpticalPotential subclass of Potential represents the potential caused by stark shift from a gaussian beam.\n",
    "$$\n",
    "U(\\{\\vec{x}_i\\}) = \\frac{\\hbar \\Omega^2(\\{\\vec{x}_i\\})}{4 \\Delta} = \\frac{\\hbar \\bar{\\Omega}^2 I(\\{\\vec{x}_i\\})}{4 \\Delta} = \\frac{\\hbar \\bar{\\Omega}^2}{4 \\Delta} \\sum_{i} \\tilde{I}(\\vec{x}_i) \\\\\n",
    "\\tilde{I}(x,y,z) = I_0 \\left(\\frac{w_0}{w(x-x^*)}\\right)^2 \\mathrm{exp} \\left({\\frac{-2[(y-y^*)^2+(z-z^*)^2]}{w^2(x-x^*)}}\\right) \\\\\n",
    "w(x) = w_0 \\sqrt{1+\\left(\\frac{x}{x_R}\\right)^2}, \\quad x_R = \\frac{\\pi w_0^2 n}{\\lambda}, \\quad I_0 = \\frac{2P}{\\pi w_0^2}\\\\\n",
    "$$\n",
    "Where $\\vec{x}^*$ is the focal point, $w_0$ is the beam waist, $n$ is the refractive index, $\\lambda$ is the wavelength of laser, $P$ is the laser power, $\\Delta$ is the detuning from transition, and $\\bar{\\Omega}$ is the Rabi frequency per root intensity."
   ]
  },
  {
   "cell_type": "code",
   "execution_count": 5,
   "metadata": {
    "ExecuteTime": {
     "end_time": "2020-06-15T21:46:04.955903Z",
     "start_time": "2020-06-15T21:46:04.951902Z"
    }
   },
   "outputs": [],
   "source": [
    "focal_point = np.zeros(3)\n",
    "beam_waist = 1e-6\n",
    "refractive_index = 1.0\n",
    "wavelength = 375e-9\n",
    "power = 1e0\n",
    "Omega_bar = 3.86e6\n",
    "transition_wavelength = 369.52e-9\n",
    "\n",
    "gop = trical.classes.GaussianOpticalPotential(\n",
    "    focal_point,\n",
    "    power,\n",
    "    wavelength,\n",
    "    beam_waist,\n",
    "    mass=mass,\n",
    "    Omega_bar=Omega_bar,\n",
    "    transition_wavelength=transition_wavelength,\n",
    "    refractive_index=refractive_index,\n",
    ")"
   ]
  },
  {
   "cell_type": "markdown",
   "metadata": {},
   "source": [
    "### PolynomialPotential Subclass\n",
    "\n",
    "The PolynomialPotential approximates your trapping potential in the region around the ion chain with the following multivariate polynomial:\n",
    "$$\n",
    "U(\\{\\vec{x}_i\\}) = \\sum_{i} \\tilde{U}(\\vec{x}_i) \\\\\n",
    "\\tilde{U}(x,y,z) = \\sum_{ijk} \\alpha_{ijk}  x^iy^jz^k\n",
    "$$"
   ]
  },
  {
   "cell_type": "code",
   "execution_count": 6,
   "metadata": {
    "ExecuteTime": {
     "end_time": "2020-06-15T21:46:04.962905Z",
     "start_time": "2020-06-15T21:46:04.956903Z"
    }
   },
   "outputs": [
    {
     "name": "stdout",
     "output_type": "stream",
     "text": [
      "[[[0.00000000e+00 0.00000000e+00 3.58719448e-14]\n",
      "  [0.00000000e+00 0.00000000e+00 0.00000000e+00]\n",
      "  [7.26406883e-13 0.00000000e+00 0.00000000e+00]]\n",
      "\n",
      " [[0.00000000e+00 0.00000000e+00 0.00000000e+00]\n",
      "  [0.00000000e+00 0.00000000e+00 0.00000000e+00]\n",
      "  [0.00000000e+00 0.00000000e+00 0.00000000e+00]]\n",
      "\n",
      " [[8.96798621e-13 0.00000000e+00 0.00000000e+00]\n",
      "  [0.00000000e+00 0.00000000e+00 0.00000000e+00]\n",
      "  [0.00000000e+00 0.00000000e+00 0.00000000e+00]]]\n"
     ]
    }
   ],
   "source": [
    "mass = cst.convert_m_a(171)\n",
    "omega_x = 2 * np.pi * 0.4e6  # Hz\n",
    "omega_y = 2 * np.pi * 0.36e6  # Hz\n",
    "omega_z = 2 * np.pi * 0.08e6  # Hz\n",
    "\n",
    "# Potential in Joules\n",
    "alpha = np.zeros((3, 3, 3))\n",
    "alpha[2, 0, 0] = mass * (omega_x) ** 2 / 2  # alpha_2,0,0\n",
    "alpha[0, 2, 0] = mass * (omega_y) ** 2 / 2  # alpha_0,2,0\n",
    "alpha[0, 0, 2] = mass * (omega_z) ** 2 / 2  # alpha_0,0,2\n",
    "\n",
    "pp = trical.classes.PolynomialPotential(alpha)\n",
    "print(alpha)"
   ]
  },
  {
   "cell_type": "markdown",
   "metadata": {},
   "source": [
    "#### Fitting to a PolynomialPotential\n",
    "The second method of defining a potential is to give a grid of points with the potential at each point. This grid will then be fit with polynomial and the coefficients of the polynomial will be returned in a format that can be submitted to the PolynomialPotential class via the first example method.\n",
    "\n",
    "The format for submitting the grid to the fitting function is in two arrays. The first is a list of \\[x,y,z\\] positions, and the second is a list of the value of the potential at each point."
   ]
  },
  {
   "cell_type": "code",
   "execution_count": 7,
   "metadata": {
    "ExecuteTime": {
     "end_time": "2020-06-15T21:46:06.161176Z",
     "start_time": "2020-06-15T21:46:04.964905Z"
    }
   },
   "outputs": [
    {
     "name": "stdout",
     "output_type": "stream",
     "text": [
      "[[[-8.23788635e-33  5.04870979e-29  3.58719448e-14]\n",
      "  [-2.27550602e-29 -4.96024545e-28 -1.02965008e-23]\n",
      "  [ 7.26406883e-13 -4.38522899e-24  1.41488681e-20]]\n",
      "\n",
      " [[-2.34269114e-29 -1.96064576e-28 -1.12896031e-24]\n",
      "  [-8.13820454e-28 -3.56444845e-24  1.84971276e-20]\n",
      "  [-7.46849531e-24  3.19369691e-20 -3.75426743e-21]]\n",
      "\n",
      " [[ 8.96798621e-13 -2.91128112e-24  1.36703483e-20]\n",
      "  [ 1.77718025e-23  4.78681837e-20 -7.03006607e-21]\n",
      "  [ 8.51172350e-20 -4.32216971e-22 -7.82573409e-22]]]\n"
     ]
    }
   ],
   "source": [
    "I_x = np.linspace(-2e-4, 2e-4, 81)\n",
    "I_y = np.linspace(-2e-4, 2e-4, 81)\n",
    "I_z = np.linspace(-5e-4, 5e-4, 201)\n",
    "\n",
    "r = np.array(np.meshgrid(I_x, I_y, I_z))\n",
    "r = r.reshape(3, -1).transpose()\n",
    "\n",
    "f = lambda x, y, z: np.polynomial.polynomial.polyval3d(x, y, z, alpha)\n",
    "\n",
    "U_r = f(*r.transpose())\n",
    "\n",
    "l = 1e-6\n",
    "deg = (2, 2, 2)\n",
    "alpha_fit = multivariate_polyfit(r, U_r, deg)\n",
    "print(alpha_fit)\n",
    "\n",
    "pfp = trical.classes.PolynomialPotential(alpha_fit)"
   ]
  },
  {
   "cell_type": "markdown",
   "metadata": {},
   "source": [
    "### SymbolicPotential Subclass\n",
    "The third method is to insert a symbolic expression using sympy for the potential. This is intended to be useful when you have an analytical expression for your trapping potential. All ions must have the same potential, i.e.\n",
    "$$\n",
    "U(\\{\\vec{x}_i\\}) = \\sum_{i} \\tilde{U}(\\vec{x}_i)\n",
    "$$"
   ]
  },
  {
   "cell_type": "code",
   "execution_count": 8,
   "metadata": {
    "ExecuteTime": {
     "end_time": "2020-06-15T21:46:06.173178Z",
     "start_time": "2020-06-15T21:46:06.162176Z"
    },
    "scrolled": false
   },
   "outputs": [
    {
     "name": "stdout",
     "output_type": "stream",
     "text": [
      "8.96798620563919e-13*x**2 + 7.26406882656774e-13*y**2 + 3.58719448225568e-14*z**2\n"
     ]
    }
   ],
   "source": [
    "x, y, z = sym.symbols(\"x, y ,z\")\n",
    "expr = (\n",
    "    mass * (omega_x) ** 2 / 2 * x ** 2\n",
    "    + mass * (omega_y) ** 2 / 2 * y ** 2\n",
    "    + mass * (omega_z) ** 2 / 2 * z ** 2\n",
    ")\n",
    "print(expr)\n",
    "\n",
    "sp = trical.classes.SymbolicPotential(expr)"
   ]
  },
  {
   "cell_type": "markdown",
   "metadata": {},
   "source": [
    "#### SymbolicOpticalPotential\n",
    "$$\n",
    "U(\\{\\vec{x}_i\\}) = \\frac{\\hbar \\Omega^2(\\{\\vec{x}_i\\})}{4 \\Delta} = \\frac{\\hbar \\bar{\\Omega}^2 I(\\{\\vec{x}_i\\})}{4 \\Delta} = \\frac{\\hbar \\bar{\\Omega}^2}{4 \\Delta} \\sum_{i} \\tilde{I}(\\vec{x}_i)\n",
    "$$"
   ]
  },
  {
   "cell_type": "code",
   "execution_count": 9,
   "metadata": {
    "ExecuteTime": {
     "end_time": "2020-06-15T21:46:06.215188Z",
     "start_time": "2020-06-15T21:46:06.174178Z"
    }
   },
   "outputs": [],
   "source": [
    "focal_point = np.zeros(3)\n",
    "beam_waist = 1e-6\n",
    "refractive_index = 1.0\n",
    "wavelength = 375e-9\n",
    "power = 1e0\n",
    "Omega_bar = 3.86e6\n",
    "transition_wavelength = 369.52e-9\n",
    "\n",
    "x, y, z = sym.symbols(\"x, y ,z\")\n",
    "delta_x, delta_y, delta_z = np.array([x, y, z]) - focal_point\n",
    "\n",
    "x_R = np.pi * beam_waist ** 2 * refractive_index / wavelength\n",
    "w = beam_waist * sym.sqrt(1 + (delta_x / x_R) ** 2)\n",
    "intensity_expr = (\n",
    "    2\n",
    "    * power\n",
    "    / (np.pi * beam_waist ** 2)\n",
    "    * (beam_waist / w) ** 2\n",
    "    * sym.exp(-2 * (delta_y ** 2 + delta_z ** 2) / w ** 2)\n",
    ")\n",
    "\n",
    "sop = trical.classes.SymbolicOpticalPotential(\n",
    "    intensity_expr,\n",
    "    wavelength,\n",
    "    Omega_bar=Omega_bar,\n",
    "    transition_wavelength=transition_wavelength,\n",
    ")"
   ]
  },
  {
   "cell_type": "markdown",
   "metadata": {},
   "source": [
    "### AdvancedSymbolicPotential Subclass\n",
    "This subclass of Potential represents a potential that can be ion dependent symbolically, i.e.\n",
    "$$\n",
    "U(\\{\\vec{x}_i\\}) = \\sum_{i} \\tilde{U}_i(\\vec{x}_i)\n",
    "$$\n",
    "This means this class works for an arbitrary potential."
   ]
  },
  {
   "cell_type": "code",
   "execution_count": 10,
   "metadata": {
    "ExecuteTime": {
     "end_time": "2020-06-15T21:46:06.237193Z",
     "start_time": "2020-06-15T21:46:06.217188Z"
    }
   },
   "outputs": [],
   "source": [
    "x = np.array(sym.symbols(\" \".join([\"x{}\".format(i) for i in range(N)])))\n",
    "y = np.array(sym.symbols(\" \".join([\"y{}\".format(i) for i in range(N)])))\n",
    "z = np.array(sym.symbols(\" \".join([\"z{}\".format(i) for i in range(N)])))\n",
    "\n",
    "expr = (\n",
    "    (mass * omega_x ** 2 * x ** 2 / 2).sum()\n",
    "    + (mass * omega_y ** 2 * y ** 2 / 2).sum()\n",
    "    + (mass * omega_z ** 2 * z ** 2 / 2).sum()\n",
    ")\n",
    "\n",
    "asp = trical.classes.AdvancedSymbolicPotential(N, expr)"
   ]
  },
  {
   "cell_type": "markdown",
   "metadata": {},
   "source": [
    "### AutoDiffPotential Subclass\n",
    "The fourth method is to use a function representing the potential and uses automatic differentiation to take the derivatives. This is intended to be useful when you have an analytical expression for your trapping potential. This class works for an arbitrary potential. Using the same potential as the first example."
   ]
  },
  {
   "cell_type": "code",
   "execution_count": 11,
   "metadata": {
    "ExecuteTime": {
     "end_time": "2020-06-15T21:46:06.243194Z",
     "start_time": "2020-06-15T21:46:06.238193Z"
    }
   },
   "outputs": [],
   "source": [
    "import autograd as ag\n",
    "from autograd import numpy as agnp\n",
    "\n",
    "expr = lambda x: (\n",
    "    mass * (omega_x) ** 2 / 2 * x[:, 0] ** 2\n",
    "    + mass * (omega_y) ** 2 / 2 * x[:, 1] ** 2\n",
    "    + mass * (omega_z) ** 2 / 2 * x[:, 2] ** 2\n",
    ").sum()\n",
    "\n",
    "adp = trical.classes.AutoDiffPotential(expr)"
   ]
  },
  {
   "cell_type": "markdown",
   "metadata": {},
   "source": [
    "#### OpticalPotential Subclass\n",
    "$$\n",
    "U(\\{\\vec{x}_i\\}) = \\frac{\\hbar \\Omega^2(\\{\\vec{x}_i\\})}{4 \\Delta} = \\frac{\\hbar \\bar{\\Omega}^2 I(\\{\\vec{x}_i\\})}{4 \\Delta} = \\frac{\\hbar \\bar{\\Omega}^2}{4 \\Delta} \\sum_{i} \\tilde{I}(\\vec{x}_i)\n",
    "$$"
   ]
  },
  {
   "cell_type": "code",
   "execution_count": 12,
   "metadata": {
    "ExecuteTime": {
     "end_time": "2020-06-15T21:46:06.251196Z",
     "start_time": "2020-06-15T21:46:06.244194Z"
    }
   },
   "outputs": [],
   "source": [
    "focal_point = np.zeros(3)\n",
    "beam_waist = 1e-6\n",
    "refractive_index = 1.0\n",
    "wavelength = 375e-9\n",
    "power = 1e0\n",
    "Omega_bar = 3.86e6\n",
    "transition_wavelength = 369.52e-9\n",
    "\n",
    "\n",
    "def intensity_expr(x):\n",
    "    delta_x = x - focal_point\n",
    "    x_R = np.pi * beam_waist ** 2 * refractive_index / wavelength\n",
    "    w = beam_waist * agnp.sqrt(1 + (delta_x[:, 0] / x_R) ** 2)\n",
    "    return (\n",
    "        2\n",
    "        * power\n",
    "        / (np.pi * beam_waist ** 2)\n",
    "        * (beam_waist / w) ** 2\n",
    "        * agnp.exp(-2 * (delta_x[:, 1] ** 2 + delta_x[:, 2] ** 2) / w ** 2)\n",
    "    ).sum()\n",
    "\n",
    "\n",
    "op = trical.classes.OpticalPotential(\n",
    "    intensity_expr,\n",
    "    wavelength,\n",
    "    Omega_bar=Omega_bar,\n",
    "    transition_wavelength=transition_wavelength,\n",
    ")"
   ]
  },
  {
   "cell_type": "markdown",
   "metadata": {},
   "source": [
    "## TrappedIons Class\n",
    "\n",
    "This class calculates the equilibrium positions, normal modes, and frequencies of a given number of ions and trapping potential. The method of inputing the potential should not have any bearing on the equilibrum position. Using the equilibrium_position funciton we can see that all three input methods give the same positions in z."
   ]
  },
  {
   "cell_type": "code",
   "execution_count": 13,
   "metadata": {
    "ExecuteTime": {
     "end_time": "2020-06-15T21:46:28.896340Z",
     "start_time": "2020-06-15T21:46:06.252196Z"
    },
    "scrolled": false
   },
   "outputs": [
    {
     "name": "stdout",
     "output_type": "stream",
     "text": [
      "======================================= PolynomialPotential ========================================\n",
      "Execution time for principle axis method:\n",
      "8.97 ms ± 71.6 µs per loop (mean ± std. dev. of 7 runs, 100 loops each)\n",
      "Equilibrium Position (micron):[-15.89995   0.       15.89995]\n",
      "Eigenfrequencies (MHz):[2.51327 2.4625  2.38959 2.26195 2.20539 2.12368 1.21055 0.87062 0.50265]\n",
      "Eigenvectors:\n",
      "[[ 0.57735 -0.70711  0.40825 -0.      -0.      -0.       0.       0.\n",
      "  -0.     ]\n",
      " [ 0.57735 -0.      -0.8165   0.       0.       0.       0.       0.\n",
      "  -0.     ]\n",
      " [ 0.57735  0.70711  0.40825 -0.      -0.      -0.      -0.      -0.\n",
      "  -0.     ]\n",
      " [ 0.       0.       0.       0.57735  0.70711  0.40825 -0.       0.\n",
      "  -0.     ]\n",
      " [-0.       0.       0.       0.57735  0.      -0.8165   0.      -0.\n",
      "  -0.     ]\n",
      " [-0.      -0.      -0.       0.57735 -0.70711  0.40825 -0.      -0.\n",
      "  -0.     ]\n",
      " [ 0.      -0.      -0.      -0.       0.       0.       0.40825 -0.70711\n",
      "   0.57735]\n",
      " [ 0.      -0.       0.       0.       0.       0.      -0.8165  -0.\n",
      "   0.57735]\n",
      " [ 0.       0.       0.       0.      -0.      -0.       0.40825  0.70711\n",
      "   0.57735]]\n",
      "==================================== Fitted PolynomialPotential ====================================\n",
      "Execution time for principle axis method:\n",
      "8.78 ms ± 10.6 µs per loop (mean ± std. dev. of 7 runs, 100 loops each)\n",
      "Equilibrium Position (micron):[-15.89995   0.       15.89995]\n",
      "Eigenfrequencies (MHz):[2.51327 2.4625  2.38959 2.26195 2.20539 2.12368 1.21055 0.87062 0.50265]\n",
      "Eigenvectors:\n",
      "[[ 0.57735 -0.70711  0.40825 -0.       0.      -0.      -0.       0.\n",
      "  -0.     ]\n",
      " [ 0.57735 -0.      -0.8165   0.      -0.       0.       0.      -0.\n",
      "  -0.     ]\n",
      " [ 0.57735  0.70711  0.40825  0.       0.       0.       0.       0.\n",
      "  -0.     ]\n",
      " [ 0.      -0.       0.       0.57735 -0.70711  0.40825  0.       0.\n",
      "  -0.     ]\n",
      " [ 0.      -0.       0.       0.57735 -0.      -0.8165   0.      -0.\n",
      "  -0.     ]\n",
      " [-0.      -0.      -0.       0.57735  0.70711  0.40825  0.       0.\n",
      "   0.     ]\n",
      " [ 0.      -0.       0.       0.       0.       0.       0.40825 -0.70711\n",
      "   0.57735]\n",
      " [ 0.       0.       0.      -0.      -0.       0.      -0.8165  -0.\n",
      "   0.57735]\n",
      " [ 0.      -0.      -0.      -0.      -0.      -0.       0.40825  0.70711\n",
      "   0.57735]]\n",
      "======================================== SymbolicPotential =========================================\n",
      "Execution time for principle axis method:\n",
      "21.4 ms ± 74.1 µs per loop (mean ± std. dev. of 7 runs, 10 loops each)\n",
      "Equilibrium Position (micron):[-15.89995   0.       15.89995]\n",
      "Eigenfrequencies (MHz):[2.51327 2.4625  2.38959 2.26195 2.20539 2.12368 1.21055 0.87062 0.50265]\n",
      "Eigenvectors:\n",
      "[[ 0.57735 -0.70711  0.40825  0.      -0.       0.       0.       0.\n",
      "  -0.     ]\n",
      " [ 0.57735 -0.      -0.8165  -0.       0.      -0.       0.       0.\n",
      "  -0.     ]\n",
      " [ 0.57735  0.70711  0.40825  0.       0.       0.      -0.      -0.\n",
      "  -0.     ]\n",
      " [-0.      -0.      -0.       0.57735 -0.70711  0.40825  0.      -0.\n",
      "  -0.     ]\n",
      " [-0.      -0.      -0.       0.57735 -0.      -0.8165  -0.      -0.\n",
      "   0.     ]\n",
      " [-0.      -0.      -0.       0.57735  0.70711  0.40825  0.       0.\n",
      "   0.     ]\n",
      " [ 0.      -0.      -0.       0.      -0.       0.       0.40825 -0.70711\n",
      "   0.57735]\n",
      " [ 0.      -0.       0.      -0.       0.      -0.      -0.8165  -0.\n",
      "   0.57735]\n",
      " [ 0.       0.       0.       0.       0.      -0.       0.40825  0.70711\n",
      "   0.57735]]\n",
      "==================================== AdvancedSymbolicPotential =====================================\n",
      "Execution time for principle axis method:\n",
      "146 ms ± 6.46 ms per loop (mean ± std. dev. of 7 runs, 1 loop each)\n",
      "Equilibrium Position (micron):[-15.89995   0.       15.89995]\n",
      "Eigenfrequencies (MHz):[2.51327 2.4625  2.38959 2.26195 2.20539 2.12368 1.21055 0.87062 0.50265]\n",
      "Eigenvectors:\n",
      "[[ 0.57735 -0.70711  0.40825  0.      -0.       0.       0.       0.\n",
      "  -0.     ]\n",
      " [ 0.57735 -0.      -0.8165  -0.       0.      -0.       0.       0.\n",
      "  -0.     ]\n",
      " [ 0.57735  0.70711  0.40825  0.       0.       0.      -0.      -0.\n",
      "  -0.     ]\n",
      " [-0.      -0.      -0.       0.57735 -0.70711  0.40825  0.      -0.\n",
      "  -0.     ]\n",
      " [-0.      -0.      -0.       0.57735 -0.      -0.8165  -0.      -0.\n",
      "   0.     ]\n",
      " [-0.      -0.      -0.       0.57735  0.70711  0.40825  0.       0.\n",
      "   0.     ]\n",
      " [ 0.      -0.      -0.       0.      -0.       0.       0.40825 -0.70711\n",
      "   0.57735]\n",
      " [ 0.      -0.       0.      -0.       0.      -0.      -0.8165  -0.\n",
      "   0.57735]\n",
      " [ 0.       0.       0.       0.       0.      -0.       0.40825  0.70711\n",
      "   0.57735]]\n",
      "======================================== AutoDiffPotential =========================================\n",
      "Execution time for principle axis method:\n",
      "6.22 ms ± 54.3 µs per loop (mean ± std. dev. of 7 runs, 100 loops each)\n",
      "Equilibrium Position (micron):[-15.89995   0.       15.89995]\n",
      "Eigenfrequencies (MHz):[2.51327 2.4625  2.38959 2.26195 2.20539 2.12368 1.21055 0.87062 0.50265]\n",
      "Eigenvectors:\n",
      "[[ 0.57735 -0.70711  0.40825 -0.      -0.      -0.       0.       0.\n",
      "  -0.     ]\n",
      " [ 0.57735 -0.      -0.8165   0.       0.       0.       0.       0.\n",
      "  -0.     ]\n",
      " [ 0.57735  0.70711  0.40825 -0.      -0.      -0.      -0.      -0.\n",
      "  -0.     ]\n",
      " [ 0.       0.       0.       0.57735  0.70711  0.40825  0.      -0.\n",
      "   0.     ]\n",
      " [ 0.       0.       0.       0.57735  0.      -0.8165  -0.      -0.\n",
      "   0.     ]\n",
      " [-0.      -0.       0.       0.57735 -0.70711  0.40825  0.       0.\n",
      "   0.     ]\n",
      " [ 0.      -0.      -0.      -0.      -0.      -0.       0.40825 -0.70711\n",
      "   0.57735]\n",
      " [ 0.      -0.       0.       0.       0.      -0.      -0.8165  -0.\n",
      "   0.57735]\n",
      " [ 0.       0.       0.       0.      -0.       0.       0.40825  0.70711\n",
      "   0.57735]]\n"
     ]
    }
   ],
   "source": [
    "ti_pp = trical.classes.TrappedIons(N, pp, m=mass)\n",
    "ti_pfp = trical.classes.TrappedIons(N, pfp, m=mass)\n",
    "ti_sp = trical.classes.TrappedIons(N, sp, m=mass)\n",
    "ti_asp = trical.classes.TrappedIons(N, asp, m=mass)\n",
    "ti_adp = trical.classes.TrappedIons(N, adp, m=mass)\n",
    "\n",
    "print(\"{:=^100}\".format(\" PolynomialPotential \"))\n",
    "print(\"{}:\".format(\"Execution time for principle axis method\"))\n",
    "%timeit ti_pp.principle_axis()\n",
    "print(\"{}:{}\".format(\"Equilibrium Position (micron)\", np.round(ti_pp.x_ep[:, 2] * 1e6, 5)))\n",
    "print(\"{}:{}\".format(\"Eigenfrequencies (MHz)\", np.round(ti_pp.w_pa / 1e6, 5)))\n",
    "print(\"{}:\".format(\"Eigenvectors\"))\n",
    "print(np.round(ti_pp.b_pa, 5))\n",
    "\n",
    "print(\"{:=^100}\".format(\" Fitted PolynomialPotential \"))\n",
    "print(\"{}:\".format(\"Execution time for principle axis method\"))\n",
    "%timeit ti_pfp.principle_axis()\n",
    "print(\n",
    "    \"{}:{}\".format(\n",
    "        \"Equilibrium Position (micron)\", np.round(ti_pfp.x_ep[:, 2] * 1e6, 5)\n",
    "    )\n",
    ")\n",
    "print(\"{}:{}\".format(\"Eigenfrequencies (MHz)\", np.round(ti_pfp.w_pa / 1e6, 5)))\n",
    "print(\"{}:\".format(\"Eigenvectors\"))\n",
    "print(np.round(ti_pfp.b_pa, 5))\n",
    "\n",
    "print(\"{:=^100}\".format(\" SymbolicPotential \"))\n",
    "print(\"{}:\".format(\"Execution time for principle axis method\"))\n",
    "%timeit ti_sp.principle_axis()\n",
    "print(\"{}:{}\".format(\"Equilibrium Position (micron)\", np.round(ti_sp.x_ep[:, 2] * 1e6, 5)))\n",
    "print(\"{}:{}\".format(\"Eigenfrequencies (MHz)\", np.round(ti_sp.w_pa / 1e6, 5)))\n",
    "print(\"{}:\".format(\"Eigenvectors\"))\n",
    "print(np.round(ti_sp.b_pa, 5))\n",
    "\n",
    "print(\"{:=^100}\".format(\" AdvancedSymbolicPotential \"))\n",
    "print(\"{}:\".format(\"Execution time for principle axis method\"))\n",
    "%timeit ti_asp.principle_axis()\n",
    "print(\n",
    "    \"{}:{}\".format(\n",
    "        \"Equilibrium Position (micron)\", np.round(ti_asp.x_ep[:, 2] * 1e6, 5)\n",
    "    )\n",
    ")\n",
    "print(\"{}:{}\".format(\"Eigenfrequencies (MHz)\", np.round(ti_asp.w_pa / 1e6, 5)))\n",
    "print(\"{}:\".format(\"Eigenvectors\"))\n",
    "print(np.round(ti_asp.b_pa, 5))\n",
    "\n",
    "print(\"{:=^100}\".format(\" AutoDiffPotential \"))\n",
    "print(\"{}:\".format(\"Execution time for principle axis method\"))\n",
    "%timeit ti_adp.principle_axis()\n",
    "print(\"{}:{}\".format(\"Equilibrium Position (micron)\", np.round(ti_adp.x_ep[:, 2] * 1e6, 5)))\n",
    "print(\"{}:{}\".format(\"Eigenfrequencies (MHz)\", np.round(ti_adp.w_pa / 1e6, 5)))\n",
    "print(\"{}:\".format(\"Eigenvectors\"))\n",
    "print(np.round(ti_adp.b_pa, 5))"
   ]
  },
  {
   "cell_type": "code",
   "execution_count": 14,
   "metadata": {
    "ExecuteTime": {
     "end_time": "2020-06-15T21:46:51.954389Z",
     "start_time": "2020-06-15T21:46:28.897339Z"
    }
   },
   "outputs": [
    {
     "name": "stdout",
     "output_type": "stream",
     "text": [
      "===================================== GaussianOpticalPotential =====================================\n",
      "Execution time for principle axis method:\n",
      "7.41 ms ± 106 µs per loop (mean ± std. dev. of 7 runs, 100 loops each)\n",
      "Equilibrium Position (micron):[-15.89995   0.       15.89995]\n",
      "Eigenfrequencies (MHz):[2.5447  2.4625  2.42654 7.21141 2.21642 2.20539 6.95403 0.87062 0.80627]\n",
      "Eigenvectors:\n",
      "[[ 0.4389  -0.70711  0.5544  -0.      -0.      -0.      -0.       0.\n",
      "   0.     ]\n",
      " [ 0.78404 -0.      -0.6207   0.       0.       0.       0.      -0.\n",
      "  -0.     ]\n",
      " [ 0.4389   0.70711  0.5544  -0.      -0.      -0.       0.      -0.\n",
      "   0.     ]\n",
      " [-0.      -0.       0.       0.00429  0.70709  0.70711 -0.       0.\n",
      "   0.     ]\n",
      " [ 0.      -0.       0.       0.99998 -0.00607 -0.       0.      -0.\n",
      "   0.     ]\n",
      " [ 0.      -0.       0.       0.00429  0.70709 -0.70711  0.       0.\n",
      "  -0.     ]\n",
      " [ 0.       0.      -0.       0.      -0.      -0.       0.00847  0.70711\n",
      "   0.70706]\n",
      " [-0.       0.      -0.      -0.       0.      -0.      -0.99993  0.\n",
      "   0.01198]\n",
      " [-0.      -0.      -0.      -0.       0.      -0.       0.00847 -0.70711\n",
      "   0.70706]]\n",
      "===================================== SymbolicOpticalPotential =====================================\n",
      "Execution time for principle axis method:\n",
      "541 ms ± 4.04 ms per loop (mean ± std. dev. of 7 runs, 1 loop each)\n",
      "Equilibrium Position (micron):[-15.89995   0.       15.89995]\n",
      "Eigenfrequencies (MHz):[2.5447  2.4625  2.42654 7.21141 2.21642 2.20539 6.95403 0.87062 0.80627]\n",
      "Eigenvectors:\n",
      "[[ 0.4389  -0.70711  0.5544  -0.      -0.      -0.      -0.       0.\n",
      "   0.     ]\n",
      " [ 0.78404 -0.      -0.6207   0.       0.       0.       0.      -0.\n",
      "  -0.     ]\n",
      " [ 0.4389   0.70711  0.5544   0.      -0.      -0.       0.      -0.\n",
      "   0.     ]\n",
      " [-0.      -0.       0.       0.00429  0.70709  0.70711 -0.       0.\n",
      "   0.     ]\n",
      " [ 0.      -0.       0.       0.99998 -0.00607 -0.       0.      -0.\n",
      "   0.     ]\n",
      " [ 0.      -0.       0.       0.00429  0.70709 -0.70711  0.       0.\n",
      "  -0.     ]\n",
      " [ 0.       0.      -0.       0.      -0.      -0.       0.00847  0.70711\n",
      "   0.70706]\n",
      " [-0.       0.      -0.      -0.       0.      -0.      -0.99993  0.\n",
      "   0.01198]\n",
      " [-0.      -0.      -0.      -0.       0.      -0.       0.00847 -0.70711\n",
      "   0.70706]]\n",
      "========================================= OpticalPotential =========================================\n",
      "Execution time for principle axis method:\n",
      "15.3 ms ± 161 µs per loop (mean ± std. dev. of 7 runs, 100 loops each)\n",
      "Equilibrium Position (micron):[-15.89995   0.       15.89995]\n",
      "Eigenfrequencies (MHz):[2.5447  2.4625  2.42654 7.21141 2.21642 2.20539 6.95403 0.87062 0.80627]\n",
      "Eigenvectors:\n",
      "[[ 0.4389  -0.70711  0.5544  -0.      -0.      -0.      -0.       0.\n",
      "   0.     ]\n",
      " [ 0.78404  0.      -0.6207   0.       0.       0.       0.      -0.\n",
      "  -0.     ]\n",
      " [ 0.4389   0.70711  0.5544  -0.      -0.      -0.       0.      -0.\n",
      "   0.     ]\n",
      " [-0.      -0.       0.       0.00429  0.70709  0.70711 -0.       0.\n",
      "   0.     ]\n",
      " [ 0.      -0.       0.       0.99998 -0.00607  0.      -0.      -0.\n",
      "   0.     ]\n",
      " [ 0.      -0.       0.       0.00429  0.70709 -0.70711  0.       0.\n",
      "  -0.     ]\n",
      " [ 0.       0.      -0.       0.      -0.      -0.       0.00847  0.70711\n",
      "   0.70706]\n",
      " [-0.       0.      -0.       0.       0.      -0.      -0.99993 -0.\n",
      "   0.01198]\n",
      " [-0.      -0.      -0.      -0.       0.      -0.       0.00847 -0.70711\n",
      "   0.70706]]\n"
     ]
    }
   ],
   "source": [
    "ti_gop = trical.classes.TrappedIons(N, adp, gop, m=mass)\n",
    "ti_sop = trical.classes.TrappedIons(N, adp, sop, m=mass)\n",
    "ti_op = trical.classes.TrappedIons(N, adp, op, m=mass)\n",
    "\n",
    "print(\"{:=^100}\".format(\" GaussianOpticalPotential \"))\n",
    "print(\"{}:\".format(\"Execution time for principle axis method\"))\n",
    "%timeit ti_gop.principle_axis()\n",
    "print(\n",
    "    \"{}:{}\".format(\"Equilibrium Position (micron)\", np.round(ti_gop.x_ep[:, 2] * 1e6, 5))\n",
    ")\n",
    "print(\"{}:{}\".format(\"Eigenfrequencies (MHz)\", np.round(ti_gop.w_pa / 1e6, 5)))\n",
    "print(\"{}:\".format(\"Eigenvectors\"))\n",
    "print(np.round(ti_gop.b_pa, 5))\n",
    "\n",
    "print(\"{:=^100}\".format(\" SymbolicOpticalPotential \"))\n",
    "print(\"{}:\".format(\"Execution time for principle axis method\"))\n",
    "%timeit ti_sop.principle_axis()\n",
    "print(\n",
    "    \"{}:{}\".format(\n",
    "        \"Equilibrium Position (micron)\", np.round(ti_sop.x_ep[:, 2] * 1e6, 5)\n",
    "    )\n",
    ")\n",
    "print(\"{}:{}\".format(\"Eigenfrequencies (MHz)\", np.round(ti_sop.w_pa / 1e6, 5)))\n",
    "print(\"{}:\".format(\"Eigenvectors\"))\n",
    "print(np.round(ti_sop.b_pa, 5))\n",
    "\n",
    "print(\"{:=^100}\".format(\" OpticalPotential \"))\n",
    "print(\"{}:\".format(\"Execution time for principle axis method\"))\n",
    "%timeit ti_op.principle_axis()\n",
    "print(\n",
    "    \"{}:{}\".format(\"Equilibrium Position (micron)\", np.round(ti_op.x_ep[:, 2] * 1e6, 5))\n",
    ")\n",
    "print(\"{}:{}\".format(\"Eigenfrequencies (MHz)\", np.round(ti_op.w_pa / 1e6, 5)))\n",
    "print(\"{}:\".format(\"Eigenvectors\"))\n",
    "print(np.round(ti_op.b_pa, 5))"
   ]
  },
  {
   "cell_type": "markdown",
   "metadata": {},
   "source": [
    "## SimulatedSpinLattice Class\n",
    "\n",
    "This class takes in a TrappedIons class and using the eigenmodes produces a Jij coupling matrix along some axis with the axis, wavelength, detuning and adressing being input parameters.\n"
   ]
  },
  {
   "cell_type": "code",
   "execution_count": 16,
   "metadata": {
    "ExecuteTime": {
     "end_time": "2020-06-15T21:47:31.468358Z",
     "start_time": "2020-06-15T21:47:31.164288Z"
    },
    "scrolled": false
   },
   "outputs": [
    {
     "data": {
      "text/plain": [
       "<matplotlib.colorbar.Colorbar at 0x219bfae3d08>"
      ]
     },
     "execution_count": 16,
     "metadata": {},
     "output_type": "execute_result"
    },
    {
     "data": {
      "image/png": "[encoded data removed]",
      "text/plain": [
       "<Figure size 1440x1080 with 4 Axes>"
      ]
     },
     "metadata": {
      "needs_background": "light"
     },
     "output_type": "display_data"
    }
   ],
   "source": [
    "wavelength = 355e-9\n",
    "\n",
    "detuning = 2 * np.pi * 1e3\n",
    "mu = np.array([np.array([ti_adp.w_pa[:N][i] + detuning]) for i in range(N)])\n",
    "omega = np.full((N, 1), 1e6)\n",
    "\n",
    "ssl = [\n",
    "    trical.classes.SimulatedSpinLattice(ti_adp, mu[i], omega, k=2 * np.pi / wavelength)\n",
    "    for i in range(N)\n",
    "]\n",
    "\n",
    "J = np.array([ssl[i].J for i in range(N)])\n",
    "\n",
    "norm = matplotlib.colors.Normalize(J.min(), J.max())\n",
    "sm = cm.ScalarMappable(norm, cmap=cm.viridis)\n",
    "sm.set_array(J)\n",
    "\n",
    "fig = plt.figure(figsize=(20, 15))\n",
    "ax = [fig.add_subplot(4, 3, i + 1) for i in range(N)]\n",
    "for i in range(N):\n",
    "    im = ax[i].imshow(J[i], cmap=cm.viridis, norm=norm)\n",
    "    ax[i].set_xticks(np.arange(N))\n",
    "    ax[i].set_yticks(np.arange(N))\n",
    "    ax[i].set_xticklabels(np.arange(N) + 1)\n",
    "    ax[i].set_yticklabels(np.arange(N) + 1)\n",
    "    ax[i].set_xlabel(r\"$j$\", labelpad=15)\n",
    "    ax[i].set_ylabel(r\"$i$\", labelpad=15)\n",
    "fig.colorbar(sm, ax=ax, label=r\"$J$\")"
   ]
  },
  {
   "cell_type": "markdown",
   "metadata": {},
   "source": [
    "\n",
    "\n",
    "\n",
    "\n",
    "\n",
    "\n",
    "\n",
    "\n",
    "\n",
    "\n",
    "\n",
    "\n",
    "\n",
    "\n",
    "\n",
    "\n",
    "\n",
    "\n"
   ]
  },
  {
   "cell_type": "code",
   "execution_count": 17,
   "metadata": {
    "ExecuteTime": {
     "end_time": "2020-06-15T21:47:45.813616Z",
     "start_time": "2020-06-15T21:47:45.469538Z"
    }
   },
   "outputs": [
    {
     "data": {
      "text/plain": [
       "<matplotlib.colorbar.Colorbar at 0x219bfbddec8>"
      ]
     },
     "execution_count": 17,
     "metadata": {},
     "output_type": "execute_result"
    },
    {
     "data": {
      "image/png": "[encoded data removed]",
      "text/plain": [
       "<Figure size 1440x1080 with 4 Axes>"
      ]
     },
     "metadata": {
      "needs_background": "light"
     },
     "output_type": "display_data"
    }
   ],
   "source": [
    "wavelength = 355e-9\n",
    "\n",
    "detuning = 2 * np.pi * 1e3\n",
    "mu = np.array([np.array([ti_gop.w_pa[:N][i] + detuning]) for i in range(N)])\n",
    "omega = np.full((N, 1), 1e6)\n",
    "\n",
    "ssl = [\n",
    "    trical.classes.SimulatedSpinLattice(ti_gop, mu[i], omega, k=2 * np.pi / wavelength)\n",
    "    for i in range(N)\n",
    "]\n",
    "\n",
    "J = np.array([ssl[i].J for i in range(N)])\n",
    "\n",
    "norm = matplotlib.colors.Normalize(J.min(), J.max())\n",
    "sm = cm.ScalarMappable(norm, cmap=cm.viridis)\n",
    "sm.set_array(J)\n",
    "\n",
    "fig = plt.figure(figsize=(20, 15))\n",
    "ax = [fig.add_subplot(4, 3, i + 1) for i in range(N)]\n",
    "for i in range(N):\n",
    "    im = ax[i].imshow(J[i], cmap=cm.viridis, norm=norm)\n",
    "    ax[i].set_xticks(np.arange(N))\n",
    "    ax[i].set_yticks(np.arange(N))\n",
    "    ax[i].set_xticklabels(np.arange(N) + 1)\n",
    "    ax[i].set_yticklabels(np.arange(N) + 1)\n",
    "    ax[i].set_xlabel(r\"$j$\", labelpad=15)\n",
    "    ax[i].set_ylabel(r\"$i$\", labelpad=15)\n",
    "fig.colorbar(sm, ax=ax, label=r\"$J$\")"
   ]
  },
  {
   "cell_type": "code",
   "execution_count": null,
   "metadata": {},
   "outputs": [],
   "source": []
  }
 ],
 "metadata": {
  "kernelspec": {
   "display_name": "Python 3",
   "language": "python",
   "name": "python3"
  },
  "language_info": {
   "codemirror_mode": {
    "name": "ipython",
    "version": 3
   },
   "file_extension": ".py",
   "mimetype": "text/x-python",
   "name": "python",
   "nbconvert_exporter": "python",
   "pygments_lexer": "ipython3",
   "version": "3.7.6"
  },
  "latex_envs": {
   "LaTeX_envs_menu_present": true,
   "autoclose": false,
   "autocomplete": true,
   "bibliofile": "biblio.bib",
   "cite_by": "apalike",
   "current_citInitial": 1,
   "eqLabelWithNumbers": true,
   "eqNumInitial": 1,
   "hotkeys": {
    "equation": "Ctrl-E",
    "itemize": "Ctrl-I"
   },
   "labels_anchors": false,
   "latex_user_defs": false,
   "report_style_numbering": false,
   "user_envs_cfg": false
  },
  "toc": {
   "base_numbering": 1,
   "nav_menu": {},
   "number_sections": true,
   "sideBar": true,
   "skip_h1_title": false,
   "title_cell": "Table of Contents",
   "title_sidebar": "Contents",
   "toc_cell": false,
   "toc_position": {
    "height": "calc(100% - 180px)",
    "left": "10px",
    "top": "150px",
    "width": "333px"
   },
   "toc_section_display": true,
   "toc_window_display": true
  }
 },
 "nbformat": 4,
 "nbformat_minor": 2
}
