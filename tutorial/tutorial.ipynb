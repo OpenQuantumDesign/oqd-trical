{
 "cells": [
  {
   "cell_type": "markdown",
   "metadata": {},
   "source": [
    "# TrICal Trapped Ion Calculator\n",
    "\n",
    "This is a package for simulating a chain of trapped ions. The aim of this package is to remove the need for rewriting the same code to calculate equilibrium spacing, normal modes, and $J_{ij}$ every time a trap is being designed.\n",
    "\n",
    "## Class Structure\n",
    "![class structure](class_structure.png)\n",
    "\n",
    "The basic form of the class structure is shown in the diagram. Typically in an ion trap there are three major terms in the potential; the DC part, the RF part and the coulomb part. In this code the user will input the DC and RF parts into the potential class. For the RF potential the pondermotive approximation will have to be taken before inputing the potential into the code. \n",
    "\n",
    "## Usage\n",
    "\n",
    "The typical usage for this code will be to find the normal modes and frequencies for a given trap and for a given set of voltage applied to the trap electrodes. The potential around the centre of the trap is should be calculated via an appropriate method. The results of that calculation can then be input into the Potential class via three methods. The potential class is then used to calculate equilibrium spacing and normal modes. These are in turn fed into the SimulatedSpinLattice class to get out $J_{ij}$ coefficients."
   ]
  },
  {
   "cell_type": "code",
   "execution_count": 15,
   "metadata": {
    "ExecuteTime": {
     "end_time": "2019-12-18T20:32:08.558597Z",
     "start_time": "2019-12-18T20:32:08.553144Z"
    }
   },
   "outputs": [],
   "source": [
    "import os\n",
    "import sys\n",
    "\n",
    "sys.path.append(os.path.abspath(\"../\"))\n",
    "\n",
    "import matplotlib\n",
    "from matplotlib import cm\n",
    "import matplotlib.colors\n",
    "import matplotlib.pyplot as plt\n",
    "import numpy as np\n",
    "import sympy as sym\n",
    "import trical\n",
    "from trical.misc.constants import m_a\n",
    "from trical.misc.polynomial import multivariate_polyfit"
   ]
  },
  {
   "cell_type": "code",
   "execution_count": 2,
   "metadata": {
    "ExecuteTime": {
     "end_time": "2019-12-18T20:29:04.268957Z",
     "start_time": "2019-12-18T20:29:04.264494Z"
    }
   },
   "outputs": [],
   "source": [
    "matplotlib.rcParams[\"text.usetex\"] = True\n",
    "matplotlib.rcParams[\"font.family\"] = \"sans\"\n",
    "matplotlib.rcParams[\"font.size\"] = 15"
   ]
  },
  {
   "cell_type": "markdown",
   "metadata": {},
   "source": [
    "## Potential Class\n",
    "The potential class represents a potential applied to the trapped ion system. <br />\n",
    "Requirements of the potential class are functions corresponding to:\n",
    "$$\n",
    "U,\\frac{\\partial U}{\\partial a_i},\\frac{\\partial^2 U}{\\partial a_i \\partial b_j}  \n",
    "$$"
   ]
  },
  {
   "cell_type": "code",
   "execution_count": 3,
   "metadata": {
    "ExecuteTime": {
     "end_time": "2019-12-18T20:29:04.286815Z",
     "start_time": "2019-12-18T20:29:04.271438Z"
    }
   },
   "outputs": [
    {
     "name": "stdout",
     "output_type": "stream",
     "text": [
      "Gradient of the potential: [1. 1. 1. 1. 1. 1. 1. 1. 1.]\n",
      "Hessian of the potential:\n",
      "[[0. 0. 0. 0. 0. 0. 0. 0. 0.]\n",
      " [0. 0. 0. 0. 0. 0. 0. 0. 0.]\n",
      " [0. 0. 0. 0. 0. 0. 0. 0. 0.]\n",
      " [0. 0. 0. 0. 0. 0. 0. 0. 0.]\n",
      " [0. 0. 0. 0. 0. 0. 0. 0. 0.]\n",
      " [0. 0. 0. 0. 0. 0. 0. 0. 0.]\n",
      " [0. 0. 0. 0. 0. 0. 0. 0. 0.]\n",
      " [0. 0. 0. 0. 0. 0. 0. 0. 0.]\n",
      " [0. 0. 0. 0. 0. 0. 0. 0. 0.]]\n"
     ]
    }
   ],
   "source": [
    "N = 3\n",
    "dim = 3\n",
    "\n",
    "def phi(x):\n",
    "    x = np.array(x)\n",
    "    return x.sum()\n",
    "\n",
    "\n",
    "def dphi(var):\n",
    "    def dphi_dai(x):\n",
    "        return 1\n",
    "\n",
    "    return dphi_dai\n",
    "\n",
    "\n",
    "def d2phi(var1, var2):\n",
    "    def d2phi_daidbj(x):\n",
    "        return 0\n",
    "\n",
    "    return d2phi_daidbj\n",
    "\n",
    "\n",
    "U = trical.classes.Potential(phi, dphi, d2phi, N=N, dim=dim)\n",
    "\n",
    "U_grad = U.gradient()\n",
    "U_hess = U.hessian()\n",
    "\n",
    "x = np.random.rand(N, dim)\n",
    "\n",
    "print(\"Gradient of the potential:\", U_grad(x))\n",
    "print(\"Hessian of the potential:\")\n",
    "print(U_hess(x))"
   ]
  },
  {
   "cell_type": "markdown",
   "metadata": {},
   "source": [
    "### CoulombPotential Subclass"
   ]
  },
  {
   "cell_type": "markdown",
   "metadata": {
    "ExecuteTime": {
     "end_time": "2019-12-18T16:49:43.215503Z",
     "start_time": "2019-12-18T16:49:43.207039Z"
    }
   },
   "source": [
    "The CoulombPotential subclass of Potential represents the coulomb interaction between the ions in the trapped ion system.\n",
    "$$\n",
    "U(\\{\\vec{x}_n\\}_n) = \\sum_{i \\neq j} \\frac{q^2}{4 \\pi \\epsilon_0} \\frac{1}{||\\vec{x}_i - \\vec{x}_j||_2}\n",
    "$$"
   ]
  },
  {
   "cell_type": "code",
   "execution_count": 4,
   "metadata": {
    "ExecuteTime": {
     "end_time": "2019-12-18T20:29:04.294281Z",
     "start_time": "2019-12-18T20:29:04.289294Z"
    }
   },
   "outputs": [],
   "source": [
    "U_coulomb = trical.classes.CoulombPotential(N,dim=dim)"
   ]
  },
  {
   "cell_type": "markdown",
   "metadata": {},
   "source": [
    "### PolynomialPotential Subclass\n",
    "\n",
    "The PolynomialPotential approximates your trapping potential in the region around the ion chain with the following multivariate polynomial:\n",
    "$$\n",
    "    U \\,(x,y,z) = \\sum_{ijk} \\alpha_{ijk}  x^iy^jz^k\n",
    "$$\n",
    "\n",
    "\n",
    "There are three ways to effectivly input the alpha values for your potential. To demonstrate all three methods the same trapping potential with $\\omega_x = 2\\pi\\times6$MHz, $\\omega_y = 2\\pi\\times5$MHz, and $\\omega_z = 2\\pi\\times1$MHz will be entered via all three methods. This potential written in full is:\n",
    "$$\n",
    "    U(x, y, z) = \\alpha_{2,0,0}x^2 + \\alpha_{0,2,0}y^2 + \\alpha_{0,0,2}z^2\n",
    "$$\n",
    "\n"
   ]
  },
  {
   "cell_type": "markdown",
   "metadata": {},
   "source": [
    "The first is to directly input the alpha values in a $N\\times N \\times N$ matrix. The matrix must be the same dimention in every axis. This is shown bellow where in the p matrix the index indicates the power in $x$, $y$, or $z$."
   ]
  },
  {
   "cell_type": "code",
   "execution_count": 5,
   "metadata": {
    "ExecuteTime": {
     "end_time": "2019-12-18T20:29:04.305689Z",
     "start_time": "2019-12-18T20:29:04.296760Z"
    }
   },
   "outputs": [
    {
     "name": "stdout",
     "output_type": "stream",
     "text": [
      "[[[0.00000000e+00 0.00000000e+00 5.60290428e-12]\n",
      "  [0.00000000e+00 0.00000000e+00 0.00000000e+00]\n",
      "  [5.60290428e-10 0.00000000e+00 0.00000000e+00]]\n",
      "\n",
      " [[0.00000000e+00 0.00000000e+00 0.00000000e+00]\n",
      "  [0.00000000e+00 0.00000000e+00 0.00000000e+00]\n",
      "  [0.00000000e+00 0.00000000e+00 0.00000000e+00]]\n",
      "\n",
      " [[2.24116171e-09 0.00000000e+00 0.00000000e+00]\n",
      "  [0.00000000e+00 0.00000000e+00 0.00000000e+00]\n",
      "  [0.00000000e+00 0.00000000e+00 0.00000000e+00]]]\n"
     ]
    }
   ],
   "source": [
    "mass = m_a[\"Yb171\"]\n",
    "omega_x = 2 * np.pi * 2e7  # Hz\n",
    "omega_y = 2 * np.pi * 1e7  # Hz\n",
    "omega_z = 2 * np.pi * 1e6  # Hz\n",
    "\n",
    "# Potential in Joules\n",
    "alpha = np.zeros((3, 3, 3))\n",
    "alpha[2, 0, 0] = mass * (omega_x) ** 2 / 2  # alpha_2,0,0\n",
    "alpha[0, 2, 0] = mass * (omega_y) ** 2 / 2  # alpha_0,2,0\n",
    "alpha[0, 0, 2] = mass * (omega_z) ** 2 / 2  # alpha_0,0,2\n",
    "\n",
    "U_poly = trical.classes.PolynomialPotential(alpha)\n",
    "print(alpha)"
   ]
  },
  {
   "cell_type": "markdown",
   "metadata": {},
   "source": [
    "#### Fitting to a PolynomialPotential\n",
    "Finally the third method of defining a potential is to give a grid of points with the potential at each point. This grid will then be fit with polynomial and the coefficients of the polynomial will be returned in a format that can be submitted to the PolynomialPotential class via the first example method.\n",
    "\n",
    "The format for submitting the grid to the fitting function is in two arrays. The first is a list of \\[x,y,z\\] positions, and the second is a list of the value of the potential at each point."
   ]
  },
  {
   "cell_type": "code",
   "execution_count": 6,
   "metadata": {
    "ExecuteTime": {
     "end_time": "2019-12-18T20:29:05.666685Z",
     "start_time": "2019-12-18T20:29:04.307653Z"
    }
   },
   "outputs": [
    {
     "name": "stdout",
     "output_type": "stream",
     "text": [
      "[[[-1.31910810e-29  6.21748990e-25  5.60290428e-12]\n",
      "  [ 2.49421172e-25  1.44099424e-25  1.32961206e-22]\n",
      "  [ 5.60290428e-10 -1.73601203e-22  6.74034476e-18]]\n",
      "\n",
      " [[-7.23047099e-26 -2.06422326e-25 -8.48736698e-22]\n",
      "  [-7.05547824e-25 -2.40858483e-21  1.27287429e-17]\n",
      "  [-4.79328184e-21  2.61298968e-17  3.75087188e-18]]\n",
      "\n",
      " [[ 2.24116171e-09 -1.91024155e-21  9.24702272e-18]\n",
      "  [-4.80063648e-20 -3.78806574e-18  1.47547951e-19]\n",
      "  [ 5.88202548e-17 -4.93798168e-20 -7.64986819e-20]]]\n"
     ]
    }
   ],
   "source": [
    "I_x = np.linspace(-2e-4, 2e-4, 81)\n",
    "I_y = np.linspace(-2e-4, 2e-4, 81)\n",
    "I_z = np.linspace(-5e-4, 5e-4, 201)\n",
    "\n",
    "r = np.array(np.meshgrid(I_x, I_y, I_z))\n",
    "r = r.reshape(3, -1).transpose()\n",
    "\n",
    "f = lambda x, y, z: np.polynomial.polynomial.polyval3d(x, y, z, alpha)\n",
    "\n",
    "U_r = f(*r.transpose())\n",
    "\n",
    "l = 1e-6\n",
    "deg = (2, 2, 2)\n",
    "alpha_fit = multivariate_polyfit(r, U_r, deg)\n",
    "print(alpha_fit)\n",
    "\n",
    "U_polyfit = trical.classes.PolynomialPotential(alpha_fit)"
   ]
  },
  {
   "cell_type": "markdown",
   "metadata": {},
   "source": [
    "### SymbolicPotential Subclass\n",
    "The second method is to insert a symbolic expression using sympy for the potential. This is intended to be useful when you have an analyitical expression for your trapping potential. Using the same potential as the first example."
   ]
  },
  {
   "cell_type": "code",
   "execution_count": 7,
   "metadata": {
    "ExecuteTime": {
     "end_time": "2019-12-18T20:29:05.686029Z",
     "start_time": "2019-12-18T20:29:05.669164Z"
    },
    "scrolled": true
   },
   "outputs": [
    {
     "name": "stdout",
     "output_type": "stream",
     "text": [
      "2.24116171324625e-9*x**2 + 5.60290428311563e-10*y**2 + 5.60290428311563e-12*z**2\n"
     ]
    }
   ],
   "source": [
    "import sympy as sym\n",
    "\n",
    "x, y, z = sym.symbols(\"x, y ,z\")\n",
    "expr = (\n",
    "    mass * (omega_x) ** 2 / 2 * x ** 2\n",
    "    + mass * (omega_y) ** 2 / 2 * y ** 2\n",
    "    + mass * (omega_z) ** 2 / 2 * z ** 2\n",
    ")\n",
    "print(expr)\n",
    "\n",
    "U_sym = trical.classes.SymbolicPotential(expr)"
   ]
  },
  {
   "cell_type": "markdown",
   "metadata": {},
   "source": [
    "## TrappedIons Class\n",
    "\n",
    "This class calculates the equilibrium positions, normal modes, and frequencies of a given number of ions and trapping potential. The method of inputing the potential should not have any bearing on the equilibrum position. Using the equilibrium_position funciton we can see that all three input methods give the same positions in z."
   ]
  },
  {
   "cell_type": "code",
   "execution_count": 14,
   "metadata": {
    "ExecuteTime": {
     "end_time": "2019-12-18T20:30:12.819362Z",
     "start_time": "2019-12-18T20:30:12.782658Z"
    }
   },
   "outputs": [
    {
     "name": "stdout",
     "output_type": "stream",
     "text": [
      "PolynomialPotential       :[-2.95251 -0.       2.95251]\n",
      "Fitted PolynomialPotential:[-2.95253 -0.       2.95253]\n",
      "SymbolicPotential         :[-2.95253 -0.       2.95253]\n"
     ]
    }
   ],
   "source": [
    "ti_poly = trical.classes.TrappedIons(N, U_poly, m=mass)\n",
    "ti_polyfit = trical.classes.TrappedIons(N, U_polyfit, m=mass)\n",
    "ti_sym = trical.classes.TrappedIons(N, U_sym, m=mass)\n",
    "\n",
    "ti_poly.equilibrium_position()\n",
    "ti_polyfit.equilibrium_position()\n",
    "ti_sym.equilibrium_position()\n",
    "\n",
    "print(\"{:<26}:{}\".format(\"PolynomialPotential\", np.round(ti_poly.x_ep[:, 2] * 1e6, 5)))\n",
    "print(\n",
    "    \"{:<26}:{}\".format(\n",
    "        \"Fitted PolynomialPotential\", np.round(ti_polyfit.x_ep[:, 2] * 1e6, 5)\n",
    "    )\n",
    ")\n",
    "print(\"{:<26}:{}\".format(\"SymbolicPotential\", np.round(ti_sym.x_ep[:, 2] * 1e6, 5)))"
   ]
  },
  {
   "cell_type": "code",
   "execution_count": 9,
   "metadata": {
    "ExecuteTime": {
     "end_time": "2019-12-18T20:29:05.790685Z",
     "start_time": "2019-12-18T20:29:05.746541Z"
    },
    "scrolled": false
   },
   "outputs": [
    {
     "name": "stdout",
     "output_type": "stream",
     "text": [
      "Normal mode frequencies:\n",
      "[1.257e+08 1.255e+08 1.253e+08 6.280e+07 6.250e+07 6.210e+07 1.510e+07\n",
      " 1.090e+07 6.300e+06]\n",
      "Normal mode eigenvectors:\n",
      "[[ 0.577 -0.707  0.408 -0.    -0.    -0.     0.     0.     0.   ]\n",
      " [ 0.577  0.    -0.816  0.     0.     0.    -0.    -0.    -0.   ]\n",
      " [ 0.577  0.707  0.408 -0.    -0.    -0.     0.     0.     0.   ]\n",
      " [ 0.     0.     0.     0.577  0.707  0.408  0.     0.    -0.   ]\n",
      " [-0.    -0.    -0.     0.577 -0.    -0.816 -0.    -0.     0.   ]\n",
      " [ 0.     0.     0.     0.577 -0.707  0.408 -0.     0.     0.   ]\n",
      " [-0.    -0.    -0.     0.    -0.    -0.     0.408  0.707  0.577]\n",
      " [ 0.     0.     0.     0.    -0.    -0.    -0.816 -0.     0.577]\n",
      " [ 0.     0.     0.     0.    -0.    -0.     0.408 -0.707  0.577]]\n",
      "Principle axes:\n",
      "[[ 1.  0. -0.]\n",
      " [-0.  1.  0.]\n",
      " [ 0.  0.  1.]]\n",
      "Normal mode frequencies:\n",
      "[1.257e+08 1.255e+08 1.253e+08 6.280e+07 6.250e+07 6.210e+07 1.510e+07\n",
      " 1.090e+07 6.300e+06]\n",
      "Coordinate transformed normal mode eigenvectors:\n",
      "[[ 0.577 -0.707  0.408 -0.     0.     0.    -0.    -0.    -0.   ]\n",
      " [ 0.577  0.    -0.816  0.     0.     0.     0.    -0.    -0.   ]\n",
      " [ 0.577  0.707  0.408 -0.    -0.    -0.     0.     0.    -0.   ]\n",
      " [-0.    -0.    -0.     0.577  0.707  0.408  0.     0.     0.   ]\n",
      " [ 0.     0.     0.     0.577 -0.    -0.816 -0.    -0.     0.   ]\n",
      " [ 0.     0.     0.     0.577 -0.707  0.408  0.    -0.     0.   ]\n",
      " [-0.    -0.    -0.     0.    -0.    -0.     0.408  0.707  0.577]\n",
      " [ 0.     0.     0.     0.    -0.    -0.    -0.816 -0.     0.577]\n",
      " [ 0.     0.     0.     0.    -0.    -0.     0.408 -0.707  0.577]]\n"
     ]
    }
   ],
   "source": [
    "ti_poly.normal_modes()\n",
    "print(\"Normal mode frequencies:\")\n",
    "print(np.round(ti_poly.w,-5))\n",
    "print(\"Normal mode eigenvectors:\")\n",
    "print(np.round(ti_poly.b,3))\n",
    "\n",
    "ti_poly.principle_axis()\n",
    "print(\"Principle axes:\")\n",
    "print(np.round(ti_poly.x_pa,3))\n",
    "print(\"Normal mode frequencies:\")\n",
    "print(np.round(ti_poly.w_pa,-5))\n",
    "print(\"Coordinate transformed normal mode eigenvectors:\")\n",
    "print(np.round(ti_poly.b_pa,3))"
   ]
  },
  {
   "cell_type": "markdown",
   "metadata": {},
   "source": [
    "## SimulatedSpinLattice \n",
    "\n",
    "This class takes in a TrappedIons class and using the eigen frequencies produces a Jij coupling matrix along some axis with the axis, wavelength, detuning and adressing being input parameters.\n"
   ]
  },
  {
   "cell_type": "code",
   "execution_count": 10,
   "metadata": {
    "ExecuteTime": {
     "end_time": "2019-12-18T20:29:07.556712Z",
     "start_time": "2019-12-18T20:29:05.794654Z"
    },
    "scrolled": false
   },
   "outputs": [
    {
     "data": {
      "text/plain": [
       "<matplotlib.colorbar.Colorbar at 0x1ed00920080>"
      ]
     },
     "execution_count": 10,
     "metadata": {},
     "output_type": "execute_result"
    },
    {
     "data": {
      "image/png": "[encoded data removed]",
      "text/plain": [
       "<Figure size 1440x1080 with 4 Axes>"
      ]
     },
     "metadata": {
      "needs_background": "light"
     },
     "output_type": "display_data"
    }
   ],
   "source": [
    "wavelength = 355e-9\n",
    "\n",
    "detuning = 2 * np.pi * 1e4\n",
    "mu = np.array([np.array([ti_poly.w_pa[:N][i] + detuning]) for i in range(N)])\n",
    "omega = np.full((N, 1), 1e6)\n",
    "\n",
    "ssl = [\n",
    "    trical.classes.SimulatedSpinLattice(ti_poly, mu[i], omega, k=2 * np.pi / wavelength)\n",
    "    for i in range(N)\n",
    "]\n",
    "\n",
    "J = np.array([ssl[i].J for i in range(N)])\n",
    "\n",
    "norm = matplotlib.colors.Normalize(J.min(), J.max())\n",
    "sm = cm.ScalarMappable(norm, cmap=cm.viridis)\n",
    "sm.set_array(J)\n",
    "\n",
    "fig = plt.figure(figsize=(20, 15))\n",
    "ax = [fig.add_subplot(4, 3, i + 1) for i in range(N)]\n",
    "for i in range(N):\n",
    "    im = ax[i].imshow(J[i], cmap=cm.viridis, norm=norm)\n",
    "    ax[i].set_xticks(np.arange(N))\n",
    "    ax[i].set_yticks(np.arange(N))\n",
    "    ax[i].set_xticklabels(np.arange(N) + 1)\n",
    "    ax[i].set_yticklabels(np.arange(N) + 1)\n",
    "fig.colorbar(sm, ax=ax)"
   ]
  },
  {
   "cell_type": "markdown",
   "metadata": {},
   "source": [
    "\n",
    "\n",
    "\n",
    "\n",
    "\n",
    "\n",
    "\n",
    "\n",
    "\n",
    "\n",
    "\n",
    "\n",
    "\n",
    "\n",
    "\n",
    "\n",
    "\n",
    "\n"
   ]
  }
 ],
 "metadata": {
  "kernelspec": {
   "display_name": "Python 3",
   "language": "python",
   "name": "python3"
  },
  "language_info": {
   "codemirror_mode": {
    "name": "ipython",
    "version": 3
   },
   "file_extension": ".py",
   "mimetype": "text/x-python",
   "name": "python",
   "nbconvert_exporter": "python",
   "pygments_lexer": "ipython3",
   "version": "3.7.3"
  },
  "latex_envs": {
   "LaTeX_envs_menu_present": true,
   "autoclose": false,
   "autocomplete": true,
   "bibliofile": "biblio.bib",
   "cite_by": "apalike",
   "current_citInitial": 1,
   "eqLabelWithNumbers": true,
   "eqNumInitial": 1,
   "hotkeys": {
    "equation": "Ctrl-E",
    "itemize": "Ctrl-I"
   },
   "labels_anchors": false,
   "latex_user_defs": false,
   "report_style_numbering": false,
   "user_envs_cfg": false
  },
  "toc": {
   "base_numbering": 1,
   "nav_menu": {},
   "number_sections": true,
   "sideBar": true,
   "skip_h1_title": false,
   "title_cell": "Table of Contents",
   "title_sidebar": "Contents",
   "toc_cell": false,
   "toc_position": {
    "height": "calc(100% - 180px)",
    "left": "10px",
    "top": "150px",
    "width": "235px"
   },
   "toc_section_display": true,
   "toc_window_display": true
  }
 },
 "nbformat": 4,
 "nbformat_minor": 2
}
