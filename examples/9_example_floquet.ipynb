{
 "cells": [
  {
   "cell_type": "markdown",
   "metadata": {},
   "source": [
    "## Imports\n"
   ]
  },
  {
   "cell_type": "code",
   "execution_count": 1,
   "metadata": {
    "execution": {
     "iopub.execute_input": "2025-02-24T00:04:57.419724Z",
     "iopub.status.busy": "2025-02-24T00:04:57.419575Z",
     "iopub.status.idle": "2025-02-24T00:04:59.449128Z",
     "shell.execute_reply": "2025-02-24T00:04:59.448319Z"
    }
   },
   "outputs": [],
   "source": [
    "import matplotlib\n",
    "import matplotlib.pyplot as plt\n",
    "import numpy as np\n",
    "from oqd_core.interface.atomic import (\n",
    "    AtomicCircuit,\n",
    "    Beam,\n",
    "    Ion,\n",
    "    Level,\n",
    "    Phonon,\n",
    "    Pulse,\n",
    "    SequentialProtocol,\n",
    "    System,\n",
    "    Transition,\n",
    ")\n",
    "\n",
    "from oqd_trical.backend import QutipBackend"
   ]
  },
  {
   "cell_type": "code",
   "execution_count": 2,
   "metadata": {
    "execution": {
     "iopub.execute_input": "2025-02-24T00:04:59.451338Z",
     "iopub.status.busy": "2025-02-24T00:04:59.451061Z",
     "iopub.status.idle": "2025-02-24T00:04:59.453990Z",
     "shell.execute_reply": "2025-02-24T00:04:59.453628Z"
    }
   },
   "outputs": [],
   "source": [
    "matplotlib.rcParams[\"figure.figsize\"] = (12, 8)\n",
    "matplotlib.rcParams[\"font.size\"] = 20\n",
    "matplotlib.rcParams[\"mathtext.fontset\"] = \"stix\"\n",
    "matplotlib.rcParams[\"font.family\"] = \"STIXGeneral\""
   ]
  },
  {
   "cell_type": "markdown",
   "metadata": {},
   "source": [
    "## Atomic Circuit\n"
   ]
  },
  {
   "cell_type": "code",
   "execution_count": 3,
   "metadata": {
    "execution": {
     "iopub.execute_input": "2025-02-24T00:04:59.455783Z",
     "iopub.status.busy": "2025-02-24T00:04:59.455612Z",
     "iopub.status.idle": "2025-02-24T00:04:59.462720Z",
     "shell.execute_reply": "2025-02-24T00:04:59.462243Z"
    }
   },
   "outputs": [],
   "source": [
    "downstate = Level(\n",
    "    principal=6,\n",
    "    spin=1 / 2,\n",
    "    orbital=0,\n",
    "    nuclear=1 / 2,\n",
    "    spin_orbital=1 / 2,\n",
    "    spin_orbital_nuclear=0,\n",
    "    spin_orbital_nuclear_magnetization=0,\n",
    "    energy=2 * np.pi * 0,\n",
    "    label=\"q0\",\n",
    ")\n",
    "estate = Level(\n",
    "    principal=5,\n",
    "    spin=1 / 2,\n",
    "    orbital=1,\n",
    "    nuclear=1 / 2,\n",
    "    spin_orbital=1 / 2,\n",
    "    spin_orbital_nuclear=1,\n",
    "    spin_orbital_nuclear_magnetization=-1,\n",
    "    energy=2 * np.pi * 100,\n",
    "    label=\"e0\",\n",
    ")\n",
    "\n",
    "transitions = [\n",
    "    Transition(\n",
    "        level1=downstate, level2=estate, einsteinA=1, multipole=\"E1\", label=\"q0->e0\"\n",
    "    ),\n",
    "]\n",
    "\n",
    "Yb171 = Ion(\n",
    "    mass=171,\n",
    "    charge=1,\n",
    "    position=[0, 0, 0],\n",
    "    levels=[downstate, estate],\n",
    "    transitions=transitions,\n",
    ")\n",
    "\n",
    "COM_x = Phonon(energy=2 * np.pi * 1, eigenvector=[1, 0, 0])\n",
    "\n",
    "system = System(\n",
    "    ions=[\n",
    "        Yb171,\n",
    "    ],\n",
    "    modes=[\n",
    "        COM_x,\n",
    "    ],\n",
    ")\n",
    "\n",
    "beam = Beam(\n",
    "    transition=transitions[0],\n",
    "    rabi=2 * np.pi * 0.1,\n",
    "    detuning=0,\n",
    "    phase=0,\n",
    "    polarization=[0, 1, 0],\n",
    "    wavevector=[1, 0, 0],\n",
    "    target=0,\n",
    ")\n",
    "\n",
    "beam2 = Beam(\n",
    "    transition=transitions[0],\n",
    "    rabi=2 * np.pi * 0.1,\n",
    "    detuning=0,\n",
    "    phase=np.pi,\n",
    "    polarization=[0, 1, 0],\n",
    "    wavevector=[1, 0, 0],\n",
    "    target=0,\n",
    ")\n",
    "\n",
    "T = 20\n",
    "step = 1\n",
    "\n",
    "protocol = SequentialProtocol(\n",
    "    sequence=[\n",
    "        Pulse(beam=beam, duration=step)\n",
    "        if i % 2 == 0\n",
    "        else Pulse(beam=beam2, duration=step)\n",
    "        for i in range(np.ceil(T // 0.5).astype(int))\n",
    "    ]\n",
    ")\n",
    "\n",
    "circuit = AtomicCircuit(system=system, protocol=protocol)"
   ]
  },
  {
   "cell_type": "markdown",
   "metadata": {},
   "source": [
    "### Serialization & Deserialization\n"
   ]
  },
  {
   "cell_type": "code",
   "execution_count": 4,
   "metadata": {
    "execution": {
     "iopub.execute_input": "2025-02-24T00:04:59.464203Z",
     "iopub.status.busy": "2025-02-24T00:04:59.464053Z",
     "iopub.status.idle": "2025-02-24T00:04:59.469977Z",
     "shell.execute_reply": "2025-02-24T00:04:59.469630Z"
    }
   },
   "outputs": [],
   "source": [
    "import json\n",
    "\n",
    "circuit_json = circuit.model_dump_json()\n",
    "circuit_json = json.dumps(json.loads(circuit_json), indent=2)\n",
    "\n",
    "with open(\"9_example_floquet.json\", \"w\") as f:\n",
    "    f.write(circuit_json)"
   ]
  },
  {
   "cell_type": "code",
   "execution_count": 5,
   "metadata": {
    "execution": {
     "iopub.execute_input": "2025-02-24T00:04:59.471466Z",
     "iopub.status.busy": "2025-02-24T00:04:59.471329Z",
     "iopub.status.idle": "2025-02-24T00:04:59.484759Z",
     "shell.execute_reply": "2025-02-24T00:04:59.484396Z"
    }
   },
   "outputs": [],
   "source": [
    "with open(\"9_example_floquet.json\", \"r\") as f:\n",
    "    circuit_json = f.read()\n",
    "\n",
    "assert AtomicCircuit.model_validate_json(circuit_json) == circuit"
   ]
  },
  {
   "cell_type": "markdown",
   "metadata": {},
   "source": [
    "## Qutip Intepreter\n"
   ]
  },
  {
   "cell_type": "code",
   "execution_count": 6,
   "metadata": {
    "execution": {
     "iopub.execute_input": "2025-02-24T00:04:59.486442Z",
     "iopub.status.busy": "2025-02-24T00:04:59.486269Z",
     "iopub.status.idle": "2025-02-24T00:13:01.320319Z",
     "shell.execute_reply": "2025-02-24T00:13:01.319820Z"
    }
   },
   "outputs": [],
   "source": [
    "from oqd_compiler_infrastructure import Chain, Post\n",
    "\n",
    "from oqd_trical.light_matter.compiler.approximate import (\n",
    "    RotatingReferenceFrame,\n",
    "    RotatingWaveApprox,\n",
    ")\n",
    "from oqd_trical.light_matter.compiler.canonicalize import (\n",
    "    canonicalize_emulator_circuit_factory,\n",
    ")\n",
    "\n",
    "frame_specs = {\n",
    "    \"E0\": [0, 2 * np.pi * 100],\n",
    "    \"P0\": 2 * np.pi * 1,\n",
    "}\n",
    "\n",
    "approx_pass = Chain(\n",
    "    Post(RotatingReferenceFrame(frame_specs=frame_specs)),\n",
    "    canonicalize_emulator_circuit_factory(),\n",
    "    Post(RotatingWaveApprox(cutoff=2 * np.pi * 100)),\n",
    ")\n",
    "\n",
    "backend = QutipBackend(approx_pass=approx_pass)\n",
    "\n",
    "fock_cutoff = 10\n",
    "experiment, hilbert_space = backend.compile(circuit, fock_cutoff)"
   ]
  },
  {
   "cell_type": "code",
   "execution_count": 7,
   "metadata": {
    "execution": {
     "iopub.execute_input": "2025-02-24T00:13:01.322694Z",
     "iopub.status.busy": "2025-02-24T00:13:01.322350Z",
     "iopub.status.idle": "2025-02-24T00:13:01.384459Z",
     "shell.execute_reply": "2025-02-24T00:13:01.384000Z"
    }
   },
   "outputs": [
    {
     "name": "stdout",
     "output_type": "stream",
     "text": [
      "AtomicEmulatorCircuit\n",
      "  - frame: Operator(628.3185307179587 * |1><1|_E0 @ I_P0 + 6.283185307179586 * I_E0 @ C_P0 * A_P0)\n",
      "  - base: Operator(PrunedOperator)\n",
      "  - sequence: list\n",
      "    - 0: AtomicEmulatorGate\n",
      "      - hamiltonian: Operator(0.31415926535897926 * |1><0|_E0 @ D(13.554293365239742 * exp(1j * (6.283185307179586 * t + 1.5707963267948966)))_P0 + 0.31415926535897926 * |0><1|_E0 @ D(13.554293365239742 * exp(1j * (6.283185307179586 * t + -1.5707963267948966)))_P0)\n",
      "      - duration: float(1.0)\n",
      "    - 1: AtomicEmulatorGate\n",
      "      - hamiltonian: Operator(0.31415926535897926 * exp(1j * (3.141592653589793)) * |1><0|_E0 @ D(13.554293365239742 * exp(1j * (6.283185307179586 * t + 1.5707963267948966)))_P0 + 0.31415926535897926 * exp(1j * (-3.141592653589793)) * |0><1|_E0 @ D(13.554293365239742 * exp(1j * (6.283185307179586 * t + -1.5707963267948966)))_P0)\n",
      "      - duration: float(1.0)\n",
      "    - 2: AtomicEmulatorGate\n",
      "      - hamiltonian: Operator(0.31415926535897926 * |1><0|_E0 @ D(13.554293365239742 * exp(1j * (6.283185307179586 * t + 1.5707963267948966)))_P0 + 0.31415926535897926 * |0><1|_E0 @ D(13.554293365239742 * exp(1j * (6.283185307179586 * t + -1.5707963267948966)))_P0)\n",
      "      - duration: float(1.0)\n",
      "    - 3: AtomicEmulatorGate\n",
      "      - hamiltonian: Operator(0.31415926535897926 * exp(1j * (3.141592653589793)) * |1><0|_E0 @ D(13.554293365239742 * exp(1j * (6.283185307179586 * t + 1.5707963267948966)))_P0 + 0.31415926535897926 * exp(1j * (-3.141592653589793)) * |0><1|_E0 @ D(13.554293365239742 * exp(1j * (6.283185307179586 * t + -1.5707963267948966)))_P0)\n",
      "      - duration: float(1.0)\n",
      "    - 4: AtomicEmulatorGate\n",
      "      - hamiltonian: Operator(0.31415926535897926 * |1><0|_E0 @ D(13.554293365239742 * exp(1j * (6.283185307179586 * t + 1.5707963267948966)))_P0 + 0.31415926535897926 * |0><1|_E0 @ D(13.554293365239742 * exp(1j * (6.283185307179586 * t + -1.5707963267948966)))_P0)\n",
      "      - duration: float(1.0)\n",
      "    - 5: AtomicEmulatorGate\n",
      "      - hamiltonian: Operator(0.31415926535897926 * exp(1j * (3.141592653589793)) * |1><0|_E0 @ D(13.554293365239742 * exp(1j * (6.283185307179586 * t + 1.5707963267948966)))_P0 + 0.31415926535897926 * exp(1j * (-3.141592653589793)) * |0><1|_E0 @ D(13.554293365239742 * exp(1j * (6.283185307179586 * t + -1.5707963267948966)))_P0)\n",
      "      - duration: float(1.0)\n",
      "    - 6: AtomicEmulatorGate\n",
      "      - hamiltonian: Operator(0.31415926535897926 * |1><0|_E0 @ D(13.554293365239742 * exp(1j * (6.283185307179586 * t + 1.5707963267948966)))_P0 + 0.31415926535897926 * |0><1|_E0 @ D(13.554293365239742 * exp(1j * (6.283185307179586 * t + -1.5707963267948966)))_P0)\n",
      "      - duration: float(1.0)\n",
      "    - 7: AtomicEmulatorGate\n",
      "      - hamiltonian: Operator(0.31415926535897926 * exp(1j * (3.141592653589793)) * |1><0|_E0 @ D(13.554293365239742 * exp(1j * (6.283185307179586 * t + 1.5707963267948966)))_P0 + 0.31415926535897926 * exp(1j * (-3.141592653589793)) * |0><1|_E0 @ D(13.554293365239742 * exp(1j * (6.283185307179586 * t + -1.5707963267948966)))_P0)\n",
      "      - duration: float(1.0)\n",
      "    - 8: AtomicEmulatorGate\n",
      "      - hamiltonian: Operator(0.31415926535897926 * |1><0|_E0 @ D(13.554293365239742 * exp(1j * (6.283185307179586 * t + 1.5707963267948966)))_P0 + 0.31415926535897926 * |0><1|_E0 @ D(13.554293365239742 * exp(1j * (6.283185307179586 * t + -1.5707963267948966)))_P0)\n",
      "      - duration: float(1.0)\n",
      "    - 9: AtomicEmulatorGate\n",
      "      - hamiltonian: Operator(0.31415926535897926 * exp(1j * (3.141592653589793)) * |1><0|_E0 @ D(13.554293365239742 * exp(1j * (6.283185307179586 * t + 1.5707963267948966)))_P0 + 0.31415926535897926 * exp(1j * (-3.141592653589793)) * |0><1|_E0 @ D(13.554293365239742 * exp(1j * (6.283185307179586 * t + -1.5707963267948966)))_P0)\n",
      "      - duration: float(1.0)\n",
      "    - 10: AtomicEmulatorGate\n",
      "      - hamiltonian: Operator(0.31415926535897926 * |1><0|_E0 @ D(13.554293365239742 * exp(1j * (6.283185307179586 * t + 1.5707963267948966)))_P0 + 0.31415926535897926 * |0><1|_E0 @ D(13.554293365239742 * exp(1j * (6.283185307179586 * t + -1.5707963267948966)))_P0)\n",
      "      - duration: float(1.0)\n",
      "    - 11: AtomicEmulatorGate\n",
      "      - hamiltonian: Operator(0.31415926535897926 * exp(1j * (3.141592653589793)) * |1><0|_E0 @ D(13.554293365239742 * exp(1j * (6.283185307179586 * t + 1.5707963267948966)))_P0 + 0.31415926535897926 * exp(1j * (-3.141592653589793)) * |0><1|_E0 @ D(13.554293365239742 * exp(1j * (6.283185307179586 * t + -1.5707963267948966)))_P0)\n",
      "      - duration: float(1.0)\n",
      "    - 12: AtomicEmulatorGate\n",
      "      - hamiltonian: Operator(0.31415926535897926 * |1><0|_E0 @ D(13.554293365239742 * exp(1j * (6.283185307179586 * t + 1.5707963267948966)))_P0 + 0.31415926535897926 * |0><1|_E0 @ D(13.554293365239742 * exp(1j * (6.283185307179586 * t + -1.5707963267948966)))_P0)\n",
      "      - duration: float(1.0)\n",
      "    - 13: AtomicEmulatorGate\n",
      "      - hamiltonian: Operator(0.31415926535897926 * exp(1j * (3.141592653589793)) * |1><0|_E0 @ D(13.554293365239742 * exp(1j * (6.283185307179586 * t + 1.5707963267948966)))_P0 + 0.31415926535897926 * exp(1j * (-3.141592653589793)) * |0><1|_E0 @ D(13.554293365239742 * exp(1j * (6.283185307179586 * t + -1.5707963267948966)))_P0)\n",
      "      - duration: float(1.0)\n",
      "    - 14: AtomicEmulatorGate\n",
      "      - hamiltonian: Operator(0.31415926535897926 * |1><0|_E0 @ D(13.554293365239742 * exp(1j * (6.283185307179586 * t + 1.5707963267948966)))_P0 + 0.31415926535897926 * |0><1|_E0 @ D(13.554293365239742 * exp(1j * (6.283185307179586 * t + -1.5707963267948966)))_P0)\n",
      "      - duration: float(1.0)\n",
      "    - 15: AtomicEmulatorGate\n",
      "      - hamiltonian: Operator(0.31415926535897926 * exp(1j * (3.141592653589793)) * |1><0|_E0 @ D(13.554293365239742 * exp(1j * (6.283185307179586 * t + 1.5707963267948966)))_P0 + 0.31415926535897926 * exp(1j * (-3.141592653589793)) * |0><1|_E0 @ D(13.554293365239742 * exp(1j * (6.283185307179586 * t + -1.5707963267948966)))_P0)\n",
      "      - duration: float(1.0)\n",
      "    - 16: AtomicEmulatorGate\n",
      "      - hamiltonian: Operator(0.31415926535897926 * |1><0|_E0 @ D(13.554293365239742 * exp(1j * (6.283185307179586 * t + 1.5707963267948966)))_P0 + 0.31415926535897926 * |0><1|_E0 @ D(13.554293365239742 * exp(1j * (6.283185307179586 * t + -1.5707963267948966)))_P0)\n",
      "      - duration: float(1.0)\n",
      "    - 17: AtomicEmulatorGate\n",
      "      - hamiltonian: Operator(0.31415926535897926 * exp(1j * (3.141592653589793)) * |1><0|_E0 @ D(13.554293365239742 * exp(1j * (6.283185307179586 * t + 1.5707963267948966)))_P0 + 0.31415926535897926 * exp(1j * (-3.141592653589793)) * |0><1|_E0 @ D(13.554293365239742 * exp(1j * (6.283185307179586 * t + -1.5707963267948966)))_P0)\n",
      "      - duration: float(1.0)\n",
      "    - 18: AtomicEmulatorGate\n",
      "      - hamiltonian: Operator(0.31415926535897926 * |1><0|_E0 @ D(13.554293365239742 * exp(1j * (6.283185307179586 * t + 1.5707963267948966)))_P0 + 0.31415926535897926 * |0><1|_E0 @ D(13.554293365239742 * exp(1j * (6.283185307179586 * t + -1.5707963267948966)))_P0)\n",
      "      - duration: float(1.0)\n",
      "    - 19: AtomicEmulatorGate\n",
      "      - hamiltonian: Operator(0.31415926535897926 * exp(1j * (3.141592653589793)) * |1><0|_E0 @ D(13.554293365239742 * exp(1j * (6.283185307179586 * t + 1.5707963267948966)))_P0 + 0.31415926535897926 * exp(1j * (-3.141592653589793)) * |0><1|_E0 @ D(13.554293365239742 * exp(1j * (6.283185307179586 * t + -1.5707963267948966)))_P0)\n",
      "      - duration: float(1.0)\n",
      "    - 20: AtomicEmulatorGate\n",
      "      - hamiltonian: Operator(0.31415926535897926 * |1><0|_E0 @ D(13.554293365239742 * exp(1j * (6.283185307179586 * t + 1.5707963267948966)))_P0 + 0.31415926535897926 * |0><1|_E0 @ D(13.554293365239742 * exp(1j * (6.283185307179586 * t + -1.5707963267948966)))_P0)\n",
      "      - duration: float(1.0)\n",
      "    - 21: AtomicEmulatorGate\n",
      "      - hamiltonian: Operator(0.31415926535897926 * exp(1j * (3.141592653589793)) * |1><0|_E0 @ D(13.554293365239742 * exp(1j * (6.283185307179586 * t + 1.5707963267948966)))_P0 + 0.31415926535897926 * exp(1j * (-3.141592653589793)) * |0><1|_E0 @ D(13.554293365239742 * exp(1j * (6.283185307179586 * t + -1.5707963267948966)))_P0)\n",
      "      - duration: float(1.0)\n",
      "    - 22: AtomicEmulatorGate\n",
      "      - hamiltonian: Operator(0.31415926535897926 * |1><0|_E0 @ D(13.554293365239742 * exp(1j * (6.283185307179586 * t + 1.5707963267948966)))_P0 + 0.31415926535897926 * |0><1|_E0 @ D(13.554293365239742 * exp(1j * (6.283185307179586 * t + -1.5707963267948966)))_P0)\n",
      "      - duration: float(1.0)\n",
      "    - 23: AtomicEmulatorGate\n",
      "      - hamiltonian: Operator(0.31415926535897926 * exp(1j * (3.141592653589793)) * |1><0|_E0 @ D(13.554293365239742 * exp(1j * (6.283185307179586 * t + 1.5707963267948966)))_P0 + 0.31415926535897926 * exp(1j * (-3.141592653589793)) * |0><1|_E0 @ D(13.554293365239742 * exp(1j * (6.283185307179586 * t + -1.5707963267948966)))_P0)\n",
      "      - duration: float(1.0)\n",
      "    - 24: AtomicEmulatorGate\n",
      "      - hamiltonian: Operator(0.31415926535897926 * |1><0|_E0 @ D(13.554293365239742 * exp(1j * (6.283185307179586 * t + 1.5707963267948966)))_P0 + 0.31415926535897926 * |0><1|_E0 @ D(13.554293365239742 * exp(1j * (6.283185307179586 * t + -1.5707963267948966)))_P0)\n",
      "      - duration: float(1.0)\n",
      "    - 25: AtomicEmulatorGate\n",
      "      - hamiltonian: Operator(0.31415926535897926 * exp(1j * (3.141592653589793)) * |1><0|_E0 @ D(13.554293365239742 * exp(1j * (6.283185307179586 * t + 1.5707963267948966)))_P0 + 0.31415926535897926 * exp(1j * (-3.141592653589793)) * |0><1|_E0 @ D(13.554293365239742 * exp(1j * (6.283185307179586 * t + -1.5707963267948966)))_P0)\n",
      "      - duration: float(1.0)\n",
      "    - 26: AtomicEmulatorGate\n",
      "      - hamiltonian: Operator(0.31415926535897926 * |1><0|_E0 @ D(13.554293365239742 * exp(1j * (6.283185307179586 * t + 1.5707963267948966)))_P0 + 0.31415926535897926 * |0><1|_E0 @ D(13.554293365239742 * exp(1j * (6.283185307179586 * t + -1.5707963267948966)))_P0)\n",
      "      - duration: float(1.0)\n",
      "    - 27: AtomicEmulatorGate\n",
      "      - hamiltonian: Operator(0.31415926535897926 * exp(1j * (3.141592653589793)) * |1><0|_E0 @ D(13.554293365239742 * exp(1j * (6.283185307179586 * t + 1.5707963267948966)))_P0 + 0.31415926535897926 * exp(1j * (-3.141592653589793)) * |0><1|_E0 @ D(13.554293365239742 * exp(1j * (6.283185307179586 * t + -1.5707963267948966)))_P0)\n",
      "      - duration: float(1.0)\n",
      "    - 28: AtomicEmulatorGate\n",
      "      - hamiltonian: Operator(0.31415926535897926 * |1><0|_E0 @ D(13.554293365239742 * exp(1j * (6.283185307179586 * t + 1.5707963267948966)))_P0 + 0.31415926535897926 * |0><1|_E0 @ D(13.554293365239742 * exp(1j * (6.283185307179586 * t + -1.5707963267948966)))_P0)\n",
      "      - duration: float(1.0)\n",
      "    - 29: AtomicEmulatorGate\n",
      "      - hamiltonian: Operator(0.31415926535897926 * exp(1j * (3.141592653589793)) * |1><0|_E0 @ D(13.554293365239742 * exp(1j * (6.283185307179586 * t + 1.5707963267948966)))_P0 + 0.31415926535897926 * exp(1j * (-3.141592653589793)) * |0><1|_E0 @ D(13.554293365239742 * exp(1j * (6.283185307179586 * t + -1.5707963267948966)))_P0)\n",
      "      - duration: float(1.0)\n",
      "    - 30: AtomicEmulatorGate\n",
      "      - hamiltonian: Operator(0.31415926535897926 * |1><0|_E0 @ D(13.554293365239742 * exp(1j * (6.283185307179586 * t + 1.5707963267948966)))_P0 + 0.31415926535897926 * |0><1|_E0 @ D(13.554293365239742 * exp(1j * (6.283185307179586 * t + -1.5707963267948966)))_P0)\n",
      "      - duration: float(1.0)\n",
      "    - 31: AtomicEmulatorGate\n",
      "      - hamiltonian: Operator(0.31415926535897926 * exp(1j * (3.141592653589793)) * |1><0|_E0 @ D(13.554293365239742 * exp(1j * (6.283185307179586 * t + 1.5707963267948966)))_P0 + 0.31415926535897926 * exp(1j * (-3.141592653589793)) * |0><1|_E0 @ D(13.554293365239742 * exp(1j * (6.283185307179586 * t + -1.5707963267948966)))_P0)\n",
      "      - duration: float(1.0)\n",
      "    - 32: AtomicEmulatorGate\n",
      "      - hamiltonian: Operator(0.31415926535897926 * |1><0|_E0 @ D(13.554293365239742 * exp(1j * (6.283185307179586 * t + 1.5707963267948966)))_P0 + 0.31415926535897926 * |0><1|_E0 @ D(13.554293365239742 * exp(1j * (6.283185307179586 * t + -1.5707963267948966)))_P0)\n",
      "      - duration: float(1.0)\n",
      "    - 33: AtomicEmulatorGate\n",
      "      - hamiltonian: Operator(0.31415926535897926 * exp(1j * (3.141592653589793)) * |1><0|_E0 @ D(13.554293365239742 * exp(1j * (6.283185307179586 * t + 1.5707963267948966)))_P0 + 0.31415926535897926 * exp(1j * (-3.141592653589793)) * |0><1|_E0 @ D(13.554293365239742 * exp(1j * (6.283185307179586 * t + -1.5707963267948966)))_P0)\n",
      "      - duration: float(1.0)\n",
      "    - 34: AtomicEmulatorGate\n",
      "      - hamiltonian: Operator(0.31415926535897926 * |1><0|_E0 @ D(13.554293365239742 * exp(1j * (6.283185307179586 * t + 1.5707963267948966)))_P0 + 0.31415926535897926 * |0><1|_E0 @ D(13.554293365239742 * exp(1j * (6.283185307179586 * t + -1.5707963267948966)))_P0)\n",
      "      - duration: float(1.0)\n",
      "    - 35: AtomicEmulatorGate\n",
      "      - hamiltonian: Operator(0.31415926535897926 * exp(1j * (3.141592653589793)) * |1><0|_E0 @ D(13.554293365239742 * exp(1j * (6.283185307179586 * t + 1.5707963267948966)))_P0 + 0.31415926535897926 * exp(1j * (-3.141592653589793)) * |0><1|_E0 @ D(13.554293365239742 * exp(1j * (6.283185307179586 * t + -1.5707963267948966)))_P0)\n",
      "      - duration: float(1.0)\n",
      "    - 36: AtomicEmulatorGate\n",
      "      - hamiltonian: Operator(0.31415926535897926 * |1><0|_E0 @ D(13.554293365239742 * exp(1j * (6.283185307179586 * t + 1.5707963267948966)))_P0 + 0.31415926535897926 * |0><1|_E0 @ D(13.554293365239742 * exp(1j * (6.283185307179586 * t + -1.5707963267948966)))_P0)\n",
      "      - duration: float(1.0)\n",
      "    - 37: AtomicEmulatorGate\n",
      "      - hamiltonian: Operator(0.31415926535897926 * exp(1j * (3.141592653589793)) * |1><0|_E0 @ D(13.554293365239742 * exp(1j * (6.283185307179586 * t + 1.5707963267948966)))_P0 + 0.31415926535897926 * exp(1j * (-3.141592653589793)) * |0><1|_E0 @ D(13.554293365239742 * exp(1j * (6.283185307179586 * t + -1.5707963267948966)))_P0)\n",
      "      - duration: float(1.0)\n",
      "    - 38: AtomicEmulatorGate\n",
      "      - hamiltonian: Operator(0.31415926535897926 * |1><0|_E0 @ D(13.554293365239742 * exp(1j * (6.283185307179586 * t + 1.5707963267948966)))_P0 + 0.31415926535897926 * |0><1|_E0 @ D(13.554293365239742 * exp(1j * (6.283185307179586 * t + -1.5707963267948966)))_P0)\n",
      "      - duration: float(1.0)\n",
      "    - 39: AtomicEmulatorGate\n",
      "      - hamiltonian: Operator(0.31415926535897926 * exp(1j * (3.141592653589793)) * |1><0|_E0 @ D(13.554293365239742 * exp(1j * (6.283185307179586 * t + 1.5707963267948966)))_P0 + 0.31415926535897926 * exp(1j * (-3.141592653589793)) * |0><1|_E0 @ D(13.554293365239742 * exp(1j * (6.283185307179586 * t + -1.5707963267948966)))_P0)\n",
      "      - duration: float(1.0)\n"
     ]
    }
   ],
   "source": [
    "from oqd_compiler_infrastructure import Post\n",
    "\n",
    "from oqd_trical.light_matter.compiler.visualization import CondensedOperatorPrettyPrint\n",
    "\n",
    "printer = Post(CondensedOperatorPrettyPrint())\n",
    "\n",
    "print(printer(backend.intermediate))"
   ]
  },
  {
   "cell_type": "markdown",
   "metadata": {},
   "source": [
    "### Results\n"
   ]
  },
  {
   "cell_type": "code",
   "execution_count": 8,
   "metadata": {
    "execution": {
     "iopub.execute_input": "2025-02-24T00:13:01.412470Z",
     "iopub.status.busy": "2025-02-24T00:13:01.412165Z",
     "iopub.status.idle": "2025-02-24T00:13:11.878118Z",
     "shell.execute_reply": "2025-02-24T00:13:11.877701Z"
    }
   },
   "outputs": [
    {
     "name": "stdout",
     "output_type": "stream",
     "text": [
      "10.1%. Run time:   0.04s. Est. time left: 00:00:00:00\n"
     ]
    },
    {
     "name": "stdout",
     "output_type": "stream",
     "text": [
      "20.2%. Run time:   0.06s. Est. time left: 00:00:00:00\n"
     ]
    },
    {
     "name": "stdout",
     "output_type": "stream",
     "text": [
      "30.3%. Run time:   0.08s. Est. time left: 00:00:00:00\n"
     ]
    },
    {
     "name": "stdout",
     "output_type": "stream",
     "text": [
      "40.4%. Run time:   0.10s. Est. time left: 00:00:00:00\n"
     ]
    },
    {
     "name": "stdout",
     "output_type": "stream",
     "text": [
      "50.5%. Run time:   0.13s. Est. time left: 00:00:00:00\n"
     ]
    },
    {
     "name": "stdout",
     "output_type": "stream",
     "text": [
      "60.6%. Run time:   0.15s. Est. time left: 00:00:00:00\n"
     ]
    },
    {
     "name": "stdout",
     "output_type": "stream",
     "text": [
      "70.7%. Run time:   0.17s. Est. time left: 00:00:00:00\n"
     ]
    },
    {
     "name": "stdout",
     "output_type": "stream",
     "text": [
      "80.8%. Run time:   0.19s. Est. time left: 00:00:00:00\n"
     ]
    },
    {
     "name": "stdout",
     "output_type": "stream",
     "text": [
      "90.9%. Run time:   0.22s. Est. time left: 00:00:00:00\n"
     ]
    },
    {
     "name": "stdout",
     "output_type": "stream",
     "text": [
      "100.0%. Run time:   0.24s. Est. time left: 00:00:00:00\n"
     ]
    },
    {
     "name": "stdout",
     "output_type": "stream",
     "text": [
      "Total run time:   0.24s\n"
     ]
    },
    {
     "name": "stdout",
     "output_type": "stream",
     "text": [
      "10.1%. Run time:   0.03s. Est. time left: 00:00:00:00\n"
     ]
    },
    {
     "name": "stdout",
     "output_type": "stream",
     "text": [
      "20.2%. Run time:   0.06s. Est. time left: 00:00:00:00\n"
     ]
    },
    {
     "name": "stdout",
     "output_type": "stream",
     "text": [
      "30.3%. Run time:   0.08s. Est. time left: 00:00:00:00\n"
     ]
    },
    {
     "name": "stdout",
     "output_type": "stream",
     "text": [
      "40.4%. Run time:   0.10s. Est. time left: 00:00:00:00"
     ]
    },
    {
     "name": "stdout",
     "output_type": "stream",
     "text": [
      "\n"
     ]
    },
    {
     "name": "stdout",
     "output_type": "stream",
     "text": [
      "50.5%. Run time:   0.13s. Est. time left: 00:00:00:00\n"
     ]
    },
    {
     "name": "stdout",
     "output_type": "stream",
     "text": [
      "60.6%. Run time:   0.15s. Est. time left: 00:00:00:00\n"
     ]
    },
    {
     "name": "stdout",
     "output_type": "stream",
     "text": [
      "70.7%. Run time:   0.17s. Est. time left: 00:00:00:00\n"
     ]
    },
    {
     "name": "stdout",
     "output_type": "stream",
     "text": [
      "80.8%. Run time:   0.19s. Est. time left: 00:00:00:00\n"
     ]
    },
    {
     "name": "stdout",
     "output_type": "stream",
     "text": [
      "90.9%. Run time:   0.22s. Est. time left: 00:00:00:00\n"
     ]
    },
    {
     "name": "stdout",
     "output_type": "stream",
     "text": [
      "100.0%. Run time:   0.24s. Est. time left: 00:00:00:00"
     ]
    },
    {
     "name": "stdout",
     "output_type": "stream",
     "text": [
      "\n"
     ]
    },
    {
     "name": "stdout",
     "output_type": "stream",
     "text": [
      "Total run time:   0.24s\n"
     ]
    },
    {
     "name": "stdout",
     "output_type": "stream",
     "text": [
      "10.1%. Run time:   0.03s. Est. time left: 00:00:00:00\n"
     ]
    },
    {
     "name": "stdout",
     "output_type": "stream",
     "text": [
      "20.2%. Run time:   0.06s. Est. time left: 00:00:00:00\n"
     ]
    },
    {
     "name": "stdout",
     "output_type": "stream",
     "text": [
      "30.3%. Run time:   0.08s. Est. time left: 00:00:00:00\n"
     ]
    },
    {
     "name": "stdout",
     "output_type": "stream",
     "text": [
      "40.4%. Run time:   0.10s. Est. time left: 00:00:00:00\n"
     ]
    },
    {
     "name": "stdout",
     "output_type": "stream",
     "text": [
      "50.5%. Run time:   0.12s. Est. time left: 00:00:00:00\n"
     ]
    },
    {
     "name": "stdout",
     "output_type": "stream",
     "text": [
      "60.6%. Run time:   0.15s. Est. time left: 00:00:00:00\n"
     ]
    },
    {
     "name": "stdout",
     "output_type": "stream",
     "text": [
      "70.7%. Run time:   0.17s. Est. time left: 00:00:00:00\n"
     ]
    },
    {
     "name": "stdout",
     "output_type": "stream",
     "text": [
      "80.8%. Run time:   0.19s. Est. time left: 00:00:00:00\n"
     ]
    },
    {
     "name": "stdout",
     "output_type": "stream",
     "text": [
      "90.9%. Run time:   0.22s. Est. time left: 00:00:00:00\n"
     ]
    },
    {
     "name": "stdout",
     "output_type": "stream",
     "text": [
      "100.0%. Run time:   0.24s. Est. time left: 00:00:00:00"
     ]
    },
    {
     "name": "stdout",
     "output_type": "stream",
     "text": [
      "\n"
     ]
    },
    {
     "name": "stdout",
     "output_type": "stream",
     "text": [
      "Total run time:   0.24s\n"
     ]
    },
    {
     "name": "stdout",
     "output_type": "stream",
     "text": [
      "10.1%. Run time:   0.03s. Est. time left: 00:00:00:00\n"
     ]
    },
    {
     "name": "stdout",
     "output_type": "stream",
     "text": [
      "20.2%. Run time:   0.06s. Est. time left: 00:00:00:00\n"
     ]
    },
    {
     "name": "stdout",
     "output_type": "stream",
     "text": [
      "30.3%. Run time:   0.08s. Est. time left: 00:00:00:00\n"
     ]
    },
    {
     "name": "stdout",
     "output_type": "stream",
     "text": [
      "40.4%. Run time:   0.10s. Est. time left: 00:00:00:00\n"
     ]
    },
    {
     "name": "stdout",
     "output_type": "stream",
     "text": [
      "50.5%. Run time:   0.12s. Est. time left: 00:00:00:00\n"
     ]
    },
    {
     "name": "stdout",
     "output_type": "stream",
     "text": [
      "60.6%. Run time:   0.15s. Est. time left: 00:00:00:00\n"
     ]
    },
    {
     "name": "stdout",
     "output_type": "stream",
     "text": [
      "70.7%. Run time:   0.17s. Est. time left: 00:00:00:00\n"
     ]
    },
    {
     "name": "stdout",
     "output_type": "stream",
     "text": [
      "80.8%. Run time:   0.19s. Est. time left: 00:00:00:00\n"
     ]
    },
    {
     "name": "stdout",
     "output_type": "stream",
     "text": [
      "90.9%. Run time:   0.21s. Est. time left: 00:00:00:00"
     ]
    },
    {
     "name": "stdout",
     "output_type": "stream",
     "text": [
      "\n"
     ]
    },
    {
     "name": "stdout",
     "output_type": "stream",
     "text": [
      "100.0%. Run time:   0.23s. Est. time left: 00:00:00:00\n"
     ]
    },
    {
     "name": "stdout",
     "output_type": "stream",
     "text": [
      "Total run time:   0.23s\n"
     ]
    },
    {
     "name": "stdout",
     "output_type": "stream",
     "text": [
      "10.1%. Run time:   0.03s. Est. time left: 00:00:00:00\n"
     ]
    },
    {
     "name": "stdout",
     "output_type": "stream",
     "text": [
      "20.2%. Run time:   0.06s. Est. time left: 00:00:00:00\n"
     ]
    },
    {
     "name": "stdout",
     "output_type": "stream",
     "text": [
      "30.3%. Run time:   0.08s. Est. time left: 00:00:00:00\n"
     ]
    },
    {
     "name": "stdout",
     "output_type": "stream",
     "text": [
      "40.4%. Run time:   0.10s. Est. time left: 00:00:00:00\n"
     ]
    },
    {
     "name": "stdout",
     "output_type": "stream",
     "text": [
      "50.5%. Run time:   0.12s. Est. time left: 00:00:00:00\n"
     ]
    },
    {
     "name": "stdout",
     "output_type": "stream",
     "text": [
      "60.6%. Run time:   0.15s. Est. time left: 00:00:00:00\n"
     ]
    },
    {
     "name": "stdout",
     "output_type": "stream",
     "text": [
      "70.7%. Run time:   0.17s. Est. time left: 00:00:00:00\n"
     ]
    },
    {
     "name": "stdout",
     "output_type": "stream",
     "text": [
      "80.8%. Run time:   0.19s. Est. time left: 00:00:00:00\n"
     ]
    },
    {
     "name": "stdout",
     "output_type": "stream",
     "text": [
      "90.9%. Run time:   0.21s. Est. time left: 00:00:00:00\n"
     ]
    },
    {
     "name": "stdout",
     "output_type": "stream",
     "text": [
      "100.0%. Run time:   0.24s. Est. time left: 00:00:00:00"
     ]
    },
    {
     "name": "stdout",
     "output_type": "stream",
     "text": [
      "\n"
     ]
    },
    {
     "name": "stdout",
     "output_type": "stream",
     "text": [
      "Total run time:   0.24s\n"
     ]
    },
    {
     "name": "stdout",
     "output_type": "stream",
     "text": [
      "10.1%. Run time:   0.03s. Est. time left: 00:00:00:00\n"
     ]
    },
    {
     "name": "stdout",
     "output_type": "stream",
     "text": [
      "20.2%. Run time:   0.06s. Est. time left: 00:00:00:00\n"
     ]
    },
    {
     "name": "stdout",
     "output_type": "stream",
     "text": [
      "30.3%. Run time:   0.08s. Est. time left: 00:00:00:00\n"
     ]
    },
    {
     "name": "stdout",
     "output_type": "stream",
     "text": [
      "40.4%. Run time:   0.10s. Est. time left: 00:00:00:00\n"
     ]
    },
    {
     "name": "stdout",
     "output_type": "stream",
     "text": [
      "50.5%. Run time:   0.13s. Est. time left: 00:00:00:00\n"
     ]
    },
    {
     "name": "stdout",
     "output_type": "stream",
     "text": [
      "60.6%. Run time:   0.15s. Est. time left: 00:00:00:00\n"
     ]
    },
    {
     "name": "stdout",
     "output_type": "stream",
     "text": [
      "70.7%. Run time:   0.17s. Est. time left: 00:00:00:00\n"
     ]
    },
    {
     "name": "stdout",
     "output_type": "stream",
     "text": [
      "80.8%. Run time:   0.19s. Est. time left: 00:00:00:00\n"
     ]
    },
    {
     "name": "stdout",
     "output_type": "stream",
     "text": [
      "90.9%. Run time:   0.22s. Est. time left: 00:00:00:00\n"
     ]
    },
    {
     "name": "stdout",
     "output_type": "stream",
     "text": [
      "100.0%. Run time:   0.24s. Est. time left: 00:00:00:00"
     ]
    },
    {
     "name": "stdout",
     "output_type": "stream",
     "text": [
      "\n"
     ]
    },
    {
     "name": "stdout",
     "output_type": "stream",
     "text": [
      "Total run time:   0.24s\n"
     ]
    },
    {
     "name": "stdout",
     "output_type": "stream",
     "text": [
      "10.1%. Run time:   0.03s. Est. time left: 00:00:00:00\n"
     ]
    },
    {
     "name": "stdout",
     "output_type": "stream",
     "text": [
      "20.2%. Run time:   0.06s. Est. time left: 00:00:00:00\n"
     ]
    },
    {
     "name": "stdout",
     "output_type": "stream",
     "text": [
      "30.3%. Run time:   0.08s. Est. time left: 00:00:00:00\n"
     ]
    },
    {
     "name": "stdout",
     "output_type": "stream",
     "text": [
      "40.4%. Run time:   0.10s. Est. time left: 00:00:00:00\n"
     ]
    },
    {
     "name": "stdout",
     "output_type": "stream",
     "text": [
      "50.5%. Run time:   0.12s. Est. time left: 00:00:00:00\n"
     ]
    },
    {
     "name": "stdout",
     "output_type": "stream",
     "text": [
      "60.6%. Run time:   0.15s. Est. time left: 00:00:00:00\n"
     ]
    },
    {
     "name": "stdout",
     "output_type": "stream",
     "text": [
      "70.7%. Run time:   0.17s. Est. time left: 00:00:00:00\n"
     ]
    },
    {
     "name": "stdout",
     "output_type": "stream",
     "text": [
      "80.8%. Run time:   0.19s. Est. time left: 00:00:00:00\n"
     ]
    },
    {
     "name": "stdout",
     "output_type": "stream",
     "text": [
      "90.9%. Run time:   0.22s. Est. time left: 00:00:00:00\n"
     ]
    },
    {
     "name": "stdout",
     "output_type": "stream",
     "text": [
      "100.0%. Run time:   0.24s. Est. time left: 00:00:00:00\n"
     ]
    },
    {
     "name": "stdout",
     "output_type": "stream",
     "text": [
      "Total run time:   0.24s\n"
     ]
    },
    {
     "name": "stdout",
     "output_type": "stream",
     "text": [
      "10.1%. Run time:   0.04s. Est. time left: 00:00:00:00\n"
     ]
    },
    {
     "name": "stdout",
     "output_type": "stream",
     "text": [
      "20.2%. Run time:   0.06s. Est. time left: 00:00:00:00\n"
     ]
    },
    {
     "name": "stdout",
     "output_type": "stream",
     "text": [
      "30.3%. Run time:   0.08s. Est. time left: 00:00:00:00\n"
     ]
    },
    {
     "name": "stdout",
     "output_type": "stream",
     "text": [
      "40.4%. Run time:   0.10s. Est. time left: 00:00:00:00\n"
     ]
    },
    {
     "name": "stdout",
     "output_type": "stream",
     "text": [
      "50.5%. Run time:   0.13s. Est. time left: 00:00:00:00\n"
     ]
    },
    {
     "name": "stdout",
     "output_type": "stream",
     "text": [
      "60.6%. Run time:   0.15s. Est. time left: 00:00:00:00\n"
     ]
    },
    {
     "name": "stdout",
     "output_type": "stream",
     "text": [
      "70.7%. Run time:   0.17s. Est. time left: 00:00:00:00\n"
     ]
    },
    {
     "name": "stdout",
     "output_type": "stream",
     "text": [
      "80.8%. Run time:   0.20s. Est. time left: 00:00:00:00\n"
     ]
    },
    {
     "name": "stdout",
     "output_type": "stream",
     "text": [
      "90.9%. Run time:   0.22s. Est. time left: 00:00:00:00\n"
     ]
    },
    {
     "name": "stdout",
     "output_type": "stream",
     "text": [
      "100.0%. Run time:   0.24s. Est. time left: 00:00:00:00"
     ]
    },
    {
     "name": "stdout",
     "output_type": "stream",
     "text": [
      "\n"
     ]
    },
    {
     "name": "stdout",
     "output_type": "stream",
     "text": [
      "Total run time:   0.24s\n"
     ]
    },
    {
     "name": "stdout",
     "output_type": "stream",
     "text": [
      "10.1%. Run time:   0.03s. Est. time left: 00:00:00:00\n"
     ]
    },
    {
     "name": "stdout",
     "output_type": "stream",
     "text": [
      "20.2%. Run time:   0.06s. Est. time left: 00:00:00:00\n"
     ]
    },
    {
     "name": "stdout",
     "output_type": "stream",
     "text": [
      "30.3%. Run time:   0.08s. Est. time left: 00:00:00:00\n"
     ]
    },
    {
     "name": "stdout",
     "output_type": "stream",
     "text": [
      "40.4%. Run time:   0.10s. Est. time left: 00:00:00:00\n"
     ]
    },
    {
     "name": "stdout",
     "output_type": "stream",
     "text": [
      "50.5%. Run time:   0.13s. Est. time left: 00:00:00:00\n"
     ]
    },
    {
     "name": "stdout",
     "output_type": "stream",
     "text": [
      "60.6%. Run time:   0.15s. Est. time left: 00:00:00:00\n"
     ]
    },
    {
     "name": "stdout",
     "output_type": "stream",
     "text": [
      "70.7%. Run time:   0.17s. Est. time left: 00:00:00:00\n"
     ]
    },
    {
     "name": "stdout",
     "output_type": "stream",
     "text": [
      "80.8%. Run time:   0.20s. Est. time left: 00:00:00:00\n"
     ]
    },
    {
     "name": "stdout",
     "output_type": "stream",
     "text": [
      "90.9%. Run time:   0.22s. Est. time left: 00:00:00:00\n"
     ]
    },
    {
     "name": "stdout",
     "output_type": "stream",
     "text": [
      "100.0%. Run time:   0.24s. Est. time left: 00:00:00:00"
     ]
    },
    {
     "name": "stdout",
     "output_type": "stream",
     "text": [
      "\n"
     ]
    },
    {
     "name": "stdout",
     "output_type": "stream",
     "text": [
      "Total run time:   0.24s\n"
     ]
    },
    {
     "name": "stdout",
     "output_type": "stream",
     "text": [
      "10.1%. Run time:   0.04s. Est. time left: 00:00:00:00\n"
     ]
    },
    {
     "name": "stdout",
     "output_type": "stream",
     "text": [
      "20.2%. Run time:   0.06s. Est. time left: 00:00:00:00\n"
     ]
    },
    {
     "name": "stdout",
     "output_type": "stream",
     "text": [
      "30.3%. Run time:   0.08s. Est. time left: 00:00:00:00\n"
     ]
    },
    {
     "name": "stdout",
     "output_type": "stream",
     "text": [
      "40.4%. Run time:   0.10s. Est. time left: 00:00:00:00\n"
     ]
    },
    {
     "name": "stdout",
     "output_type": "stream",
     "text": [
      "50.5%. Run time:   0.13s. Est. time left: 00:00:00:00\n"
     ]
    },
    {
     "name": "stdout",
     "output_type": "stream",
     "text": [
      "60.6%. Run time:   0.15s. Est. time left: 00:00:00:00\n"
     ]
    },
    {
     "name": "stdout",
     "output_type": "stream",
     "text": [
      "70.7%. Run time:   0.17s. Est. time left: 00:00:00:00\n"
     ]
    },
    {
     "name": "stdout",
     "output_type": "stream",
     "text": [
      "80.8%. Run time:   0.20s. Est. time left: 00:00:00:00\n"
     ]
    },
    {
     "name": "stdout",
     "output_type": "stream",
     "text": [
      "90.9%. Run time:   0.22s. Est. time left: 00:00:00:00\n"
     ]
    },
    {
     "name": "stdout",
     "output_type": "stream",
     "text": [
      "100.0%. Run time:   0.24s. Est. time left: 00:00:00:00\n"
     ]
    },
    {
     "name": "stdout",
     "output_type": "stream",
     "text": [
      "Total run time:   0.24s\n"
     ]
    },
    {
     "name": "stdout",
     "output_type": "stream",
     "text": [
      "10.1%. Run time:   0.03s. Est. time left: 00:00:00:00\n"
     ]
    },
    {
     "name": "stdout",
     "output_type": "stream",
     "text": [
      "20.2%. Run time:   0.06s. Est. time left: 00:00:00:00\n"
     ]
    },
    {
     "name": "stdout",
     "output_type": "stream",
     "text": [
      "30.3%. Run time:   0.08s. Est. time left: 00:00:00:00\n"
     ]
    },
    {
     "name": "stdout",
     "output_type": "stream",
     "text": [
      "40.4%. Run time:   0.10s. Est. time left: 00:00:00:00\n"
     ]
    },
    {
     "name": "stdout",
     "output_type": "stream",
     "text": [
      "50.5%. Run time:   0.13s. Est. time left: 00:00:00:00\n"
     ]
    },
    {
     "name": "stdout",
     "output_type": "stream",
     "text": [
      "60.6%. Run time:   0.15s. Est. time left: 00:00:00:00\n"
     ]
    },
    {
     "name": "stdout",
     "output_type": "stream",
     "text": [
      "70.7%. Run time:   0.17s. Est. time left: 00:00:00:00\n"
     ]
    },
    {
     "name": "stdout",
     "output_type": "stream",
     "text": [
      "80.8%. Run time:   0.20s. Est. time left: 00:00:00:00\n"
     ]
    },
    {
     "name": "stdout",
     "output_type": "stream",
     "text": [
      "90.9%. Run time:   0.22s. Est. time left: 00:00:00:00\n"
     ]
    },
    {
     "name": "stdout",
     "output_type": "stream",
     "text": [
      "100.0%. Run time:   0.24s. Est. time left: 00:00:00:00\n"
     ]
    },
    {
     "name": "stdout",
     "output_type": "stream",
     "text": [
      "Total run time:   0.24s\n"
     ]
    },
    {
     "name": "stdout",
     "output_type": "stream",
     "text": [
      "10.1%. Run time:   0.03s. Est. time left: 00:00:00:00\n"
     ]
    },
    {
     "name": "stdout",
     "output_type": "stream",
     "text": [
      "20.2%. Run time:   0.06s. Est. time left: 00:00:00:00\n"
     ]
    },
    {
     "name": "stdout",
     "output_type": "stream",
     "text": [
      "30.3%. Run time:   0.08s. Est. time left: 00:00:00:00\n"
     ]
    },
    {
     "name": "stdout",
     "output_type": "stream",
     "text": [
      "40.4%. Run time:   0.10s. Est. time left: 00:00:00:00\n"
     ]
    },
    {
     "name": "stdout",
     "output_type": "stream",
     "text": [
      "50.5%. Run time:   0.13s. Est. time left: 00:00:00:00\n"
     ]
    },
    {
     "name": "stdout",
     "output_type": "stream",
     "text": [
      "60.6%. Run time:   0.15s. Est. time left: 00:00:00:00\n"
     ]
    },
    {
     "name": "stdout",
     "output_type": "stream",
     "text": [
      "70.7%. Run time:   0.17s. Est. time left: 00:00:00:00\n"
     ]
    },
    {
     "name": "stdout",
     "output_type": "stream",
     "text": [
      "80.8%. Run time:   0.19s. Est. time left: 00:00:00:00\n"
     ]
    },
    {
     "name": "stdout",
     "output_type": "stream",
     "text": [
      "90.9%. Run time:   0.22s. Est. time left: 00:00:00:00\n"
     ]
    },
    {
     "name": "stdout",
     "output_type": "stream",
     "text": [
      "100.0%. Run time:   0.24s. Est. time left: 00:00:00:00\n"
     ]
    },
    {
     "name": "stdout",
     "output_type": "stream",
     "text": [
      "Total run time:   0.24s\n"
     ]
    },
    {
     "name": "stdout",
     "output_type": "stream",
     "text": [
      "10.1%. Run time:   0.03s. Est. time left: 00:00:00:00\n"
     ]
    },
    {
     "name": "stdout",
     "output_type": "stream",
     "text": [
      "20.2%. Run time:   0.06s. Est. time left: 00:00:00:00\n"
     ]
    },
    {
     "name": "stdout",
     "output_type": "stream",
     "text": [
      "30.3%. Run time:   0.08s. Est. time left: 00:00:00:00\n"
     ]
    },
    {
     "name": "stdout",
     "output_type": "stream",
     "text": [
      "40.4%. Run time:   0.10s. Est. time left: 00:00:00:00\n"
     ]
    },
    {
     "name": "stdout",
     "output_type": "stream",
     "text": [
      "50.5%. Run time:   0.13s. Est. time left: 00:00:00:00\n"
     ]
    },
    {
     "name": "stdout",
     "output_type": "stream",
     "text": [
      "60.6%. Run time:   0.15s. Est. time left: 00:00:00:00\n"
     ]
    },
    {
     "name": "stdout",
     "output_type": "stream",
     "text": [
      "70.7%. Run time:   0.17s. Est. time left: 00:00:00:00\n"
     ]
    },
    {
     "name": "stdout",
     "output_type": "stream",
     "text": [
      "80.8%. Run time:   0.20s. Est. time left: 00:00:00:00\n"
     ]
    },
    {
     "name": "stdout",
     "output_type": "stream",
     "text": [
      "90.9%. Run time:   0.23s. Est. time left: 00:00:00:00\n"
     ]
    },
    {
     "name": "stdout",
     "output_type": "stream",
     "text": [
      "100.0%. Run time:   0.26s. Est. time left: 00:00:00:00"
     ]
    },
    {
     "name": "stdout",
     "output_type": "stream",
     "text": [
      "\n"
     ]
    },
    {
     "name": "stdout",
     "output_type": "stream",
     "text": [
      "Total run time:   0.26s\n"
     ]
    },
    {
     "name": "stdout",
     "output_type": "stream",
     "text": [
      "10.1%. Run time:   0.04s. Est. time left: 00:00:00:00\n"
     ]
    },
    {
     "name": "stdout",
     "output_type": "stream",
     "text": [
      "20.2%. Run time:   0.07s. Est. time left: 00:00:00:00\n"
     ]
    },
    {
     "name": "stdout",
     "output_type": "stream",
     "text": [
      "30.3%. Run time:   0.10s. Est. time left: 00:00:00:00\n"
     ]
    },
    {
     "name": "stdout",
     "output_type": "stream",
     "text": [
      "40.4%. Run time:   0.13s. Est. time left: 00:00:00:00\n"
     ]
    },
    {
     "name": "stdout",
     "output_type": "stream",
     "text": [
      "50.5%. Run time:   0.15s. Est. time left: 00:00:00:00\n"
     ]
    },
    {
     "name": "stdout",
     "output_type": "stream",
     "text": [
      "60.6%. Run time:   0.18s. Est. time left: 00:00:00:00\n"
     ]
    },
    {
     "name": "stdout",
     "output_type": "stream",
     "text": [
      "70.7%. Run time:   0.21s. Est. time left: 00:00:00:00\n"
     ]
    },
    {
     "name": "stdout",
     "output_type": "stream",
     "text": [
      "80.8%. Run time:   0.24s. Est. time left: 00:00:00:00\n"
     ]
    },
    {
     "name": "stdout",
     "output_type": "stream",
     "text": [
      "90.9%. Run time:   0.27s. Est. time left: 00:00:00:00\n"
     ]
    },
    {
     "name": "stdout",
     "output_type": "stream",
     "text": [
      "100.0%. Run time:   0.29s. Est. time left: 00:00:00:00\n"
     ]
    },
    {
     "name": "stdout",
     "output_type": "stream",
     "text": [
      "Total run time:   0.29s\n"
     ]
    },
    {
     "name": "stdout",
     "output_type": "stream",
     "text": [
      "10.1%. Run time:   0.04s. Est. time left: 00:00:00:00\n"
     ]
    },
    {
     "name": "stdout",
     "output_type": "stream",
     "text": [
      "20.2%. Run time:   0.07s. Est. time left: 00:00:00:00\n"
     ]
    },
    {
     "name": "stdout",
     "output_type": "stream",
     "text": [
      "30.3%. Run time:   0.10s. Est. time left: 00:00:00:00\n"
     ]
    },
    {
     "name": "stdout",
     "output_type": "stream",
     "text": [
      "40.4%. Run time:   0.13s. Est. time left: 00:00:00:00\n"
     ]
    },
    {
     "name": "stdout",
     "output_type": "stream",
     "text": [
      "50.5%. Run time:   0.16s. Est. time left: 00:00:00:00\n"
     ]
    },
    {
     "name": "stdout",
     "output_type": "stream",
     "text": [
      "60.6%. Run time:   0.18s. Est. time left: 00:00:00:00\n"
     ]
    },
    {
     "name": "stdout",
     "output_type": "stream",
     "text": [
      "70.7%. Run time:   0.21s. Est. time left: 00:00:00:00\n"
     ]
    },
    {
     "name": "stdout",
     "output_type": "stream",
     "text": [
      "80.8%. Run time:   0.24s. Est. time left: 00:00:00:00\n"
     ]
    },
    {
     "name": "stdout",
     "output_type": "stream",
     "text": [
      "90.9%. Run time:   0.27s. Est. time left: 00:00:00:00\n"
     ]
    },
    {
     "name": "stdout",
     "output_type": "stream",
     "text": [
      "100.0%. Run time:   0.29s. Est. time left: 00:00:00:00\n"
     ]
    },
    {
     "name": "stdout",
     "output_type": "stream",
     "text": [
      "Total run time:   0.30s\n"
     ]
    },
    {
     "name": "stdout",
     "output_type": "stream",
     "text": [
      "10.1%. Run time:   0.04s. Est. time left: 00:00:00:00\n"
     ]
    },
    {
     "name": "stdout",
     "output_type": "stream",
     "text": [
      "20.2%. Run time:   0.07s. Est. time left: 00:00:00:00"
     ]
    },
    {
     "name": "stdout",
     "output_type": "stream",
     "text": [
      "\n"
     ]
    },
    {
     "name": "stdout",
     "output_type": "stream",
     "text": [
      "30.3%. Run time:   0.10s. Est. time left: 00:00:00:00"
     ]
    },
    {
     "name": "stdout",
     "output_type": "stream",
     "text": [
      "\n"
     ]
    },
    {
     "name": "stdout",
     "output_type": "stream",
     "text": [
      "40.4%. Run time:   0.13s. Est. time left: 00:00:00:00\n"
     ]
    },
    {
     "name": "stdout",
     "output_type": "stream",
     "text": [
      "50.5%. Run time:   0.15s. Est. time left: 00:00:00:00\n"
     ]
    },
    {
     "name": "stdout",
     "output_type": "stream",
     "text": [
      "60.6%. Run time:   0.18s. Est. time left: 00:00:00:00\n"
     ]
    },
    {
     "name": "stdout",
     "output_type": "stream",
     "text": [
      "70.7%. Run time:   0.21s. Est. time left: 00:00:00:00\n"
     ]
    },
    {
     "name": "stdout",
     "output_type": "stream",
     "text": [
      "80.8%. Run time:   0.24s. Est. time left: 00:00:00:00\n"
     ]
    },
    {
     "name": "stdout",
     "output_type": "stream",
     "text": [
      "90.9%. Run time:   0.26s. Est. time left: 00:00:00:00\n"
     ]
    },
    {
     "name": "stdout",
     "output_type": "stream",
     "text": [
      "100.0%. Run time:   0.29s. Est. time left: 00:00:00:00\n"
     ]
    },
    {
     "name": "stdout",
     "output_type": "stream",
     "text": [
      "Total run time:   0.29s\n"
     ]
    },
    {
     "name": "stdout",
     "output_type": "stream",
     "text": [
      "10.1%. Run time:   0.04s. Est. time left: 00:00:00:00\n"
     ]
    },
    {
     "name": "stdout",
     "output_type": "stream",
     "text": [
      "20.2%. Run time:   0.07s. Est. time left: 00:00:00:00\n"
     ]
    },
    {
     "name": "stdout",
     "output_type": "stream",
     "text": [
      "30.3%. Run time:   0.10s. Est. time left: 00:00:00:00\n"
     ]
    },
    {
     "name": "stdout",
     "output_type": "stream",
     "text": [
      "40.4%. Run time:   0.13s. Est. time left: 00:00:00:00\n"
     ]
    },
    {
     "name": "stdout",
     "output_type": "stream",
     "text": [
      "50.5%. Run time:   0.16s. Est. time left: 00:00:00:00\n"
     ]
    },
    {
     "name": "stdout",
     "output_type": "stream",
     "text": [
      "60.6%. Run time:   0.19s. Est. time left: 00:00:00:00\n"
     ]
    },
    {
     "name": "stdout",
     "output_type": "stream",
     "text": [
      "70.7%. Run time:   0.21s. Est. time left: 00:00:00:00\n"
     ]
    },
    {
     "name": "stdout",
     "output_type": "stream",
     "text": [
      "80.8%. Run time:   0.24s. Est. time left: 00:00:00:00\n"
     ]
    },
    {
     "name": "stdout",
     "output_type": "stream",
     "text": [
      "90.9%. Run time:   0.27s. Est. time left: 00:00:00:00"
     ]
    },
    {
     "name": "stdout",
     "output_type": "stream",
     "text": [
      "\n"
     ]
    },
    {
     "name": "stdout",
     "output_type": "stream",
     "text": [
      "100.0%. Run time:   0.30s. Est. time left: 00:00:00:00\n"
     ]
    },
    {
     "name": "stdout",
     "output_type": "stream",
     "text": [
      "Total run time:   0.30s\n"
     ]
    },
    {
     "name": "stdout",
     "output_type": "stream",
     "text": [
      "10.1%. Run time:   0.04s. Est. time left: 00:00:00:00\n"
     ]
    },
    {
     "name": "stdout",
     "output_type": "stream",
     "text": [
      "20.2%. Run time:   0.08s. Est. time left: 00:00:00:00\n"
     ]
    },
    {
     "name": "stdout",
     "output_type": "stream",
     "text": [
      "30.3%. Run time:   0.12s. Est. time left: 00:00:00:00\n"
     ]
    },
    {
     "name": "stdout",
     "output_type": "stream",
     "text": [
      "40.4%. Run time:   0.16s. Est. time left: 00:00:00:00"
     ]
    },
    {
     "name": "stdout",
     "output_type": "stream",
     "text": [
      "\n"
     ]
    },
    {
     "name": "stdout",
     "output_type": "stream",
     "text": [
      "50.5%. Run time:   0.19s. Est. time left: 00:00:00:00\n"
     ]
    },
    {
     "name": "stdout",
     "output_type": "stream",
     "text": [
      "60.6%. Run time:   0.21s. Est. time left: 00:00:00:00\n"
     ]
    },
    {
     "name": "stdout",
     "output_type": "stream",
     "text": [
      "70.7%. Run time:   0.24s. Est. time left: 00:00:00:00\n"
     ]
    },
    {
     "name": "stdout",
     "output_type": "stream",
     "text": [
      "80.8%. Run time:   0.26s. Est. time left: 00:00:00:00\n"
     ]
    },
    {
     "name": "stdout",
     "output_type": "stream",
     "text": [
      "90.9%. Run time:   0.29s. Est. time left: 00:00:00:00\n"
     ]
    },
    {
     "name": "stdout",
     "output_type": "stream",
     "text": [
      "100.0%. Run time:   0.31s. Est. time left: 00:00:00:00\n"
     ]
    },
    {
     "name": "stdout",
     "output_type": "stream",
     "text": [
      "Total run time:   0.31s\n"
     ]
    },
    {
     "name": "stdout",
     "output_type": "stream",
     "text": [
      "10.1%. Run time:   0.03s. Est. time left: 00:00:00:00\n"
     ]
    },
    {
     "name": "stdout",
     "output_type": "stream",
     "text": [
      "20.2%. Run time:   0.06s. Est. time left: 00:00:00:00\n"
     ]
    },
    {
     "name": "stdout",
     "output_type": "stream",
     "text": [
      "30.3%. Run time:   0.08s. Est. time left: 00:00:00:00"
     ]
    },
    {
     "name": "stdout",
     "output_type": "stream",
     "text": [
      "\n"
     ]
    },
    {
     "name": "stdout",
     "output_type": "stream",
     "text": [
      "40.4%. Run time:   0.11s. Est. time left: 00:00:00:00\n"
     ]
    },
    {
     "name": "stdout",
     "output_type": "stream",
     "text": [
      "50.5%. Run time:   0.13s. Est. time left: 00:00:00:00\n"
     ]
    },
    {
     "name": "stdout",
     "output_type": "stream",
     "text": [
      "60.6%. Run time:   0.16s. Est. time left: 00:00:00:00\n"
     ]
    },
    {
     "name": "stdout",
     "output_type": "stream",
     "text": [
      "70.7%. Run time:   0.19s. Est. time left: 00:00:00:00\n"
     ]
    },
    {
     "name": "stdout",
     "output_type": "stream",
     "text": [
      "80.8%. Run time:   0.22s. Est. time left: 00:00:00:00\n"
     ]
    },
    {
     "name": "stdout",
     "output_type": "stream",
     "text": [
      "90.9%. Run time:   0.25s. Est. time left: 00:00:00:00\n"
     ]
    },
    {
     "name": "stdout",
     "output_type": "stream",
     "text": [
      "100.0%. Run time:   0.28s. Est. time left: 00:00:00:00\n"
     ]
    },
    {
     "name": "stdout",
     "output_type": "stream",
     "text": [
      "Total run time:   0.28s\n"
     ]
    },
    {
     "name": "stdout",
     "output_type": "stream",
     "text": [
      "10.1%. Run time:   0.04s. Est. time left: 00:00:00:00\n"
     ]
    },
    {
     "name": "stdout",
     "output_type": "stream",
     "text": [
      "20.2%. Run time:   0.07s. Est. time left: 00:00:00:00\n"
     ]
    },
    {
     "name": "stdout",
     "output_type": "stream",
     "text": [
      "30.3%. Run time:   0.10s. Est. time left: 00:00:00:00\n"
     ]
    },
    {
     "name": "stdout",
     "output_type": "stream",
     "text": [
      "40.4%. Run time:   0.13s. Est. time left: 00:00:00:00\n"
     ]
    },
    {
     "name": "stdout",
     "output_type": "stream",
     "text": [
      "50.5%. Run time:   0.16s. Est. time left: 00:00:00:00\n"
     ]
    },
    {
     "name": "stdout",
     "output_type": "stream",
     "text": [
      "60.6%. Run time:   0.19s. Est. time left: 00:00:00:00\n"
     ]
    },
    {
     "name": "stdout",
     "output_type": "stream",
     "text": [
      "70.7%. Run time:   0.22s. Est. time left: 00:00:00:00\n"
     ]
    },
    {
     "name": "stdout",
     "output_type": "stream",
     "text": [
      "80.8%. Run time:   0.24s. Est. time left: 00:00:00:00\n"
     ]
    },
    {
     "name": "stdout",
     "output_type": "stream",
     "text": [
      "90.9%. Run time:   0.27s. Est. time left: 00:00:00:00\n"
     ]
    },
    {
     "name": "stdout",
     "output_type": "stream",
     "text": [
      "100.0%. Run time:   0.30s. Est. time left: 00:00:00:00\n"
     ]
    },
    {
     "name": "stdout",
     "output_type": "stream",
     "text": [
      "Total run time:   0.30s\n"
     ]
    },
    {
     "name": "stdout",
     "output_type": "stream",
     "text": [
      "10.1%. Run time:   0.04s. Est. time left: 00:00:00:00\n"
     ]
    },
    {
     "name": "stdout",
     "output_type": "stream",
     "text": [
      "20.2%. Run time:   0.07s. Est. time left: 00:00:00:00"
     ]
    },
    {
     "name": "stdout",
     "output_type": "stream",
     "text": [
      "\n"
     ]
    },
    {
     "name": "stdout",
     "output_type": "stream",
     "text": [
      "30.3%. Run time:   0.10s. Est. time left: 00:00:00:00"
     ]
    },
    {
     "name": "stdout",
     "output_type": "stream",
     "text": [
      "\n"
     ]
    },
    {
     "name": "stdout",
     "output_type": "stream",
     "text": [
      "40.4%. Run time:   0.13s. Est. time left: 00:00:00:00\n"
     ]
    },
    {
     "name": "stdout",
     "output_type": "stream",
     "text": [
      "50.5%. Run time:   0.15s. Est. time left: 00:00:00:00\n"
     ]
    },
    {
     "name": "stdout",
     "output_type": "stream",
     "text": [
      "60.6%. Run time:   0.18s. Est. time left: 00:00:00:00\n"
     ]
    },
    {
     "name": "stdout",
     "output_type": "stream",
     "text": [
      "70.7%. Run time:   0.21s. Est. time left: 00:00:00:00\n"
     ]
    },
    {
     "name": "stdout",
     "output_type": "stream",
     "text": [
      "80.8%. Run time:   0.24s. Est. time left: 00:00:00:00\n"
     ]
    },
    {
     "name": "stdout",
     "output_type": "stream",
     "text": [
      "90.9%. Run time:   0.27s. Est. time left: 00:00:00:00\n"
     ]
    },
    {
     "name": "stdout",
     "output_type": "stream",
     "text": [
      "100.0%. Run time:   0.30s. Est. time left: 00:00:00:00\n"
     ]
    },
    {
     "name": "stdout",
     "output_type": "stream",
     "text": [
      "Total run time:   0.30s\n"
     ]
    },
    {
     "name": "stdout",
     "output_type": "stream",
     "text": [
      "10.1%. Run time:   0.04s. Est. time left: 00:00:00:00\n"
     ]
    },
    {
     "name": "stdout",
     "output_type": "stream",
     "text": [
      "20.2%. Run time:   0.07s. Est. time left: 00:00:00:00\n"
     ]
    },
    {
     "name": "stdout",
     "output_type": "stream",
     "text": [
      "30.3%. Run time:   0.10s. Est. time left: 00:00:00:00\n"
     ]
    },
    {
     "name": "stdout",
     "output_type": "stream",
     "text": [
      "40.4%. Run time:   0.13s. Est. time left: 00:00:00:00\n"
     ]
    },
    {
     "name": "stdout",
     "output_type": "stream",
     "text": [
      "50.5%. Run time:   0.16s. Est. time left: 00:00:00:00\n"
     ]
    },
    {
     "name": "stdout",
     "output_type": "stream",
     "text": [
      "60.6%. Run time:   0.18s. Est. time left: 00:00:00:00\n"
     ]
    },
    {
     "name": "stdout",
     "output_type": "stream",
     "text": [
      "70.7%. Run time:   0.21s. Est. time left: 00:00:00:00\n"
     ]
    },
    {
     "name": "stdout",
     "output_type": "stream",
     "text": [
      "80.8%. Run time:   0.24s. Est. time left: 00:00:00:00\n"
     ]
    },
    {
     "name": "stdout",
     "output_type": "stream",
     "text": [
      "90.9%. Run time:   0.27s. Est. time left: 00:00:00:00\n"
     ]
    },
    {
     "name": "stdout",
     "output_type": "stream",
     "text": [
      "100.0%. Run time:   0.30s. Est. time left: 00:00:00:00\n"
     ]
    },
    {
     "name": "stdout",
     "output_type": "stream",
     "text": [
      "Total run time:   0.30s\n"
     ]
    },
    {
     "name": "stdout",
     "output_type": "stream",
     "text": [
      "10.1%. Run time:   0.04s. Est. time left: 00:00:00:00"
     ]
    },
    {
     "name": "stdout",
     "output_type": "stream",
     "text": [
      "\n"
     ]
    },
    {
     "name": "stdout",
     "output_type": "stream",
     "text": [
      "20.2%. Run time:   0.07s. Est. time left: 00:00:00:00\n"
     ]
    },
    {
     "name": "stdout",
     "output_type": "stream",
     "text": [
      "30.3%. Run time:   0.10s. Est. time left: 00:00:00:00\n"
     ]
    },
    {
     "name": "stdout",
     "output_type": "stream",
     "text": [
      "40.4%. Run time:   0.13s. Est. time left: 00:00:00:00\n"
     ]
    },
    {
     "name": "stdout",
     "output_type": "stream",
     "text": [
      "50.5%. Run time:   0.15s. Est. time left: 00:00:00:00"
     ]
    },
    {
     "name": "stdout",
     "output_type": "stream",
     "text": [
      "\n"
     ]
    },
    {
     "name": "stdout",
     "output_type": "stream",
     "text": [
      "60.6%. Run time:   0.18s. Est. time left: 00:00:00:00"
     ]
    },
    {
     "name": "stdout",
     "output_type": "stream",
     "text": [
      "\n"
     ]
    },
    {
     "name": "stdout",
     "output_type": "stream",
     "text": [
      "70.7%. Run time:   0.20s. Est. time left: 00:00:00:00"
     ]
    },
    {
     "name": "stdout",
     "output_type": "stream",
     "text": [
      "\n"
     ]
    },
    {
     "name": "stdout",
     "output_type": "stream",
     "text": [
      "80.8%. Run time:   0.22s. Est. time left: 00:00:00:00\n"
     ]
    },
    {
     "name": "stdout",
     "output_type": "stream",
     "text": [
      "90.9%. Run time:   0.25s. Est. time left: 00:00:00:00"
     ]
    },
    {
     "name": "stdout",
     "output_type": "stream",
     "text": [
      "\n"
     ]
    },
    {
     "name": "stdout",
     "output_type": "stream",
     "text": [
      "100.0%. Run time:   0.27s. Est. time left: 00:00:00:00\n"
     ]
    },
    {
     "name": "stdout",
     "output_type": "stream",
     "text": [
      "Total run time:   0.27s\n"
     ]
    },
    {
     "name": "stdout",
     "output_type": "stream",
     "text": [
      "10.1%. Run time:   0.04s. Est. time left: 00:00:00:00"
     ]
    },
    {
     "name": "stdout",
     "output_type": "stream",
     "text": [
      "\n"
     ]
    },
    {
     "name": "stdout",
     "output_type": "stream",
     "text": [
      "20.2%. Run time:   0.06s. Est. time left: 00:00:00:00\n"
     ]
    },
    {
     "name": "stdout",
     "output_type": "stream",
     "text": [
      "30.3%. Run time:   0.09s. Est. time left: 00:00:00:00"
     ]
    },
    {
     "name": "stdout",
     "output_type": "stream",
     "text": [
      "\n"
     ]
    },
    {
     "name": "stdout",
     "output_type": "stream",
     "text": [
      "40.4%. Run time:   0.11s. Est. time left: 00:00:00:00\n"
     ]
    },
    {
     "name": "stdout",
     "output_type": "stream",
     "text": [
      "50.5%. Run time:   0.14s. Est. time left: 00:00:00:00"
     ]
    },
    {
     "name": "stdout",
     "output_type": "stream",
     "text": [
      "\n"
     ]
    },
    {
     "name": "stdout",
     "output_type": "stream",
     "text": [
      "60.6%. Run time:   0.16s. Est. time left: 00:00:00:00\n"
     ]
    },
    {
     "name": "stdout",
     "output_type": "stream",
     "text": [
      "70.7%. Run time:   0.18s. Est. time left: 00:00:00:00"
     ]
    },
    {
     "name": "stdout",
     "output_type": "stream",
     "text": [
      "\n"
     ]
    },
    {
     "name": "stdout",
     "output_type": "stream",
     "text": [
      "80.8%. Run time:   0.21s. Est. time left: 00:00:00:00\n"
     ]
    },
    {
     "name": "stdout",
     "output_type": "stream",
     "text": [
      "90.9%. Run time:   0.24s. Est. time left: 00:00:00:00\n"
     ]
    },
    {
     "name": "stdout",
     "output_type": "stream",
     "text": [
      "100.0%. Run time:   0.26s. Est. time left: 00:00:00:00\n"
     ]
    },
    {
     "name": "stdout",
     "output_type": "stream",
     "text": [
      "Total run time:   0.26s\n"
     ]
    },
    {
     "name": "stdout",
     "output_type": "stream",
     "text": [
      "10.1%. Run time:   0.03s. Est. time left: 00:00:00:00\n"
     ]
    },
    {
     "name": "stdout",
     "output_type": "stream",
     "text": [
      "20.2%. Run time:   0.06s. Est. time left: 00:00:00:00\n"
     ]
    },
    {
     "name": "stdout",
     "output_type": "stream",
     "text": [
      "30.3%. Run time:   0.09s. Est. time left: 00:00:00:00\n"
     ]
    },
    {
     "name": "stdout",
     "output_type": "stream",
     "text": [
      "40.4%. Run time:   0.11s. Est. time left: 00:00:00:00\n"
     ]
    },
    {
     "name": "stdout",
     "output_type": "stream",
     "text": [
      "50.5%. Run time:   0.14s. Est. time left: 00:00:00:00\n"
     ]
    },
    {
     "name": "stdout",
     "output_type": "stream",
     "text": [
      "60.6%. Run time:   0.16s. Est. time left: 00:00:00:00"
     ]
    },
    {
     "name": "stdout",
     "output_type": "stream",
     "text": [
      "\n"
     ]
    },
    {
     "name": "stdout",
     "output_type": "stream",
     "text": [
      "70.7%. Run time:   0.19s. Est. time left: 00:00:00:00\n"
     ]
    },
    {
     "name": "stdout",
     "output_type": "stream",
     "text": [
      "80.8%. Run time:   0.21s. Est. time left: 00:00:00:00\n"
     ]
    },
    {
     "name": "stdout",
     "output_type": "stream",
     "text": [
      "90.9%. Run time:   0.24s. Est. time left: 00:00:00:00\n"
     ]
    },
    {
     "name": "stdout",
     "output_type": "stream",
     "text": [
      "100.0%. Run time:   0.26s. Est. time left: 00:00:00:00\n"
     ]
    },
    {
     "name": "stdout",
     "output_type": "stream",
     "text": [
      "Total run time:   0.26s\n"
     ]
    },
    {
     "name": "stdout",
     "output_type": "stream",
     "text": [
      "10.1%. Run time:   0.04s. Est. time left: 00:00:00:00\n"
     ]
    },
    {
     "name": "stdout",
     "output_type": "stream",
     "text": [
      "20.2%. Run time:   0.06s. Est. time left: 00:00:00:00"
     ]
    },
    {
     "name": "stdout",
     "output_type": "stream",
     "text": [
      "\n"
     ]
    },
    {
     "name": "stdout",
     "output_type": "stream",
     "text": [
      "30.3%. Run time:   0.08s. Est. time left: 00:00:00:00\n"
     ]
    },
    {
     "name": "stdout",
     "output_type": "stream",
     "text": [
      "40.4%. Run time:   0.11s. Est. time left: 00:00:00:00"
     ]
    },
    {
     "name": "stdout",
     "output_type": "stream",
     "text": [
      "\n"
     ]
    },
    {
     "name": "stdout",
     "output_type": "stream",
     "text": [
      "50.5%. Run time:   0.13s. Est. time left: 00:00:00:00"
     ]
    },
    {
     "name": "stdout",
     "output_type": "stream",
     "text": [
      "\n"
     ]
    },
    {
     "name": "stdout",
     "output_type": "stream",
     "text": [
      "60.6%. Run time:   0.15s. Est. time left: 00:00:00:00\n"
     ]
    },
    {
     "name": "stdout",
     "output_type": "stream",
     "text": [
      "70.7%. Run time:   0.18s. Est. time left: 00:00:00:00"
     ]
    },
    {
     "name": "stdout",
     "output_type": "stream",
     "text": [
      "\n"
     ]
    },
    {
     "name": "stdout",
     "output_type": "stream",
     "text": [
      "80.8%. Run time:   0.20s. Est. time left: 00:00:00:00\n"
     ]
    },
    {
     "name": "stdout",
     "output_type": "stream",
     "text": [
      "90.9%. Run time:   0.23s. Est. time left: 00:00:00:00\n"
     ]
    },
    {
     "name": "stdout",
     "output_type": "stream",
     "text": [
      "100.0%. Run time:   0.25s. Est. time left: 00:00:00:00\n"
     ]
    },
    {
     "name": "stdout",
     "output_type": "stream",
     "text": [
      "Total run time:   0.25s\n"
     ]
    },
    {
     "name": "stdout",
     "output_type": "stream",
     "text": [
      "10.1%. Run time:   0.04s. Est. time left: 00:00:00:00\n"
     ]
    },
    {
     "name": "stdout",
     "output_type": "stream",
     "text": [
      "20.2%. Run time:   0.06s. Est. time left: 00:00:00:00"
     ]
    },
    {
     "name": "stdout",
     "output_type": "stream",
     "text": [
      "\n"
     ]
    },
    {
     "name": "stdout",
     "output_type": "stream",
     "text": [
      "30.3%. Run time:   0.09s. Est. time left: 00:00:00:00\n"
     ]
    },
    {
     "name": "stdout",
     "output_type": "stream",
     "text": [
      "40.4%. Run time:   0.12s. Est. time left: 00:00:00:00\n"
     ]
    },
    {
     "name": "stdout",
     "output_type": "stream",
     "text": [
      "50.5%. Run time:   0.14s. Est. time left: 00:00:00:00\n"
     ]
    },
    {
     "name": "stdout",
     "output_type": "stream",
     "text": [
      "60.6%. Run time:   0.17s. Est. time left: 00:00:00:00\n"
     ]
    },
    {
     "name": "stdout",
     "output_type": "stream",
     "text": [
      "70.7%. Run time:   0.19s. Est. time left: 00:00:00:00\n"
     ]
    },
    {
     "name": "stdout",
     "output_type": "stream",
     "text": [
      "80.8%. Run time:   0.22s. Est. time left: 00:00:00:00\n"
     ]
    },
    {
     "name": "stdout",
     "output_type": "stream",
     "text": [
      "90.9%. Run time:   0.24s. Est. time left: 00:00:00:00"
     ]
    },
    {
     "name": "stdout",
     "output_type": "stream",
     "text": [
      "\n"
     ]
    },
    {
     "name": "stdout",
     "output_type": "stream",
     "text": [
      "100.0%. Run time:   0.27s. Est. time left: 00:00:00:00\n"
     ]
    },
    {
     "name": "stdout",
     "output_type": "stream",
     "text": [
      "Total run time:   0.27s\n"
     ]
    },
    {
     "name": "stdout",
     "output_type": "stream",
     "text": [
      "10.1%. Run time:   0.04s. Est. time left: 00:00:00:00\n"
     ]
    },
    {
     "name": "stdout",
     "output_type": "stream",
     "text": [
      "20.2%. Run time:   0.07s. Est. time left: 00:00:00:00\n"
     ]
    },
    {
     "name": "stdout",
     "output_type": "stream",
     "text": [
      "30.3%. Run time:   0.09s. Est. time left: 00:00:00:00\n"
     ]
    },
    {
     "name": "stdout",
     "output_type": "stream",
     "text": [
      "40.4%. Run time:   0.11s. Est. time left: 00:00:00:00\n"
     ]
    },
    {
     "name": "stdout",
     "output_type": "stream",
     "text": [
      "50.5%. Run time:   0.14s. Est. time left: 00:00:00:00\n"
     ]
    },
    {
     "name": "stdout",
     "output_type": "stream",
     "text": [
      "60.6%. Run time:   0.17s. Est. time left: 00:00:00:00\n"
     ]
    },
    {
     "name": "stdout",
     "output_type": "stream",
     "text": [
      "70.7%. Run time:   0.19s. Est. time left: 00:00:00:00\n"
     ]
    },
    {
     "name": "stdout",
     "output_type": "stream",
     "text": [
      "80.8%. Run time:   0.22s. Est. time left: 00:00:00:00\n"
     ]
    },
    {
     "name": "stdout",
     "output_type": "stream",
     "text": [
      "90.9%. Run time:   0.24s. Est. time left: 00:00:00:00"
     ]
    },
    {
     "name": "stdout",
     "output_type": "stream",
     "text": [
      "\n"
     ]
    },
    {
     "name": "stdout",
     "output_type": "stream",
     "text": [
      "100.0%. Run time:   0.27s. Est. time left: 00:00:00:00\n"
     ]
    },
    {
     "name": "stdout",
     "output_type": "stream",
     "text": [
      "Total run time:   0.27s\n"
     ]
    },
    {
     "name": "stdout",
     "output_type": "stream",
     "text": [
      "10.1%. Run time:   0.04s. Est. time left: 00:00:00:00\n"
     ]
    },
    {
     "name": "stdout",
     "output_type": "stream",
     "text": [
      "20.2%. Run time:   0.06s. Est. time left: 00:00:00:00\n"
     ]
    },
    {
     "name": "stdout",
     "output_type": "stream",
     "text": [
      "30.3%. Run time:   0.09s. Est. time left: 00:00:00:00\n"
     ]
    },
    {
     "name": "stdout",
     "output_type": "stream",
     "text": [
      "40.4%. Run time:   0.12s. Est. time left: 00:00:00:00\n"
     ]
    },
    {
     "name": "stdout",
     "output_type": "stream",
     "text": [
      "50.5%. Run time:   0.14s. Est. time left: 00:00:00:00\n"
     ]
    },
    {
     "name": "stdout",
     "output_type": "stream",
     "text": [
      "60.6%. Run time:   0.17s. Est. time left: 00:00:00:00\n"
     ]
    },
    {
     "name": "stdout",
     "output_type": "stream",
     "text": [
      "70.7%. Run time:   0.19s. Est. time left: 00:00:00:00\n"
     ]
    },
    {
     "name": "stdout",
     "output_type": "stream",
     "text": [
      "80.8%. Run time:   0.22s. Est. time left: 00:00:00:00\n"
     ]
    },
    {
     "name": "stdout",
     "output_type": "stream",
     "text": [
      "90.9%. Run time:   0.24s. Est. time left: 00:00:00:00"
     ]
    },
    {
     "name": "stdout",
     "output_type": "stream",
     "text": [
      "\n"
     ]
    },
    {
     "name": "stdout",
     "output_type": "stream",
     "text": [
      "100.0%. Run time:   0.27s. Est. time left: 00:00:00:00\n"
     ]
    },
    {
     "name": "stdout",
     "output_type": "stream",
     "text": [
      "Total run time:   0.27s\n"
     ]
    },
    {
     "name": "stdout",
     "output_type": "stream",
     "text": [
      "10.1%. Run time:   0.04s. Est. time left: 00:00:00:00\n"
     ]
    },
    {
     "name": "stdout",
     "output_type": "stream",
     "text": [
      "20.2%. Run time:   0.06s. Est. time left: 00:00:00:00\n"
     ]
    },
    {
     "name": "stdout",
     "output_type": "stream",
     "text": [
      "30.3%. Run time:   0.09s. Est. time left: 00:00:00:00\n"
     ]
    },
    {
     "name": "stdout",
     "output_type": "stream",
     "text": [
      "40.4%. Run time:   0.12s. Est. time left: 00:00:00:00\n"
     ]
    },
    {
     "name": "stdout",
     "output_type": "stream",
     "text": [
      "50.5%. Run time:   0.14s. Est. time left: 00:00:00:00\n"
     ]
    },
    {
     "name": "stdout",
     "output_type": "stream",
     "text": [
      "60.6%. Run time:   0.17s. Est. time left: 00:00:00:00\n"
     ]
    },
    {
     "name": "stdout",
     "output_type": "stream",
     "text": [
      "70.7%. Run time:   0.19s. Est. time left: 00:00:00:00\n"
     ]
    },
    {
     "name": "stdout",
     "output_type": "stream",
     "text": [
      "80.8%. Run time:   0.22s. Est. time left: 00:00:00:00\n"
     ]
    },
    {
     "name": "stdout",
     "output_type": "stream",
     "text": [
      "90.9%. Run time:   0.25s. Est. time left: 00:00:00:00\n"
     ]
    },
    {
     "name": "stdout",
     "output_type": "stream",
     "text": [
      "100.0%. Run time:   0.27s. Est. time left: 00:00:00:00"
     ]
    },
    {
     "name": "stdout",
     "output_type": "stream",
     "text": [
      "\n"
     ]
    },
    {
     "name": "stdout",
     "output_type": "stream",
     "text": [
      "Total run time:   0.27s\n"
     ]
    },
    {
     "name": "stdout",
     "output_type": "stream",
     "text": [
      "10.1%. Run time:   0.04s. Est. time left: 00:00:00:00\n"
     ]
    },
    {
     "name": "stdout",
     "output_type": "stream",
     "text": [
      "20.2%. Run time:   0.06s. Est. time left: 00:00:00:00\n"
     ]
    },
    {
     "name": "stdout",
     "output_type": "stream",
     "text": [
      "30.3%. Run time:   0.09s. Est. time left: 00:00:00:00\n"
     ]
    },
    {
     "name": "stdout",
     "output_type": "stream",
     "text": [
      "40.4%. Run time:   0.12s. Est. time left: 00:00:00:00\n"
     ]
    },
    {
     "name": "stdout",
     "output_type": "stream",
     "text": [
      "50.5%. Run time:   0.14s. Est. time left: 00:00:00:00\n"
     ]
    },
    {
     "name": "stdout",
     "output_type": "stream",
     "text": [
      "60.6%. Run time:   0.17s. Est. time left: 00:00:00:00\n"
     ]
    },
    {
     "name": "stdout",
     "output_type": "stream",
     "text": [
      "70.7%. Run time:   0.19s. Est. time left: 00:00:00:00\n"
     ]
    },
    {
     "name": "stdout",
     "output_type": "stream",
     "text": [
      "80.8%. Run time:   0.22s. Est. time left: 00:00:00:00\n"
     ]
    },
    {
     "name": "stdout",
     "output_type": "stream",
     "text": [
      "90.9%. Run time:   0.25s. Est. time left: 00:00:00:00\n"
     ]
    },
    {
     "name": "stdout",
     "output_type": "stream",
     "text": [
      "100.0%. Run time:   0.27s. Est. time left: 00:00:00:00\n"
     ]
    },
    {
     "name": "stdout",
     "output_type": "stream",
     "text": [
      "Total run time:   0.27s\n"
     ]
    },
    {
     "name": "stdout",
     "output_type": "stream",
     "text": [
      "10.1%. Run time:   0.04s. Est. time left: 00:00:00:00\n"
     ]
    },
    {
     "name": "stdout",
     "output_type": "stream",
     "text": [
      "20.2%. Run time:   0.06s. Est. time left: 00:00:00:00\n"
     ]
    },
    {
     "name": "stdout",
     "output_type": "stream",
     "text": [
      "30.3%. Run time:   0.09s. Est. time left: 00:00:00:00\n"
     ]
    },
    {
     "name": "stdout",
     "output_type": "stream",
     "text": [
      "40.4%. Run time:   0.12s. Est. time left: 00:00:00:00\n"
     ]
    },
    {
     "name": "stdout",
     "output_type": "stream",
     "text": [
      "50.5%. Run time:   0.14s. Est. time left: 00:00:00:00\n"
     ]
    },
    {
     "name": "stdout",
     "output_type": "stream",
     "text": [
      "60.6%. Run time:   0.17s. Est. time left: 00:00:00:00\n"
     ]
    },
    {
     "name": "stdout",
     "output_type": "stream",
     "text": [
      "70.7%. Run time:   0.20s. Est. time left: 00:00:00:00\n"
     ]
    },
    {
     "name": "stdout",
     "output_type": "stream",
     "text": [
      "80.8%. Run time:   0.22s. Est. time left: 00:00:00:00\n"
     ]
    },
    {
     "name": "stdout",
     "output_type": "stream",
     "text": [
      "90.9%. Run time:   0.25s. Est. time left: 00:00:00:00"
     ]
    },
    {
     "name": "stdout",
     "output_type": "stream",
     "text": [
      "\n"
     ]
    },
    {
     "name": "stdout",
     "output_type": "stream",
     "text": [
      "100.0%. Run time:   0.27s. Est. time left: 00:00:00:00\n"
     ]
    },
    {
     "name": "stdout",
     "output_type": "stream",
     "text": [
      "Total run time:   0.27s\n"
     ]
    },
    {
     "name": "stdout",
     "output_type": "stream",
     "text": [
      "10.1%. Run time:   0.04s. Est. time left: 00:00:00:00\n"
     ]
    },
    {
     "name": "stdout",
     "output_type": "stream",
     "text": [
      "20.2%. Run time:   0.06s. Est. time left: 00:00:00:00\n"
     ]
    },
    {
     "name": "stdout",
     "output_type": "stream",
     "text": [
      "30.3%. Run time:   0.08s. Est. time left: 00:00:00:00\n"
     ]
    },
    {
     "name": "stdout",
     "output_type": "stream",
     "text": [
      "40.4%. Run time:   0.11s. Est. time left: 00:00:00:00"
     ]
    },
    {
     "name": "stdout",
     "output_type": "stream",
     "text": [
      "\n"
     ]
    },
    {
     "name": "stdout",
     "output_type": "stream",
     "text": [
      "50.5%. Run time:   0.13s. Est. time left: 00:00:00:00\n"
     ]
    },
    {
     "name": "stdout",
     "output_type": "stream",
     "text": [
      "60.6%. Run time:   0.16s. Est. time left: 00:00:00:00\n"
     ]
    },
    {
     "name": "stdout",
     "output_type": "stream",
     "text": [
      "70.7%. Run time:   0.18s. Est. time left: 00:00:00:00\n"
     ]
    },
    {
     "name": "stdout",
     "output_type": "stream",
     "text": [
      "80.8%. Run time:   0.20s. Est. time left: 00:00:00:00"
     ]
    },
    {
     "name": "stdout",
     "output_type": "stream",
     "text": [
      "\n"
     ]
    },
    {
     "name": "stdout",
     "output_type": "stream",
     "text": [
      "90.9%. Run time:   0.23s. Est. time left: 00:00:00:00\n"
     ]
    },
    {
     "name": "stdout",
     "output_type": "stream",
     "text": [
      "100.0%. Run time:   0.25s. Est. time left: 00:00:00:00\n"
     ]
    },
    {
     "name": "stdout",
     "output_type": "stream",
     "text": [
      "Total run time:   0.25s\n"
     ]
    },
    {
     "name": "stdout",
     "output_type": "stream",
     "text": [
      "10.1%. Run time:   0.04s. Est. time left: 00:00:00:00\n"
     ]
    },
    {
     "name": "stdout",
     "output_type": "stream",
     "text": [
      "20.2%. Run time:   0.06s. Est. time left: 00:00:00:00"
     ]
    },
    {
     "name": "stdout",
     "output_type": "stream",
     "text": [
      "\n"
     ]
    },
    {
     "name": "stdout",
     "output_type": "stream",
     "text": [
      "30.3%. Run time:   0.08s. Est. time left: 00:00:00:00\n"
     ]
    },
    {
     "name": "stdout",
     "output_type": "stream",
     "text": [
      "40.4%. Run time:   0.11s. Est. time left: 00:00:00:00\n"
     ]
    },
    {
     "name": "stdout",
     "output_type": "stream",
     "text": [
      "50.5%. Run time:   0.13s. Est. time left: 00:00:00:00\n"
     ]
    },
    {
     "name": "stdout",
     "output_type": "stream",
     "text": [
      "60.6%. Run time:   0.16s. Est. time left: 00:00:00:00"
     ]
    },
    {
     "name": "stdout",
     "output_type": "stream",
     "text": [
      "\n"
     ]
    },
    {
     "name": "stdout",
     "output_type": "stream",
     "text": [
      "70.7%. Run time:   0.18s. Est. time left: 00:00:00:00\n"
     ]
    },
    {
     "name": "stdout",
     "output_type": "stream",
     "text": [
      "80.8%. Run time:   0.20s. Est. time left: 00:00:00:00\n"
     ]
    },
    {
     "name": "stdout",
     "output_type": "stream",
     "text": [
      "90.9%. Run time:   0.23s. Est. time left: 00:00:00:00\n"
     ]
    },
    {
     "name": "stdout",
     "output_type": "stream",
     "text": [
      "100.0%. Run time:   0.25s. Est. time left: 00:00:00:00\n"
     ]
    },
    {
     "name": "stdout",
     "output_type": "stream",
     "text": [
      "Total run time:   0.25s\n"
     ]
    },
    {
     "name": "stdout",
     "output_type": "stream",
     "text": [
      "10.1%. Run time:   0.04s. Est. time left: 00:00:00:00\n"
     ]
    },
    {
     "name": "stdout",
     "output_type": "stream",
     "text": [
      "20.2%. Run time:   0.06s. Est. time left: 00:00:00:00"
     ]
    },
    {
     "name": "stdout",
     "output_type": "stream",
     "text": [
      "\n"
     ]
    },
    {
     "name": "stdout",
     "output_type": "stream",
     "text": [
      "30.3%. Run time:   0.08s. Est. time left: 00:00:00:00\n"
     ]
    },
    {
     "name": "stdout",
     "output_type": "stream",
     "text": [
      "40.4%. Run time:   0.11s. Est. time left: 00:00:00:00"
     ]
    },
    {
     "name": "stdout",
     "output_type": "stream",
     "text": [
      "\n"
     ]
    },
    {
     "name": "stdout",
     "output_type": "stream",
     "text": [
      "50.5%. Run time:   0.13s. Est. time left: 00:00:00:00\n"
     ]
    },
    {
     "name": "stdout",
     "output_type": "stream",
     "text": [
      "60.6%. Run time:   0.16s. Est. time left: 00:00:00:00\n"
     ]
    },
    {
     "name": "stdout",
     "output_type": "stream",
     "text": [
      "70.7%. Run time:   0.18s. Est. time left: 00:00:00:00\n"
     ]
    },
    {
     "name": "stdout",
     "output_type": "stream",
     "text": [
      "80.8%. Run time:   0.20s. Est. time left: 00:00:00:00"
     ]
    },
    {
     "name": "stdout",
     "output_type": "stream",
     "text": [
      "\n"
     ]
    },
    {
     "name": "stdout",
     "output_type": "stream",
     "text": [
      "90.9%. Run time:   0.23s. Est. time left: 00:00:00:00\n"
     ]
    },
    {
     "name": "stdout",
     "output_type": "stream",
     "text": [
      "100.0%. Run time:   0.25s. Est. time left: 00:00:00:00\n"
     ]
    },
    {
     "name": "stdout",
     "output_type": "stream",
     "text": [
      "Total run time:   0.25s\n"
     ]
    },
    {
     "name": "stdout",
     "output_type": "stream",
     "text": [
      "10.1%. Run time:   0.04s. Est. time left: 00:00:00:00\n"
     ]
    },
    {
     "name": "stdout",
     "output_type": "stream",
     "text": [
      "20.2%. Run time:   0.06s. Est. time left: 00:00:00:00\n"
     ]
    },
    {
     "name": "stdout",
     "output_type": "stream",
     "text": [
      "30.3%. Run time:   0.08s. Est. time left: 00:00:00:00"
     ]
    },
    {
     "name": "stdout",
     "output_type": "stream",
     "text": [
      "\n"
     ]
    },
    {
     "name": "stdout",
     "output_type": "stream",
     "text": [
      "40.4%. Run time:   0.11s. Est. time left: 00:00:00:00\n"
     ]
    },
    {
     "name": "stdout",
     "output_type": "stream",
     "text": [
      "50.5%. Run time:   0.13s. Est. time left: 00:00:00:00"
     ]
    },
    {
     "name": "stdout",
     "output_type": "stream",
     "text": [
      "\n"
     ]
    },
    {
     "name": "stdout",
     "output_type": "stream",
     "text": [
      "60.6%. Run time:   0.16s. Est. time left: 00:00:00:00\n"
     ]
    },
    {
     "name": "stdout",
     "output_type": "stream",
     "text": [
      "70.7%. Run time:   0.18s. Est. time left: 00:00:00:00"
     ]
    },
    {
     "name": "stdout",
     "output_type": "stream",
     "text": [
      "\n"
     ]
    },
    {
     "name": "stdout",
     "output_type": "stream",
     "text": [
      "80.8%. Run time:   0.20s. Est. time left: 00:00:00:00\n"
     ]
    },
    {
     "name": "stdout",
     "output_type": "stream",
     "text": [
      "90.9%. Run time:   0.23s. Est. time left: 00:00:00:00\n"
     ]
    },
    {
     "name": "stdout",
     "output_type": "stream",
     "text": [
      "100.0%. Run time:   0.25s. Est. time left: 00:00:00:00\n"
     ]
    },
    {
     "name": "stdout",
     "output_type": "stream",
     "text": [
      "Total run time:   0.25s\n"
     ]
    },
    {
     "name": "stdout",
     "output_type": "stream",
     "text": [
      "10.1%. Run time:   0.04s. Est. time left: 00:00:00:00"
     ]
    },
    {
     "name": "stdout",
     "output_type": "stream",
     "text": [
      "\n"
     ]
    },
    {
     "name": "stdout",
     "output_type": "stream",
     "text": [
      "20.2%. Run time:   0.06s. Est. time left: 00:00:00:00\n"
     ]
    },
    {
     "name": "stdout",
     "output_type": "stream",
     "text": [
      "30.3%. Run time:   0.08s. Est. time left: 00:00:00:00\n"
     ]
    },
    {
     "name": "stdout",
     "output_type": "stream",
     "text": [
      "40.4%. Run time:   0.11s. Est. time left: 00:00:00:00\n"
     ]
    },
    {
     "name": "stdout",
     "output_type": "stream",
     "text": [
      "50.5%. Run time:   0.13s. Est. time left: 00:00:00:00"
     ]
    },
    {
     "name": "stdout",
     "output_type": "stream",
     "text": [
      "\n"
     ]
    },
    {
     "name": "stdout",
     "output_type": "stream",
     "text": [
      "60.6%. Run time:   0.16s. Est. time left: 00:00:00:00"
     ]
    },
    {
     "name": "stdout",
     "output_type": "stream",
     "text": [
      "\n"
     ]
    },
    {
     "name": "stdout",
     "output_type": "stream",
     "text": [
      "70.7%. Run time:   0.18s. Est. time left: 00:00:00:00"
     ]
    },
    {
     "name": "stdout",
     "output_type": "stream",
     "text": [
      "\n"
     ]
    },
    {
     "name": "stdout",
     "output_type": "stream",
     "text": [
      "80.8%. Run time:   0.20s. Est. time left: 00:00:00:00\n"
     ]
    },
    {
     "name": "stdout",
     "output_type": "stream",
     "text": [
      "90.9%. Run time:   0.23s. Est. time left: 00:00:00:00\n"
     ]
    },
    {
     "name": "stdout",
     "output_type": "stream",
     "text": [
      "100.0%. Run time:   0.25s. Est. time left: 00:00:00:00\n"
     ]
    },
    {
     "name": "stdout",
     "output_type": "stream",
     "text": [
      "Total run time:   0.25s\n"
     ]
    },
    {
     "name": "stdout",
     "output_type": "stream",
     "text": [
      "10.1%. Run time:   0.04s. Est. time left: 00:00:00:00\n"
     ]
    },
    {
     "name": "stdout",
     "output_type": "stream",
     "text": [
      "20.2%. Run time:   0.06s. Est. time left: 00:00:00:00\n"
     ]
    },
    {
     "name": "stdout",
     "output_type": "stream",
     "text": [
      "30.3%. Run time:   0.08s. Est. time left: 00:00:00:00\n"
     ]
    },
    {
     "name": "stdout",
     "output_type": "stream",
     "text": [
      "40.4%. Run time:   0.11s. Est. time left: 00:00:00:00\n"
     ]
    },
    {
     "name": "stdout",
     "output_type": "stream",
     "text": [
      "50.5%. Run time:   0.13s. Est. time left: 00:00:00:00\n"
     ]
    },
    {
     "name": "stdout",
     "output_type": "stream",
     "text": [
      "60.6%. Run time:   0.16s. Est. time left: 00:00:00:00\n"
     ]
    },
    {
     "name": "stdout",
     "output_type": "stream",
     "text": [
      "70.7%. Run time:   0.18s. Est. time left: 00:00:00:00"
     ]
    },
    {
     "name": "stdout",
     "output_type": "stream",
     "text": [
      "\n"
     ]
    },
    {
     "name": "stdout",
     "output_type": "stream",
     "text": [
      "80.8%. Run time:   0.21s. Est. time left: 00:00:00:00"
     ]
    },
    {
     "name": "stdout",
     "output_type": "stream",
     "text": [
      "\n"
     ]
    },
    {
     "name": "stdout",
     "output_type": "stream",
     "text": [
      "90.9%. Run time:   0.23s. Est. time left: 00:00:00:00\n"
     ]
    },
    {
     "name": "stdout",
     "output_type": "stream",
     "text": [
      "100.0%. Run time:   0.25s. Est. time left: 00:00:00:00\n"
     ]
    },
    {
     "name": "stdout",
     "output_type": "stream",
     "text": [
      "Total run time:   0.25s\n"
     ]
    },
    {
     "name": "stdout",
     "output_type": "stream",
     "text": [
      "10.1%. Run time:   0.04s. Est. time left: 00:00:00:00"
     ]
    },
    {
     "name": "stdout",
     "output_type": "stream",
     "text": [
      "\n"
     ]
    },
    {
     "name": "stdout",
     "output_type": "stream",
     "text": [
      "20.2%. Run time:   0.06s. Est. time left: 00:00:00:00\n"
     ]
    },
    {
     "name": "stdout",
     "output_type": "stream",
     "text": [
      "30.3%. Run time:   0.09s. Est. time left: 00:00:00:00\n"
     ]
    },
    {
     "name": "stdout",
     "output_type": "stream",
     "text": [
      "40.4%. Run time:   0.11s. Est. time left: 00:00:00:00\n"
     ]
    },
    {
     "name": "stdout",
     "output_type": "stream",
     "text": [
      "50.5%. Run time:   0.13s. Est. time left: 00:00:00:00\n"
     ]
    },
    {
     "name": "stdout",
     "output_type": "stream",
     "text": [
      "60.6%. Run time:   0.16s. Est. time left: 00:00:00:00\n"
     ]
    },
    {
     "name": "stdout",
     "output_type": "stream",
     "text": [
      "70.7%. Run time:   0.18s. Est. time left: 00:00:00:00\n"
     ]
    },
    {
     "name": "stdout",
     "output_type": "stream",
     "text": [
      "80.8%. Run time:   0.21s. Est. time left: 00:00:00:00"
     ]
    },
    {
     "name": "stdout",
     "output_type": "stream",
     "text": [
      "\n"
     ]
    },
    {
     "name": "stdout",
     "output_type": "stream",
     "text": [
      "90.9%. Run time:   0.23s. Est. time left: 00:00:00:00\n"
     ]
    },
    {
     "name": "stdout",
     "output_type": "stream",
     "text": [
      "100.0%. Run time:   0.26s. Est. time left: 00:00:00:00\n"
     ]
    },
    {
     "name": "stdout",
     "output_type": "stream",
     "text": [
      "Total run time:   0.26s\n"
     ]
    },
    {
     "name": "stdout",
     "output_type": "stream",
     "text": [
      "10.1%. Run time:   0.04s. Est. time left: 00:00:00:00\n"
     ]
    },
    {
     "name": "stdout",
     "output_type": "stream",
     "text": [
      "20.2%. Run time:   0.06s. Est. time left: 00:00:00:00\n"
     ]
    },
    {
     "name": "stdout",
     "output_type": "stream",
     "text": [
      "30.3%. Run time:   0.09s. Est. time left: 00:00:00:00\n"
     ]
    },
    {
     "name": "stdout",
     "output_type": "stream",
     "text": [
      "40.4%. Run time:   0.11s. Est. time left: 00:00:00:00\n"
     ]
    },
    {
     "name": "stdout",
     "output_type": "stream",
     "text": [
      "50.5%. Run time:   0.14s. Est. time left: 00:00:00:00\n"
     ]
    },
    {
     "name": "stdout",
     "output_type": "stream",
     "text": [
      "60.6%. Run time:   0.16s. Est. time left: 00:00:00:00\n"
     ]
    },
    {
     "name": "stdout",
     "output_type": "stream",
     "text": [
      "70.7%. Run time:   0.18s. Est. time left: 00:00:00:00\n"
     ]
    },
    {
     "name": "stdout",
     "output_type": "stream",
     "text": [
      "80.8%. Run time:   0.21s. Est. time left: 00:00:00:00"
     ]
    },
    {
     "name": "stdout",
     "output_type": "stream",
     "text": [
      "\n"
     ]
    },
    {
     "name": "stdout",
     "output_type": "stream",
     "text": [
      "90.9%. Run time:   0.23s. Est. time left: 00:00:00:00\n"
     ]
    },
    {
     "name": "stdout",
     "output_type": "stream",
     "text": [
      "100.0%. Run time:   0.25s. Est. time left: 00:00:00:00\n"
     ]
    },
    {
     "name": "stdout",
     "output_type": "stream",
     "text": [
      "Total run time:   0.25s\n"
     ]
    }
   ],
   "source": [
    "result = backend.run(\n",
    "    experiment,\n",
    "    hilbert_space=hilbert_space,\n",
    "    timestep=1e-2,\n",
    ")"
   ]
  },
  {
   "cell_type": "code",
   "execution_count": 9,
   "metadata": {
    "execution": {
     "iopub.execute_input": "2025-02-24T00:13:11.879883Z",
     "iopub.status.busy": "2025-02-24T00:13:11.879617Z",
     "iopub.status.idle": "2025-02-24T00:13:12.371577Z",
     "shell.execute_reply": "2025-02-24T00:13:12.370891Z"
    }
   },
   "outputs": [
    {
     "data": {
      "text/plain": [
       "<matplotlib.legend.Legend at 0x19a967506e0>"
      ]
     },
     "execution_count": 9,
     "metadata": {},
     "output_type": "execute_result"
    },
    {
     "data": {
      "image/png": "[encoded data removed]",
      "text/plain": [
       "<Figure size 1200x800 with 1 Axes>"
      ]
     },
     "metadata": {},
     "output_type": "display_data"
    }
   ],
   "source": [
    "k = slice(None, None, 1)\n",
    "\n",
    "fig = plt.figure()\n",
    "\n",
    "ax = fig.subplots(1, 1, sharex=True)\n",
    "\n",
    "ax.plot(\n",
    "    result[\"tspan\"][k],\n",
    "    [s.ptrace(0).diag()[:] for s in result[\"states\"][k]],\n",
    "    label=[rf\"${level.label}$\" for level in Yb171.levels],\n",
    ")\n",
    "ax.plot(\n",
    "    result[\"tspan\"][slice(None, None, len(result[\"tspan\"]) - 1)],\n",
    "    np.zeros(2),\n",
    "    \"--\",\n",
    "    alpha=0.5,\n",
    "    color=\"k\",\n",
    ")\n",
    "ax.plot(\n",
    "    result[\"tspan\"][slice(None, None, len(result[\"tspan\"]) - 1)],\n",
    "    np.ones(2),\n",
    "    \"--\",\n",
    "    alpha=0.5,\n",
    "    color=\"k\",\n",
    ")\n",
    "\n",
    "ax.set_xlabel(r\"$t$\", labelpad=10)\n",
    "ax.set_ylabel(r\"$P(| \\psi \\rangle)$\", labelpad=10)\n",
    "\n",
    "ax.legend()"
   ]
  },
  {
   "cell_type": "code",
   "execution_count": 10,
   "metadata": {
    "execution": {
     "iopub.execute_input": "2025-02-24T00:13:12.373568Z",
     "iopub.status.busy": "2025-02-24T00:13:12.373368Z",
     "iopub.status.idle": "2025-02-24T00:13:12.877321Z",
     "shell.execute_reply": "2025-02-24T00:13:12.876879Z"
    }
   },
   "outputs": [
    {
     "data": {
      "text/plain": [
       "<matplotlib.legend.Legend at 0x19a99643d90>"
      ]
     },
     "execution_count": 10,
     "metadata": {},
     "output_type": "execute_result"
    },
    {
     "data": {
      "image/png": "[encoded data removed]",
      "text/plain": [
       "<Figure size 1200x800 with 1 Axes>"
      ]
     },
     "metadata": {},
     "output_type": "display_data"
    }
   ],
   "source": [
    "k = slice(None, None, 1)\n",
    "\n",
    "fig = plt.figure()\n",
    "\n",
    "ax = fig.subplots(1, 1, sharex=True)\n",
    "\n",
    "ax.plot(\n",
    "    result[\"tspan\"][k],\n",
    "    [s.ptrace(1).diag()[:] for s in result[\"states\"][k]],\n",
    "    label=[rf\"$n={i}$\" for i in range(10)],\n",
    ")\n",
    "\n",
    "ax.plot(\n",
    "    result[\"tspan\"][slice(None, None, len(result[\"tspan\"]) - 1)],\n",
    "    np.zeros(2),\n",
    "    \"--\",\n",
    "    alpha=0.5,\n",
    "    color=\"k\",\n",
    ")\n",
    "ax.plot(\n",
    "    result[\"tspan\"][slice(None, None, len(result[\"tspan\"]) - 1)],\n",
    "    np.ones(2),\n",
    "    \"--\",\n",
    "    alpha=0.5,\n",
    "    color=\"k\",\n",
    ")\n",
    "\n",
    "ax.set_xlabel(r\"$t$\", labelpad=10)\n",
    "ax.set_ylabel(r\"$P(| n \\rangle)$\", labelpad=10)\n",
    "\n",
    "ax.legend()"
   ]
  },
  {
   "cell_type": "code",
   "execution_count": null,
   "metadata": {},
   "outputs": [],
   "source": []
  }
 ],
 "metadata": {
  "kernelspec": {
   "display_name": ".venv",
   "language": "python",
   "name": "python3"
  },
  "language_info": {
   "codemirror_mode": {
    "name": "ipython",
    "version": 3
   },
   "file_extension": ".py",
   "mimetype": "text/x-python",
   "name": "python",
   "nbconvert_exporter": "python",
   "pygments_lexer": "ipython3",
   "version": "3.13.2"
  }
 },
 "nbformat": 4,
 "nbformat_minor": 2
}
