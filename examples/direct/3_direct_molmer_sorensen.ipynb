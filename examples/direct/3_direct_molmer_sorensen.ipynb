{
  "cells": [
    {
      "cell_type": "markdown",
      "metadata": {},
      "source": [
        "# Direct Transition (Microwave)\n"
      ]
    },
    {
      "cell_type": "markdown",
      "metadata": {},
      "source": [
        "## Atomic Circuit\n"
      ]
    },
    {
      "cell_type": "code",
      "execution_count": 1,
      "metadata": {
        "execution": {
          "iopub.execute_input": "2025-02-23T23:31:36.810336Z",
          "iopub.status.busy": "2025-02-23T23:31:36.810155Z",
          "iopub.status.idle": "2025-02-23T23:31:36.817304Z",
          "shell.execute_reply": "2025-02-23T23:31:36.816742Z"
        }
      },
      "outputs": [],
      "source": [
        "import numpy as np\n",
        "from oqd_core.interface.atomic import (\n",
        "    AtomicCircuit,\n",
        "    Beam,\n",
        "    Ion,\n",
        "    Level,\n",
        "    ParallelProtocol,  # noqa: F401\n",
        "    Phonon,\n",
        "    Pulse,\n",
        "    SequentialProtocol,  # noqa: F401\n",
        "    System,\n",
        "    Transition,\n",
        ")\n",
        "\n",
        "downstate = Level(\n",
        "    principal=6,\n",
        "    spin=1 / 2,\n",
        "    orbital=0,\n",
        "    nuclear=1 / 2,\n",
        "    spin_orbital=1 / 2,\n",
        "    spin_orbital_nuclear=0,\n",
        "    spin_orbital_nuclear_magnetization=0,\n",
        "    energy=2 * np.pi * 0,\n",
        "    label=\"q0\",\n",
        ")\n",
        "upstate = Level(\n",
        "    principal=6,\n",
        "    spin=1 / 2,\n",
        "    orbital=0,\n",
        "    nuclear=1 / 2,\n",
        "    spin_orbital=1 / 2,\n",
        "    spin_orbital_nuclear=1,\n",
        "    spin_orbital_nuclear_magnetization=0,\n",
        "    energy=2 * np.pi * 12.643e9,\n",
        "    label=\"q1\",\n",
        ")\n",
        "estate = Level(\n",
        "    principal=5,\n",
        "    spin=1 / 2,\n",
        "    orbital=1,\n",
        "    nuclear=1 / 2,\n",
        "    spin_orbital=1 / 2,\n",
        "    spin_orbital_nuclear=1,\n",
        "    spin_orbital_nuclear_magnetization=-1,\n",
        "    energy=2 * np.pi * 811.29e12,\n",
        "    label=\"e0\",\n",
        ")\n",
        "estate2 = Level(\n",
        "    principal=5,\n",
        "    spin=1 / 2,\n",
        "    orbital=1,\n",
        "    nuclear=1 / 2,\n",
        "    spin_orbital=1 / 2,\n",
        "    spin_orbital_nuclear=1,\n",
        "    spin_orbital_nuclear_magnetization=1,\n",
        "    energy=2 * np.pi * 911.14e12,\n",
        "    label=\"e1\",\n",
        ")\n",
        "\n",
        "transitions = [\n",
        "    Transition(\n",
        "        level1=downstate, level2=upstate, einsteinA=1, multipole=\"M1\", label=\"q0->q1\"\n",
        "    ),\n",
        "    Transition(\n",
        "        level1=downstate, level2=estate, einsteinA=1, multipole=\"E1\", label=\"q0->e0\"\n",
        "    ),\n",
        "    Transition(\n",
        "        level1=downstate, level2=estate2, einsteinA=1, multipole=\"E1\", label=\"q0->e1\"\n",
        "    ),\n",
        "    Transition(\n",
        "        level1=upstate, level2=estate, einsteinA=1, multipole=\"E1\", label=\"q1->e0\"\n",
        "    ),\n",
        "    Transition(\n",
        "        level1=upstate, level2=estate2, einsteinA=1, multipole=\"E1\", label=\"q1->e1\"\n",
        "    ),\n",
        "]\n",
        "\n",
        "Yb171 = Ion(\n",
        "    mass=171,\n",
        "    charge=1,\n",
        "    position=[0, 0, -1],\n",
        "    levels=[downstate, upstate, estate, estate2],\n",
        "    transitions=transitions,\n",
        ")\n",
        "\n",
        "Yb171_2 = Ion(\n",
        "    mass=171,\n",
        "    charge=1,\n",
        "    position=[0, 0, 1],\n",
        "    levels=[downstate, upstate, estate, estate2],\n",
        "    transitions=transitions,\n",
        ")\n",
        "\n",
        "COM_x = Phonon(\n",
        "    energy=2 * np.pi * 1e6, eigenvector=[1 / np.sqrt(2), 0, 0, 1 / np.sqrt(2), 0, 0]\n",
        ")\n",
        "\n",
        "system = System(\n",
        "    ions=[Yb171, Yb171_2],\n",
        "    modes=[\n",
        "        COM_x,\n",
        "    ],\n",
        ")\n",
        "\n",
        "beam = Beam(\n",
        "    transition=transitions[0],\n",
        "    rabi=2 * np.pi * 1e6,\n",
        "    detuning=-2 * np.pi * 1.1e6,\n",
        "    phase=0,\n",
        "    polarization=[0, 1, 0],\n",
        "    wavevector=[1, 0, 0],\n",
        "    target=0,\n",
        ")\n",
        "\n",
        "beam2 = Beam(\n",
        "    transition=transitions[0],\n",
        "    rabi=2 * np.pi * 1e6,\n",
        "    detuning=2 * np.pi * 1.1e6,\n",
        "    phase=0,\n",
        "    polarization=[0, 1, 0],\n",
        "    wavevector=[1, 0, 0],\n",
        "    target=0,\n",
        ")\n",
        "\n",
        "beam3 = Beam(\n",
        "    transition=transitions[0],\n",
        "    rabi=2 * np.pi * 1e6,\n",
        "    detuning=-2 * np.pi * 1.1e6,\n",
        "    phase=0,\n",
        "    polarization=[0, 1, 0],\n",
        "    wavevector=[1, 0, 0],\n",
        "    target=1,\n",
        ")\n",
        "\n",
        "beam4 = Beam(\n",
        "    transition=transitions[0],\n",
        "    rabi=2 * np.pi * 1e6,\n",
        "    detuning=2 * np.pi * 1.1e6,\n",
        "    phase=0,\n",
        "    polarization=[0, 1, 0],\n",
        "    wavevector=[1, 0, 0],\n",
        "    target=1,\n",
        ")\n",
        "\n",
        "\n",
        "protocol = ParallelProtocol(\n",
        "    sequence=[\n",
        "        Pulse(beam=beam, duration=1e-6),\n",
        "        Pulse(beam=beam2, duration=1e-6),\n",
        "        Pulse(beam=beam3, duration=1e-6),\n",
        "        Pulse(beam=beam4, duration=1e-6),\n",
        "    ]\n",
        ")\n",
        "\n",
        "circuit = AtomicCircuit(system=system, protocol=protocol)"
      ]
    },
    {
      "cell_type": "markdown",
      "metadata": {},
      "source": [
        "### Serialization & Deserialization\n"
      ]
    },
    {
      "cell_type": "code",
      "execution_count": 2,
      "metadata": {
        "execution": {
          "iopub.execute_input": "2025-02-23T23:31:36.819019Z",
          "iopub.status.busy": "2025-02-23T23:31:36.818859Z",
          "iopub.status.idle": "2025-02-23T23:31:36.822252Z",
          "shell.execute_reply": "2025-02-23T23:31:36.821903Z"
        }
      },
      "outputs": [],
      "source": [
        "import json\n",
        "\n",
        "circuit_json = circuit.model_dump_json()\n",
        "circuit_json = json.dumps(json.loads(circuit_json), indent=2)\n",
        "\n",
        "with open(\"3_direct_molmer_sorensen.json\", \"w\") as f:\n",
        "    f.write(circuit_json)"
      ]
    },
    {
      "cell_type": "code",
      "execution_count": 3,
      "metadata": {
        "execution": {
          "iopub.execute_input": "2025-02-23T23:31:36.823925Z",
          "iopub.status.busy": "2025-02-23T23:31:36.823764Z",
          "iopub.status.idle": "2025-02-23T23:31:36.827701Z",
          "shell.execute_reply": "2025-02-23T23:31:36.827363Z"
        }
      },
      "outputs": [],
      "source": [
        "with open(\"3_direct_molmer_sorensen.json\", \"r\") as f:\n",
        "    circuit_json = f.read()\n",
        "\n",
        "assert AtomicCircuit.model_validate_json(circuit_json) == circuit"
      ]
    },
    {
      "cell_type": "markdown",
      "metadata": {},
      "source": [
        "## Qutip Intepreter\n"
      ]
    },
    {
      "cell_type": "markdown",
      "metadata": {},
      "source": [
        "### Compile\n"
      ]
    },
    {
      "cell_type": "code",
      "execution_count": 4,
      "metadata": {
        "execution": {
          "iopub.execute_input": "2025-02-23T23:31:36.829286Z",
          "iopub.status.busy": "2025-02-23T23:31:36.829098Z",
          "iopub.status.idle": "2025-02-23T23:32:02.634591Z",
          "shell.execute_reply": "2025-02-23T23:32:02.634039Z"
        }
      },
      "outputs": [
        {
          "ename": "KeyboardInterrupt",
          "evalue": "",
          "output_type": "error",
          "traceback": [
            "\u001b[1;31m---------------------------------------------------------------------------\u001b[0m",
            "\u001b[1;31mKeyboardInterrupt\u001b[0m                         Traceback (most recent call last)",
            "Cell \u001b[1;32mIn[4], line 27\u001b[0m\n\u001b[0;32m     24\u001b[0m backend \u001b[38;5;241m=\u001b[39m QutipBackend(approx_pass\u001b[38;5;241m=\u001b[39mapprox_pass)\n\u001b[0;32m     26\u001b[0m fock_cutoff \u001b[38;5;241m=\u001b[39m \u001b[38;5;241m3\u001b[39m\n\u001b[1;32m---> 27\u001b[0m experiment, hilbert_space \u001b[38;5;241m=\u001b[39m \u001b[43mbackend\u001b[49m\u001b[38;5;241;43m.\u001b[39;49m\u001b[43mcompile\u001b[49m\u001b[43m(\u001b[49m\u001b[43mcircuit\u001b[49m\u001b[43m,\u001b[49m\u001b[43m \u001b[49m\u001b[43mfock_cutoff\u001b[49m\u001b[43m)\u001b[49m\n",
            "File \u001b[1;32mD:\\work\\Projects\\TrICal\\src\\oqd_trical\\backend\\qutip\\base.py:83\u001b[0m, in \u001b[0;36mQutipBackend.compile\u001b[1;34m(self, circuit, fock_cutoff)\u001b[0m\n\u001b[0;32m     80\u001b[0m intermediate \u001b[38;5;241m=\u001b[39m canonicalize_emulator_circuit_factory()(intermediate)\n\u001b[0;32m     82\u001b[0m \u001b[38;5;28;01mif\u001b[39;00m \u001b[38;5;28mself\u001b[39m\u001b[38;5;241m.\u001b[39mapprox_pass:\n\u001b[1;32m---> 83\u001b[0m     intermediate \u001b[38;5;241m=\u001b[39m \u001b[43mChain\u001b[49m\u001b[43m(\u001b[49m\n\u001b[0;32m     84\u001b[0m \u001b[43m        \u001b[49m\u001b[38;5;28;43mself\u001b[39;49m\u001b[38;5;241;43m.\u001b[39;49m\u001b[43mapprox_pass\u001b[49m\u001b[43m,\u001b[49m\u001b[43m \u001b[49m\u001b[43mcanonicalize_emulator_circuit_factory\u001b[49m\u001b[43m(\u001b[49m\u001b[43m)\u001b[49m\n\u001b[0;32m     85\u001b[0m \u001b[43m    \u001b[49m\u001b[43m)\u001b[49m\u001b[43m(\u001b[49m\u001b[43mintermediate\u001b[49m\u001b[43m)\u001b[49m\n\u001b[0;32m     87\u001b[0m get_hilbert_space \u001b[38;5;241m=\u001b[39m GetHilbertSpace()\n\u001b[0;32m     88\u001b[0m analysis \u001b[38;5;241m=\u001b[39m Post(get_hilbert_space)\n",
            "File \u001b[1;32md:\\work\\Projects\\TrICal\\.venv\\Lib\\site-packages\\oqd_compiler_infrastructure\\base.py:42\u001b[0m, in \u001b[0;36mPassBase.__call__\u001b[1;34m(self, model)\u001b[0m\n\u001b[0;32m     39\u001b[0m \u001b[38;5;28;01mdef\u001b[39;00m\u001b[38;5;250m \u001b[39m\u001b[38;5;21m__call__\u001b[39m(\u001b[38;5;28mself\u001b[39m, model):\n\u001b[0;32m     40\u001b[0m     \u001b[38;5;28mself\u001b[39m\u001b[38;5;241m.\u001b[39m_model \u001b[38;5;241m=\u001b[39m model\n\u001b[1;32m---> 42\u001b[0m     model \u001b[38;5;241m=\u001b[39m \u001b[38;5;28;43mself\u001b[39;49m\u001b[38;5;241;43m.\u001b[39;49m\u001b[43mmap\u001b[49m\u001b[43m(\u001b[49m\u001b[43mmodel\u001b[49m\u001b[43m)\u001b[49m\n\u001b[0;32m     43\u001b[0m     \u001b[38;5;28;01mif\u001b[39;00m model \u001b[38;5;129;01mis\u001b[39;00m \u001b[38;5;28;01mNone\u001b[39;00m:\n\u001b[0;32m     44\u001b[0m         model \u001b[38;5;241m=\u001b[39m \u001b[38;5;28mself\u001b[39m\u001b[38;5;241m.\u001b[39m_model\n",
            "File \u001b[1;32md:\\work\\Projects\\TrICal\\.venv\\Lib\\site-packages\\oqd_compiler_infrastructure\\rewriter.py:64\u001b[0m, in \u001b[0;36mChain.map\u001b[1;34m(self, model)\u001b[0m\n\u001b[0;32m     62\u001b[0m new_model \u001b[38;5;241m=\u001b[39m model\n\u001b[0;32m     63\u001b[0m \u001b[38;5;28;01mfor\u001b[39;00m rule \u001b[38;5;129;01min\u001b[39;00m \u001b[38;5;28mself\u001b[39m\u001b[38;5;241m.\u001b[39mrules:\n\u001b[1;32m---> 64\u001b[0m     new_model \u001b[38;5;241m=\u001b[39m \u001b[43mrule\u001b[49m\u001b[43m(\u001b[49m\u001b[43mnew_model\u001b[49m\u001b[43m)\u001b[49m\n\u001b[0;32m     65\u001b[0m \u001b[38;5;28;01mreturn\u001b[39;00m new_model\n",
            "File \u001b[1;32md:\\work\\Projects\\TrICal\\.venv\\Lib\\site-packages\\oqd_compiler_infrastructure\\base.py:42\u001b[0m, in \u001b[0;36mPassBase.__call__\u001b[1;34m(self, model)\u001b[0m\n\u001b[0;32m     39\u001b[0m \u001b[38;5;28;01mdef\u001b[39;00m\u001b[38;5;250m \u001b[39m\u001b[38;5;21m__call__\u001b[39m(\u001b[38;5;28mself\u001b[39m, model):\n\u001b[0;32m     40\u001b[0m     \u001b[38;5;28mself\u001b[39m\u001b[38;5;241m.\u001b[39m_model \u001b[38;5;241m=\u001b[39m model\n\u001b[1;32m---> 42\u001b[0m     model \u001b[38;5;241m=\u001b[39m \u001b[38;5;28;43mself\u001b[39;49m\u001b[38;5;241;43m.\u001b[39;49m\u001b[43mmap\u001b[49m\u001b[43m(\u001b[49m\u001b[43mmodel\u001b[49m\u001b[43m)\u001b[49m\n\u001b[0;32m     43\u001b[0m     \u001b[38;5;28;01mif\u001b[39;00m model \u001b[38;5;129;01mis\u001b[39;00m \u001b[38;5;28;01mNone\u001b[39;00m:\n\u001b[0;32m     44\u001b[0m         model \u001b[38;5;241m=\u001b[39m \u001b[38;5;28mself\u001b[39m\u001b[38;5;241m.\u001b[39m_model\n",
            "File \u001b[1;32md:\\work\\Projects\\TrICal\\.venv\\Lib\\site-packages\\oqd_compiler_infrastructure\\rewriter.py:64\u001b[0m, in \u001b[0;36mChain.map\u001b[1;34m(self, model)\u001b[0m\n\u001b[0;32m     62\u001b[0m new_model \u001b[38;5;241m=\u001b[39m model\n\u001b[0;32m     63\u001b[0m \u001b[38;5;28;01mfor\u001b[39;00m rule \u001b[38;5;129;01min\u001b[39;00m \u001b[38;5;28mself\u001b[39m\u001b[38;5;241m.\u001b[39mrules:\n\u001b[1;32m---> 64\u001b[0m     new_model \u001b[38;5;241m=\u001b[39m \u001b[43mrule\u001b[49m\u001b[43m(\u001b[49m\u001b[43mnew_model\u001b[49m\u001b[43m)\u001b[49m\n\u001b[0;32m     65\u001b[0m \u001b[38;5;28;01mreturn\u001b[39;00m new_model\n",
            "    \u001b[1;31m[... skipping similar frames: PassBase.__call__ at line 42 (2 times), Chain.map at line 64 (1 times)]\u001b[0m\n",
            "File \u001b[1;32md:\\work\\Projects\\TrICal\\.venv\\Lib\\site-packages\\oqd_compiler_infrastructure\\rewriter.py:64\u001b[0m, in \u001b[0;36mChain.map\u001b[1;34m(self, model)\u001b[0m\n\u001b[0;32m     62\u001b[0m new_model \u001b[38;5;241m=\u001b[39m model\n\u001b[0;32m     63\u001b[0m \u001b[38;5;28;01mfor\u001b[39;00m rule \u001b[38;5;129;01min\u001b[39;00m \u001b[38;5;28mself\u001b[39m\u001b[38;5;241m.\u001b[39mrules:\n\u001b[1;32m---> 64\u001b[0m     new_model \u001b[38;5;241m=\u001b[39m \u001b[43mrule\u001b[49m\u001b[43m(\u001b[49m\u001b[43mnew_model\u001b[49m\u001b[43m)\u001b[49m\n\u001b[0;32m     65\u001b[0m \u001b[38;5;28;01mreturn\u001b[39;00m new_model\n",
            "File \u001b[1;32md:\\work\\Projects\\TrICal\\.venv\\Lib\\site-packages\\oqd_compiler_infrastructure\\base.py:42\u001b[0m, in \u001b[0;36mPassBase.__call__\u001b[1;34m(self, model)\u001b[0m\n\u001b[0;32m     39\u001b[0m \u001b[38;5;28;01mdef\u001b[39;00m\u001b[38;5;250m \u001b[39m\u001b[38;5;21m__call__\u001b[39m(\u001b[38;5;28mself\u001b[39m, model):\n\u001b[0;32m     40\u001b[0m     \u001b[38;5;28mself\u001b[39m\u001b[38;5;241m.\u001b[39m_model \u001b[38;5;241m=\u001b[39m model\n\u001b[1;32m---> 42\u001b[0m     model \u001b[38;5;241m=\u001b[39m \u001b[38;5;28;43mself\u001b[39;49m\u001b[38;5;241;43m.\u001b[39;49m\u001b[43mmap\u001b[49m\u001b[43m(\u001b[49m\u001b[43mmodel\u001b[49m\u001b[43m)\u001b[49m\n\u001b[0;32m     43\u001b[0m     \u001b[38;5;28;01mif\u001b[39;00m model \u001b[38;5;129;01mis\u001b[39;00m \u001b[38;5;28;01mNone\u001b[39;00m:\n\u001b[0;32m     44\u001b[0m         model \u001b[38;5;241m=\u001b[39m \u001b[38;5;28mself\u001b[39m\u001b[38;5;241m.\u001b[39m_model\n",
            "File \u001b[1;32md:\\work\\Projects\\TrICal\\.venv\\Lib\\site-packages\\oqd_compiler_infrastructure\\rewriter.py:92\u001b[0m, in \u001b[0;36mFixedPoint.map\u001b[1;34m(self, model)\u001b[0m\n\u001b[0;32m     90\u001b[0m new_model \u001b[38;5;241m=\u001b[39m model\n\u001b[0;32m     91\u001b[0m \u001b[38;5;28;01mwhile\u001b[39;00m \u001b[38;5;28;01mTrue\u001b[39;00m:\n\u001b[1;32m---> 92\u001b[0m     _model \u001b[38;5;241m=\u001b[39m \u001b[38;5;28;43mself\u001b[39;49m\u001b[38;5;241;43m.\u001b[39;49m\u001b[43mrule\u001b[49m\u001b[43m(\u001b[49m\u001b[43mnew_model\u001b[49m\u001b[43m)\u001b[49m\n\u001b[0;32m     94\u001b[0m     \u001b[38;5;28;01mif\u001b[39;00m _model \u001b[38;5;241m==\u001b[39m new_model \u001b[38;5;129;01mor\u001b[39;00m i \u001b[38;5;241m>\u001b[39m\u001b[38;5;241m=\u001b[39m \u001b[38;5;28mself\u001b[39m\u001b[38;5;241m.\u001b[39mmax_iter:\n\u001b[0;32m     95\u001b[0m         \u001b[38;5;28;01mreturn\u001b[39;00m new_model\n",
            "File \u001b[1;32md:\\work\\Projects\\TrICal\\.venv\\Lib\\site-packages\\oqd_compiler_infrastructure\\base.py:42\u001b[0m, in \u001b[0;36mPassBase.__call__\u001b[1;34m(self, model)\u001b[0m\n\u001b[0;32m     39\u001b[0m \u001b[38;5;28;01mdef\u001b[39;00m\u001b[38;5;250m \u001b[39m\u001b[38;5;21m__call__\u001b[39m(\u001b[38;5;28mself\u001b[39m, model):\n\u001b[0;32m     40\u001b[0m     \u001b[38;5;28mself\u001b[39m\u001b[38;5;241m.\u001b[39m_model \u001b[38;5;241m=\u001b[39m model\n\u001b[1;32m---> 42\u001b[0m     model \u001b[38;5;241m=\u001b[39m \u001b[38;5;28;43mself\u001b[39;49m\u001b[38;5;241;43m.\u001b[39;49m\u001b[43mmap\u001b[49m\u001b[43m(\u001b[49m\u001b[43mmodel\u001b[49m\u001b[43m)\u001b[49m\n\u001b[0;32m     43\u001b[0m     \u001b[38;5;28;01mif\u001b[39;00m model \u001b[38;5;129;01mis\u001b[39;00m \u001b[38;5;28;01mNone\u001b[39;00m:\n\u001b[0;32m     44\u001b[0m         model \u001b[38;5;241m=\u001b[39m \u001b[38;5;28mself\u001b[39m\u001b[38;5;241m.\u001b[39m_model\n",
            "File \u001b[1;32md:\\work\\Projects\\TrICal\\.venv\\Lib\\site-packages\\oqd_compiler_infrastructure\\walk.py:59\u001b[0m, in \u001b[0;36mWalkBase.map\u001b[1;34m(self, model)\u001b[0m\n\u001b[0;32m     58\u001b[0m \u001b[38;5;28;01mdef\u001b[39;00m\u001b[38;5;250m \u001b[39m\u001b[38;5;21mmap\u001b[39m(\u001b[38;5;28mself\u001b[39m, model):\n\u001b[1;32m---> 59\u001b[0m     \u001b[38;5;28;01mreturn\u001b[39;00m \u001b[38;5;28;43mself\u001b[39;49m\u001b[38;5;241;43m.\u001b[39;49m\u001b[43mwalk\u001b[49m\u001b[43m(\u001b[49m\u001b[43mmodel\u001b[49m\u001b[43m)\u001b[49m\n",
            "File \u001b[1;32md:\\work\\Projects\\TrICal\\.venv\\Lib\\site-packages\\oqd_compiler_infrastructure\\walk.py:70\u001b[0m, in \u001b[0;36mWalkBase.walk\u001b[1;34m(self, model)\u001b[0m\n\u001b[0;32m     67\u001b[0m \u001b[38;5;28;01mif\u001b[39;00m \u001b[38;5;129;01mnot\u001b[39;00m walk_func:\n\u001b[0;32m     68\u001b[0m     walk_func \u001b[38;5;241m=\u001b[39m \u001b[38;5;28mself\u001b[39m\u001b[38;5;241m.\u001b[39mgeneric_walk\n\u001b[1;32m---> 70\u001b[0m \u001b[38;5;28;01mreturn\u001b[39;00m \u001b[43mwalk_func\u001b[49m\u001b[43m(\u001b[49m\u001b[43mmodel\u001b[49m\u001b[43m)\u001b[49m\n",
            "File \u001b[1;32md:\\work\\Projects\\TrICal\\.venv\\Lib\\site-packages\\oqd_compiler_infrastructure\\walk.py:182\u001b[0m, in \u001b[0;36mPost.walk_VisitableBaseModel\u001b[1;34m(self, model)\u001b[0m\n\u001b[0;32m    180\u001b[0m     \u001b[38;5;28;01mif\u001b[39;00m key \u001b[38;5;241m==\u001b[39m \u001b[38;5;124m\"\u001b[39m\u001b[38;5;124mclass_\u001b[39m\u001b[38;5;124m\"\u001b[39m:\n\u001b[0;32m    181\u001b[0m         \u001b[38;5;28;01mcontinue\u001b[39;00m\n\u001b[1;32m--> 182\u001b[0m     new_fields[key] \u001b[38;5;241m=\u001b[39m \u001b[38;5;28;43mself\u001b[39;49m\u001b[43m(\u001b[49m\u001b[38;5;28;43mgetattr\u001b[39;49m\u001b[43m(\u001b[49m\u001b[43mmodel\u001b[49m\u001b[43m,\u001b[49m\u001b[43m \u001b[49m\u001b[43mkey\u001b[49m\u001b[43m)\u001b[49m\u001b[43m)\u001b[49m\n\u001b[0;32m    184\u001b[0m \u001b[38;5;28;01mif\u001b[39;00m \u001b[38;5;28misinstance\u001b[39m(\u001b[38;5;28mself\u001b[39m\u001b[38;5;241m.\u001b[39mrule, ConversionRule):\n\u001b[0;32m    185\u001b[0m     \u001b[38;5;28mself\u001b[39m\u001b[38;5;241m.\u001b[39mrule\u001b[38;5;241m.\u001b[39moperands \u001b[38;5;241m=\u001b[39m new_fields\n",
            "File \u001b[1;32md:\\work\\Projects\\TrICal\\.venv\\Lib\\site-packages\\oqd_compiler_infrastructure\\base.py:42\u001b[0m, in \u001b[0;36mPassBase.__call__\u001b[1;34m(self, model)\u001b[0m\n\u001b[0;32m     39\u001b[0m \u001b[38;5;28;01mdef\u001b[39;00m\u001b[38;5;250m \u001b[39m\u001b[38;5;21m__call__\u001b[39m(\u001b[38;5;28mself\u001b[39m, model):\n\u001b[0;32m     40\u001b[0m     \u001b[38;5;28mself\u001b[39m\u001b[38;5;241m.\u001b[39m_model \u001b[38;5;241m=\u001b[39m model\n\u001b[1;32m---> 42\u001b[0m     model \u001b[38;5;241m=\u001b[39m \u001b[38;5;28;43mself\u001b[39;49m\u001b[38;5;241;43m.\u001b[39;49m\u001b[43mmap\u001b[49m\u001b[43m(\u001b[49m\u001b[43mmodel\u001b[49m\u001b[43m)\u001b[49m\n\u001b[0;32m     43\u001b[0m     \u001b[38;5;28;01mif\u001b[39;00m model \u001b[38;5;129;01mis\u001b[39;00m \u001b[38;5;28;01mNone\u001b[39;00m:\n\u001b[0;32m     44\u001b[0m         model \u001b[38;5;241m=\u001b[39m \u001b[38;5;28mself\u001b[39m\u001b[38;5;241m.\u001b[39m_model\n",
            "File \u001b[1;32md:\\work\\Projects\\TrICal\\.venv\\Lib\\site-packages\\oqd_compiler_infrastructure\\walk.py:59\u001b[0m, in \u001b[0;36mWalkBase.map\u001b[1;34m(self, model)\u001b[0m\n\u001b[0;32m     58\u001b[0m \u001b[38;5;28;01mdef\u001b[39;00m\u001b[38;5;250m \u001b[39m\u001b[38;5;21mmap\u001b[39m(\u001b[38;5;28mself\u001b[39m, model):\n\u001b[1;32m---> 59\u001b[0m     \u001b[38;5;28;01mreturn\u001b[39;00m \u001b[38;5;28;43mself\u001b[39;49m\u001b[38;5;241;43m.\u001b[39;49m\u001b[43mwalk\u001b[49m\u001b[43m(\u001b[49m\u001b[43mmodel\u001b[49m\u001b[43m)\u001b[49m\n",
            "File \u001b[1;32md:\\work\\Projects\\TrICal\\.venv\\Lib\\site-packages\\oqd_compiler_infrastructure\\walk.py:70\u001b[0m, in \u001b[0;36mWalkBase.walk\u001b[1;34m(self, model)\u001b[0m\n\u001b[0;32m     67\u001b[0m \u001b[38;5;28;01mif\u001b[39;00m \u001b[38;5;129;01mnot\u001b[39;00m walk_func:\n\u001b[0;32m     68\u001b[0m     walk_func \u001b[38;5;241m=\u001b[39m \u001b[38;5;28mself\u001b[39m\u001b[38;5;241m.\u001b[39mgeneric_walk\n\u001b[1;32m---> 70\u001b[0m \u001b[38;5;28;01mreturn\u001b[39;00m \u001b[43mwalk_func\u001b[49m\u001b[43m(\u001b[49m\u001b[43mmodel\u001b[49m\u001b[43m)\u001b[49m\n",
            "File \u001b[1;32md:\\work\\Projects\\TrICal\\.venv\\Lib\\site-packages\\oqd_compiler_infrastructure\\walk.py:156\u001b[0m, in \u001b[0;36mPost.walk_list\u001b[1;34m(self, model)\u001b[0m\n\u001b[0;32m    155\u001b[0m \u001b[38;5;28;01mdef\u001b[39;00m\u001b[38;5;250m \u001b[39m\u001b[38;5;21mwalk_list\u001b[39m(\u001b[38;5;28mself\u001b[39m, model):\n\u001b[1;32m--> 156\u001b[0m     new_model \u001b[38;5;241m=\u001b[39m [\u001b[38;5;28;43mself\u001b[39;49m\u001b[43m(\u001b[49m\u001b[43me\u001b[49m\u001b[43m)\u001b[49m \u001b[38;5;28;01mfor\u001b[39;00m e \u001b[38;5;129;01min\u001b[39;00m \u001b[38;5;28mself\u001b[39m\u001b[38;5;241m.\u001b[39mcontrolled_reverse(model, \u001b[38;5;28mself\u001b[39m\u001b[38;5;241m.\u001b[39mreverse)]\n\u001b[0;32m    157\u001b[0m     new_model \u001b[38;5;241m=\u001b[39m \u001b[38;5;28mself\u001b[39m\u001b[38;5;241m.\u001b[39mcontrolled_reverse(new_model, \u001b[38;5;28mself\u001b[39m\u001b[38;5;241m.\u001b[39mreverse, restore_type\u001b[38;5;241m=\u001b[39m\u001b[38;5;28;01mTrue\u001b[39;00m)\n\u001b[0;32m    159\u001b[0m     \u001b[38;5;28;01mif\u001b[39;00m \u001b[38;5;28misinstance\u001b[39m(\u001b[38;5;28mself\u001b[39m\u001b[38;5;241m.\u001b[39mrule, ConversionRule):\n",
            "File \u001b[1;32md:\\work\\Projects\\TrICal\\.venv\\Lib\\site-packages\\oqd_compiler_infrastructure\\base.py:42\u001b[0m, in \u001b[0;36mPassBase.__call__\u001b[1;34m(self, model)\u001b[0m\n\u001b[0;32m     39\u001b[0m \u001b[38;5;28;01mdef\u001b[39;00m\u001b[38;5;250m \u001b[39m\u001b[38;5;21m__call__\u001b[39m(\u001b[38;5;28mself\u001b[39m, model):\n\u001b[0;32m     40\u001b[0m     \u001b[38;5;28mself\u001b[39m\u001b[38;5;241m.\u001b[39m_model \u001b[38;5;241m=\u001b[39m model\n\u001b[1;32m---> 42\u001b[0m     model \u001b[38;5;241m=\u001b[39m \u001b[38;5;28;43mself\u001b[39;49m\u001b[38;5;241;43m.\u001b[39;49m\u001b[43mmap\u001b[49m\u001b[43m(\u001b[49m\u001b[43mmodel\u001b[49m\u001b[43m)\u001b[49m\n\u001b[0;32m     43\u001b[0m     \u001b[38;5;28;01mif\u001b[39;00m model \u001b[38;5;129;01mis\u001b[39;00m \u001b[38;5;28;01mNone\u001b[39;00m:\n\u001b[0;32m     44\u001b[0m         model \u001b[38;5;241m=\u001b[39m \u001b[38;5;28mself\u001b[39m\u001b[38;5;241m.\u001b[39m_model\n",
            "File \u001b[1;32md:\\work\\Projects\\TrICal\\.venv\\Lib\\site-packages\\oqd_compiler_infrastructure\\walk.py:59\u001b[0m, in \u001b[0;36mWalkBase.map\u001b[1;34m(self, model)\u001b[0m\n\u001b[0;32m     58\u001b[0m \u001b[38;5;28;01mdef\u001b[39;00m\u001b[38;5;250m \u001b[39m\u001b[38;5;21mmap\u001b[39m(\u001b[38;5;28mself\u001b[39m, model):\n\u001b[1;32m---> 59\u001b[0m     \u001b[38;5;28;01mreturn\u001b[39;00m \u001b[38;5;28;43mself\u001b[39;49m\u001b[38;5;241;43m.\u001b[39;49m\u001b[43mwalk\u001b[49m\u001b[43m(\u001b[49m\u001b[43mmodel\u001b[49m\u001b[43m)\u001b[49m\n",
            "File \u001b[1;32md:\\work\\Projects\\TrICal\\.venv\\Lib\\site-packages\\oqd_compiler_infrastructure\\walk.py:70\u001b[0m, in \u001b[0;36mWalkBase.walk\u001b[1;34m(self, model)\u001b[0m\n\u001b[0;32m     67\u001b[0m \u001b[38;5;28;01mif\u001b[39;00m \u001b[38;5;129;01mnot\u001b[39;00m walk_func:\n\u001b[0;32m     68\u001b[0m     walk_func \u001b[38;5;241m=\u001b[39m \u001b[38;5;28mself\u001b[39m\u001b[38;5;241m.\u001b[39mgeneric_walk\n\u001b[1;32m---> 70\u001b[0m \u001b[38;5;28;01mreturn\u001b[39;00m \u001b[43mwalk_func\u001b[49m\u001b[43m(\u001b[49m\u001b[43mmodel\u001b[49m\u001b[43m)\u001b[49m\n",
            "File \u001b[1;32md:\\work\\Projects\\TrICal\\.venv\\Lib\\site-packages\\oqd_compiler_infrastructure\\walk.py:182\u001b[0m, in \u001b[0;36mPost.walk_VisitableBaseModel\u001b[1;34m(self, model)\u001b[0m\n\u001b[0;32m    180\u001b[0m     \u001b[38;5;28;01mif\u001b[39;00m key \u001b[38;5;241m==\u001b[39m \u001b[38;5;124m\"\u001b[39m\u001b[38;5;124mclass_\u001b[39m\u001b[38;5;124m\"\u001b[39m:\n\u001b[0;32m    181\u001b[0m         \u001b[38;5;28;01mcontinue\u001b[39;00m\n\u001b[1;32m--> 182\u001b[0m     new_fields[key] \u001b[38;5;241m=\u001b[39m \u001b[38;5;28;43mself\u001b[39;49m\u001b[43m(\u001b[49m\u001b[38;5;28;43mgetattr\u001b[39;49m\u001b[43m(\u001b[49m\u001b[43mmodel\u001b[49m\u001b[43m,\u001b[49m\u001b[43m \u001b[49m\u001b[43mkey\u001b[49m\u001b[43m)\u001b[49m\u001b[43m)\u001b[49m\n\u001b[0;32m    184\u001b[0m \u001b[38;5;28;01mif\u001b[39;00m \u001b[38;5;28misinstance\u001b[39m(\u001b[38;5;28mself\u001b[39m\u001b[38;5;241m.\u001b[39mrule, ConversionRule):\n\u001b[0;32m    185\u001b[0m     \u001b[38;5;28mself\u001b[39m\u001b[38;5;241m.\u001b[39mrule\u001b[38;5;241m.\u001b[39moperands \u001b[38;5;241m=\u001b[39m new_fields\n",
            "File \u001b[1;32md:\\work\\Projects\\TrICal\\.venv\\Lib\\site-packages\\oqd_compiler_infrastructure\\base.py:42\u001b[0m, in \u001b[0;36mPassBase.__call__\u001b[1;34m(self, model)\u001b[0m\n\u001b[0;32m     39\u001b[0m \u001b[38;5;28;01mdef\u001b[39;00m\u001b[38;5;250m \u001b[39m\u001b[38;5;21m__call__\u001b[39m(\u001b[38;5;28mself\u001b[39m, model):\n\u001b[0;32m     40\u001b[0m     \u001b[38;5;28mself\u001b[39m\u001b[38;5;241m.\u001b[39m_model \u001b[38;5;241m=\u001b[39m model\n\u001b[1;32m---> 42\u001b[0m     model \u001b[38;5;241m=\u001b[39m \u001b[38;5;28;43mself\u001b[39;49m\u001b[38;5;241;43m.\u001b[39;49m\u001b[43mmap\u001b[49m\u001b[43m(\u001b[49m\u001b[43mmodel\u001b[49m\u001b[43m)\u001b[49m\n\u001b[0;32m     43\u001b[0m     \u001b[38;5;28;01mif\u001b[39;00m model \u001b[38;5;129;01mis\u001b[39;00m \u001b[38;5;28;01mNone\u001b[39;00m:\n\u001b[0;32m     44\u001b[0m         model \u001b[38;5;241m=\u001b[39m \u001b[38;5;28mself\u001b[39m\u001b[38;5;241m.\u001b[39m_model\n",
            "File \u001b[1;32md:\\work\\Projects\\TrICal\\.venv\\Lib\\site-packages\\oqd_compiler_infrastructure\\walk.py:59\u001b[0m, in \u001b[0;36mWalkBase.map\u001b[1;34m(self, model)\u001b[0m\n\u001b[0;32m     58\u001b[0m \u001b[38;5;28;01mdef\u001b[39;00m\u001b[38;5;250m \u001b[39m\u001b[38;5;21mmap\u001b[39m(\u001b[38;5;28mself\u001b[39m, model):\n\u001b[1;32m---> 59\u001b[0m     \u001b[38;5;28;01mreturn\u001b[39;00m \u001b[38;5;28;43mself\u001b[39;49m\u001b[38;5;241;43m.\u001b[39;49m\u001b[43mwalk\u001b[49m\u001b[43m(\u001b[49m\u001b[43mmodel\u001b[49m\u001b[43m)\u001b[49m\n",
            "File \u001b[1;32md:\\work\\Projects\\TrICal\\.venv\\Lib\\site-packages\\oqd_compiler_infrastructure\\walk.py:70\u001b[0m, in \u001b[0;36mWalkBase.walk\u001b[1;34m(self, model)\u001b[0m\n\u001b[0;32m     67\u001b[0m \u001b[38;5;28;01mif\u001b[39;00m \u001b[38;5;129;01mnot\u001b[39;00m walk_func:\n\u001b[0;32m     68\u001b[0m     walk_func \u001b[38;5;241m=\u001b[39m \u001b[38;5;28mself\u001b[39m\u001b[38;5;241m.\u001b[39mgeneric_walk\n\u001b[1;32m---> 70\u001b[0m \u001b[38;5;28;01mreturn\u001b[39;00m \u001b[43mwalk_func\u001b[49m\u001b[43m(\u001b[49m\u001b[43mmodel\u001b[49m\u001b[43m)\u001b[49m\n",
            "File \u001b[1;32md:\\work\\Projects\\TrICal\\.venv\\Lib\\site-packages\\oqd_compiler_infrastructure\\walk.py:182\u001b[0m, in \u001b[0;36mPost.walk_VisitableBaseModel\u001b[1;34m(self, model)\u001b[0m\n\u001b[0;32m    180\u001b[0m     \u001b[38;5;28;01mif\u001b[39;00m key \u001b[38;5;241m==\u001b[39m \u001b[38;5;124m\"\u001b[39m\u001b[38;5;124mclass_\u001b[39m\u001b[38;5;124m\"\u001b[39m:\n\u001b[0;32m    181\u001b[0m         \u001b[38;5;28;01mcontinue\u001b[39;00m\n\u001b[1;32m--> 182\u001b[0m     new_fields[key] \u001b[38;5;241m=\u001b[39m \u001b[38;5;28;43mself\u001b[39;49m\u001b[43m(\u001b[49m\u001b[38;5;28;43mgetattr\u001b[39;49m\u001b[43m(\u001b[49m\u001b[43mmodel\u001b[49m\u001b[43m,\u001b[49m\u001b[43m \u001b[49m\u001b[43mkey\u001b[49m\u001b[43m)\u001b[49m\u001b[43m)\u001b[49m\n\u001b[0;32m    184\u001b[0m \u001b[38;5;28;01mif\u001b[39;00m \u001b[38;5;28misinstance\u001b[39m(\u001b[38;5;28mself\u001b[39m\u001b[38;5;241m.\u001b[39mrule, ConversionRule):\n\u001b[0;32m    185\u001b[0m     \u001b[38;5;28mself\u001b[39m\u001b[38;5;241m.\u001b[39mrule\u001b[38;5;241m.\u001b[39moperands \u001b[38;5;241m=\u001b[39m new_fields\n",
            "    \u001b[1;31m[... skipping similar frames: PassBase.__call__ at line 42 (66 times), WalkBase.map at line 59 (66 times), WalkBase.walk at line 70 (66 times), Post.walk_VisitableBaseModel at line 182 (65 times)]\u001b[0m\n",
            "File \u001b[1;32md:\\work\\Projects\\TrICal\\.venv\\Lib\\site-packages\\oqd_compiler_infrastructure\\walk.py:182\u001b[0m, in \u001b[0;36mPost.walk_VisitableBaseModel\u001b[1;34m(self, model)\u001b[0m\n\u001b[0;32m    180\u001b[0m     \u001b[38;5;28;01mif\u001b[39;00m key \u001b[38;5;241m==\u001b[39m \u001b[38;5;124m\"\u001b[39m\u001b[38;5;124mclass_\u001b[39m\u001b[38;5;124m\"\u001b[39m:\n\u001b[0;32m    181\u001b[0m         \u001b[38;5;28;01mcontinue\u001b[39;00m\n\u001b[1;32m--> 182\u001b[0m     new_fields[key] \u001b[38;5;241m=\u001b[39m \u001b[38;5;28;43mself\u001b[39;49m\u001b[43m(\u001b[49m\u001b[38;5;28;43mgetattr\u001b[39;49m\u001b[43m(\u001b[49m\u001b[43mmodel\u001b[49m\u001b[43m,\u001b[49m\u001b[43m \u001b[49m\u001b[43mkey\u001b[49m\u001b[43m)\u001b[49m\u001b[43m)\u001b[49m\n\u001b[0;32m    184\u001b[0m \u001b[38;5;28;01mif\u001b[39;00m \u001b[38;5;28misinstance\u001b[39m(\u001b[38;5;28mself\u001b[39m\u001b[38;5;241m.\u001b[39mrule, ConversionRule):\n\u001b[0;32m    185\u001b[0m     \u001b[38;5;28mself\u001b[39m\u001b[38;5;241m.\u001b[39mrule\u001b[38;5;241m.\u001b[39moperands \u001b[38;5;241m=\u001b[39m new_fields\n",
            "File \u001b[1;32md:\\work\\Projects\\TrICal\\.venv\\Lib\\site-packages\\oqd_compiler_infrastructure\\base.py:42\u001b[0m, in \u001b[0;36mPassBase.__call__\u001b[1;34m(self, model)\u001b[0m\n\u001b[0;32m     39\u001b[0m \u001b[38;5;28;01mdef\u001b[39;00m\u001b[38;5;250m \u001b[39m\u001b[38;5;21m__call__\u001b[39m(\u001b[38;5;28mself\u001b[39m, model):\n\u001b[0;32m     40\u001b[0m     \u001b[38;5;28mself\u001b[39m\u001b[38;5;241m.\u001b[39m_model \u001b[38;5;241m=\u001b[39m model\n\u001b[1;32m---> 42\u001b[0m     model \u001b[38;5;241m=\u001b[39m \u001b[38;5;28;43mself\u001b[39;49m\u001b[38;5;241;43m.\u001b[39;49m\u001b[43mmap\u001b[49m\u001b[43m(\u001b[49m\u001b[43mmodel\u001b[49m\u001b[43m)\u001b[49m\n\u001b[0;32m     43\u001b[0m     \u001b[38;5;28;01mif\u001b[39;00m model \u001b[38;5;129;01mis\u001b[39;00m \u001b[38;5;28;01mNone\u001b[39;00m:\n\u001b[0;32m     44\u001b[0m         model \u001b[38;5;241m=\u001b[39m \u001b[38;5;28mself\u001b[39m\u001b[38;5;241m.\u001b[39m_model\n",
            "File \u001b[1;32md:\\work\\Projects\\TrICal\\.venv\\Lib\\site-packages\\oqd_compiler_infrastructure\\walk.py:59\u001b[0m, in \u001b[0;36mWalkBase.map\u001b[1;34m(self, model)\u001b[0m\n\u001b[0;32m     58\u001b[0m \u001b[38;5;28;01mdef\u001b[39;00m\u001b[38;5;250m \u001b[39m\u001b[38;5;21mmap\u001b[39m(\u001b[38;5;28mself\u001b[39m, model):\n\u001b[1;32m---> 59\u001b[0m     \u001b[38;5;28;01mreturn\u001b[39;00m \u001b[38;5;28;43mself\u001b[39;49m\u001b[38;5;241;43m.\u001b[39;49m\u001b[43mwalk\u001b[49m\u001b[43m(\u001b[49m\u001b[43mmodel\u001b[49m\u001b[43m)\u001b[49m\n",
            "File \u001b[1;32md:\\work\\Projects\\TrICal\\.venv\\Lib\\site-packages\\oqd_compiler_infrastructure\\walk.py:70\u001b[0m, in \u001b[0;36mWalkBase.walk\u001b[1;34m(self, model)\u001b[0m\n\u001b[0;32m     67\u001b[0m \u001b[38;5;28;01mif\u001b[39;00m \u001b[38;5;129;01mnot\u001b[39;00m walk_func:\n\u001b[0;32m     68\u001b[0m     walk_func \u001b[38;5;241m=\u001b[39m \u001b[38;5;28mself\u001b[39m\u001b[38;5;241m.\u001b[39mgeneric_walk\n\u001b[1;32m---> 70\u001b[0m \u001b[38;5;28;01mreturn\u001b[39;00m \u001b[43mwalk_func\u001b[49m\u001b[43m(\u001b[49m\u001b[43mmodel\u001b[49m\u001b[43m)\u001b[49m\n",
            "File \u001b[1;32md:\\work\\Projects\\TrICal\\.venv\\Lib\\site-packages\\oqd_compiler_infrastructure\\walk.py:189\u001b[0m, in \u001b[0;36mPost.walk_VisitableBaseModel\u001b[1;34m(self, model)\u001b[0m\n\u001b[0;32m    187\u001b[0m \u001b[38;5;28;01melse\u001b[39;00m:\n\u001b[0;32m    188\u001b[0m     new_model \u001b[38;5;241m=\u001b[39m model\u001b[38;5;241m.\u001b[39m\u001b[38;5;18m__class__\u001b[39m(\u001b[38;5;241m*\u001b[39m\u001b[38;5;241m*\u001b[39mnew_fields)\n\u001b[1;32m--> 189\u001b[0m     new_model \u001b[38;5;241m=\u001b[39m \u001b[38;5;28;43mself\u001b[39;49m\u001b[38;5;241;43m.\u001b[39;49m\u001b[43mrule\u001b[49m\u001b[43m(\u001b[49m\u001b[43mnew_model\u001b[49m\u001b[43m)\u001b[49m\n\u001b[0;32m    191\u001b[0m \u001b[38;5;28;01mreturn\u001b[39;00m new_model\n",
            "File \u001b[1;32md:\\work\\Projects\\TrICal\\.venv\\Lib\\site-packages\\oqd_compiler_infrastructure\\base.py:42\u001b[0m, in \u001b[0;36mPassBase.__call__\u001b[1;34m(self, model)\u001b[0m\n\u001b[0;32m     39\u001b[0m \u001b[38;5;28;01mdef\u001b[39;00m\u001b[38;5;250m \u001b[39m\u001b[38;5;21m__call__\u001b[39m(\u001b[38;5;28mself\u001b[39m, model):\n\u001b[0;32m     40\u001b[0m     \u001b[38;5;28mself\u001b[39m\u001b[38;5;241m.\u001b[39m_model \u001b[38;5;241m=\u001b[39m model\n\u001b[1;32m---> 42\u001b[0m     model \u001b[38;5;241m=\u001b[39m \u001b[38;5;28;43mself\u001b[39;49m\u001b[38;5;241;43m.\u001b[39;49m\u001b[43mmap\u001b[49m\u001b[43m(\u001b[49m\u001b[43mmodel\u001b[49m\u001b[43m)\u001b[49m\n\u001b[0;32m     43\u001b[0m     \u001b[38;5;28;01mif\u001b[39;00m model \u001b[38;5;129;01mis\u001b[39;00m \u001b[38;5;28;01mNone\u001b[39;00m:\n\u001b[0;32m     44\u001b[0m         model \u001b[38;5;241m=\u001b[39m \u001b[38;5;28mself\u001b[39m\u001b[38;5;241m.\u001b[39m_model\n",
            "File \u001b[1;32md:\\work\\Projects\\TrICal\\.venv\\Lib\\site-packages\\oqd_compiler_infrastructure\\rule.py:51\u001b[0m, in \u001b[0;36mRewriteRule.map\u001b[1;34m(self, model)\u001b[0m\n\u001b[0;32m     49\u001b[0m \u001b[38;5;28;01mdef\u001b[39;00m\u001b[38;5;250m \u001b[39m\u001b[38;5;21mmap\u001b[39m(\u001b[38;5;28mself\u001b[39m, model):\n\u001b[0;32m     50\u001b[0m     \u001b[38;5;28;01mfor\u001b[39;00m \u001b[38;5;28mcls\u001b[39m \u001b[38;5;129;01min\u001b[39;00m model\u001b[38;5;241m.\u001b[39m\u001b[38;5;18m__class__\u001b[39m\u001b[38;5;241m.\u001b[39m\u001b[38;5;18m__mro__\u001b[39m:\n\u001b[1;32m---> 51\u001b[0m         map_func \u001b[38;5;241m=\u001b[39m \u001b[38;5;28;43mgetattr\u001b[39;49m\u001b[43m(\u001b[49m\u001b[38;5;28;43mself\u001b[39;49m\u001b[43m,\u001b[49m\u001b[43m \u001b[49m\u001b[38;5;124;43m\"\u001b[39;49m\u001b[38;5;124;43mmap_\u001b[39;49m\u001b[38;5;132;43;01m{}\u001b[39;49;00m\u001b[38;5;124;43m\"\u001b[39;49m\u001b[38;5;241;43m.\u001b[39;49m\u001b[43mformat\u001b[49m\u001b[43m(\u001b[49m\u001b[38;5;28;43mcls\u001b[39;49m\u001b[38;5;241;43m.\u001b[39;49m\u001b[38;5;18;43m__name__\u001b[39;49m\u001b[43m)\u001b[49m\u001b[43m,\u001b[49m\u001b[43m \u001b[49m\u001b[38;5;28;43;01mNone\u001b[39;49;00m\u001b[43m)\u001b[49m\n\u001b[0;32m     52\u001b[0m         \u001b[38;5;28;01mif\u001b[39;00m map_func:\n\u001b[0;32m     53\u001b[0m             \u001b[38;5;28;01mbreak\u001b[39;00m\n",
            "\u001b[1;31mKeyboardInterrupt\u001b[0m: "
          ]
        }
      ],
      "source": [
        "from oqd_compiler_infrastructure import Chain, Post\n",
        "\n",
        "from oqd_trical.backend import DynamiqsBackend, QutipBackend  # noqa: F401\n",
        "from oqd_trical.light_matter.compiler.approximate import (\n",
        "    RotatingReferenceFrame,\n",
        "    RotatingWaveApprox,\n",
        ")\n",
        "from oqd_trical.light_matter.compiler.canonicalize import (\n",
        "    canonicalize_emulator_circuit_factory,\n",
        ")\n",
        "\n",
        "frame_specs = {\n",
        "    \"E0\": [0, 2 * np.pi * 12.643e9, 2 * np.pi * 811.29e12, 2 * np.pi * 911.14e12],\n",
        "    \"E1\": [0, 2 * np.pi * 12.643e9, 2 * np.pi * 811.29e12, 2 * np.pi * 911.14e12],\n",
        "    \"P0\": 2 * np.pi * 1e6,\n",
        "}\n",
        "\n",
        "approx_pass = Chain(\n",
        "    Post(RotatingReferenceFrame(frame_specs=frame_specs)),\n",
        "    canonicalize_emulator_circuit_factory(),\n",
        "    Post(RotatingWaveApprox(cutoff=2 * np.pi * 1e9)),\n",
        ")\n",
        "\n",
        "backend = QutipBackend(approx_pass=approx_pass)\n",
        "\n",
        "fock_cutoff = 3\n",
        "experiment, hilbert_space = backend.compile(circuit, fock_cutoff)"
      ]
    },
    {
      "cell_type": "code",
      "execution_count": null,
      "metadata": {},
      "outputs": [],
      "source": [
        "from oqd_trical.light_matter.compiler.visualization import CondensedOperatorPrettyPrint\n",
        "\n",
        "printer = Post(CondensedOperatorPrettyPrint())\n",
        "\n",
        "print(printer(hilbert_space), \"=\" * 80, printer(backend.intermediate), sep=\"\\n\")"
      ]
    },
    {
      "cell_type": "markdown",
      "metadata": {},
      "source": [
        "### Run\n"
      ]
    },
    {
      "cell_type": "code",
      "execution_count": null,
      "metadata": {
        "execution": {
          "iopub.execute_input": "2025-02-23T23:32:02.637016Z",
          "iopub.status.busy": "2025-02-23T23:32:02.636851Z",
          "iopub.status.idle": "2025-02-23T23:32:08.228756Z",
          "shell.execute_reply": "2025-02-23T23:32:08.228198Z"
        }
      },
      "outputs": [],
      "source": [
        "result = backend.run(\n",
        "    experiment,\n",
        "    hilbert_space=hilbert_space,\n",
        "    timestep=1e-8,\n",
        ")"
      ]
    },
    {
      "cell_type": "markdown",
      "metadata": {},
      "source": [
        "#### Results\n"
      ]
    },
    {
      "cell_type": "code",
      "execution_count": null,
      "metadata": {},
      "outputs": [],
      "source": [
        "import matplotlib\n",
        "import matplotlib.pyplot as plt\n",
        "\n",
        "matplotlib.rcParams[\"figure.figsize\"] = (12, 8)\n",
        "matplotlib.rcParams[\"font.size\"] = 20\n",
        "matplotlib.rcParams[\"mathtext.fontset\"] = \"stix\"\n",
        "matplotlib.rcParams[\"font.family\"] = \"STIXGeneral\""
      ]
    },
    {
      "cell_type": "code",
      "execution_count": null,
      "metadata": {
        "execution": {
          "iopub.execute_input": "2025-02-23T23:32:08.230622Z",
          "iopub.status.busy": "2025-02-23T23:32:08.230453Z",
          "iopub.status.idle": "2025-02-23T23:32:08.494199Z",
          "shell.execute_reply": "2025-02-23T23:32:08.493566Z"
        }
      },
      "outputs": [],
      "source": [
        "k = slice(None, None, 1)\n",
        "\n",
        "fig = plt.figure()\n",
        "\n",
        "ax = fig.subplots(1, 1, sharex=True)\n",
        "\n",
        "ax.plot(\n",
        "    result[\"tspan\"][k],\n",
        "    [s.ptrace(0).diag()[:] for s in result[\"states\"][k]],\n",
        "    label=[rf\"${level.label}$\" for level in Yb171.levels],\n",
        ")\n",
        "\n",
        "ax.set_xlabel(r\"$t$\", labelpad=10)\n",
        "ax.set_ylabel(r\"$P(| \\psi \\rangle)$\", labelpad=10)\n",
        "\n",
        "ax.legend()"
      ]
    },
    {
      "cell_type": "code",
      "execution_count": null,
      "metadata": {},
      "outputs": [],
      "source": [
        "k = slice(None, None, 1)\n",
        "\n",
        "fig = plt.figure()\n",
        "\n",
        "ax = fig.subplots(1, 1, sharex=True)\n",
        "\n",
        "ax.plot(\n",
        "    result[\"tspan\"][k],\n",
        "    [s.ptrace(1).diag()[:] for s in result[\"states\"][k]],\n",
        "    label=[rf\"$n={n}$\" for n in range(fock_cutoff)],\n",
        ")\n",
        "\n",
        "ax.set_xlabel(r\"$t$\", labelpad=10)\n",
        "ax.set_ylabel(r\"$P(| \\psi \\rangle)$\", labelpad=10)\n",
        "\n",
        "ax.legend()"
      ]
    }
  ],
  "metadata": {
    "kernelspec": {
      "display_name": ".venv",
      "language": "python",
      "name": "python3"
    },
    "language_info": {
      "codemirror_mode": {
        "name": "ipython",
        "version": 3
      },
      "file_extension": ".py",
      "mimetype": "text/x-python",
      "name": "python",
      "nbconvert_exporter": "python",
      "pygments_lexer": "ipython3",
      "version": "3.13.2"
    }
  },
  "nbformat": 4,
  "nbformat_minor": 2
}
