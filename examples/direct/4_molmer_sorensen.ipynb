{
  "cells": [
    {
      "cell_type": "markdown",
      "metadata": {},
      "source": [
        "# Direct Transition (Microwave)\n"
      ]
    },
    {
      "cell_type": "markdown",
      "metadata": {},
      "source": [
        "## Atomic Circuit\n"
      ]
    },
    {
      "cell_type": "code",
      "execution_count": 1,
      "metadata": {
        "execution": {
          "iopub.execute_input": "2025-02-23T23:31:36.810336Z",
          "iopub.status.busy": "2025-02-23T23:31:36.810155Z",
          "iopub.status.idle": "2025-02-23T23:31:36.817304Z",
          "shell.execute_reply": "2025-02-23T23:31:36.816742Z"
        }
      },
      "outputs": [],
      "source": [
        "import numpy as np\n",
        "from oqd_core.interface.atomic import (\n",
        "    AtomicCircuit,\n",
        "    Beam,\n",
        "    Ion,\n",
        "    Level,\n",
        "    ParallelProtocol,  # noqa: F401\n",
        "    Phonon,\n",
        "    Pulse,\n",
        "    SequentialProtocol,  # noqa: F401\n",
        "    System,\n",
        "    Transition,\n",
        ")\n",
        "\n",
        "downstate = Level(\n",
        "    principal=6,\n",
        "    spin=1 / 2,\n",
        "    orbital=0,\n",
        "    nuclear=1 / 2,\n",
        "    spin_orbital=1 / 2,\n",
        "    spin_orbital_nuclear=0,\n",
        "    spin_orbital_nuclear_magnetization=0,\n",
        "    energy=2 * np.pi * 0,\n",
        "    label=\"q0\",\n",
        ")\n",
        "upstate = Level(\n",
        "    principal=6,\n",
        "    spin=1 / 2,\n",
        "    orbital=0,\n",
        "    nuclear=1 / 2,\n",
        "    spin_orbital=1 / 2,\n",
        "    spin_orbital_nuclear=1,\n",
        "    spin_orbital_nuclear_magnetization=0,\n",
        "    energy=2 * np.pi * 12.643e9,\n",
        "    label=\"q1\",\n",
        ")\n",
        "estate = Level(\n",
        "    principal=6,\n",
        "    spin=1 / 2,\n",
        "    orbital=1,\n",
        "    nuclear=1 / 2,\n",
        "    spin_orbital=1 / 2,\n",
        "    spin_orbital_nuclear=1,\n",
        "    spin_orbital_nuclear_magnetization=-1,\n",
        "    energy=2 * np.pi * 811.29e12,\n",
        "    label=\"e0\",\n",
        ")\n",
        "estate2 = Level(\n",
        "    principal=6,\n",
        "    spin=1 / 2,\n",
        "    orbital=1,\n",
        "    nuclear=1 / 2,\n",
        "    spin_orbital=1 / 2,\n",
        "    spin_orbital_nuclear=1,\n",
        "    spin_orbital_nuclear_magnetization=1,\n",
        "    energy=2 * np.pi * 911.14e12,\n",
        "    label=\"e1\",\n",
        ")\n",
        "\n",
        "transitions = [\n",
        "    Transition(\n",
        "        level1=downstate, level2=upstate, einsteinA=1, multipole=\"M1\", label=\"q0->q1\"\n",
        "    ),\n",
        "    Transition(\n",
        "        level1=downstate, level2=estate, einsteinA=1, multipole=\"E1\", label=\"q0->e0\"\n",
        "    ),\n",
        "    Transition(\n",
        "        level1=downstate, level2=estate2, einsteinA=1, multipole=\"E1\", label=\"q0->e1\"\n",
        "    ),\n",
        "    Transition(\n",
        "        level1=upstate, level2=estate, einsteinA=1, multipole=\"E1\", label=\"q1->e0\"\n",
        "    ),\n",
        "    Transition(\n",
        "        level1=upstate, level2=estate2, einsteinA=1, multipole=\"E1\", label=\"q1->e1\"\n",
        "    ),\n",
        "]\n",
        "\n",
        "Yb171 = Ion(\n",
        "    mass=171,\n",
        "    charge=1,\n",
        "    position=[0, 0, -1],\n",
        "    levels=[downstate, upstate, estate, estate2],\n",
        "    transitions=transitions,\n",
        ")\n",
        "\n",
        "Yb171_2 = Ion(\n",
        "    mass=171,\n",
        "    charge=1,\n",
        "    position=[0, 0, 1],\n",
        "    levels=[downstate, upstate, estate, estate2],\n",
        "    transitions=transitions,\n",
        ")\n",
        "\n",
        "COM_x = Phonon(\n",
        "    energy=2 * np.pi * 1e6, eigenvector=[1 / np.sqrt(2), 0, 0, 1 / np.sqrt(2), 0, 0]\n",
        ")\n",
        "\n",
        "system = System(\n",
        "    ions=[Yb171, Yb171_2],\n",
        "    modes=[\n",
        "        COM_x,\n",
        "    ],\n",
        ")\n",
        "\n",
        "beam = Beam(\n",
        "    transition=transitions[1],\n",
        "    rabi=2 * np.pi * 1e5,\n",
        "    detuning=-2 * np.pi * 1.1e6,\n",
        "    phase=0,\n",
        "    polarization=[0, 1, 0],\n",
        "    wavevector=[1, 0, 0],\n",
        "    target=0,\n",
        ")\n",
        "\n",
        "beam2 = Beam(\n",
        "    transition=transitions[1],\n",
        "    rabi=2 * np.pi * 1e5,\n",
        "    detuning=2 * np.pi * 1.1e6,\n",
        "    phase=0,\n",
        "    polarization=[0, 1, 0],\n",
        "    wavevector=[1, 0, 0],\n",
        "    target=0,\n",
        ")\n",
        "\n",
        "beam3 = Beam(\n",
        "    transition=transitions[1],\n",
        "    rabi=2 * np.pi * 3e5,\n",
        "    detuning=-2 * np.pi * 1.1e6,\n",
        "    phase=0,\n",
        "    polarization=[0, 1, 0],\n",
        "    wavevector=[1, 0, 0],\n",
        "    target=1,\n",
        ")\n",
        "\n",
        "beam4 = Beam(\n",
        "    transition=transitions[1],\n",
        "    rabi=2 * np.pi * 3e5,\n",
        "    detuning=2 * np.pi * 1.1e6,\n",
        "    phase=0,\n",
        "    polarization=[0, 1, 0],\n",
        "    wavevector=[1, 0, 0],\n",
        "    target=1,\n",
        ")\n",
        "\n",
        "\n",
        "protocol = ParallelProtocol(\n",
        "    sequence=[\n",
        "        Pulse(beam=beam, duration=1e-3),\n",
        "        Pulse(beam=beam2, duration=1e-3),\n",
        "        Pulse(beam=beam3, duration=1e-3),\n",
        "        Pulse(beam=beam4, duration=1e-3),\n",
        "    ]\n",
        ")\n",
        "\n",
        "circuit = AtomicCircuit(system=system, protocol=protocol)"
      ]
    },
    {
      "cell_type": "markdown",
      "metadata": {},
      "source": [
        "### Serialization & Deserialization\n"
      ]
    },
    {
      "cell_type": "code",
      "execution_count": null,
      "metadata": {
        "execution": {
          "iopub.execute_input": "2025-02-23T23:31:36.819019Z",
          "iopub.status.busy": "2025-02-23T23:31:36.818859Z",
          "iopub.status.idle": "2025-02-23T23:31:36.822252Z",
          "shell.execute_reply": "2025-02-23T23:31:36.821903Z"
        }
      },
      "outputs": [],
      "source": [
        "import json\n",
        "\n",
        "circuit_json = circuit.model_dump_json()\n",
        "circuit_json = json.dumps(json.loads(circuit_json), indent=2)\n",
        "\n",
        "with open(\"4_molmer_sorensen.json\", \"w\") as f:\n",
        "    f.write(circuit_json)"
      ]
    },
    {
      "cell_type": "code",
      "execution_count": null,
      "metadata": {
        "execution": {
          "iopub.execute_input": "2025-02-23T23:31:36.823925Z",
          "iopub.status.busy": "2025-02-23T23:31:36.823764Z",
          "iopub.status.idle": "2025-02-23T23:31:36.827701Z",
          "shell.execute_reply": "2025-02-23T23:31:36.827363Z"
        }
      },
      "outputs": [],
      "source": [
        "with open(\"4_molmer_sorensen.json\", \"r\") as f:\n",
        "    circuit_json = f.read()\n",
        "\n",
        "assert AtomicCircuit.model_validate_json(circuit_json) == circuit"
      ]
    },
    {
      "cell_type": "markdown",
      "metadata": {},
      "source": [
        "## Qutip Intepreter\n"
      ]
    },
    {
      "cell_type": "markdown",
      "metadata": {},
      "source": [
        "### Compile\n"
      ]
    },
    {
      "cell_type": "code",
      "execution_count": 4,
      "metadata": {
        "execution": {
          "iopub.execute_input": "2025-02-23T23:31:36.829286Z",
          "iopub.status.busy": "2025-02-23T23:31:36.829098Z",
          "iopub.status.idle": "2025-02-23T23:32:02.634591Z",
          "shell.execute_reply": "2025-02-23T23:32:02.634039Z"
        }
      },
      "outputs": [],
      "source": [
        "from oqd_compiler_infrastructure import Chain, Post\n",
        "\n",
        "from oqd_trical.backend import DynamiqsBackend, QutipBackend  # noqa: F401\n",
        "from oqd_trical.light_matter.compiler.approximate import (\n",
        "    RotatingReferenceFrame,\n",
        "    RotatingWaveApprox,\n",
        ")\n",
        "from oqd_trical.light_matter.compiler.canonicalize import (\n",
        "    canonicalize_emulator_circuit_factory,\n",
        ")\n",
        "\n",
        "frame_specs = {\n",
        "    \"E0\": [0, 2 * np.pi * 12.643e9, 2 * np.pi * 811.29e12, 2 * np.pi * 911.14e12],\n",
        "    \"E1\": [0, 2 * np.pi * 12.643e9, 2 * np.pi * 811.29e12, 2 * np.pi * 911.14e12],\n",
        "    \"P0\": 2 * np.pi * 1e6,\n",
        "}\n",
        "\n",
        "approx_pass = Chain(\n",
        "    Post(RotatingReferenceFrame(frame_specs=frame_specs)),\n",
        "    canonicalize_emulator_circuit_factory(),\n",
        "    Post(RotatingWaveApprox(cutoff=2 * np.pi * 1e9)),\n",
        ")\n",
        "\n",
        "backend = QutipBackend(approx_pass=approx_pass)\n",
        "\n",
        "fock_cutoff = 3\n",
        "experiment, hilbert_space = backend.compile(circuit, fock_cutoff)"
      ]
    },
    {
      "cell_type": "code",
      "execution_count": 5,
      "metadata": {},
      "outputs": [
        {
          "name": "stdout",
          "output_type": "stream",
          "text": [
            "HilbertSpace\n",
            "  - hilbert_space: dict\n",
            "    - E0: set({0, 1, 2, 3})\n",
            "    - E1: set({0, 1, 2, 3})\n",
            "    - P0: set({0, 1, 2})\n",
            "================================================================================\n",
            "AtomicEmulatorCircuit\n",
            "  - frame: Operator(79438311838.67151 * |1><1|_E0 @ I_E1 @ I_P0 + 5097485407861727.0 * |2><2|_E0 @ I_E1 @ I_P0 + 5724861460783608.0 * |3><3|_E0 @ I_E1 @ I_P0 + 79438311838.67151 * I_E0 @ |1><1|_E1 @ I_P0 + 5097485407861727.0 * I_E0 @ |2><2|_E1 @ I_P0 + 5724861460783608.0 * I_E0 @ |3><3|_E1 @ I_P0 + 6283185.307179586 * I_E0 @ I_E1 @ C_P0 * A_P0)\n",
            "  - sequence: list\n",
            "    - 0: AtomicEmulatorGate\n",
            "      - hamiltonian: Operator(314159.26535897935 * exp(1j * (6911504.0 * t)) * |2><0|_E0 @ I_E1 @ D(0.06536282797767531 * exp(1j * (6283185.307179586 * t + 1.5707963267948966)))_P0 + 314159.26535897935 * exp(1j * (-6911504.0 * t)) * |0><2|_E0 @ I_E1 @ D(0.06536282797767531 * exp(1j * (6283185.307179586 * t + -1.5707963267948966)))_P0 + 314159.26535897935 * exp(1j * (-6911504.0 * t)) * |2><0|_E0 @ I_E1 @ D(0.0653628281549217 * exp(1j * (6283185.307179586 * t + 1.5707963267948966)))_P0 + 314159.26535897935 * exp(1j * (6911504.0 * t)) * |0><2|_E0 @ I_E1 @ D(0.0653628281549217 * exp(1j * (6283185.307179586 * t + -1.5707963267948966)))_P0 + 942477.796076938 * exp(1j * (6911504.0 * t)) * I_E0 @ |2><0|_E1 @ D(0.06536282797767531 * exp(1j * (6283185.307179586 * t + 1.5707963267948966)))_P0 + 942477.796076938 * exp(1j * (-6911504.0 * t)) * I_E0 @ |0><2|_E1 @ D(0.06536282797767531 * exp(1j * (6283185.307179586 * t + -1.5707963267948966)))_P0 + 942477.796076938 * exp(1j * (-6911504.0 * t)) * I_E0 @ |2><0|_E1 @ D(0.0653628281549217 * exp(1j * (6283185.307179586 * t + 1.5707963267948966)))_P0 + 942477.796076938 * exp(1j * (6911504.0 * t)) * I_E0 @ |0><2|_E1 @ D(0.0653628281549217 * exp(1j * (6283185.307179586 * t + -1.5707963267948966)))_P0)\n",
            "      - duration: float(0.001)\n"
          ]
        }
      ],
      "source": [
        "from oqd_trical.light_matter.compiler.visualization import CondensedOperatorPrettyPrint\n",
        "\n",
        "printer = Post(CondensedOperatorPrettyPrint())\n",
        "\n",
        "print(printer(hilbert_space), \"=\" * 80, printer(backend.intermediate), sep=\"\\n\")"
      ]
    },
    {
      "cell_type": "markdown",
      "metadata": {},
      "source": [
        "### Run\n"
      ]
    },
    {
      "cell_type": "code",
      "execution_count": 6,
      "metadata": {
        "execution": {
          "iopub.execute_input": "2025-02-23T23:32:02.637016Z",
          "iopub.status.busy": "2025-02-23T23:32:02.636851Z",
          "iopub.status.idle": "2025-02-23T23:32:08.228756Z",
          "shell.execute_reply": "2025-02-23T23:32:08.228198Z"
        }
      },
      "outputs": [
        {
          "name": "stdout",
          "output_type": "stream",
          "text": [
            "10.1%. Run time:  22.56s. Est. time left: 00:00:03:20\n",
            "20.2%. Run time:  46.05s. Est. time left: 00:00:03:01\n",
            "30.3%. Run time:  68.88s. Est. time left: 00:00:02:38\n",
            "40.4%. Run time:  91.92s. Est. time left: 00:00:02:15\n",
            "50.5%. Run time: 115.43s. Est. time left: 00:00:01:53\n",
            "60.6%. Run time: 139.76s. Est. time left: 00:00:01:30\n",
            "70.7%. Run time: 163.48s. Est. time left: 00:00:01:07\n",
            "80.8%. Run time: 187.00s. Est. time left: 00:00:00:44\n",
            "90.9%. Run time: 212.63s. Est. time left: 00:00:00:21\n",
            "100.0%. Run time: 233.72s. Est. time left: 00:00:00:00\n",
            "Total run time: 233.72s\n"
          ]
        }
      ],
      "source": [
        "result = backend.run(\n",
        "    experiment,\n",
        "    hilbert_space=hilbert_space,\n",
        "    timestep=1e-5,\n",
        ")"
      ]
    },
    {
      "cell_type": "markdown",
      "metadata": {},
      "source": [
        "#### Results\n"
      ]
    },
    {
      "cell_type": "code",
      "execution_count": 7,
      "metadata": {},
      "outputs": [],
      "source": [
        "import matplotlib\n",
        "import matplotlib.pyplot as plt\n",
        "\n",
        "matplotlib.rcParams[\"figure.figsize\"] = (12, 8)\n",
        "matplotlib.rcParams[\"font.size\"] = 20\n",
        "matplotlib.rcParams[\"mathtext.fontset\"] = \"stix\"\n",
        "matplotlib.rcParams[\"font.family\"] = \"STIXGeneral\""
      ]
    },
    {
      "cell_type": "code",
      "execution_count": 8,
      "metadata": {
        "execution": {
          "iopub.execute_input": "2025-02-23T23:32:08.230622Z",
          "iopub.status.busy": "2025-02-23T23:32:08.230453Z",
          "iopub.status.idle": "2025-02-23T23:32:08.494199Z",
          "shell.execute_reply": "2025-02-23T23:32:08.493566Z"
        }
      },
      "outputs": [
        {
          "data": {
            "text/plain": [
              "<matplotlib.legend.Legend at 0x1372134be00>"
            ]
          },
          "execution_count": 8,
          "metadata": {},
          "output_type": "execute_result"
        },
        {
          "data": {
            "image/png": "[encoded data removed]",
            "text/plain": [
              "<Figure size 1200x800 with 1 Axes>"
            ]
          },
          "metadata": {},
          "output_type": "display_data"
        }
      ],
      "source": [
        "k = slice(None, None, 1)\n",
        "\n",
        "fig = plt.figure()\n",
        "\n",
        "ax = fig.subplots(1, 1, sharex=True)\n",
        "\n",
        "\n",
        "state_labels = [0, 1, 4, 5]\n",
        "plot_states = [\n",
        "    [s.ptrace([0, 1]).diag()[i] for i in state_labels] for s in result[\"states\"][k]\n",
        "]\n",
        "\n",
        "ax.plot(result[\"tspan\"][k], plot_states, label=range(len(state_labels)), alpha=0.5)\n",
        "\n",
        "\n",
        "ax.set_xlabel(r\"$t$\", labelpad=10)\n",
        "ax.set_ylabel(r\"$P(| \\psi \\rangle)$\", labelpad=10)\n",
        "\n",
        "ax.legend()"
      ]
    },
    {
      "cell_type": "code",
      "execution_count": 9,
      "metadata": {},
      "outputs": [
        {
          "data": {
            "text/plain": [
              "<matplotlib.legend.Legend at 0x13722100e10>"
            ]
          },
          "execution_count": 9,
          "metadata": {},
          "output_type": "execute_result"
        },
        {
          "data": {
            "image/png": "[encoded data removed]",
            "text/plain": [
              "<Figure size 1200x800 with 1 Axes>"
            ]
          },
          "metadata": {},
          "output_type": "display_data"
        }
      ],
      "source": [
        "k = slice(None, None, 1)\n",
        "\n",
        "fig = plt.figure()\n",
        "\n",
        "ax = fig.subplots(1, 1, sharex=True)\n",
        "\n",
        "ax.plot(\n",
        "    result[\"tspan\"][k],\n",
        "    [s.ptrace(2).diag()[:fock_cutoff] for s in result[\"states\"][k]],\n",
        "    label=range(fock_cutoff),\n",
        ")\n",
        "\n",
        "\n",
        "ax.set_xlabel(r\"$t$\", labelpad=10)\n",
        "ax.set_ylabel(r\"$P(| n \\rangle)$\", labelpad=10)\n",
        "\n",
        "ax.legend()"
      ]
    },
    {
      "cell_type": "code",
      "execution_count": null,
      "metadata": {},
      "outputs": [],
      "source": []
    }
  ],
  "metadata": {
    "kernelspec": {
      "display_name": ".venv",
      "language": "python",
      "name": "python3"
    },
    "language_info": {
      "codemirror_mode": {
        "name": "ipython",
        "version": 3
      },
      "file_extension": ".py",
      "mimetype": "text/x-python",
      "name": "python",
      "nbconvert_exporter": "python",
      "pygments_lexer": "ipython3",
      "version": "3.13.2"
    }
  },
  "nbformat": 4,
  "nbformat_minor": 2
}
