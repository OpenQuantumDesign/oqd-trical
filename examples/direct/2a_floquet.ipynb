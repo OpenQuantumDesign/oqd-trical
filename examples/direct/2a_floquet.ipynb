{
 "cells": [
  {
   "cell_type": "markdown",
   "metadata": {},
   "source": [
    "# Floquet Experiment\n"
   ]
  },
  {
   "cell_type": "markdown",
   "metadata": {},
   "source": [
    "## Atomic Circuit\n"
   ]
  },
  {
   "cell_type": "code",
   "execution_count": 1,
   "metadata": {
    "execution": {
     "iopub.execute_input": "2025-03-01T20:57:29.398440Z",
     "iopub.status.busy": "2025-03-01T20:57:29.398055Z",
     "iopub.status.idle": "2025-03-01T20:57:29.697451Z",
     "shell.execute_reply": "2025-03-01T20:57:29.696822Z"
    }
   },
   "outputs": [],
   "source": [
    "import numpy as np\n",
    "from oqd_core.interface.atomic import (\n",
    "    AtomicCircuit,\n",
    "    Beam,\n",
    "    Ion,\n",
    "    Level,\n",
    "    ParallelProtocol,  # noqa: F401\n",
    "    Phonon,\n",
    "    Pulse,\n",
    "    SequentialProtocol,  # noqa: F401\n",
    "    System,\n",
    "    Transition,\n",
    ")\n",
    "\n",
    "downstate = Level(\n",
    "    principal=6,\n",
    "    spin=1 / 2,\n",
    "    orbital=0,\n",
    "    nuclear=1 / 2,\n",
    "    spin_orbital=1 / 2,\n",
    "    spin_orbital_nuclear=0,\n",
    "    spin_orbital_nuclear_magnetization=0,\n",
    "    energy=2 * np.pi * 0,\n",
    "    label=\"q0\",\n",
    ")\n",
    "upstate = Level(\n",
    "    principal=6,\n",
    "    spin=1 / 2,\n",
    "    orbital=0,\n",
    "    nuclear=1 / 2,\n",
    "    spin_orbital=1 / 2,\n",
    "    spin_orbital_nuclear=1,\n",
    "    spin_orbital_nuclear_magnetization=0,\n",
    "    energy=2 * np.pi * 12.643e9,\n",
    "    label=\"q1\",\n",
    ")\n",
    "estate = Level(\n",
    "    principal=6,\n",
    "    spin=1 / 2,\n",
    "    orbital=1,\n",
    "    nuclear=1 / 2,\n",
    "    spin_orbital=1 / 2,\n",
    "    spin_orbital_nuclear=1,\n",
    "    spin_orbital_nuclear_magnetization=-1,\n",
    "    energy=2 * np.pi * 811.29e12,\n",
    "    label=\"e0\",\n",
    ")\n",
    "estate2 = Level(\n",
    "    principal=6,\n",
    "    spin=1 / 2,\n",
    "    orbital=1,\n",
    "    nuclear=1 / 2,\n",
    "    spin_orbital=1 / 2,\n",
    "    spin_orbital_nuclear=1,\n",
    "    spin_orbital_nuclear_magnetization=1,\n",
    "    energy=2 * np.pi * 911.14e12,\n",
    "    label=\"e1\",\n",
    ")\n",
    "\n",
    "transitions = [\n",
    "    Transition(\n",
    "        level1=downstate, level2=upstate, einsteinA=1, multipole=\"M1\", label=\"q0->q1\"\n",
    "    ),\n",
    "    Transition(\n",
    "        level1=downstate, level2=estate, einsteinA=1, multipole=\"E1\", label=\"q0->e0\"\n",
    "    ),\n",
    "    Transition(\n",
    "        level1=downstate, level2=estate2, einsteinA=1, multipole=\"E1\", label=\"q0->e1\"\n",
    "    ),\n",
    "    Transition(\n",
    "        level1=upstate, level2=estate, einsteinA=1, multipole=\"E1\", label=\"q1->e0\"\n",
    "    ),\n",
    "    Transition(\n",
    "        level1=upstate, level2=estate2, einsteinA=1, multipole=\"E1\", label=\"q1->e1\"\n",
    "    ),\n",
    "]\n",
    "\n",
    "Yb171 = Ion(\n",
    "    mass=171,\n",
    "    charge=1,\n",
    "    position=[0, 0, 0],\n",
    "    levels=[downstate, upstate, estate, estate2],\n",
    "    transitions=transitions,\n",
    ")\n",
    "\n",
    "COM_x = Phonon(energy=2 * np.pi * 1e6, eigenvector=[1, 0, 0])\n",
    "\n",
    "system = System(\n",
    "    ions=[\n",
    "        Yb171,\n",
    "    ],\n",
    "    modes=[\n",
    "        COM_x,\n",
    "    ],\n",
    ")\n",
    "\n",
    "beam = Beam(\n",
    "    transition=transitions[0],\n",
    "    rabi=2 * np.pi * 1e6,\n",
    "    detuning=0,\n",
    "    phase=0,\n",
    "    polarization=[0, 1, 0],\n",
    "    wavevector=[1, 0, 0],\n",
    "    target=0,\n",
    ")\n",
    "\n",
    "beam2 = Beam(\n",
    "    transition=transitions[0],\n",
    "    rabi=2 * np.pi * 1e6,\n",
    "    detuning=0,\n",
    "    phase=np.pi,\n",
    "    polarization=[0, 1, 0],\n",
    "    wavevector=[1, 0, 0],\n",
    "    target=0,\n",
    ")\n",
    "\n",
    "steps = 10\n",
    "timestep = 1e-6 / steps\n",
    "\n",
    "protocol = SequentialProtocol(\n",
    "    sequence=[\n",
    "        Pulse(beam=beam, duration=timestep)\n",
    "        if i % 2 == 0\n",
    "        else Pulse(beam=beam2, duration=timestep)\n",
    "        for i in range(steps)\n",
    "    ]\n",
    ")\n",
    "\n",
    "circuit = AtomicCircuit(system=system, protocol=protocol)"
   ]
  },
  {
   "cell_type": "markdown",
   "metadata": {},
   "source": [
    "### Serialization & Deserialization\n"
   ]
  },
  {
   "cell_type": "code",
   "execution_count": 2,
   "metadata": {
    "execution": {
     "iopub.execute_input": "2025-03-01T20:57:29.700259Z",
     "iopub.status.busy": "2025-03-01T20:57:29.700027Z",
     "iopub.status.idle": "2025-03-01T20:57:29.705446Z",
     "shell.execute_reply": "2025-03-01T20:57:29.704891Z"
    }
   },
   "outputs": [],
   "source": [
    "import json\n",
    "\n",
    "circuit_json = circuit.model_dump_json()\n",
    "circuit_json = json.dumps(json.loads(circuit_json), indent=2)\n",
    "\n",
    "with open(\"2a_floquet.json\", \"w\") as f:\n",
    "    f.write(circuit_json)"
   ]
  },
  {
   "cell_type": "code",
   "execution_count": 3,
   "metadata": {
    "execution": {
     "iopub.execute_input": "2025-03-01T20:57:29.707583Z",
     "iopub.status.busy": "2025-03-01T20:57:29.707400Z",
     "iopub.status.idle": "2025-03-01T20:57:29.722206Z",
     "shell.execute_reply": "2025-03-01T20:57:29.721352Z"
    }
   },
   "outputs": [],
   "source": [
    "with open(\"2a_floquet.json\", \"r\") as f:\n",
    "    circuit_json = f.read()\n",
    "\n",
    "assert AtomicCircuit.model_validate_json(circuit_json) == circuit"
   ]
  },
  {
   "cell_type": "markdown",
   "metadata": {},
   "source": [
    "## Qutip Intepreter\n"
   ]
  },
  {
   "cell_type": "markdown",
   "metadata": {},
   "source": [
    "### Compile\n"
   ]
  },
  {
   "cell_type": "code",
   "execution_count": 4,
   "metadata": {
    "execution": {
     "iopub.execute_input": "2025-03-01T20:57:29.724941Z",
     "iopub.status.busy": "2025-03-01T20:57:29.724743Z",
     "iopub.status.idle": "2025-03-01T20:57:38.235732Z",
     "shell.execute_reply": "2025-03-01T20:57:38.234911Z"
    }
   },
   "outputs": [],
   "source": [
    "from oqd_compiler_infrastructure import Chain, Post\n",
    "\n",
    "from oqd_trical.backend import DynamiqsBackend, QutipBackend  # noqa: F401\n",
    "from oqd_trical.light_matter.compiler.approximate import (\n",
    "    RotatingReferenceFrame,\n",
    "    RotatingWaveApprox,\n",
    ")\n",
    "from oqd_trical.light_matter.compiler.canonicalize import (\n",
    "    canonicalize_emulator_circuit_factory,\n",
    ")\n",
    "\n",
    "frame_specs = {\n",
    "    \"E0\": [0, 2 * np.pi * 12.643e9, 2 * np.pi * 811.29e12, 2 * np.pi * 911.14e12],\n",
    "    \"P0\": 2 * np.pi * 1e6,\n",
    "}\n",
    "\n",
    "approx_pass = Chain(\n",
    "    Post(RotatingReferenceFrame(frame_specs=frame_specs)),\n",
    "    canonicalize_emulator_circuit_factory(),\n",
    "    Post(RotatingWaveApprox(cutoff=2 * np.pi * 1e9)),\n",
    ")\n",
    "\n",
    "backend = QutipBackend(approx_pass=approx_pass)\n",
    "\n",
    "fock_cutoff = 3\n",
    "experiment, hilbert_space = backend.compile(circuit, fock_cutoff)"
   ]
  },
  {
   "cell_type": "code",
   "execution_count": 5,
   "metadata": {
    "execution": {
     "iopub.execute_input": "2025-03-01T20:57:38.238712Z",
     "iopub.status.busy": "2025-03-01T20:57:38.238412Z",
     "iopub.status.idle": "2025-03-01T20:57:38.262482Z",
     "shell.execute_reply": "2025-03-01T20:57:38.261512Z"
    }
   },
   "outputs": [
    {
     "name": "stdout",
     "output_type": "stream",
     "text": [
      "HilbertSpace\n",
      "  - hilbert_space: dict\n",
      "    - E0: set({0, 1, 2, 3})\n",
      "    - P0: set({0, 1, 2})\n",
      "================================================================================\n",
      "AtomicEmulatorCircuit\n",
      "  - frame: Operator(79438311838.67151 * |1><1|_E0 @ I_P0 + 5097485407861727.0 * |2><2|_E0 @ I_P0 + 5724861460783608.0 * |3><3|_E0 @ I_P0 + 6283185.307179586 * I_E0 @ C_P0 * A_P0)\n",
      "  - sequence: list\n",
      "    - 0: AtomicEmulatorGate\n",
      "      - hamiltonian: Operator(3141592.6535897925 * |1><0|_E0 @ D(1.4405218414916117e-06 * exp(1j * (6283185.307179586 * t + 1.5707963267948966)))_P0 + 3141592.6535897925 * |0><1|_E0 @ D(1.4405218414916117e-06 * exp(1j * (6283185.307179586 * t + -1.5707963267948966)))_P0)\n",
      "      - duration: float(1e-07)\n",
      "    - 1: AtomicEmulatorGate\n",
      "      - hamiltonian: Operator(3141592.6535897925 * exp(1j * (3.141592653589793)) * |1><0|_E0 @ D(1.4405218414916117e-06 * exp(1j * (6283185.307179586 * t + 1.5707963267948966)))_P0 + 3141592.6535897925 * exp(1j * (-3.141592653589793)) * |0><1|_E0 @ D(1.4405218414916117e-06 * exp(1j * (6283185.307179586 * t + -1.5707963267948966)))_P0)\n",
      "      - duration: float(1e-07)\n",
      "    - 2: AtomicEmulatorGate\n",
      "      - hamiltonian: Operator(3141592.6535897925 * |1><0|_E0 @ D(1.4405218414916117e-06 * exp(1j * (6283185.307179586 * t + 1.5707963267948966)))_P0 + 3141592.6535897925 * |0><1|_E0 @ D(1.4405218414916117e-06 * exp(1j * (6283185.307179586 * t + -1.5707963267948966)))_P0)\n",
      "      - duration: float(1e-07)\n",
      "    - 3: AtomicEmulatorGate\n",
      "      - hamiltonian: Operator(3141592.6535897925 * exp(1j * (3.141592653589793)) * |1><0|_E0 @ D(1.4405218414916117e-06 * exp(1j * (6283185.307179586 * t + 1.5707963267948966)))_P0 + 3141592.6535897925 * exp(1j * (-3.141592653589793)) * |0><1|_E0 @ D(1.4405218414916117e-06 * exp(1j * (6283185.307179586 * t + -1.5707963267948966)))_P0)\n",
      "      - duration: float(1e-07)\n",
      "    - 4: AtomicEmulatorGate\n",
      "      - hamiltonian: Operator(3141592.6535897925 * |1><0|_E0 @ D(1.4405218414916117e-06 * exp(1j * (6283185.307179586 * t + 1.5707963267948966)))_P0 + 3141592.6535897925 * |0><1|_E0 @ D(1.4405218414916117e-06 * exp(1j * (6283185.307179586 * t + -1.5707963267948966)))_P0)\n",
      "      - duration: float(1e-07)\n",
      "    - 5: AtomicEmulatorGate\n",
      "      - hamiltonian: Operator(3141592.6535897925 * exp(1j * (3.141592653589793)) * |1><0|_E0 @ D(1.4405218414916117e-06 * exp(1j * (6283185.307179586 * t + 1.5707963267948966)))_P0 + 3141592.6535897925 * exp(1j * (-3.141592653589793)) * |0><1|_E0 @ D(1.4405218414916117e-06 * exp(1j * (6283185.307179586 * t + -1.5707963267948966)))_P0)\n",
      "      - duration: float(1e-07)\n",
      "    - 6: AtomicEmulatorGate\n",
      "      - hamiltonian: Operator(3141592.6535897925 * |1><0|_E0 @ D(1.4405218414916117e-06 * exp(1j * (6283185.307179586 * t + 1.5707963267948966)))_P0 + 3141592.6535897925 * |0><1|_E0 @ D(1.4405218414916117e-06 * exp(1j * (6283185.307179586 * t + -1.5707963267948966)))_P0)\n",
      "      - duration: float(1e-07)\n",
      "    - 7: AtomicEmulatorGate\n",
      "      - hamiltonian: Operator(3141592.6535897925 * exp(1j * (3.141592653589793)) * |1><0|_E0 @ D(1.4405218414916117e-06 * exp(1j * (6283185.307179586 * t + 1.5707963267948966)))_P0 + 3141592.6535897925 * exp(1j * (-3.141592653589793)) * |0><1|_E0 @ D(1.4405218414916117e-06 * exp(1j * (6283185.307179586 * t + -1.5707963267948966)))_P0)\n",
      "      - duration: float(1e-07)\n",
      "    - 8: AtomicEmulatorGate\n",
      "      - hamiltonian: Operator(3141592.6535897925 * |1><0|_E0 @ D(1.4405218414916117e-06 * exp(1j * (6283185.307179586 * t + 1.5707963267948966)))_P0 + 3141592.6535897925 * |0><1|_E0 @ D(1.4405218414916117e-06 * exp(1j * (6283185.307179586 * t + -1.5707963267948966)))_P0)\n",
      "      - duration: float(1e-07)\n",
      "    - 9: AtomicEmulatorGate\n",
      "      - hamiltonian: Operator(3141592.6535897925 * exp(1j * (3.141592653589793)) * |1><0|_E0 @ D(1.4405218414916117e-06 * exp(1j * (6283185.307179586 * t + 1.5707963267948966)))_P0 + 3141592.6535897925 * exp(1j * (-3.141592653589793)) * |0><1|_E0 @ D(1.4405218414916117e-06 * exp(1j * (6283185.307179586 * t + -1.5707963267948966)))_P0)\n",
      "      - duration: float(1e-07)\n"
     ]
    }
   ],
   "source": [
    "from oqd_trical.light_matter.compiler.visualization import CondensedOperatorPrettyPrint\n",
    "\n",
    "printer = Post(CondensedOperatorPrettyPrint())\n",
    "\n",
    "print(printer(hilbert_space), \"=\" * 80, printer(backend.intermediate), sep=\"\\n\")"
   ]
  },
  {
   "cell_type": "markdown",
   "metadata": {},
   "source": [
    "### Run\n"
   ]
  },
  {
   "cell_type": "code",
   "execution_count": 6,
   "metadata": {
    "execution": {
     "iopub.execute_input": "2025-03-01T20:57:38.290140Z",
     "iopub.status.busy": "2025-03-01T20:57:38.289824Z",
     "iopub.status.idle": "2025-03-01T20:57:38.514447Z",
     "shell.execute_reply": "2025-03-01T20:57:38.513972Z"
    }
   },
   "outputs": [
    {
     "name": "stdout",
     "output_type": "stream",
     "text": [
      "10.0%. Run time:   0.01s. Est. time left: 00:00:00:00\n"
     ]
    },
    {
     "name": "stdout",
     "output_type": "stream",
     "text": [
      "20.0%. Run time:   0.01s. Est. time left: 00:00:00:00\n"
     ]
    },
    {
     "name": "stdout",
     "output_type": "stream",
     "text": [
      "30.0%. Run time:   0.01s. Est. time left: 00:00:00:00\n"
     ]
    },
    {
     "name": "stdout",
     "output_type": "stream",
     "text": [
      "40.0%. Run time:   0.02s. Est. time left: 00:00:00:00\n"
     ]
    },
    {
     "name": "stdout",
     "output_type": "stream",
     "text": [
      "50.0%. Run time:   0.02s. Est. time left: 00:00:00:00\n"
     ]
    },
    {
     "name": "stdout",
     "output_type": "stream",
     "text": [
      "60.0%. Run time:   0.02s. Est. time left: 00:00:00:00\n"
     ]
    },
    {
     "name": "stdout",
     "output_type": "stream",
     "text": [
      "70.0%. Run time:   0.02s. Est. time left: 00:00:00:00\n"
     ]
    },
    {
     "name": "stdout",
     "output_type": "stream",
     "text": [
      "80.0%. Run time:   0.02s. Est. time left: 00:00:00:00\n"
     ]
    },
    {
     "name": "stdout",
     "output_type": "stream",
     "text": [
      "90.0%. Run time:   0.02s. Est. time left: 00:00:00:00\n"
     ]
    },
    {
     "name": "stdout",
     "output_type": "stream",
     "text": [
      "100.0%. Run time:   0.02s. Est. time left: 00:00:00:00\n"
     ]
    },
    {
     "name": "stdout",
     "output_type": "stream",
     "text": [
      "Total run time:   0.02s\n",
      "10.0%. Run time:   0.01s. Est. time left: 00:00:00:00\n"
     ]
    },
    {
     "name": "stdout",
     "output_type": "stream",
     "text": [
      "20.0%. Run time:   0.01s. Est. time left: 00:00:00:00\n"
     ]
    },
    {
     "name": "stdout",
     "output_type": "stream",
     "text": [
      "30.0%. Run time:   0.01s. Est. time left: 00:00:00:00\n"
     ]
    },
    {
     "name": "stdout",
     "output_type": "stream",
     "text": [
      "40.0%. Run time:   0.02s. Est. time left: 00:00:00:00\n"
     ]
    },
    {
     "name": "stdout",
     "output_type": "stream",
     "text": [
      "50.0%. Run time:   0.02s. Est. time left: 00:00:00:00\n"
     ]
    },
    {
     "name": "stdout",
     "output_type": "stream",
     "text": [
      "60.0%. Run time:   0.02s. Est. time left: 00:00:00:00\n"
     ]
    },
    {
     "name": "stdout",
     "output_type": "stream",
     "text": [
      "70.0%. Run time:   0.02s. Est. time left: 00:00:00:00\n"
     ]
    },
    {
     "name": "stdout",
     "output_type": "stream",
     "text": [
      "80.0%. Run time:   0.02s. Est. time left: 00:00:00:00\n"
     ]
    },
    {
     "name": "stdout",
     "output_type": "stream",
     "text": [
      "90.0%. Run time:   0.02s. Est. time left: 00:00:00:00\n"
     ]
    },
    {
     "name": "stdout",
     "output_type": "stream",
     "text": [
      "100.0%. Run time:   0.02s. Est. time left: 00:00:00:00\n"
     ]
    },
    {
     "name": "stdout",
     "output_type": "stream",
     "text": [
      "Total run time:   0.02s\n",
      "10.0%. Run time:   0.01s. Est. time left: 00:00:00:00\n"
     ]
    },
    {
     "name": "stdout",
     "output_type": "stream",
     "text": [
      "20.0%. Run time:   0.01s. Est. time left: 00:00:00:00\n"
     ]
    },
    {
     "name": "stdout",
     "output_type": "stream",
     "text": [
      "30.0%. Run time:   0.01s. Est. time left: 00:00:00:00\n"
     ]
    },
    {
     "name": "stdout",
     "output_type": "stream",
     "text": [
      "40.0%. Run time:   0.01s. Est. time left: 00:00:00:00\n"
     ]
    },
    {
     "name": "stdout",
     "output_type": "stream",
     "text": [
      "50.0%. Run time:   0.01s. Est. time left: 00:00:00:00\n"
     ]
    },
    {
     "name": "stdout",
     "output_type": "stream",
     "text": [
      "60.0%. Run time:   0.01s. Est. time left: 00:00:00:00\n"
     ]
    },
    {
     "name": "stdout",
     "output_type": "stream",
     "text": [
      "70.0%. Run time:   0.02s. Est. time left: 00:00:00:00\n"
     ]
    },
    {
     "name": "stdout",
     "output_type": "stream",
     "text": [
      "80.0%. Run time:   0.02s. Est. time left: 00:00:00:00\n"
     ]
    },
    {
     "name": "stdout",
     "output_type": "stream",
     "text": [
      "90.0%. Run time:   0.02s. Est. time left: 00:00:00:00\n"
     ]
    },
    {
     "name": "stdout",
     "output_type": "stream",
     "text": [
      "100.0%. Run time:   0.02s. Est. time left: 00:00:00:00\n"
     ]
    },
    {
     "name": "stdout",
     "output_type": "stream",
     "text": [
      "Total run time:   0.02s\n",
      "10.0%. Run time:   0.01s. Est. time left: 00:00:00:00\n"
     ]
    },
    {
     "name": "stdout",
     "output_type": "stream",
     "text": [
      "20.0%. Run time:   0.01s. Est. time left: 00:00:00:00\n"
     ]
    },
    {
     "name": "stdout",
     "output_type": "stream",
     "text": [
      "30.0%. Run time:   0.01s. Est. time left: 00:00:00:00\n"
     ]
    },
    {
     "name": "stdout",
     "output_type": "stream",
     "text": [
      "40.0%. Run time:   0.02s. Est. time left: 00:00:00:00\n"
     ]
    },
    {
     "name": "stdout",
     "output_type": "stream",
     "text": [
      "50.0%. Run time:   0.02s. Est. time left: 00:00:00:00\n"
     ]
    },
    {
     "name": "stdout",
     "output_type": "stream",
     "text": [
      "60.0%. Run time:   0.02s. Est. time left: 00:00:00:00\n"
     ]
    },
    {
     "name": "stdout",
     "output_type": "stream",
     "text": [
      "70.0%. Run time:   0.02s. Est. time left: 00:00:00:00\n"
     ]
    },
    {
     "name": "stdout",
     "output_type": "stream",
     "text": [
      "80.0%. Run time:   0.02s. Est. time left: 00:00:00:00\n"
     ]
    },
    {
     "name": "stdout",
     "output_type": "stream",
     "text": [
      "90.0%. Run time:   0.02s. Est. time left: 00:00:00:00\n"
     ]
    },
    {
     "name": "stdout",
     "output_type": "stream",
     "text": [
      "100.0%. Run time:   0.02s. Est. time left: 00:00:00:00\n"
     ]
    },
    {
     "name": "stdout",
     "output_type": "stream",
     "text": [
      "Total run time:   0.02s\n",
      "10.0%. Run time:   0.01s. Est. time left: 00:00:00:00\n"
     ]
    },
    {
     "name": "stdout",
     "output_type": "stream",
     "text": [
      "20.0%. Run time:   0.01s. Est. time left: 00:00:00:00\n"
     ]
    },
    {
     "name": "stdout",
     "output_type": "stream",
     "text": [
      "30.0%. Run time:   0.01s. Est. time left: 00:00:00:00\n"
     ]
    },
    {
     "name": "stdout",
     "output_type": "stream",
     "text": [
      "40.0%. Run time:   0.01s. Est. time left: 00:00:00:00\n"
     ]
    },
    {
     "name": "stdout",
     "output_type": "stream",
     "text": [
      "50.0%. Run time:   0.02s. Est. time left: 00:00:00:00\n"
     ]
    },
    {
     "name": "stdout",
     "output_type": "stream",
     "text": [
      "60.0%. Run time:   0.02s. Est. time left: 00:00:00:00\n"
     ]
    },
    {
     "name": "stdout",
     "output_type": "stream",
     "text": [
      "70.0%. Run time:   0.02s. Est. time left: 00:00:00:00\n"
     ]
    },
    {
     "name": "stdout",
     "output_type": "stream",
     "text": [
      "80.0%. Run time:   0.02s. Est. time left: 00:00:00:00\n"
     ]
    },
    {
     "name": "stdout",
     "output_type": "stream",
     "text": [
      "90.0%. Run time:   0.02s. Est. time left: 00:00:00:00\n"
     ]
    },
    {
     "name": "stdout",
     "output_type": "stream",
     "text": [
      "100.0%. Run time:   0.02s. Est. time left: 00:00:00:00\n"
     ]
    },
    {
     "name": "stdout",
     "output_type": "stream",
     "text": [
      "Total run time:   0.02s\n",
      "10.0%. Run time:   0.01s. Est. time left: 00:00:00:00\n"
     ]
    },
    {
     "name": "stdout",
     "output_type": "stream",
     "text": [
      "20.0%. Run time:   0.01s. Est. time left: 00:00:00:00\n"
     ]
    },
    {
     "name": "stdout",
     "output_type": "stream",
     "text": [
      "30.0%. Run time:   0.01s. Est. time left: 00:00:00:00\n"
     ]
    },
    {
     "name": "stdout",
     "output_type": "stream",
     "text": [
      "40.0%. Run time:   0.02s. Est. time left: 00:00:00:00\n"
     ]
    },
    {
     "name": "stdout",
     "output_type": "stream",
     "text": [
      "50.0%. Run time:   0.02s. Est. time left: 00:00:00:00\n"
     ]
    },
    {
     "name": "stdout",
     "output_type": "stream",
     "text": [
      "60.0%. Run time:   0.02s. Est. time left: 00:00:00:00\n"
     ]
    },
    {
     "name": "stdout",
     "output_type": "stream",
     "text": [
      "70.0%. Run time:   0.02s. Est. time left: 00:00:00:00\n"
     ]
    },
    {
     "name": "stdout",
     "output_type": "stream",
     "text": [
      "80.0%. Run time:   0.02s. Est. time left: 00:00:00:00\n"
     ]
    },
    {
     "name": "stdout",
     "output_type": "stream",
     "text": [
      "90.0%. Run time:   0.02s. Est. time left: 00:00:00:00\n"
     ]
    },
    {
     "name": "stdout",
     "output_type": "stream",
     "text": [
      "100.0%. Run time:   0.02s. Est. time left: 00:00:00:00\n"
     ]
    },
    {
     "name": "stdout",
     "output_type": "stream",
     "text": [
      "Total run time:   0.02s\n",
      "10.0%. Run time:   0.01s. Est. time left: 00:00:00:00\n"
     ]
    },
    {
     "name": "stdout",
     "output_type": "stream",
     "text": [
      "20.0%. Run time:   0.01s. Est. time left: 00:00:00:00\n"
     ]
    },
    {
     "name": "stdout",
     "output_type": "stream",
     "text": [
      "30.0%. Run time:   0.01s. Est. time left: 00:00:00:00\n"
     ]
    },
    {
     "name": "stdout",
     "output_type": "stream",
     "text": [
      "40.0%. Run time:   0.01s. Est. time left: 00:00:00:00\n"
     ]
    },
    {
     "name": "stdout",
     "output_type": "stream",
     "text": [
      "50.0%. Run time:   0.02s. Est. time left: 00:00:00:00\n"
     ]
    },
    {
     "name": "stdout",
     "output_type": "stream",
     "text": [
      "60.0%. Run time:   0.02s. Est. time left: 00:00:00:00\n"
     ]
    },
    {
     "name": "stdout",
     "output_type": "stream",
     "text": [
      "70.0%. Run time:   0.02s. Est. time left: 00:00:00:00\n"
     ]
    },
    {
     "name": "stdout",
     "output_type": "stream",
     "text": [
      "80.0%. Run time:   0.02s. Est. time left: 00:00:00:00\n"
     ]
    },
    {
     "name": "stdout",
     "output_type": "stream",
     "text": [
      "90.0%. Run time:   0.02s. Est. time left: 00:00:00:00\n"
     ]
    },
    {
     "name": "stdout",
     "output_type": "stream",
     "text": [
      "100.0%. Run time:   0.02s. Est. time left: 00:00:00:00\n"
     ]
    },
    {
     "name": "stdout",
     "output_type": "stream",
     "text": [
      "Total run time:   0.02s\n",
      "10.0%. Run time:   0.01s. Est. time left: 00:00:00:00\n"
     ]
    },
    {
     "name": "stdout",
     "output_type": "stream",
     "text": [
      "20.0%. Run time:   0.01s. Est. time left: 00:00:00:00\n"
     ]
    },
    {
     "name": "stdout",
     "output_type": "stream",
     "text": [
      "30.0%. Run time:   0.01s. Est. time left: 00:00:00:00\n"
     ]
    },
    {
     "name": "stdout",
     "output_type": "stream",
     "text": [
      "40.0%. Run time:   0.02s. Est. time left: 00:00:00:00\n"
     ]
    },
    {
     "name": "stdout",
     "output_type": "stream",
     "text": [
      "50.0%. Run time:   0.02s. Est. time left: 00:00:00:00\n"
     ]
    },
    {
     "name": "stdout",
     "output_type": "stream",
     "text": [
      "60.0%. Run time:   0.02s. Est. time left: 00:00:00:00\n"
     ]
    },
    {
     "name": "stdout",
     "output_type": "stream",
     "text": [
      "70.0%. Run time:   0.02s. Est. time left: 00:00:00:00\n"
     ]
    },
    {
     "name": "stdout",
     "output_type": "stream",
     "text": [
      "80.0%. Run time:   0.02s. Est. time left: 00:00:00:00\n"
     ]
    },
    {
     "name": "stdout",
     "output_type": "stream",
     "text": [
      "90.0%. Run time:   0.02s. Est. time left: 00:00:00:00\n"
     ]
    },
    {
     "name": "stdout",
     "output_type": "stream",
     "text": [
      "100.0%. Run time:   0.02s. Est. time left: 00:00:00:00\n"
     ]
    },
    {
     "name": "stdout",
     "output_type": "stream",
     "text": [
      "Total run time:   0.02s\n",
      "10.0%. Run time:   0.01s. Est. time left: 00:00:00:00\n"
     ]
    },
    {
     "name": "stdout",
     "output_type": "stream",
     "text": [
      "20.0%. Run time:   0.01s. Est. time left: 00:00:00:00\n"
     ]
    },
    {
     "name": "stdout",
     "output_type": "stream",
     "text": [
      "30.0%. Run time:   0.01s. Est. time left: 00:00:00:00\n"
     ]
    },
    {
     "name": "stdout",
     "output_type": "stream",
     "text": [
      "40.0%. Run time:   0.01s. Est. time left: 00:00:00:00\n"
     ]
    },
    {
     "name": "stdout",
     "output_type": "stream",
     "text": [
      "50.0%. Run time:   0.01s. Est. time left: 00:00:00:00\n"
     ]
    },
    {
     "name": "stdout",
     "output_type": "stream",
     "text": [
      "60.0%. Run time:   0.02s. Est. time left: 00:00:00:00\n"
     ]
    },
    {
     "name": "stdout",
     "output_type": "stream",
     "text": [
      "70.0%. Run time:   0.02s. Est. time left: 00:00:00:00\n"
     ]
    },
    {
     "name": "stdout",
     "output_type": "stream",
     "text": [
      "80.0%. Run time:   0.02s. Est. time left: 00:00:00:00\n"
     ]
    },
    {
     "name": "stdout",
     "output_type": "stream",
     "text": [
      "90.0%. Run time:   0.02s. Est. time left: 00:00:00:00\n"
     ]
    },
    {
     "name": "stdout",
     "output_type": "stream",
     "text": [
      "100.0%. Run time:   0.02s. Est. time left: 00:00:00:00\n"
     ]
    },
    {
     "name": "stdout",
     "output_type": "stream",
     "text": [
      "Total run time:   0.02s\n",
      "10.0%. Run time:   0.01s. Est. time left: 00:00:00:00\n"
     ]
    },
    {
     "name": "stdout",
     "output_type": "stream",
     "text": [
      "20.0%. Run time:   0.01s. Est. time left: 00:00:00:00\n"
     ]
    },
    {
     "name": "stdout",
     "output_type": "stream",
     "text": [
      "30.0%. Run time:   0.02s. Est. time left: 00:00:00:00\n"
     ]
    },
    {
     "name": "stdout",
     "output_type": "stream",
     "text": [
      "40.0%. Run time:   0.02s. Est. time left: 00:00:00:00\n"
     ]
    },
    {
     "name": "stdout",
     "output_type": "stream",
     "text": [
      "50.0%. Run time:   0.02s. Est. time left: 00:00:00:00\n"
     ]
    },
    {
     "name": "stdout",
     "output_type": "stream",
     "text": [
      "60.0%. Run time:   0.02s. Est. time left: 00:00:00:00"
     ]
    },
    {
     "name": "stdout",
     "output_type": "stream",
     "text": [
      "\n"
     ]
    },
    {
     "name": "stdout",
     "output_type": "stream",
     "text": [
      "70.0%. Run time:   0.02s. Est. time left: 00:00:00:00\n"
     ]
    },
    {
     "name": "stdout",
     "output_type": "stream",
     "text": [
      "80.0%. Run time:   0.02s. Est. time left: 00:00:00:00\n"
     ]
    },
    {
     "name": "stdout",
     "output_type": "stream",
     "text": [
      "90.0%. Run time:   0.02s. Est. time left: 00:00:00:00\n"
     ]
    },
    {
     "name": "stdout",
     "output_type": "stream",
     "text": [
      "100.0%. Run time:   0.02s. Est. time left: 00:00:00:00\n"
     ]
    },
    {
     "name": "stdout",
     "output_type": "stream",
     "text": [
      "Total run time:   0.02s\n"
     ]
    }
   ],
   "source": [
    "result = backend.run(\n",
    "    experiment,\n",
    "    hilbert_space=hilbert_space,\n",
    "    timestep=1e-8,\n",
    ")"
   ]
  },
  {
   "cell_type": "markdown",
   "metadata": {},
   "source": [
    "#### Results\n"
   ]
  },
  {
   "cell_type": "code",
   "execution_count": 7,
   "metadata": {
    "execution": {
     "iopub.execute_input": "2025-03-01T20:57:38.516496Z",
     "iopub.status.busy": "2025-03-01T20:57:38.516314Z",
     "iopub.status.idle": "2025-03-01T20:57:38.519345Z",
     "shell.execute_reply": "2025-03-01T20:57:38.518960Z"
    }
   },
   "outputs": [],
   "source": [
    "import matplotlib\n",
    "import matplotlib.pyplot as plt\n",
    "\n",
    "matplotlib.rcParams[\"figure.figsize\"] = (12, 8)\n",
    "matplotlib.rcParams[\"font.size\"] = 20\n",
    "matplotlib.rcParams[\"mathtext.fontset\"] = \"stix\"\n",
    "matplotlib.rcParams[\"font.family\"] = \"STIXGeneral\""
   ]
  },
  {
   "cell_type": "code",
   "execution_count": 8,
   "metadata": {
    "execution": {
     "iopub.execute_input": "2025-03-01T20:57:38.521226Z",
     "iopub.status.busy": "2025-03-01T20:57:38.520985Z",
     "iopub.status.idle": "2025-03-01T20:57:38.710736Z",
     "shell.execute_reply": "2025-03-01T20:57:38.710196Z"
    }
   },
   "outputs": [
    {
     "data": {
      "text/plain": [
       "<matplotlib.legend.Legend at 0x2a85409c590>"
      ]
     },
     "execution_count": 8,
     "metadata": {},
     "output_type": "execute_result"
    },
    {
     "data": {
      "image/png": "[encoded data removed]",
      "text/plain": [
       "<Figure size 1200x800 with 1 Axes>"
      ]
     },
     "metadata": {},
     "output_type": "display_data"
    }
   ],
   "source": [
    "k = slice(None, None, 1)\n",
    "\n",
    "fig = plt.figure()\n",
    "\n",
    "ax = fig.subplots(1, 1, sharex=True)\n",
    "\n",
    "ax.plot(\n",
    "    result[\"tspan\"][k],\n",
    "    [s.ptrace(0).diag()[:] for s in result[\"states\"][k]],\n",
    "    label=[rf\"${level.label}$\" for level in Yb171.levels],\n",
    ")\n",
    "\n",
    "ax.set_xlabel(r\"$t$\", labelpad=10)\n",
    "ax.set_ylabel(r\"$P(| \\psi \\rangle)$\", labelpad=10)\n",
    "\n",
    "ax.legend()"
   ]
  },
  {
   "cell_type": "code",
   "execution_count": 9,
   "metadata": {
    "execution": {
     "iopub.execute_input": "2025-03-01T20:57:38.713426Z",
     "iopub.status.busy": "2025-03-01T20:57:38.713217Z",
     "iopub.status.idle": "2025-03-01T20:57:38.830722Z",
     "shell.execute_reply": "2025-03-01T20:57:38.830029Z"
    }
   },
   "outputs": [
    {
     "data": {
      "text/plain": [
       "<matplotlib.legend.Legend at 0x2a85624e710>"
      ]
     },
     "execution_count": 9,
     "metadata": {},
     "output_type": "execute_result"
    },
    {
     "data": {
      "image/png": "[encoded data removed]",
      "text/plain": [
       "<Figure size 1200x800 with 1 Axes>"
      ]
     },
     "metadata": {},
     "output_type": "display_data"
    }
   ],
   "source": [
    "k = slice(None, None, 1)\n",
    "\n",
    "fig = plt.figure()\n",
    "\n",
    "ax = fig.subplots(1, 1, sharex=True)\n",
    "\n",
    "ax.plot(\n",
    "    result[\"tspan\"][k],\n",
    "    [s.ptrace(1).diag()[:] for s in result[\"states\"][k]],\n",
    "    label=[rf\"$n={n}$\" for n in range(fock_cutoff)],\n",
    ")\n",
    "\n",
    "ax.set_xlabel(r\"$t$\", labelpad=10)\n",
    "ax.set_ylabel(r\"$P(| \\psi \\rangle)$\", labelpad=10)\n",
    "\n",
    "ax.legend()"
   ]
  }
 ],
 "metadata": {
  "kernelspec": {
   "display_name": ".venv",
   "language": "python",
   "name": "python3"
  },
  "language_info": {
   "codemirror_mode": {
    "name": "ipython",
    "version": 3
   },
   "file_extension": ".py",
   "mimetype": "text/x-python",
   "name": "python",
   "nbconvert_exporter": "python",
   "pygments_lexer": "ipython3",
   "version": "3.13.2"
  }
 },
 "nbformat": 4,
 "nbformat_minor": 2
}
