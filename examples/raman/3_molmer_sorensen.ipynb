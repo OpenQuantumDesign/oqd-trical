{
 "cells": [
  {
   "cell_type": "markdown",
   "metadata": {},
   "source": [
    "# Direct Transition (Microwave)\n"
   ]
  },
  {
   "cell_type": "markdown",
   "metadata": {},
   "source": [
    "## Atomic Circuit\n"
   ]
  },
  {
   "cell_type": "code",
   "execution_count": 1,
   "metadata": {
    "execution": {
     "iopub.execute_input": "2025-02-23T23:31:36.810336Z",
     "iopub.status.busy": "2025-02-23T23:31:36.810155Z",
     "iopub.status.idle": "2025-02-23T23:31:36.817304Z",
     "shell.execute_reply": "2025-02-23T23:31:36.816742Z"
    }
   },
   "outputs": [],
   "source": [
    "import numpy as np\n",
    "from oqd_core.interface.atomic import (\n",
    "    AtomicCircuit,\n",
    "    Beam,\n",
    "    Ion,\n",
    "    Level,\n",
    "    ParallelProtocol,  # noqa: F401\n",
    "    Phonon,\n",
    "    Pulse,\n",
    "    SequentialProtocol,  # noqa: F401\n",
    "    System,\n",
    "    Transition,\n",
    ")\n",
    "\n",
    "downstate = Level(\n",
    "    principal=6,\n",
    "    spin=1 / 2,\n",
    "    orbital=0,\n",
    "    nuclear=1 / 2,\n",
    "    spin_orbital=1 / 2,\n",
    "    spin_orbital_nuclear=0,\n",
    "    spin_orbital_nuclear_magnetization=0,\n",
    "    energy=2 * np.pi * 0,\n",
    "    label=\"q0\",\n",
    ")\n",
    "upstate = Level(\n",
    "    principal=6,\n",
    "    spin=1 / 2,\n",
    "    orbital=0,\n",
    "    nuclear=1 / 2,\n",
    "    spin_orbital=1 / 2,\n",
    "    spin_orbital_nuclear=1,\n",
    "    spin_orbital_nuclear_magnetization=0,\n",
    "    energy=2 * np.pi * 12.643e9,\n",
    "    label=\"q1\",\n",
    ")\n",
    "estate = Level(\n",
    "    principal=6,\n",
    "    spin=1 / 2,\n",
    "    orbital=1,\n",
    "    nuclear=1 / 2,\n",
    "    spin_orbital=1 / 2,\n",
    "    spin_orbital_nuclear=1,\n",
    "    spin_orbital_nuclear_magnetization=-1,\n",
    "    energy=2 * np.pi * 811.29e12,\n",
    "    label=\"e0\",\n",
    ")\n",
    "\n",
    "transitions = [\n",
    "    Transition(\n",
    "        level1=downstate, level2=upstate, einsteinA=1, multipole=\"M1\", label=\"q0->q1\"\n",
    "    ),\n",
    "    Transition(\n",
    "        level1=downstate, level2=estate, einsteinA=1, multipole=\"E1\", label=\"q0->e0\"\n",
    "    ),\n",
    "    Transition(\n",
    "        level1=upstate, level2=estate, einsteinA=1, multipole=\"E1\", label=\"q1->e0\"\n",
    "    ),\n",
    "]\n",
    "\n",
    "Yb171 = Ion(\n",
    "    mass=171,\n",
    "    charge=1,\n",
    "    position=[0, 0, -1],\n",
    "    levels=[downstate, upstate, estate],\n",
    "    transitions=transitions,\n",
    ")\n",
    "\n",
    "Yb171_2 = Ion(\n",
    "    mass=171,\n",
    "    charge=1,\n",
    "    position=[0, 0, 1],\n",
    "    levels=[downstate, upstate, estate],\n",
    "    transitions=transitions,\n",
    ")\n",
    "\n",
    "COM_x = Phonon(\n",
    "    energy=2 * np.pi * 1e6, eigenvector=[1 / np.sqrt(2), 0, 0, 1 / np.sqrt(2), 0, 0]\n",
    ")\n",
    "\n",
    "system = System(\n",
    "    ions=[Yb171, Yb171_2],\n",
    "    modes=[\n",
    "        COM_x,\n",
    "    ],\n",
    ")\n",
    "\n",
    "beam = Beam(\n",
    "    transition=transitions[1],\n",
    "    rabi=np.sqrt(2) * 2 * np.pi * 1e9,\n",
    "    detuning=2 * np.pi * 33.195e12,\n",
    "    phase=0,\n",
    "    polarization=[0, 1, 0],\n",
    "    wavevector=[-1, 0, 0],\n",
    "    target=0,\n",
    ")\n",
    "beam2 = Beam(\n",
    "    transition=transitions[2],\n",
    "    rabi=2 * np.pi * 1e9,\n",
    "    detuning=2 * np.pi * (33.195e12 - 1.01e6),\n",
    "    phase=0,\n",
    "    polarization=[0, 1, 0],\n",
    "    wavevector=[1, 0, 0],\n",
    "    target=0,\n",
    ")\n",
    "beam3 = Beam(\n",
    "    transition=transitions[2],\n",
    "    rabi=2 * np.pi * 1e9,\n",
    "    detuning=2 * np.pi * (33.195e12 + 1.01e6),\n",
    "    phase=0,\n",
    "    polarization=[0, 1, 0],\n",
    "    wavevector=[1, 0, 0],\n",
    "    target=0,\n",
    ")\n",
    "\n",
    "beam4 = Beam(\n",
    "    transition=transitions[1],\n",
    "    rabi=np.sqrt(2) * 2 * np.pi * 1e9,\n",
    "    detuning=2 * np.pi * 33.195e12,\n",
    "    phase=0,\n",
    "    polarization=[0, 1, 0],\n",
    "    wavevector=[-1, 0, 0],\n",
    "    target=1,\n",
    ")\n",
    "beam5 = Beam(\n",
    "    transition=transitions[2],\n",
    "    rabi=2 * np.pi * 1e9,\n",
    "    detuning=2 * np.pi * (33.195e12 - 1.01e6),\n",
    "    phase=0,\n",
    "    polarization=[0, 1, 0],\n",
    "    wavevector=[1, 0, 0],\n",
    "    target=1,\n",
    ")\n",
    "beam6 = Beam(\n",
    "    transition=transitions[2],\n",
    "    rabi=2 * np.pi * 1e9,\n",
    "    detuning=2 * np.pi * (33.195e12 + 1.01e6),\n",
    "    phase=0,\n",
    "    polarization=[0, 1, 0],\n",
    "    wavevector=[1, 0, 0],\n",
    "    target=1,\n",
    ")\n",
    "\n",
    "\n",
    "protocol = ParallelProtocol(\n",
    "    sequence=[\n",
    "        Pulse(beam=beam, duration=4e-3),\n",
    "        Pulse(beam=beam2, duration=4e-3),\n",
    "        Pulse(beam=beam3, duration=4e-3),\n",
    "        Pulse(beam=beam4, duration=4e-3),\n",
    "        Pulse(beam=beam5, duration=4e-3),\n",
    "        Pulse(beam=beam6, duration=4e-3),\n",
    "    ]\n",
    ")\n",
    "\n",
    "circuit = AtomicCircuit(system=system, protocol=protocol)"
   ]
  },
  {
   "cell_type": "markdown",
   "metadata": {},
   "source": [
    "### Serialization & Deserialization\n"
   ]
  },
  {
   "cell_type": "code",
   "execution_count": 2,
   "metadata": {
    "execution": {
     "iopub.execute_input": "2025-02-23T23:31:36.819019Z",
     "iopub.status.busy": "2025-02-23T23:31:36.818859Z",
     "iopub.status.idle": "2025-02-23T23:31:36.822252Z",
     "shell.execute_reply": "2025-02-23T23:31:36.821903Z"
    }
   },
   "outputs": [],
   "source": [
    "import json\n",
    "\n",
    "circuit_json = circuit.model_dump_json()\n",
    "circuit_json = json.dumps(json.loads(circuit_json), indent=2)\n",
    "\n",
    "with open(\"3_molmer_sorensen.json\", \"w\") as f:\n",
    "    f.write(circuit_json)"
   ]
  },
  {
   "cell_type": "code",
   "execution_count": 3,
   "metadata": {
    "execution": {
     "iopub.execute_input": "2025-02-23T23:31:36.823925Z",
     "iopub.status.busy": "2025-02-23T23:31:36.823764Z",
     "iopub.status.idle": "2025-02-23T23:31:36.827701Z",
     "shell.execute_reply": "2025-02-23T23:31:36.827363Z"
    }
   },
   "outputs": [],
   "source": [
    "with open(\"3_molmer_sorensen.json\", \"r\") as f:\n",
    "    circuit_json = f.read()\n",
    "\n",
    "assert AtomicCircuit.model_validate_json(circuit_json) == circuit"
   ]
  },
  {
   "cell_type": "markdown",
   "metadata": {},
   "source": [
    "## Qutip Intepreter\n"
   ]
  },
  {
   "cell_type": "markdown",
   "metadata": {},
   "source": [
    "### Compile\n"
   ]
  },
  {
   "cell_type": "code",
   "execution_count": 4,
   "metadata": {
    "execution": {
     "iopub.execute_input": "2025-02-23T23:31:36.829286Z",
     "iopub.status.busy": "2025-02-23T23:31:36.829098Z",
     "iopub.status.idle": "2025-02-23T23:32:02.634591Z",
     "shell.execute_reply": "2025-02-23T23:32:02.634039Z"
    }
   },
   "outputs": [
    {
     "name": "stderr",
     "output_type": "stream",
     "text": [
      "D:\\work\\Projects\\TrICal\\src\\oqd_trical\\light_matter\\compiler\\approximate.py:283: UserWarning: Caution required when using adiabatic elimination, system needs to be put in the appropriate rotating reference frame.\n",
      "  warnings.warn(\n"
     ]
    }
   ],
   "source": [
    "from oqd_compiler_infrastructure import Chain, Post, Pre\n",
    "\n",
    "from oqd_trical.backend import DynamiqsBackend, QutipBackend  # noqa: F401\n",
    "from oqd_trical.light_matter.compiler.approximate import (\n",
    "    AdiabaticElimination,\n",
    "    FirstOrderLambDickeApprox,  # noqa: F401\n",
    "    RotatingReferenceFrame,\n",
    "    RotatingWaveApprox,\n",
    "    SecondOrderLambDickeApprox,  # noqa: F401\n",
    ")\n",
    "from oqd_trical.light_matter.compiler.canonicalize import (\n",
    "    canonicalize_emulator_circuit_factory,\n",
    ")\n",
    "\n",
    "frame_specs = {\n",
    "    \"E0\": [\n",
    "        0,\n",
    "        2 * np.pi * 12.643e9,\n",
    "        2 * np.pi * (811.29e12 + 33.195e12),\n",
    "    ],\n",
    "    \"E1\": [\n",
    "        0,\n",
    "        2 * np.pi * 12.643e9,\n",
    "        2 * np.pi * (811.29e12 + 33.195e12),\n",
    "    ],\n",
    "    \"P0\": 2 * np.pi * 1e6,\n",
    "}\n",
    "\n",
    "eliminated_specs = (2, \"E0\")\n",
    "eliminated_specs2 = (2, \"E1\")\n",
    "\n",
    "approx_pass = Chain(\n",
    "    Post(RotatingReferenceFrame(frame_specs=frame_specs)),\n",
    "    canonicalize_emulator_circuit_factory(),\n",
    "    Post(RotatingWaveApprox(cutoff=2 * np.pi * 1e9)),\n",
    "    canonicalize_emulator_circuit_factory(),\n",
    "    Pre(AdiabaticElimination(eliminated_specs=eliminated_specs)),\n",
    "    canonicalize_emulator_circuit_factory(),\n",
    "    Pre(AdiabaticElimination(eliminated_specs=eliminated_specs2)),\n",
    "    # canonicalize_emulator_circuit_factory(),\n",
    "    # Post(FirstOrderLambDickeApprox(0.1)),\n",
    ")\n",
    "\n",
    "backend = QutipBackend(approx_pass=approx_pass)\n",
    "\n",
    "fock_cutoff = 3\n",
    "experiment, hilbert_space = backend.compile(circuit, fock_cutoff)"
   ]
  },
  {
   "cell_type": "code",
   "execution_count": 5,
   "metadata": {},
   "outputs": [
    {
     "name": "stdout",
     "output_type": "stream",
     "text": [
      "HilbertSpace\n",
      "  - hilbert_space: dict\n",
      "    - E0: set({0, 1})\n",
      "    - E1: set({0, 1})\n",
      "    - P0: set({0, 1, 2})\n",
      "================================================================================\n",
      "AtomicEmulatorCircuit\n",
      "  - frame: Operator(79438311838.67151 * |1><1|_E0 @ I_E1 @ I_P0 + 79438311838.67151 * I_E0 @ |1><1|_E1 @ I_P0 + 6283185.307179586 * I_E0 @ I_E1 @ C_P0 * A_P0)\n",
      "  - sequence: list\n",
      "    - 0: AtomicEmulatorGate\n",
      "      - hamiltonian: Operator(47320.268919864415 * |0><0|_E0 @ I_E1 @ D(-0.06803723435463038 * exp(1j * (6283185.307179586 * t + 1.5707963267948966)))_P0 + (33460.48304080715 * exp(1j * (-6346018.0 * t)) + 33460.48304080715 * exp(1j * (6346017.0 * t))) * |1><0|_E0 @ I_E1 @ D(-0.06803723435463038 * exp(1j * (6283185.307179586 * t + 1.5707963267948966)))_P0 + 47320.268919864415 * |0><0|_E0 @ I_E1 @ D(-0.06803723435463038 * exp(1j * (6283185.307179586 * t + -1.5707963267948966)))_P0 + (33460.48304080715 * exp(1j * (6346018.0 * t)) + 33460.48304080715 * exp(1j * (-6346017.0 * t))) * |0><1|_E0 @ I_E1 @ D(-0.06803723435463038 * exp(1j * (6283185.307179586 * t + -1.5707963267948966)))_P0 + 33460.48304080715 * exp(1j * (6346017.0 * t)) * |0><1|_E0 @ I_E1 @ D(0.06803621567049561 * exp(1j * (6283185.307179586 * t + 1.5707963267948966)))_P0 + (23660.134459932204 * exp(1j * (-1.0 * t)) + 23660.134459932204 * exp(1j * (12692034.0 * t))) * |1><1|_E0 @ I_E1 @ D(0.06803621567049561 * exp(1j * (6283185.307179586 * t + 1.5707963267948966)))_P0 + 33460.48304080715 * exp(1j * (-6346017.0 * t)) * |1><0|_E0 @ I_E1 @ D(0.06803621567049561 * exp(1j * (6283185.307179586 * t + -1.5707963267948966)))_P0 + (23660.134459932204 * exp(1j * (1.0 * t)) + 23660.134459932204 * exp(1j * (-12692034.0 * t))) * |1><1|_E0 @ I_E1 @ D(0.06803621567049561 * exp(1j * (6283185.307179586 * t + -1.5707963267948966)))_P0 + 33460.48304080715 * exp(1j * (-6346018.0 * t)) * |0><1|_E0 @ I_E1 @ D(0.06803621583324004 * exp(1j * (6283185.307179586 * t + 1.5707963267948966)))_P0 + (23660.134459932204 * exp(1j * (-12692036.0 * t)) + 23660.134459932204 * exp(1j * (-1.0 * t))) * |1><1|_E0 @ I_E1 @ D(0.06803621583324004 * exp(1j * (6283185.307179586 * t + 1.5707963267948966)))_P0 + 33460.48304080715 * exp(1j * (6346018.0 * t)) * |1><0|_E0 @ I_E1 @ D(0.06803621583324004 * exp(1j * (6283185.307179586 * t + -1.5707963267948966)))_P0 + (23660.134459932204 * exp(1j * (12692036.0 * t)) + 23660.134459932204 * exp(1j * (1.0 * t))) * |1><1|_E0 @ I_E1 @ D(0.06803621583324004 * exp(1j * (6283185.307179586 * t + -1.5707963267948966)))_P0 + 47320.268919864415 * I_E0 @ |0><0|_E1 @ D(-0.06803723435463038 * exp(1j * (6283185.307179586 * t + 1.5707963267948966)))_P0 + (33460.48304080715 * exp(1j * (-6346018.0 * t)) + 33460.48304080715 * exp(1j * (6346017.0 * t))) * I_E0 @ |1><0|_E1 @ D(-0.06803723435463038 * exp(1j * (6283185.307179586 * t + 1.5707963267948966)))_P0 + 47320.268919864415 * I_E0 @ |0><0|_E1 @ D(-0.06803723435463038 * exp(1j * (6283185.307179586 * t + -1.5707963267948966)))_P0 + (33460.48304080715 * exp(1j * (6346018.0 * t)) + 33460.48304080715 * exp(1j * (-6346017.0 * t))) * I_E0 @ |0><1|_E1 @ D(-0.06803723435463038 * exp(1j * (6283185.307179586 * t + -1.5707963267948966)))_P0 + 33460.48304080715 * exp(1j * (6346017.0 * t)) * I_E0 @ |0><1|_E1 @ D(0.06803621567049561 * exp(1j * (6283185.307179586 * t + 1.5707963267948966)))_P0 + (23660.134459932204 * exp(1j * (-1.0 * t)) + 23660.134459932204 * exp(1j * (12692034.0 * t))) * I_E0 @ |1><1|_E1 @ D(0.06803621567049561 * exp(1j * (6283185.307179586 * t + 1.5707963267948966)))_P0 + 33460.48304080715 * exp(1j * (-6346017.0 * t)) * I_E0 @ |1><0|_E1 @ D(0.06803621567049561 * exp(1j * (6283185.307179586 * t + -1.5707963267948966)))_P0 + (23660.134459932204 * exp(1j * (1.0 * t)) + 23660.134459932204 * exp(1j * (-12692034.0 * t))) * I_E0 @ |1><1|_E1 @ D(0.06803621567049561 * exp(1j * (6283185.307179586 * t + -1.5707963267948966)))_P0 + 33460.48304080715 * exp(1j * (-6346018.0 * t)) * I_E0 @ |0><1|_E1 @ D(0.06803621583324004 * exp(1j * (6283185.307179586 * t + 1.5707963267948966)))_P0 + (23660.134459932204 * exp(1j * (-12692036.0 * t)) + 23660.134459932204 * exp(1j * (-1.0 * t))) * I_E0 @ |1><1|_E1 @ D(0.06803621583324004 * exp(1j * (6283185.307179586 * t + 1.5707963267948966)))_P0 + 33460.48304080715 * exp(1j * (6346018.0 * t)) * I_E0 @ |1><0|_E1 @ D(0.06803621583324004 * exp(1j * (6283185.307179586 * t + -1.5707963267948966)))_P0 + (23660.134459932204 * exp(1j * (12692036.0 * t)) + 23660.134459932204 * exp(1j * (1.0 * t))) * I_E0 @ |1><1|_E1 @ D(0.06803621583324004 * exp(1j * (6283185.307179586 * t + -1.5707963267948966)))_P0)\n",
      "      - duration: float(0.004)\n"
     ]
    }
   ],
   "source": [
    "from oqd_trical.light_matter.compiler.visualization import CondensedOperatorPrettyPrint\n",
    "\n",
    "printer = Post(CondensedOperatorPrettyPrint())\n",
    "\n",
    "print(printer(hilbert_space), \"=\" * 80, printer(backend.intermediate), sep=\"\\n\")"
   ]
  },
  {
   "cell_type": "markdown",
   "metadata": {},
   "source": [
    "### Run\n"
   ]
  },
  {
   "cell_type": "code",
   "execution_count": null,
   "metadata": {
    "execution": {
     "iopub.execute_input": "2025-02-23T23:32:02.637016Z",
     "iopub.status.busy": "2025-02-23T23:32:02.636851Z",
     "iopub.status.idle": "2025-02-23T23:32:08.228756Z",
     "shell.execute_reply": "2025-02-23T23:32:08.228198Z"
    }
   },
   "outputs": [
    {
     "name": "stdout",
     "output_type": "stream",
     "text": [
      "10.0%. Run time: 255.33s. Est. time left: 00:00:38:11\n",
      "20.1%. Run time: 515.07s. Est. time left: 00:00:34:13\n",
      "30.1%. Run time: 787.66s. Est. time left: 00:00:30:31\n",
      "40.1%. Run time: 1013.69s. Est. time left: 00:00:25:14\n",
      "50.1%. Run time: 1284.64s. Est. time left: 00:00:21:18\n",
      "60.2%. Run time: 1532.24s. Est. time left: 00:00:16:55\n"
     ]
    }
   ],
   "source": [
    "result = backend.run(\n",
    "    experiment,\n",
    "    hilbert_space=hilbert_space,\n",
    "    timestep=1e-5,\n",
    ")"
   ]
  },
  {
   "cell_type": "markdown",
   "metadata": {},
   "source": [
    "#### Results\n"
   ]
  },
  {
   "cell_type": "code",
   "execution_count": null,
   "metadata": {},
   "outputs": [],
   "source": [
    "import matplotlib\n",
    "import matplotlib.pyplot as plt\n",
    "\n",
    "matplotlib.rcParams[\"figure.figsize\"] = (12, 8)\n",
    "matplotlib.rcParams[\"font.size\"] = 20\n",
    "matplotlib.rcParams[\"mathtext.fontset\"] = \"stix\"\n",
    "matplotlib.rcParams[\"font.family\"] = \"STIXGeneral\""
   ]
  },
  {
   "cell_type": "code",
   "execution_count": null,
   "metadata": {
    "execution": {
     "iopub.execute_input": "2025-02-23T23:32:08.230622Z",
     "iopub.status.busy": "2025-02-23T23:32:08.230453Z",
     "iopub.status.idle": "2025-02-23T23:32:08.494199Z",
     "shell.execute_reply": "2025-02-23T23:32:08.493566Z"
    }
   },
   "outputs": [],
   "source": [
    "k = slice(None, None, 1)\n",
    "\n",
    "fig = plt.figure()\n",
    "\n",
    "ax = fig.subplots(1, 1, sharex=True)\n",
    "\n",
    "\n",
    "state_labels = [0, 1, 2, 3]\n",
    "plot_states = [\n",
    "    [s.ptrace([0, 1]).diag()[i] for i in state_labels] for s in result[\"states\"][k]\n",
    "]\n",
    "\n",
    "ax.plot(result[\"tspan\"][k], plot_states, label=range(len(state_labels)), alpha=0.5)\n",
    "\n",
    "\n",
    "ax.set_xlabel(r\"$t$\", labelpad=10)\n",
    "ax.set_ylabel(r\"$P(| \\psi \\rangle)$\", labelpad=10)\n",
    "\n",
    "ax.legend()"
   ]
  },
  {
   "cell_type": "code",
   "execution_count": null,
   "metadata": {},
   "outputs": [],
   "source": [
    "k = slice(None, None, 1)\n",
    "\n",
    "fig = plt.figure()\n",
    "\n",
    "ax = fig.subplots(1, 1, sharex=True)\n",
    "\n",
    "ax.plot(\n",
    "    result[\"tspan\"][k],\n",
    "    [s.ptrace(2).diag()[:] for s in result[\"states\"][k]],\n",
    "    label=[rf\"$n={n}$\" for n in range(fock_cutoff)],\n",
    ")\n",
    "\n",
    "ax.set_xlabel(r\"$t$\", labelpad=10)\n",
    "ax.set_ylabel(r\"$P(| \\psi \\rangle)$\", labelpad=10)\n",
    "\n",
    "ax.legend()"
   ]
  }
 ],
 "metadata": {
  "kernelspec": {
   "display_name": ".venv",
   "language": "python",
   "name": "python3"
  },
  "language_info": {
   "codemirror_mode": {
    "name": "ipython",
    "version": 3
   },
   "file_extension": ".py",
   "mimetype": "text/x-python",
   "name": "python",
   "nbconvert_exporter": "python",
   "pygments_lexer": "ipython3",
   "version": "3.13.2"
  }
 },
 "nbformat": 4,
 "nbformat_minor": 2
}
