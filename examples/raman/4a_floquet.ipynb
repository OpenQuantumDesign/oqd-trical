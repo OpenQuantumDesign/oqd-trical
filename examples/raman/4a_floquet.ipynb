{
 "cells": [
  {
   "cell_type": "markdown",
   "metadata": {},
   "source": [
    "# Raman Floquet Experiment\n"
   ]
  },
  {
   "cell_type": "markdown",
   "metadata": {},
   "source": [
    "## Atomic Circuit\n"
   ]
  },
  {
   "cell_type": "code",
   "execution_count": 1,
   "metadata": {
    "execution": {
     "iopub.execute_input": "2025-03-01T21:07:56.276063Z",
     "iopub.status.busy": "2025-03-01T21:07:56.275833Z",
     "iopub.status.idle": "2025-03-01T21:07:56.568287Z",
     "shell.execute_reply": "2025-03-01T21:07:56.567638Z"
    }
   },
   "outputs": [],
   "source": [
    "import numpy as np\n",
    "from oqd_core.interface.atomic import (\n",
    "    AtomicCircuit,\n",
    "    Beam,\n",
    "    Ion,\n",
    "    Level,\n",
    "    ParallelProtocol,  # noqa: F401\n",
    "    Phonon,\n",
    "    Pulse,\n",
    "    SequentialProtocol,  # noqa: F401\n",
    "    System,\n",
    "    Transition,\n",
    ")\n",
    "\n",
    "downstate = Level(\n",
    "    principal=6,\n",
    "    spin=1 / 2,\n",
    "    orbital=0,\n",
    "    nuclear=1 / 2,\n",
    "    spin_orbital=1 / 2,\n",
    "    spin_orbital_nuclear=0,\n",
    "    spin_orbital_nuclear_magnetization=0,\n",
    "    energy=2 * np.pi * 0,\n",
    "    label=\"q0\",\n",
    ")\n",
    "upstate = Level(\n",
    "    principal=6,\n",
    "    spin=1 / 2,\n",
    "    orbital=0,\n",
    "    nuclear=1 / 2,\n",
    "    spin_orbital=1 / 2,\n",
    "    spin_orbital_nuclear=1,\n",
    "    spin_orbital_nuclear_magnetization=0,\n",
    "    energy=2 * np.pi * 12.643e9,\n",
    "    label=\"q1\",\n",
    ")\n",
    "estate = Level(\n",
    "    principal=6,\n",
    "    spin=1 / 2,\n",
    "    orbital=1,\n",
    "    nuclear=1 / 2,\n",
    "    spin_orbital=1 / 2,\n",
    "    spin_orbital_nuclear=1,\n",
    "    spin_orbital_nuclear_magnetization=-1,\n",
    "    energy=2 * np.pi * 811.29e12,\n",
    "    label=\"e0\",\n",
    ")\n",
    "estate2 = Level(\n",
    "    principal=6,\n",
    "    spin=1 / 2,\n",
    "    orbital=1,\n",
    "    nuclear=1 / 2,\n",
    "    spin_orbital=1 / 2,\n",
    "    spin_orbital_nuclear=1,\n",
    "    spin_orbital_nuclear_magnetization=1,\n",
    "    energy=2 * np.pi * 911.14e12,\n",
    "    label=\"e1\",\n",
    ")\n",
    "\n",
    "transitions = [\n",
    "    Transition(\n",
    "        level1=downstate, level2=upstate, einsteinA=1, multipole=\"M1\", label=\"q0->q1\"\n",
    "    ),\n",
    "    Transition(\n",
    "        level1=downstate, level2=estate, einsteinA=1, multipole=\"E1\", label=\"q0->e0\"\n",
    "    ),\n",
    "    Transition(\n",
    "        level1=downstate, level2=estate2, einsteinA=1, multipole=\"E1\", label=\"q0->e1\"\n",
    "    ),\n",
    "    Transition(\n",
    "        level1=upstate, level2=estate, einsteinA=1, multipole=\"E1\", label=\"q1->e0\"\n",
    "    ),\n",
    "    Transition(\n",
    "        level1=upstate, level2=estate2, einsteinA=1, multipole=\"E1\", label=\"q1->e1\"\n",
    "    ),\n",
    "]\n",
    "\n",
    "Yb171 = Ion(\n",
    "    mass=171,\n",
    "    charge=1,\n",
    "    position=[0, 0, 0],\n",
    "    levels=[downstate, upstate, estate, estate2],\n",
    "    transitions=transitions,\n",
    ")\n",
    "\n",
    "COM_x = Phonon(energy=2 * np.pi * 1e6, eigenvector=[1, 0, 0])\n",
    "\n",
    "system = System(\n",
    "    ions=[\n",
    "        Yb171,\n",
    "    ],\n",
    "    modes=[\n",
    "        COM_x,\n",
    "    ],\n",
    ")\n",
    "\n",
    "beam = Beam(\n",
    "    transition=transitions[1],\n",
    "    rabi=2 * np.pi * 1e10,\n",
    "    detuning=2 * np.pi * 33.195e12,\n",
    "    phase=0,\n",
    "    polarization=[0, 1, 0],\n",
    "    wavevector=[-1, 0, 0],\n",
    "    target=0,\n",
    ")\n",
    "beam2 = Beam(\n",
    "    transition=transitions[3],\n",
    "    rabi=2 * np.pi * 1e10,\n",
    "    detuning=2 * np.pi * 33.195e12,\n",
    "    phase=0,\n",
    "    polarization=[0, 1, 0],\n",
    "    wavevector=[1, 0, 0],\n",
    "    target=0,\n",
    ")\n",
    "\n",
    "beam3 = Beam(\n",
    "    transition=transitions[1],\n",
    "    rabi=2 * np.pi * 1e10,\n",
    "    detuning=2 * np.pi * 33.195e12,\n",
    "    phase=0,\n",
    "    polarization=[0, 1, 0],\n",
    "    wavevector=[-1, 0, 0],\n",
    "    target=0,\n",
    ")\n",
    "beam4 = Beam(\n",
    "    transition=transitions[3],\n",
    "    rabi=2 * np.pi * 1e10,\n",
    "    detuning=2 * np.pi * 33.195e12,\n",
    "    phase=np.pi,\n",
    "    polarization=[0, 1, 0],\n",
    "    wavevector=[1, 0, 0],\n",
    "    target=0,\n",
    ")\n",
    "\n",
    "steps = 10\n",
    "timestep = 1e-6 / steps\n",
    "\n",
    "forward = ParallelProtocol(\n",
    "    sequence=[\n",
    "        Pulse(beam=beam, duration=timestep),\n",
    "        Pulse(beam=beam2, duration=timestep),\n",
    "    ]\n",
    ")\n",
    "\n",
    "backward = ParallelProtocol(\n",
    "    sequence=[\n",
    "        Pulse(beam=beam3, duration=timestep),\n",
    "        Pulse(beam=beam4, duration=timestep),\n",
    "    ]\n",
    ")\n",
    "\n",
    "\n",
    "protocol = SequentialProtocol(\n",
    "    sequence=[forward if i % 2 == 0 else backward for i in range(steps)]\n",
    ")\n",
    "\n",
    "\n",
    "circuit = AtomicCircuit(system=system, protocol=protocol)"
   ]
  },
  {
   "cell_type": "markdown",
   "metadata": {},
   "source": [
    "### Serialization & Deserialization\n"
   ]
  },
  {
   "cell_type": "code",
   "execution_count": 2,
   "metadata": {
    "execution": {
     "iopub.execute_input": "2025-03-01T21:07:56.571438Z",
     "iopub.status.busy": "2025-03-01T21:07:56.571212Z",
     "iopub.status.idle": "2025-03-01T21:07:56.578723Z",
     "shell.execute_reply": "2025-03-01T21:07:56.578320Z"
    }
   },
   "outputs": [],
   "source": [
    "import json\n",
    "\n",
    "circuit_json = circuit.model_dump_json()\n",
    "circuit_json = json.dumps(json.loads(circuit_json), indent=2)\n",
    "\n",
    "with open(\"4a_floquet.json\", \"w\") as f:\n",
    "    f.write(circuit_json)"
   ]
  },
  {
   "cell_type": "code",
   "execution_count": 3,
   "metadata": {
    "execution": {
     "iopub.execute_input": "2025-03-01T21:07:56.580869Z",
     "iopub.status.busy": "2025-03-01T21:07:56.580713Z",
     "iopub.status.idle": "2025-03-01T21:07:56.594201Z",
     "shell.execute_reply": "2025-03-01T21:07:56.593782Z"
    }
   },
   "outputs": [],
   "source": [
    "with open(\"4a_floquet.json\", \"r\") as f:\n",
    "    circuit_json = f.read()\n",
    "\n",
    "assert AtomicCircuit.model_validate_json(circuit_json) == circuit"
   ]
  },
  {
   "cell_type": "markdown",
   "metadata": {},
   "source": [
    "## Qutip Intepreter\n"
   ]
  },
  {
   "cell_type": "markdown",
   "metadata": {},
   "source": [
    "### Compile\n"
   ]
  },
  {
   "cell_type": "code",
   "execution_count": 4,
   "metadata": {
    "execution": {
     "iopub.execute_input": "2025-03-01T21:07:56.596562Z",
     "iopub.status.busy": "2025-03-01T21:07:56.596384Z",
     "iopub.status.idle": "2025-03-01T21:08:25.081927Z",
     "shell.execute_reply": "2025-03-01T21:08:25.081172Z"
    }
   },
   "outputs": [
    {
     "name": "stderr",
     "output_type": "stream",
     "text": [
      "D:\\work\\Projects\\TrICal\\src\\oqd_trical\\light_matter\\compiler\\approximate.py:283: UserWarning: Caution required when using adiabatic elimination, system needs to be put in the appropriate rotating reference frame.\n",
      "  warnings.warn(\n"
     ]
    }
   ],
   "source": [
    "from oqd_compiler_infrastructure import Chain, Post, Pre\n",
    "\n",
    "from oqd_trical.backend import DynamiqsBackend, QutipBackend  # noqa: F401\n",
    "from oqd_trical.light_matter.compiler.approximate import (\n",
    "    AdiabaticElimination,\n",
    "    RotatingReferenceFrame,\n",
    "    RotatingWaveApprox,\n",
    ")\n",
    "from oqd_trical.light_matter.compiler.canonicalize import (\n",
    "    canonicalize_emulator_circuit_factory,\n",
    ")\n",
    "\n",
    "frame_specs = {\n",
    "    \"E0\": [\n",
    "        0,\n",
    "        2 * np.pi * 12.643e9,\n",
    "        2 * np.pi * (811.29e12 + 33.195e12),\n",
    "        2 * np.pi * (811.29e12 + 33.195e12),\n",
    "    ],\n",
    "    \"P0\": 2 * np.pi * 1e6,\n",
    "}\n",
    "\n",
    "eliminated_specs = (2, \"E0\")\n",
    "eliminated_specs2 = (3, \"E0\")\n",
    "\n",
    "approx_pass = Chain(\n",
    "    Post(RotatingReferenceFrame(frame_specs=frame_specs)),\n",
    "    canonicalize_emulator_circuit_factory(),\n",
    "    Post(RotatingWaveApprox(cutoff=2 * np.pi * 1e9)),\n",
    "    canonicalize_emulator_circuit_factory(),\n",
    "    Pre(AdiabaticElimination(eliminated_specs=eliminated_specs)),\n",
    "    canonicalize_emulator_circuit_factory(),\n",
    "    Pre(AdiabaticElimination(eliminated_specs=eliminated_specs2)),\n",
    ")\n",
    "\n",
    "backend = QutipBackend(approx_pass=approx_pass)\n",
    "\n",
    "fock_cutoff = 3\n",
    "experiment, hilbert_space = backend.compile(circuit, fock_cutoff)"
   ]
  },
  {
   "cell_type": "code",
   "execution_count": 5,
   "metadata": {
    "execution": {
     "iopub.execute_input": "2025-03-01T21:08:25.084904Z",
     "iopub.status.busy": "2025-03-01T21:08:25.084601Z",
     "iopub.status.idle": "2025-03-01T21:08:25.194508Z",
     "shell.execute_reply": "2025-03-01T21:08:25.193929Z"
    }
   },
   "outputs": [
    {
     "name": "stdout",
     "output_type": "stream",
     "text": [
      "HilbertSpace\n",
      "  - hilbert_space: dict\n",
      "    - E0: set({0, 1})\n",
      "    - P0: set({0, 1, 2})\n",
      "================================================================================\n",
      "AtomicEmulatorCircuit\n",
      "  - frame: Operator(79438311838.67151 * |1><1|_E0 @ I_P0 + 6283185.307179586 * I_E0 @ C_P0 * A_P0)\n",
      "  - sequence: list\n",
      "    - 0: AtomicEmulatorGate\n",
      "      - hamiltonian: Operator(1534191.8755435417 * |0><0|_E0 @ D(-0.09621917957067497 * exp(1j * (6283185.307179586 * t + 1.5707963267948966)))_P0 + 1534194.0064493306 * |1><0|_E0 @ D(-0.09621917957067497 * exp(1j * (6283185.307179586 * t + 1.5707963267948966)))_P0 + 1534191.8755435417 * |0><0|_E0 @ D(-0.09621917957067497 * exp(1j * (6283185.307179586 * t + -1.5707963267948966)))_P0 + 1534194.0064493306 * |0><1|_E0 @ D(-0.09621917957067497 * exp(1j * (6283185.307179586 * t + -1.5707963267948966)))_P0 + 1534194.0064493306 * |0><1|_E0 @ D(0.09621773904883348 * exp(1j * (6283185.307179586 * t + 1.5707963267948966)))_P0 + 1534196.1373496614 * |1><1|_E0 @ D(0.09621773904883348 * exp(1j * (6283185.307179586 * t + 1.5707963267948966)))_P0 + 1534194.0064493306 * |1><0|_E0 @ D(0.09621773904883348 * exp(1j * (6283185.307179586 * t + -1.5707963267948966)))_P0 + 1534196.1373496614 * |1><1|_E0 @ D(0.09621773904883348 * exp(1j * (6283185.307179586 * t + -1.5707963267948966)))_P0)\n",
      "      - duration: float(1e-07)\n",
      "    - 1: AtomicEmulatorGate\n",
      "      - hamiltonian: Operator(1534191.8755435417 * |0><0|_E0 @ D(-0.09621917957067497 * exp(1j * (6283185.307179586 * t + 1.5707963267948966)))_P0 + 1534194.0064493306 * exp(1j * (3.141592653589793)) * |1><0|_E0 @ D(-0.09621917957067497 * exp(1j * (6283185.307179586 * t + 1.5707963267948966)))_P0 + 1534191.8755435417 * |0><0|_E0 @ D(-0.09621917957067497 * exp(1j * (6283185.307179586 * t + -1.5707963267948966)))_P0 + 1534194.0064493306 * exp(1j * (-3.141592653589793)) * |0><1|_E0 @ D(-0.09621917957067497 * exp(1j * (6283185.307179586 * t + -1.5707963267948966)))_P0 + 1534194.0064493306 * exp(1j * (3.141592653589793)) * |0><1|_E0 @ D(0.09621773904883348 * exp(1j * (6283185.307179586 * t + 1.5707963267948966)))_P0 + 1534196.1373496614 * exp(1j * (6.283185307179586)) * |1><1|_E0 @ D(0.09621773904883348 * exp(1j * (6283185.307179586 * t + 1.5707963267948966)))_P0 + 1534194.0064493306 * exp(1j * (-3.141592653589793)) * |1><0|_E0 @ D(0.09621773904883348 * exp(1j * (6283185.307179586 * t + -1.5707963267948966)))_P0 + 1534196.1373496614 * exp(1j * (-6.283185307179586)) * |1><1|_E0 @ D(0.09621773904883348 * exp(1j * (6283185.307179586 * t + -1.5707963267948966)))_P0)\n",
      "      - duration: float(1e-07)\n",
      "    - 2: AtomicEmulatorGate\n",
      "      - hamiltonian: Operator(1534191.8755435417 * |0><0|_E0 @ D(-0.09621917957067497 * exp(1j * (6283185.307179586 * t + 1.5707963267948966)))_P0 + 1534194.0064493306 * |1><0|_E0 @ D(-0.09621917957067497 * exp(1j * (6283185.307179586 * t + 1.5707963267948966)))_P0 + 1534191.8755435417 * |0><0|_E0 @ D(-0.09621917957067497 * exp(1j * (6283185.307179586 * t + -1.5707963267948966)))_P0 + 1534194.0064493306 * |0><1|_E0 @ D(-0.09621917957067497 * exp(1j * (6283185.307179586 * t + -1.5707963267948966)))_P0 + 1534194.0064493306 * |0><1|_E0 @ D(0.09621773904883348 * exp(1j * (6283185.307179586 * t + 1.5707963267948966)))_P0 + 1534196.1373496614 * |1><1|_E0 @ D(0.09621773904883348 * exp(1j * (6283185.307179586 * t + 1.5707963267948966)))_P0 + 1534194.0064493306 * |1><0|_E0 @ D(0.09621773904883348 * exp(1j * (6283185.307179586 * t + -1.5707963267948966)))_P0 + 1534196.1373496614 * |1><1|_E0 @ D(0.09621773904883348 * exp(1j * (6283185.307179586 * t + -1.5707963267948966)))_P0)\n",
      "      - duration: float(1e-07)\n",
      "    - 3: AtomicEmulatorGate\n",
      "      - hamiltonian: Operator(1534191.8755435417 * |0><0|_E0 @ D(-0.09621917957067497 * exp(1j * (6283185.307179586 * t + 1.5707963267948966)))_P0 + 1534194.0064493306 * exp(1j * (3.141592653589793)) * |1><0|_E0 @ D(-0.09621917957067497 * exp(1j * (6283185.307179586 * t + 1.5707963267948966)))_P0 + 1534191.8755435417 * |0><0|_E0 @ D(-0.09621917957067497 * exp(1j * (6283185.307179586 * t + -1.5707963267948966)))_P0 + 1534194.0064493306 * exp(1j * (-3.141592653589793)) * |0><1|_E0 @ D(-0.09621917957067497 * exp(1j * (6283185.307179586 * t + -1.5707963267948966)))_P0 + 1534194.0064493306 * exp(1j * (3.141592653589793)) * |0><1|_E0 @ D(0.09621773904883348 * exp(1j * (6283185.307179586 * t + 1.5707963267948966)))_P0 + 1534196.1373496614 * exp(1j * (6.283185307179586)) * |1><1|_E0 @ D(0.09621773904883348 * exp(1j * (6283185.307179586 * t + 1.5707963267948966)))_P0 + 1534194.0064493306 * exp(1j * (-3.141592653589793)) * |1><0|_E0 @ D(0.09621773904883348 * exp(1j * (6283185.307179586 * t + -1.5707963267948966)))_P0 + 1534196.1373496614 * exp(1j * (-6.283185307179586)) * |1><1|_E0 @ D(0.09621773904883348 * exp(1j * (6283185.307179586 * t + -1.5707963267948966)))_P0)\n",
      "      - duration: float(1e-07)\n",
      "    - 4: AtomicEmulatorGate\n",
      "      - hamiltonian: Operator(1534191.8755435417 * |0><0|_E0 @ D(-0.09621917957067497 * exp(1j * (6283185.307179586 * t + 1.5707963267948966)))_P0 + 1534194.0064493306 * |1><0|_E0 @ D(-0.09621917957067497 * exp(1j * (6283185.307179586 * t + 1.5707963267948966)))_P0 + 1534191.8755435417 * |0><0|_E0 @ D(-0.09621917957067497 * exp(1j * (6283185.307179586 * t + -1.5707963267948966)))_P0 + 1534194.0064493306 * |0><1|_E0 @ D(-0.09621917957067497 * exp(1j * (6283185.307179586 * t + -1.5707963267948966)))_P0 + 1534194.0064493306 * |0><1|_E0 @ D(0.09621773904883348 * exp(1j * (6283185.307179586 * t + 1.5707963267948966)))_P0 + 1534196.1373496614 * |1><1|_E0 @ D(0.09621773904883348 * exp(1j * (6283185.307179586 * t + 1.5707963267948966)))_P0 + 1534194.0064493306 * |1><0|_E0 @ D(0.09621773904883348 * exp(1j * (6283185.307179586 * t + -1.5707963267948966)))_P0 + 1534196.1373496614 * |1><1|_E0 @ D(0.09621773904883348 * exp(1j * (6283185.307179586 * t + -1.5707963267948966)))_P0)\n",
      "      - duration: float(1e-07)\n",
      "    - 5: AtomicEmulatorGate\n",
      "      - hamiltonian: Operator(1534191.8755435417 * |0><0|_E0 @ D(-0.09621917957067497 * exp(1j * (6283185.307179586 * t + 1.5707963267948966)))_P0 + 1534194.0064493306 * exp(1j * (3.141592653589793)) * |1><0|_E0 @ D(-0.09621917957067497 * exp(1j * (6283185.307179586 * t + 1.5707963267948966)))_P0 + 1534191.8755435417 * |0><0|_E0 @ D(-0.09621917957067497 * exp(1j * (6283185.307179586 * t + -1.5707963267948966)))_P0 + 1534194.0064493306 * exp(1j * (-3.141592653589793)) * |0><1|_E0 @ D(-0.09621917957067497 * exp(1j * (6283185.307179586 * t + -1.5707963267948966)))_P0 + 1534194.0064493306 * exp(1j * (3.141592653589793)) * |0><1|_E0 @ D(0.09621773904883348 * exp(1j * (6283185.307179586 * t + 1.5707963267948966)))_P0 + 1534196.1373496614 * exp(1j * (6.283185307179586)) * |1><1|_E0 @ D(0.09621773904883348 * exp(1j * (6283185.307179586 * t + 1.5707963267948966)))_P0 + 1534194.0064493306 * exp(1j * (-3.141592653589793)) * |1><0|_E0 @ D(0.09621773904883348 * exp(1j * (6283185.307179586 * t + -1.5707963267948966)))_P0 + 1534196.1373496614 * exp(1j * (-6.283185307179586)) * |1><1|_E0 @ D(0.09621773904883348 * exp(1j * (6283185.307179586 * t + -1.5707963267948966)))_P0)\n",
      "      - duration: float(1e-07)\n",
      "    - 6: AtomicEmulatorGate\n",
      "      - hamiltonian: Operator(1534191.8755435417 * |0><0|_E0 @ D(-0.09621917957067497 * exp(1j * (6283185.307179586 * t + 1.5707963267948966)))_P0 + 1534194.0064493306 * |1><0|_E0 @ D(-0.09621917957067497 * exp(1j * (6283185.307179586 * t + 1.5707963267948966)))_P0 + 1534191.8755435417 * |0><0|_E0 @ D(-0.09621917957067497 * exp(1j * (6283185.307179586 * t + -1.5707963267948966)))_P0 + 1534194.0064493306 * |0><1|_E0 @ D(-0.09621917957067497 * exp(1j * (6283185.307179586 * t + -1.5707963267948966)))_P0 + 1534194.0064493306 * |0><1|_E0 @ D(0.09621773904883348 * exp(1j * (6283185.307179586 * t + 1.5707963267948966)))_P0 + 1534196.1373496614 * |1><1|_E0 @ D(0.09621773904883348 * exp(1j * (6283185.307179586 * t + 1.5707963267948966)))_P0 + 1534194.0064493306 * |1><0|_E0 @ D(0.09621773904883348 * exp(1j * (6283185.307179586 * t + -1.5707963267948966)))_P0 + 1534196.1373496614 * |1><1|_E0 @ D(0.09621773904883348 * exp(1j * (6283185.307179586 * t + -1.5707963267948966)))_P0)\n",
      "      - duration: float(1e-07)\n",
      "    - 7: AtomicEmulatorGate\n",
      "      - hamiltonian: Operator(1534191.8755435417 * |0><0|_E0 @ D(-0.09621917957067497 * exp(1j * (6283185.307179586 * t + 1.5707963267948966)))_P0 + 1534194.0064493306 * exp(1j * (3.141592653589793)) * |1><0|_E0 @ D(-0.09621917957067497 * exp(1j * (6283185.307179586 * t + 1.5707963267948966)))_P0 + 1534191.8755435417 * |0><0|_E0 @ D(-0.09621917957067497 * exp(1j * (6283185.307179586 * t + -1.5707963267948966)))_P0 + 1534194.0064493306 * exp(1j * (-3.141592653589793)) * |0><1|_E0 @ D(-0.09621917957067497 * exp(1j * (6283185.307179586 * t + -1.5707963267948966)))_P0 + 1534194.0064493306 * exp(1j * (3.141592653589793)) * |0><1|_E0 @ D(0.09621773904883348 * exp(1j * (6283185.307179586 * t + 1.5707963267948966)))_P0 + 1534196.1373496614 * exp(1j * (6.283185307179586)) * |1><1|_E0 @ D(0.09621773904883348 * exp(1j * (6283185.307179586 * t + 1.5707963267948966)))_P0 + 1534194.0064493306 * exp(1j * (-3.141592653589793)) * |1><0|_E0 @ D(0.09621773904883348 * exp(1j * (6283185.307179586 * t + -1.5707963267948966)))_P0 + 1534196.1373496614 * exp(1j * (-6.283185307179586)) * |1><1|_E0 @ D(0.09621773904883348 * exp(1j * (6283185.307179586 * t + -1.5707963267948966)))_P0)\n",
      "      - duration: float(1e-07)\n",
      "    - 8: AtomicEmulatorGate\n",
      "      - hamiltonian: Operator(1534191.8755435417 * |0><0|_E0 @ D(-0.09621917957067497 * exp(1j * (6283185.307179586 * t + 1.5707963267948966)))_P0 + 1534194.0064493306 * |1><0|_E0 @ D(-0.09621917957067497 * exp(1j * (6283185.307179586 * t + 1.5707963267948966)))_P0 + 1534191.8755435417 * |0><0|_E0 @ D(-0.09621917957067497 * exp(1j * (6283185.307179586 * t + -1.5707963267948966)))_P0 + 1534194.0064493306 * |0><1|_E0 @ D(-0.09621917957067497 * exp(1j * (6283185.307179586 * t + -1.5707963267948966)))_P0 + 1534194.0064493306 * |0><1|_E0 @ D(0.09621773904883348 * exp(1j * (6283185.307179586 * t + 1.5707963267948966)))_P0 + 1534196.1373496614 * |1><1|_E0 @ D(0.09621773904883348 * exp(1j * (6283185.307179586 * t + 1.5707963267948966)))_P0 + 1534194.0064493306 * |1><0|_E0 @ D(0.09621773904883348 * exp(1j * (6283185.307179586 * t + -1.5707963267948966)))_P0 + 1534196.1373496614 * |1><1|_E0 @ D(0.09621773904883348 * exp(1j * (6283185.307179586 * t + -1.5707963267948966)))_P0)\n",
      "      - duration: float(1e-07)\n",
      "    - 9: AtomicEmulatorGate\n",
      "      - hamiltonian: Operator(1534191.8755435417 * |0><0|_E0 @ D(-0.09621917957067497 * exp(1j * (6283185.307179586 * t + 1.5707963267948966)))_P0 + 1534194.0064493306 * exp(1j * (3.141592653589793)) * |1><0|_E0 @ D(-0.09621917957067497 * exp(1j * (6283185.307179586 * t + 1.5707963267948966)))_P0 + 1534191.8755435417 * |0><0|_E0 @ D(-0.09621917957067497 * exp(1j * (6283185.307179586 * t + -1.5707963267948966)))_P0 + 1534194.0064493306 * exp(1j * (-3.141592653589793)) * |0><1|_E0 @ D(-0.09621917957067497 * exp(1j * (6283185.307179586 * t + -1.5707963267948966)))_P0 + 1534194.0064493306 * exp(1j * (3.141592653589793)) * |0><1|_E0 @ D(0.09621773904883348 * exp(1j * (6283185.307179586 * t + 1.5707963267948966)))_P0 + 1534196.1373496614 * exp(1j * (6.283185307179586)) * |1><1|_E0 @ D(0.09621773904883348 * exp(1j * (6283185.307179586 * t + 1.5707963267948966)))_P0 + 1534194.0064493306 * exp(1j * (-3.141592653589793)) * |1><0|_E0 @ D(0.09621773904883348 * exp(1j * (6283185.307179586 * t + -1.5707963267948966)))_P0 + 1534196.1373496614 * exp(1j * (-6.283185307179586)) * |1><1|_E0 @ D(0.09621773904883348 * exp(1j * (6283185.307179586 * t + -1.5707963267948966)))_P0)\n",
      "      - duration: float(1e-07)\n"
     ]
    }
   ],
   "source": [
    "from oqd_trical.light_matter.compiler.visualization import CondensedOperatorPrettyPrint\n",
    "\n",
    "printer = Post(CondensedOperatorPrettyPrint())\n",
    "\n",
    "print(printer(hilbert_space), \"=\" * 80, printer(backend.intermediate), sep=\"\\n\")"
   ]
  },
  {
   "cell_type": "markdown",
   "metadata": {},
   "source": [
    "### Run\n"
   ]
  },
  {
   "cell_type": "code",
   "execution_count": 6,
   "metadata": {
    "execution": {
     "iopub.execute_input": "2025-03-01T21:08:25.196664Z",
     "iopub.status.busy": "2025-03-01T21:08:25.196462Z",
     "iopub.status.idle": "2025-03-01T21:08:26.185326Z",
     "shell.execute_reply": "2025-03-01T21:08:26.184708Z"
    }
   },
   "outputs": [
    {
     "name": "stdout",
     "output_type": "stream",
     "text": [
      "10.0%. Run time:   0.06s. Est. time left: 00:00:00:00\n"
     ]
    },
    {
     "name": "stdout",
     "output_type": "stream",
     "text": [
      "20.0%. Run time:   0.06s. Est. time left: 00:00:00:00\n"
     ]
    },
    {
     "name": "stdout",
     "output_type": "stream",
     "text": [
      "30.0%. Run time:   0.07s. Est. time left: 00:00:00:00\n"
     ]
    },
    {
     "name": "stdout",
     "output_type": "stream",
     "text": [
      "40.0%. Run time:   0.07s. Est. time left: 00:00:00:00\n"
     ]
    },
    {
     "name": "stdout",
     "output_type": "stream",
     "text": [
      "50.0%. Run time:   0.08s. Est. time left: 00:00:00:00\n"
     ]
    },
    {
     "name": "stdout",
     "output_type": "stream",
     "text": [
      "60.0%. Run time:   0.08s. Est. time left: 00:00:00:00\n"
     ]
    },
    {
     "name": "stdout",
     "output_type": "stream",
     "text": [
      "70.0%. Run time:   0.08s. Est. time left: 00:00:00:00\n"
     ]
    },
    {
     "name": "stdout",
     "output_type": "stream",
     "text": [
      "80.0%. Run time:   0.09s. Est. time left: 00:00:00:00\n"
     ]
    },
    {
     "name": "stdout",
     "output_type": "stream",
     "text": [
      "90.0%. Run time:   0.09s. Est. time left: 00:00:00:00\n"
     ]
    },
    {
     "name": "stdout",
     "output_type": "stream",
     "text": [
      "100.0%. Run time:   0.09s. Est. time left: 00:00:00:00\n"
     ]
    },
    {
     "name": "stdout",
     "output_type": "stream",
     "text": [
      "Total run time:   0.09s\n",
      "10.0%. Run time:   0.05s. Est. time left: 00:00:00:00\n"
     ]
    },
    {
     "name": "stdout",
     "output_type": "stream",
     "text": [
      "20.0%. Run time:   0.06s. Est. time left: 00:00:00:00\n"
     ]
    },
    {
     "name": "stdout",
     "output_type": "stream",
     "text": [
      "30.0%. Run time:   0.06s. Est. time left: 00:00:00:00\n"
     ]
    },
    {
     "name": "stdout",
     "output_type": "stream",
     "text": [
      "40.0%. Run time:   0.07s. Est. time left: 00:00:00:00\n"
     ]
    },
    {
     "name": "stdout",
     "output_type": "stream",
     "text": [
      "50.0%. Run time:   0.07s. Est. time left: 00:00:00:00\n"
     ]
    },
    {
     "name": "stdout",
     "output_type": "stream",
     "text": [
      "60.0%. Run time:   0.08s. Est. time left: 00:00:00:00\n"
     ]
    },
    {
     "name": "stdout",
     "output_type": "stream",
     "text": [
      "70.0%. Run time:   0.08s. Est. time left: 00:00:00:00\n"
     ]
    },
    {
     "name": "stdout",
     "output_type": "stream",
     "text": [
      "80.0%. Run time:   0.09s. Est. time left: 00:00:00:00\n"
     ]
    },
    {
     "name": "stdout",
     "output_type": "stream",
     "text": [
      "90.0%. Run time:   0.09s. Est. time left: 00:00:00:00\n"
     ]
    },
    {
     "name": "stdout",
     "output_type": "stream",
     "text": [
      "100.0%. Run time:   0.09s. Est. time left: 00:00:00:00\n"
     ]
    },
    {
     "name": "stdout",
     "output_type": "stream",
     "text": [
      "Total run time:   0.09s\n"
     ]
    },
    {
     "name": "stdout",
     "output_type": "stream",
     "text": [
      "10.0%. Run time:   0.06s. Est. time left: 00:00:00:00\n"
     ]
    },
    {
     "name": "stdout",
     "output_type": "stream",
     "text": [
      "20.0%. Run time:   0.06s. Est. time left: 00:00:00:00\n"
     ]
    },
    {
     "name": "stdout",
     "output_type": "stream",
     "text": [
      "30.0%. Run time:   0.07s. Est. time left: 00:00:00:00\n"
     ]
    },
    {
     "name": "stdout",
     "output_type": "stream",
     "text": [
      "40.0%. Run time:   0.07s. Est. time left: 00:00:00:00\n"
     ]
    },
    {
     "name": "stdout",
     "output_type": "stream",
     "text": [
      "50.0%. Run time:   0.08s. Est. time left: 00:00:00:00\n"
     ]
    },
    {
     "name": "stdout",
     "output_type": "stream",
     "text": [
      "60.0%. Run time:   0.08s. Est. time left: 00:00:00:00\n"
     ]
    },
    {
     "name": "stdout",
     "output_type": "stream",
     "text": [
      "70.0%. Run time:   0.08s. Est. time left: 00:00:00:00\n"
     ]
    },
    {
     "name": "stdout",
     "output_type": "stream",
     "text": [
      "80.0%. Run time:   0.08s. Est. time left: 00:00:00:00\n"
     ]
    },
    {
     "name": "stdout",
     "output_type": "stream",
     "text": [
      "90.0%. Run time:   0.09s. Est. time left: 00:00:00:00\n"
     ]
    },
    {
     "name": "stdout",
     "output_type": "stream",
     "text": [
      "100.0%. Run time:   0.09s. Est. time left: 00:00:00:00\n"
     ]
    },
    {
     "name": "stdout",
     "output_type": "stream",
     "text": [
      "Total run time:   0.09s\n"
     ]
    },
    {
     "name": "stdout",
     "output_type": "stream",
     "text": [
      "10.0%. Run time:   0.05s. Est. time left: 00:00:00:00\n"
     ]
    },
    {
     "name": "stdout",
     "output_type": "stream",
     "text": [
      "20.0%. Run time:   0.06s. Est. time left: 00:00:00:00\n"
     ]
    },
    {
     "name": "stdout",
     "output_type": "stream",
     "text": [
      "30.0%. Run time:   0.06s. Est. time left: 00:00:00:00\n"
     ]
    },
    {
     "name": "stdout",
     "output_type": "stream",
     "text": [
      "40.0%. Run time:   0.07s. Est. time left: 00:00:00:00\n"
     ]
    },
    {
     "name": "stdout",
     "output_type": "stream",
     "text": [
      "50.0%. Run time:   0.07s. Est. time left: 00:00:00:00\n"
     ]
    },
    {
     "name": "stdout",
     "output_type": "stream",
     "text": [
      "60.0%. Run time:   0.07s. Est. time left: 00:00:00:00\n"
     ]
    },
    {
     "name": "stdout",
     "output_type": "stream",
     "text": [
      "70.0%. Run time:   0.08s. Est. time left: 00:00:00:00\n"
     ]
    },
    {
     "name": "stdout",
     "output_type": "stream",
     "text": [
      "80.0%. Run time:   0.08s. Est. time left: 00:00:00:00\n"
     ]
    },
    {
     "name": "stdout",
     "output_type": "stream",
     "text": [
      "90.0%. Run time:   0.08s. Est. time left: 00:00:00:00\n"
     ]
    },
    {
     "name": "stdout",
     "output_type": "stream",
     "text": [
      "100.0%. Run time:   0.09s. Est. time left: 00:00:00:00\n"
     ]
    },
    {
     "name": "stdout",
     "output_type": "stream",
     "text": [
      "Total run time:   0.09s\n"
     ]
    },
    {
     "name": "stdout",
     "output_type": "stream",
     "text": [
      "10.0%. Run time:   0.06s. Est. time left: 00:00:00:00\n"
     ]
    },
    {
     "name": "stdout",
     "output_type": "stream",
     "text": [
      "20.0%. Run time:   0.06s. Est. time left: 00:00:00:00\n"
     ]
    },
    {
     "name": "stdout",
     "output_type": "stream",
     "text": [
      "30.0%. Run time:   0.07s. Est. time left: 00:00:00:00\n"
     ]
    },
    {
     "name": "stdout",
     "output_type": "stream",
     "text": [
      "40.0%. Run time:   0.07s. Est. time left: 00:00:00:00\n"
     ]
    },
    {
     "name": "stdout",
     "output_type": "stream",
     "text": [
      "50.0%. Run time:   0.08s. Est. time left: 00:00:00:00\n"
     ]
    },
    {
     "name": "stdout",
     "output_type": "stream",
     "text": [
      "60.0%. Run time:   0.08s. Est. time left: 00:00:00:00\n"
     ]
    },
    {
     "name": "stdout",
     "output_type": "stream",
     "text": [
      "70.0%. Run time:   0.08s. Est. time left: 00:00:00:00\n"
     ]
    },
    {
     "name": "stdout",
     "output_type": "stream",
     "text": [
      "80.0%. Run time:   0.08s. Est. time left: 00:00:00:00\n"
     ]
    },
    {
     "name": "stdout",
     "output_type": "stream",
     "text": [
      "90.0%. Run time:   0.09s. Est. time left: 00:00:00:00\n"
     ]
    },
    {
     "name": "stdout",
     "output_type": "stream",
     "text": [
      "100.0%. Run time:   0.09s. Est. time left: 00:00:00:00\n"
     ]
    },
    {
     "name": "stdout",
     "output_type": "stream",
     "text": [
      "Total run time:   0.09s\n"
     ]
    },
    {
     "name": "stdout",
     "output_type": "stream",
     "text": [
      "10.0%. Run time:   0.05s. Est. time left: 00:00:00:00\n"
     ]
    },
    {
     "name": "stdout",
     "output_type": "stream",
     "text": [
      "20.0%. Run time:   0.06s. Est. time left: 00:00:00:00\n"
     ]
    },
    {
     "name": "stdout",
     "output_type": "stream",
     "text": [
      "30.0%. Run time:   0.06s. Est. time left: 00:00:00:00\n"
     ]
    },
    {
     "name": "stdout",
     "output_type": "stream",
     "text": [
      "40.0%. Run time:   0.07s. Est. time left: 00:00:00:00\n"
     ]
    },
    {
     "name": "stdout",
     "output_type": "stream",
     "text": [
      "50.0%. Run time:   0.07s. Est. time left: 00:00:00:00\n"
     ]
    },
    {
     "name": "stdout",
     "output_type": "stream",
     "text": [
      "60.0%. Run time:   0.07s. Est. time left: 00:00:00:00\n"
     ]
    },
    {
     "name": "stdout",
     "output_type": "stream",
     "text": [
      "70.0%. Run time:   0.08s. Est. time left: 00:00:00:00\n"
     ]
    },
    {
     "name": "stdout",
     "output_type": "stream",
     "text": [
      "80.0%. Run time:   0.08s. Est. time left: 00:00:00:00\n"
     ]
    },
    {
     "name": "stdout",
     "output_type": "stream",
     "text": [
      "90.0%. Run time:   0.09s. Est. time left: 00:00:00:00\n"
     ]
    },
    {
     "name": "stdout",
     "output_type": "stream",
     "text": [
      "100.0%. Run time:   0.10s. Est. time left: 00:00:00:00\n"
     ]
    },
    {
     "name": "stdout",
     "output_type": "stream",
     "text": [
      "Total run time:   0.10s\n"
     ]
    },
    {
     "name": "stdout",
     "output_type": "stream",
     "text": [
      "10.0%. Run time:   0.05s. Est. time left: 00:00:00:00\n"
     ]
    },
    {
     "name": "stdout",
     "output_type": "stream",
     "text": [
      "20.0%. Run time:   0.06s. Est. time left: 00:00:00:00\n"
     ]
    },
    {
     "name": "stdout",
     "output_type": "stream",
     "text": [
      "30.0%. Run time:   0.07s. Est. time left: 00:00:00:00\n"
     ]
    },
    {
     "name": "stdout",
     "output_type": "stream",
     "text": [
      "40.0%. Run time:   0.07s. Est. time left: 00:00:00:00\n"
     ]
    },
    {
     "name": "stdout",
     "output_type": "stream",
     "text": [
      "50.0%. Run time:   0.08s. Est. time left: 00:00:00:00\n"
     ]
    },
    {
     "name": "stdout",
     "output_type": "stream",
     "text": [
      "60.0%. Run time:   0.08s. Est. time left: 00:00:00:00\n"
     ]
    },
    {
     "name": "stdout",
     "output_type": "stream",
     "text": [
      "70.0%. Run time:   0.08s. Est. time left: 00:00:00:00\n"
     ]
    },
    {
     "name": "stdout",
     "output_type": "stream",
     "text": [
      "80.0%. Run time:   0.08s. Est. time left: 00:00:00:00\n"
     ]
    },
    {
     "name": "stdout",
     "output_type": "stream",
     "text": [
      "90.0%. Run time:   0.09s. Est. time left: 00:00:00:00\n"
     ]
    },
    {
     "name": "stdout",
     "output_type": "stream",
     "text": [
      "100.0%. Run time:   0.09s. Est. time left: 00:00:00:00\n"
     ]
    },
    {
     "name": "stdout",
     "output_type": "stream",
     "text": [
      "Total run time:   0.09s\n"
     ]
    },
    {
     "name": "stdout",
     "output_type": "stream",
     "text": [
      "10.0%. Run time:   0.05s. Est. time left: 00:00:00:00\n"
     ]
    },
    {
     "name": "stdout",
     "output_type": "stream",
     "text": [
      "20.0%. Run time:   0.06s. Est. time left: 00:00:00:00\n"
     ]
    },
    {
     "name": "stdout",
     "output_type": "stream",
     "text": [
      "30.0%. Run time:   0.07s. Est. time left: 00:00:00:00\n"
     ]
    },
    {
     "name": "stdout",
     "output_type": "stream",
     "text": [
      "40.0%. Run time:   0.07s. Est. time left: 00:00:00:00\n"
     ]
    },
    {
     "name": "stdout",
     "output_type": "stream",
     "text": [
      "50.0%. Run time:   0.08s. Est. time left: 00:00:00:00\n"
     ]
    },
    {
     "name": "stdout",
     "output_type": "stream",
     "text": [
      "60.0%. Run time:   0.08s. Est. time left: 00:00:00:00\n"
     ]
    },
    {
     "name": "stdout",
     "output_type": "stream",
     "text": [
      "70.0%. Run time:   0.09s. Est. time left: 00:00:00:00\n"
     ]
    },
    {
     "name": "stdout",
     "output_type": "stream",
     "text": [
      "80.0%. Run time:   0.10s. Est. time left: 00:00:00:00"
     ]
    },
    {
     "name": "stdout",
     "output_type": "stream",
     "text": [
      "\n"
     ]
    },
    {
     "name": "stdout",
     "output_type": "stream",
     "text": [
      "90.0%. Run time:   0.10s. Est. time left: 00:00:00:00\n"
     ]
    },
    {
     "name": "stdout",
     "output_type": "stream",
     "text": [
      "100.0%. Run time:   0.10s. Est. time left: 00:00:00:00\n"
     ]
    },
    {
     "name": "stdout",
     "output_type": "stream",
     "text": [
      "Total run time:   0.10s\n"
     ]
    },
    {
     "name": "stdout",
     "output_type": "stream",
     "text": [
      "10.0%. Run time:   0.07s. Est. time left: 00:00:00:00\n"
     ]
    },
    {
     "name": "stdout",
     "output_type": "stream",
     "text": [
      "20.0%. Run time:   0.09s. Est. time left: 00:00:00:00\n"
     ]
    },
    {
     "name": "stdout",
     "output_type": "stream",
     "text": [
      "30.0%. Run time:   0.10s. Est. time left: 00:00:00:00\n"
     ]
    },
    {
     "name": "stdout",
     "output_type": "stream",
     "text": [
      "40.0%. Run time:   0.10s. Est. time left: 00:00:00:00\n"
     ]
    },
    {
     "name": "stdout",
     "output_type": "stream",
     "text": [
      "50.0%. Run time:   0.11s. Est. time left: 00:00:00:00\n"
     ]
    },
    {
     "name": "stdout",
     "output_type": "stream",
     "text": [
      "60.0%. Run time:   0.11s. Est. time left: 00:00:00:00\n"
     ]
    },
    {
     "name": "stdout",
     "output_type": "stream",
     "text": [
      "70.0%. Run time:   0.11s. Est. time left: 00:00:00:00\n"
     ]
    },
    {
     "name": "stdout",
     "output_type": "stream",
     "text": [
      "80.0%. Run time:   0.12s. Est. time left: 00:00:00:00\n"
     ]
    },
    {
     "name": "stdout",
     "output_type": "stream",
     "text": [
      "90.0%. Run time:   0.12s. Est. time left: 00:00:00:00\n"
     ]
    },
    {
     "name": "stdout",
     "output_type": "stream",
     "text": [
      "100.0%. Run time:   0.12s. Est. time left: 00:00:00:00\n"
     ]
    },
    {
     "name": "stdout",
     "output_type": "stream",
     "text": [
      "Total run time:   0.12s\n"
     ]
    },
    {
     "name": "stdout",
     "output_type": "stream",
     "text": [
      "10.0%. Run time:   0.07s. Est. time left: 00:00:00:00\n"
     ]
    },
    {
     "name": "stdout",
     "output_type": "stream",
     "text": [
      "20.0%. Run time:   0.07s. Est. time left: 00:00:00:00\n"
     ]
    },
    {
     "name": "stdout",
     "output_type": "stream",
     "text": [
      "30.0%. Run time:   0.09s. Est. time left: 00:00:00:00\n"
     ]
    },
    {
     "name": "stdout",
     "output_type": "stream",
     "text": [
      "40.0%. Run time:   0.09s. Est. time left: 00:00:00:00\n"
     ]
    },
    {
     "name": "stdout",
     "output_type": "stream",
     "text": [
      "50.0%. Run time:   0.10s. Est. time left: 00:00:00:00\n"
     ]
    },
    {
     "name": "stdout",
     "output_type": "stream",
     "text": [
      "60.0%. Run time:   0.10s. Est. time left: 00:00:00:00\n"
     ]
    },
    {
     "name": "stdout",
     "output_type": "stream",
     "text": [
      "70.0%. Run time:   0.11s. Est. time left: 00:00:00:00\n"
     ]
    },
    {
     "name": "stdout",
     "output_type": "stream",
     "text": [
      "80.0%. Run time:   0.11s. Est. time left: 00:00:00:00\n"
     ]
    },
    {
     "name": "stdout",
     "output_type": "stream",
     "text": [
      "90.0%. Run time:   0.12s. Est. time left: 00:00:00:00\n"
     ]
    },
    {
     "name": "stdout",
     "output_type": "stream",
     "text": [
      "100.0%. Run time:   0.12s. Est. time left: 00:00:00:00\n"
     ]
    },
    {
     "name": "stdout",
     "output_type": "stream",
     "text": [
      "Total run time:   0.12s\n"
     ]
    }
   ],
   "source": [
    "result = backend.run(\n",
    "    experiment,\n",
    "    hilbert_space=hilbert_space,\n",
    "    timestep=1e-8,\n",
    ")"
   ]
  },
  {
   "cell_type": "markdown",
   "metadata": {},
   "source": [
    "#### Results\n"
   ]
  },
  {
   "cell_type": "code",
   "execution_count": 7,
   "metadata": {
    "execution": {
     "iopub.execute_input": "2025-03-01T21:08:26.188206Z",
     "iopub.status.busy": "2025-03-01T21:08:26.188029Z",
     "iopub.status.idle": "2025-03-01T21:08:26.192336Z",
     "shell.execute_reply": "2025-03-01T21:08:26.191575Z"
    }
   },
   "outputs": [],
   "source": [
    "import matplotlib\n",
    "import matplotlib.pyplot as plt\n",
    "\n",
    "matplotlib.rcParams[\"figure.figsize\"] = (12, 8)\n",
    "matplotlib.rcParams[\"font.size\"] = 20\n",
    "matplotlib.rcParams[\"mathtext.fontset\"] = \"stix\"\n",
    "matplotlib.rcParams[\"font.family\"] = \"STIXGeneral\""
   ]
  },
  {
   "cell_type": "code",
   "execution_count": 8,
   "metadata": {
    "execution": {
     "iopub.execute_input": "2025-03-01T21:08:26.194590Z",
     "iopub.status.busy": "2025-03-01T21:08:26.194389Z",
     "iopub.status.idle": "2025-03-01T21:08:26.376415Z",
     "shell.execute_reply": "2025-03-01T21:08:26.375738Z"
    }
   },
   "outputs": [
    {
     "data": {
      "text/plain": [
       "<matplotlib.legend.Legend at 0x1c0a8e48ad0>"
      ]
     },
     "execution_count": 8,
     "metadata": {},
     "output_type": "execute_result"
    },
    {
     "data": {
      "image/png": "[encoded data removed]",
      "text/plain": [
       "<Figure size 1200x800 with 1 Axes>"
      ]
     },
     "metadata": {},
     "output_type": "display_data"
    }
   ],
   "source": [
    "k = slice(None, None, 1)\n",
    "\n",
    "fig = plt.figure()\n",
    "\n",
    "ax = fig.subplots(1, 1, sharex=True)\n",
    "\n",
    "ax.plot(\n",
    "    result[\"tspan\"][k],\n",
    "    [s.ptrace(0).diag()[:] for s in result[\"states\"][k]],\n",
    "    label=[rf\"${level.label}$\" for level in Yb171.levels[:2]],\n",
    ")\n",
    "\n",
    "ax.set_xlabel(r\"$t$\", labelpad=10)\n",
    "ax.set_ylabel(r\"$P(| \\psi \\rangle)$\", labelpad=10)\n",
    "\n",
    "ax.legend()"
   ]
  },
  {
   "cell_type": "code",
   "execution_count": 9,
   "metadata": {
    "execution": {
     "iopub.execute_input": "2025-03-01T21:08:26.378796Z",
     "iopub.status.busy": "2025-03-01T21:08:26.378532Z",
     "iopub.status.idle": "2025-03-01T21:08:26.505242Z",
     "shell.execute_reply": "2025-03-01T21:08:26.504533Z"
    }
   },
   "outputs": [
    {
     "data": {
      "text/plain": [
       "<matplotlib.legend.Legend at 0x1c0ae9f0910>"
      ]
     },
     "execution_count": 9,
     "metadata": {},
     "output_type": "execute_result"
    },
    {
     "data": {
      "image/png": "[encoded data removed]",
      "text/plain": [
       "<Figure size 1200x800 with 1 Axes>"
      ]
     },
     "metadata": {},
     "output_type": "display_data"
    }
   ],
   "source": [
    "k = slice(None, None, 1)\n",
    "\n",
    "fig = plt.figure()\n",
    "\n",
    "ax = fig.subplots(1, 1, sharex=True)\n",
    "\n",
    "ax.plot(\n",
    "    result[\"tspan\"][k],\n",
    "    [s.ptrace(1).diag()[:] for s in result[\"states\"][k]],\n",
    "    label=[rf\"$n={n}$\" for n in range(fock_cutoff)],\n",
    ")\n",
    "\n",
    "ax.set_xlabel(r\"$t$\", labelpad=10)\n",
    "ax.set_ylabel(r\"$P(| \\psi \\rangle)$\", labelpad=10)\n",
    "\n",
    "ax.legend()"
   ]
  }
 ],
 "metadata": {
  "kernelspec": {
   "display_name": ".venv",
   "language": "python",
   "name": "python3"
  },
  "language_info": {
   "codemirror_mode": {
    "name": "ipython",
    "version": 3
   },
   "file_extension": ".py",
   "mimetype": "text/x-python",
   "name": "python",
   "nbconvert_exporter": "python",
   "pygments_lexer": "ipython3",
   "version": "3.13.2"
  }
 },
 "nbformat": 4,
 "nbformat_minor": 2
}
