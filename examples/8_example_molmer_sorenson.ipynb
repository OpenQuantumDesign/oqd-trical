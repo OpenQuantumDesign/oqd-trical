{
 "cells": [
  {
   "cell_type": "markdown",
   "metadata": {},
   "source": [
    "## Imports\n"
   ]
  },
  {
   "cell_type": "code",
   "execution_count": 10,
   "metadata": {
    "execution": {
     "iopub.execute_input": "2025-01-31T04:23:44.028446Z",
     "iopub.status.busy": "2025-01-31T04:23:44.028446Z",
     "iopub.status.idle": "2025-01-31T04:23:46.130453Z",
     "shell.execute_reply": "2025-01-31T04:23:46.130453Z"
    }
   },
   "outputs": [],
   "source": [
    "from numpy import pi\n",
    "\n",
    "import qutip as qt\n",
    "\n",
    "from rich import print as pprint\n",
    "\n",
    "import matplotlib\n",
    "from matplotlib import colors, cm, patches\n",
    "import matplotlib.pyplot as plt\n",
    "from mpl_toolkits.axes_grid1 import make_axes_locatable\n",
    "\n",
    "import seaborn as sns\n",
    "\n",
    "from trical.light_matter import *\n",
    "from trical.backend.qutip.base import QutipBackend"
   ]
  },
  {
   "cell_type": "code",
   "execution_count": 11,
   "metadata": {
    "execution": {
     "iopub.execute_input": "2025-01-31T04:23:46.133453Z",
     "iopub.status.busy": "2025-01-31T04:23:46.133453Z",
     "iopub.status.idle": "2025-01-31T04:23:46.146453Z",
     "shell.execute_reply": "2025-01-31T04:23:46.146453Z"
    }
   },
   "outputs": [],
   "source": [
    "matplotlib.rcParams[\"figure.figsize\"] = (12, 8)\n",
    "matplotlib.rcParams[\"font.size\"] = 20\n",
    "matplotlib.rcParams[\"text.usetex\"] = True\n",
    "matplotlib.rcParams[\"mathtext.fontset\"] = \"stix\"\n",
    "matplotlib.rcParams[\"font.family\"] = \"STIXGeneral\"\n",
    "\n",
    "muted_palette = sns.color_palette(\"muted\", n_colors=10, desat=0.8)"
   ]
  },
  {
   "cell_type": "markdown",
   "metadata": {},
   "source": [
    "## Atomic Circuit\n"
   ]
  },
  {
   "cell_type": "code",
   "execution_count": 12,
   "metadata": {
    "execution": {
     "iopub.execute_input": "2025-01-31T04:23:46.149452Z",
     "iopub.status.busy": "2025-01-31T04:23:46.148453Z",
     "iopub.status.idle": "2025-01-31T04:23:46.194453Z",
     "shell.execute_reply": "2025-01-31T04:23:46.194453Z"
    }
   },
   "outputs": [],
   "source": [
    "downstate = Level(\n",
    "    principal=6,\n",
    "    spin=1 / 2,\n",
    "    orbital=0,\n",
    "    nuclear=1 / 2,\n",
    "    spin_orbital=1 / 2,\n",
    "    spin_orbital_nuclear=0,\n",
    "    spin_orbital_nuclear_magnetization=0,\n",
    "    energy=2 * np.pi * 0,\n",
    ")\n",
    "upstate = Level(\n",
    "    principal=6,\n",
    "    spin=1 / 2,\n",
    "    orbital=0,\n",
    "    nuclear=1 / 2,\n",
    "    spin_orbital=1 / 2,\n",
    "    spin_orbital_nuclear=1,\n",
    "    spin_orbital_nuclear_magnetization=0,\n",
    "    energy=2 * np.pi * 10,\n",
    ")\n",
    "estate = Level(\n",
    "    principal=5,\n",
    "    spin=1 / 2,\n",
    "    orbital=1,\n",
    "    nuclear=1 / 2,\n",
    "    spin_orbital=1 / 2,\n",
    "    spin_orbital_nuclear=1,\n",
    "    spin_orbital_nuclear_magnetization=-1,\n",
    "    energy=2 * np.pi * 100,\n",
    ")\n",
    "estate2 = Level(\n",
    "    principal=5,\n",
    "    spin=1 / 2,\n",
    "    orbital=1,\n",
    "    nuclear=1 / 2,\n",
    "    spin_orbital=1 / 2,\n",
    "    spin_orbital_nuclear=1,\n",
    "    spin_orbital_nuclear_magnetization=1,\n",
    "    energy=2 * np.pi * 200,\n",
    ")\n",
    "\n",
    "transitions = [\n",
    "    Transition(\n",
    "        level1=downstate,\n",
    "        level2=estate,\n",
    "        einsteinA=1,\n",
    "        multipole=\"E1\",\n",
    "    ),\n",
    "    Transition(\n",
    "        level1=downstate,\n",
    "        level2=estate2,\n",
    "        einsteinA=1,\n",
    "        multipole=\"E1\",\n",
    "    ),\n",
    "    Transition(\n",
    "        level1=upstate,\n",
    "        level2=estate,\n",
    "        einsteinA=1,\n",
    "        multipole=\"E1\",\n",
    "    ),\n",
    "    Transition(\n",
    "        level1=upstate,\n",
    "        level2=estate2,\n",
    "        einsteinA=1,\n",
    "        multipole=\"E1\",\n",
    "    ),\n",
    "]\n",
    "\n",
    "Yb171 = Ion(\n",
    "    mass=171,\n",
    "    charge=1,\n",
    "    position=[0, 0, 1],\n",
    "    levels=[downstate, upstate, estate, estate2],\n",
    "    transitions=transitions,\n",
    ")\n",
    "\n",
    "Yb171_2 = Ion(\n",
    "    mass=171,\n",
    "    charge=1,\n",
    "    position=[0, 0, -1],\n",
    "    levels=[downstate, upstate, estate, estate2],\n",
    "    transitions=transitions,\n",
    ")\n",
    "\n",
    "COM_x = Phonon(\n",
    "    energy=2 * np.pi * 0.1, eigenvector=[1 / np.sqrt(2), 0, 0, 1 / np.sqrt(2), 0, 0]\n",
    ")\n",
    "\n",
    "system = System(\n",
    "    ions=[Yb171, Yb171_2],\n",
    "    modes=[COM_x],\n",
    ")\n",
    "\n",
    "Omega = 2 * np.pi * 5\n",
    "Delta = 2 * np.pi * 25\n",
    "mu = 2 * np.pi * 0.11\n",
    "\n",
    "\n",
    "beam = Beam(\n",
    "    transition=transitions[0],\n",
    "    rabi=2 * Omega,\n",
    "    detuning=Delta,\n",
    "    phase=0,\n",
    "    polarization=[0, 1, 0],\n",
    "    wavevector=[-1, 0, 0],\n",
    "    target=0,\n",
    ")\n",
    "\n",
    "beam2 = Beam(\n",
    "    transition=transitions[2],\n",
    "    rabi=Omega,\n",
    "    detuning=Delta + mu,\n",
    "    phase=0,\n",
    "    polarization=[0, 1, 0],\n",
    "    wavevector=[1, 0, 0],\n",
    "    target=0,\n",
    ")\n",
    "\n",
    "beam3 = Beam(\n",
    "    transition=transitions[2],\n",
    "    rabi=Omega,\n",
    "    detuning=Delta - mu,\n",
    "    phase=0,\n",
    "    polarization=[0, 1, 0],\n",
    "    wavevector=[1, 0, 0],\n",
    "    target=0,\n",
    ")\n",
    "\n",
    "beam4 = Beam(\n",
    "    transition=transitions[0],\n",
    "    rabi=2 * Omega,\n",
    "    detuning=Delta,\n",
    "    phase=0,\n",
    "    polarization=[0, 1, 0],\n",
    "    wavevector=[-1, 0, 0],\n",
    "    target=1,\n",
    ")\n",
    "\n",
    "beam5 = Beam(\n",
    "    transition=transitions[2],\n",
    "    rabi=Omega,\n",
    "    detuning=Delta + mu,\n",
    "    phase=0,\n",
    "    polarization=[0, 1, 0],\n",
    "    wavevector=[1, 0, 0],\n",
    "    target=1,\n",
    ")\n",
    "\n",
    "beam6 = Beam(\n",
    "    transition=transitions[2],\n",
    "    rabi=Omega,\n",
    "    detuning=Delta - mu,\n",
    "    phase=0,\n",
    "    polarization=[0, 1, 0],\n",
    "    wavevector=[1, 0, 0],\n",
    "    target=1,\n",
    ")\n",
    "\n",
    "protocol = SequentialProtocol(\n",
    "    sequence=[\n",
    "        ParallelProtocol(\n",
    "            sequence=[\n",
    "                Pulse(beam=beam, duration=5),\n",
    "                Pulse(beam=beam2, duration=5),\n",
    "                Pulse(beam=beam3, duration=5),\n",
    "                Pulse(beam=beam4, duration=5),\n",
    "                Pulse(beam=beam5, duration=5),\n",
    "                Pulse(beam=beam6, duration=5),\n",
    "            ]\n",
    "        ),\n",
    "    ]\n",
    ")\n",
    "\n",
    "circuit = AtomicCircuit(system=system, protocol=protocol)"
   ]
  },
  {
   "cell_type": "markdown",
   "metadata": {},
   "source": [
    "### Serialization & Deserialization\n"
   ]
  },
  {
   "cell_type": "code",
   "execution_count": 13,
   "metadata": {
    "execution": {
     "iopub.execute_input": "2025-01-31T04:23:46.197453Z",
     "iopub.status.busy": "2025-01-31T04:23:46.196452Z",
     "iopub.status.idle": "2025-01-31T04:23:46.210453Z",
     "shell.execute_reply": "2025-01-31T04:23:46.210453Z"
    }
   },
   "outputs": [],
   "source": [
    "import json\n",
    "\n",
    "circuit_json = circuit.model_dump_json()\n",
    "circuit_json = json.dumps(json.loads(circuit_json), indent=2)\n",
    "\n",
    "with open(\"8_example_molmer_sorenson.json\", \"w\") as f:\n",
    "    f.write(circuit_json)"
   ]
  },
  {
   "cell_type": "code",
   "execution_count": 14,
   "metadata": {
    "execution": {
     "iopub.execute_input": "2025-01-31T04:23:46.212452Z",
     "iopub.status.busy": "2025-01-31T04:23:46.212452Z",
     "iopub.status.idle": "2025-01-31T04:23:46.226452Z",
     "shell.execute_reply": "2025-01-31T04:23:46.226452Z"
    }
   },
   "outputs": [],
   "source": [
    "with open(\"8_example_molmer_sorenson.json\", \"r\") as f:\n",
    "    circuit_json = f.read()\n",
    "\n",
    "assert AtomicCircuit.model_validate_json(circuit_json) == circuit"
   ]
  },
  {
   "cell_type": "markdown",
   "metadata": {},
   "source": [
    "## Qutip Intepreter\n"
   ]
  },
  {
   "cell_type": "code",
   "execution_count": 15,
   "metadata": {
    "execution": {
     "iopub.execute_input": "2025-01-31T04:23:46.229452Z",
     "iopub.status.busy": "2025-01-31T04:23:46.229452Z",
     "iopub.status.idle": "2025-01-31T04:24:46.155451Z",
     "shell.execute_reply": "2025-01-31T04:24:46.155451Z"
    }
   },
   "outputs": [],
   "source": [
    "backend = QutipBackend()\n",
    "\n",
    "fock_cutoff = 4\n",
    "experiment, hilbert_space = backend.compile(circuit, fock_cutoff)"
   ]
  },
  {
   "cell_type": "code",
   "execution_count": 16,
   "metadata": {
    "execution": {
     "iopub.execute_input": "2025-01-31T04:24:46.159454Z",
     "iopub.status.busy": "2025-01-31T04:24:46.159454Z",
     "iopub.status.idle": "2025-01-31T04:24:46.695448Z",
     "shell.execute_reply": "2025-01-31T04:24:46.695448Z"
    }
   },
   "outputs": [
    {
     "name": "stdout",
     "output_type": "stream",
     "text": [
      "AtomicEmulatorCircuit\n",
      "  - frame: NoneType(None)\n",
      "  - base: Operator(62.83185307179586 * |1><1|_E0 @ I_E1 @ I_P0 + 628.3185307179587 * |2><2|_E0 @ I_E1 @ I_P0 + 1256.6370614359173 * |3><3|_E0 @ I_E1 @ I_P0 + 62.83185307179586 * I_E0 @ |1><1|_E1 @ I_P0 + 628.3185307179587 * I_E0 @ |2><2|_E1 @ I_P0 + 1256.6370614359173 * I_E0 @ |3><3|_E1 @ I_P0 + 0.6283185307179586 * I_E0 @ I_E1 @ C_P0 * A_P0)\n",
      "  - sequence: list\n",
      "    - 0: AtomicEmulatorGate\n",
      "      - hamiltonian: Operator((13.411694158824735 * exp(1j * (721.8751599418626 * t)) + (13.411694158824735 * exp(1j * (723.2574607094422 * t)) + 31.415926535897928 * exp(1j * (-785.3981633974483 * t)))) * |0><2|_E0 @ I_E1 @ exp(1j * (-0.04823719159932803 * C_P0 + conj(-0.04823719159932803) * A_P0)) + (13.411694158824735 * exp(1j * (721.8751599418626 * t)) + (13.411694158824735 * exp(1j * (723.2574607094422 * t)) + 31.415926535897928 * exp(1j * (-785.3981633974483 * t)))) * |2><0|_E0 @ I_E1 @ exp(1j * (-0.04823719159932803 * C_P0 + conj(-0.04823719159932803) * A_P0)) + (13.411694158824735 * exp(1j * (-721.8751599418626 * t)) + (13.411694158824735 * exp(1j * (-723.2574607094422 * t)) + 31.415926535897928 * exp(1j * (785.3981633974483 * t)))) * |0><2|_E0 @ I_E1 @ exp(1j * (0.04823719159932803 * C_P0 + conj(0.04823719159932803) * A_P0)) + (13.411694158824735 * exp(1j * (-721.8751599418626 * t)) + (13.411694158824735 * exp(1j * (-723.2574607094422 * t)) + 31.415926535897928 * exp(1j * (785.3981633974483 * t)))) * |2><0|_E0 @ I_E1 @ exp(1j * (0.04823719159932803 * C_P0 + conj(0.04823719159932803) * A_P0)) + (4.741749943452491 * exp(1j * (721.8751599418626 * t)) + (4.741749943452491 * exp(1j * (723.2574607094422 * t)) + 11.107207345395915 * exp(1j * (-785.3981633974483 * t)))) * |0><3|_E0 @ I_E1 @ exp(1j * (-0.04823719159932803 * C_P0 + conj(-0.04823719159932803) * A_P0)) + (4.741749943452491 * exp(1j * (721.8751599418626 * t)) + (4.741749943452491 * exp(1j * (723.2574607094422 * t)) + 11.107207345395915 * exp(1j * (-785.3981633974483 * t)))) * |3><0|_E0 @ I_E1 @ exp(1j * (-0.04823719159932803 * C_P0 + conj(-0.04823719159932803) * A_P0)) + (4.741749943452491 * exp(1j * (-721.8751599418626 * t)) + (4.741749943452491 * exp(1j * (-723.2574607094422 * t)) + 11.107207345395915 * exp(1j * (785.3981633974483 * t)))) * |0><3|_E0 @ I_E1 @ exp(1j * (0.04823719159932803 * C_P0 + conj(0.04823719159932803) * A_P0)) + (4.741749943452491 * exp(1j * (-721.8751599418626 * t)) + (4.741749943452491 * exp(1j * (-723.2574607094422 * t)) + 11.107207345395915 * exp(1j * (785.3981633974483 * t)))) * |3><0|_E0 @ I_E1 @ exp(1j * (0.04823719159932803 * C_P0 + conj(0.04823719159932803) * A_P0)) + (15.707963267948964 * exp(1j * (721.8751599418626 * t)) + (15.707963267948964 * exp(1j * (723.2574607094422 * t)) + 36.79477135480037 * exp(1j * (-785.3981633974483 * t)))) * |1><2|_E0 @ I_E1 @ exp(1j * (-0.04823719159932803 * C_P0 + conj(-0.04823719159932803) * A_P0)) + (15.707963267948964 * exp(1j * (721.8751599418626 * t)) + (15.707963267948964 * exp(1j * (723.2574607094422 * t)) + 36.79477135480037 * exp(1j * (-785.3981633974483 * t)))) * |2><1|_E0 @ I_E1 @ exp(1j * (-0.04823719159932803 * C_P0 + conj(-0.04823719159932803) * A_P0)) + (15.707963267948964 * exp(1j * (-721.8751599418626 * t)) + (15.707963267948964 * exp(1j * (-723.2574607094422 * t)) + 36.79477135480037 * exp(1j * (785.3981633974483 * t)))) * |1><2|_E0 @ I_E1 @ exp(1j * (0.04823719159932803 * C_P0 + conj(0.04823719159932803) * A_P0)) + (15.707963267948964 * exp(1j * (-721.8751599418626 * t)) + (15.707963267948964 * exp(1j * (-723.2574607094422 * t)) + 36.79477135480037 * exp(1j * (785.3981633974483 * t)))) * |2><1|_E0 @ I_E1 @ exp(1j * (0.04823719159932803 * C_P0 + conj(0.04823719159932803) * A_P0)) + (5.1209818873507995 * exp(1j * (721.8751599418626 * t)) + (5.1209818873507995 * exp(1j * (723.2574607094422 * t)) + 11.995530829997286 * exp(1j * (-785.3981633974483 * t)))) * |1><3|_E0 @ I_E1 @ exp(1j * (-0.04823719159932803 * C_P0 + conj(-0.04823719159932803) * A_P0)) + (5.1209818873507995 * exp(1j * (721.8751599418626 * t)) + (5.1209818873507995 * exp(1j * (723.2574607094422 * t)) + 11.995530829997286 * exp(1j * (-785.3981633974483 * t)))) * |3><1|_E0 @ I_E1 @ exp(1j * (-0.04823719159932803 * C_P0 + conj(-0.04823719159932803) * A_P0)) + (5.1209818873507995 * exp(1j * (-721.8751599418626 * t)) + (5.1209818873507995 * exp(1j * (-723.2574607094422 * t)) + 11.995530829997286 * exp(1j * (785.3981633974483 * t)))) * |1><3|_E0 @ I_E1 @ exp(1j * (0.04823719159932803 * C_P0 + conj(0.04823719159932803) * A_P0)) + (5.1209818873507995 * exp(1j * (-721.8751599418626 * t)) + (5.1209818873507995 * exp(1j * (-723.2574607094422 * t)) + 11.995530829997286 * exp(1j * (785.3981633974483 * t)))) * |3><1|_E0 @ I_E1 @ exp(1j * (0.04823719159932803 * C_P0 + conj(0.04823719159932803) * A_P0)) + (13.411694158824735 * exp(1j * (721.8751599418626 * t)) + (13.411694158824735 * exp(1j * (723.2574607094422 * t)) + 31.415926535897928 * exp(1j * (-785.3981633974483 * t)))) * I_E0 @ |0><2|_E1 @ exp(1j * (-0.04823719159932803 * C_P0 + conj(-0.04823719159932803) * A_P0)) + (13.411694158824735 * exp(1j * (721.8751599418626 * t)) + (13.411694158824735 * exp(1j * (723.2574607094422 * t)) + 31.415926535897928 * exp(1j * (-785.3981633974483 * t)))) * I_E0 @ |2><0|_E1 @ exp(1j * (-0.04823719159932803 * C_P0 + conj(-0.04823719159932803) * A_P0)) + (13.411694158824735 * exp(1j * (-721.8751599418626 * t)) + (13.411694158824735 * exp(1j * (-723.2574607094422 * t)) + 31.415926535897928 * exp(1j * (785.3981633974483 * t)))) * I_E0 @ |0><2|_E1 @ exp(1j * (0.04823719159932803 * C_P0 + conj(0.04823719159932803) * A_P0)) + (13.411694158824735 * exp(1j * (-721.8751599418626 * t)) + (13.411694158824735 * exp(1j * (-723.2574607094422 * t)) + 31.415926535897928 * exp(1j * (785.3981633974483 * t)))) * I_E0 @ |2><0|_E1 @ exp(1j * (0.04823719159932803 * C_P0 + conj(0.04823719159932803) * A_P0)) + (4.741749943452491 * exp(1j * (721.8751599418626 * t)) + (4.741749943452491 * exp(1j * (723.2574607094422 * t)) + 11.107207345395915 * exp(1j * (-785.3981633974483 * t)))) * I_E0 @ |0><3|_E1 @ exp(1j * (-0.04823719159932803 * C_P0 + conj(-0.04823719159932803) * A_P0)) + (4.741749943452491 * exp(1j * (721.8751599418626 * t)) + (4.741749943452491 * exp(1j * (723.2574607094422 * t)) + 11.107207345395915 * exp(1j * (-785.3981633974483 * t)))) * I_E0 @ |3><0|_E1 @ exp(1j * (-0.04823719159932803 * C_P0 + conj(-0.04823719159932803) * A_P0)) + (4.741749943452491 * exp(1j * (-721.8751599418626 * t)) + (4.741749943452491 * exp(1j * (-723.2574607094422 * t)) + 11.107207345395915 * exp(1j * (785.3981633974483 * t)))) * I_E0 @ |0><3|_E1 @ exp(1j * (0.04823719159932803 * C_P0 + conj(0.04823719159932803) * A_P0)) + (4.741749943452491 * exp(1j * (-721.8751599418626 * t)) + (4.741749943452491 * exp(1j * (-723.2574607094422 * t)) + 11.107207345395915 * exp(1j * (785.3981633974483 * t)))) * I_E0 @ |3><0|_E1 @ exp(1j * (0.04823719159932803 * C_P0 + conj(0.04823719159932803) * A_P0)) + (15.707963267948964 * exp(1j * (721.8751599418626 * t)) + (15.707963267948964 * exp(1j * (723.2574607094422 * t)) + 36.79477135480037 * exp(1j * (-785.3981633974483 * t)))) * I_E0 @ |1><2|_E1 @ exp(1j * (-0.04823719159932803 * C_P0 + conj(-0.04823719159932803) * A_P0)) + (15.707963267948964 * exp(1j * (721.8751599418626 * t)) + (15.707963267948964 * exp(1j * (723.2574607094422 * t)) + 36.79477135480037 * exp(1j * (-785.3981633974483 * t)))) * I_E0 @ |2><1|_E1 @ exp(1j * (-0.04823719159932803 * C_P0 + conj(-0.04823719159932803) * A_P0)) + (15.707963267948964 * exp(1j * (-721.8751599418626 * t)) + (15.707963267948964 * exp(1j * (-723.2574607094422 * t)) + 36.79477135480037 * exp(1j * (785.3981633974483 * t)))) * I_E0 @ |1><2|_E1 @ exp(1j * (0.04823719159932803 * C_P0 + conj(0.04823719159932803) * A_P0)) + (15.707963267948964 * exp(1j * (-721.8751599418626 * t)) + (15.707963267948964 * exp(1j * (-723.2574607094422 * t)) + 36.79477135480037 * exp(1j * (785.3981633974483 * t)))) * I_E0 @ |2><1|_E1 @ exp(1j * (0.04823719159932803 * C_P0 + conj(0.04823719159932803) * A_P0)) + (5.1209818873507995 * exp(1j * (721.8751599418626 * t)) + (5.1209818873507995 * exp(1j * (723.2574607094422 * t)) + 11.995530829997286 * exp(1j * (-785.3981633974483 * t)))) * I_E0 @ |1><3|_E1 @ exp(1j * (-0.04823719159932803 * C_P0 + conj(-0.04823719159932803) * A_P0)) + (5.1209818873507995 * exp(1j * (721.8751599418626 * t)) + (5.1209818873507995 * exp(1j * (723.2574607094422 * t)) + 11.995530829997286 * exp(1j * (-785.3981633974483 * t)))) * I_E0 @ |3><1|_E1 @ exp(1j * (-0.04823719159932803 * C_P0 + conj(-0.04823719159932803) * A_P0)) + (5.1209818873507995 * exp(1j * (-721.8751599418626 * t)) + (5.1209818873507995 * exp(1j * (-723.2574607094422 * t)) + 11.995530829997286 * exp(1j * (785.3981633974483 * t)))) * I_E0 @ |1><3|_E1 @ exp(1j * (0.04823719159932803 * C_P0 + conj(0.04823719159932803) * A_P0)) + (5.1209818873507995 * exp(1j * (-721.8751599418626 * t)) + (5.1209818873507995 * exp(1j * (-723.2574607094422 * t)) + 11.995530829997286 * exp(1j * (785.3981633974483 * t)))) * I_E0 @ |3><1|_E1 @ exp(1j * (0.04823719159932803 * C_P0 + conj(0.04823719159932803) * A_P0)))\n",
      "      - duration: float(5.0)\n"
     ]
    }
   ],
   "source": [
    "from oqd_compiler_infrastructure import Post\n",
    "\n",
    "from trical.light_matter.visualization import CondensedOperatorPrettyPrint\n",
    "\n",
    "printer = Post(CondensedOperatorPrettyPrint())\n",
    "\n",
    "print(printer(backend.intermediate))"
   ]
  },
  {
   "cell_type": "code",
   "execution_count": 17,
   "metadata": {
    "execution": {
     "iopub.execute_input": "2025-01-31T04:24:46.722447Z",
     "iopub.status.busy": "2025-01-31T04:24:46.721470Z",
     "iopub.status.idle": "2025-01-31T04:25:06.757507Z",
     "shell.execute_reply": "2025-01-31T04:25:06.757507Z"
    }
   },
   "outputs": [
    {
     "name": "stdout",
     "output_type": "stream",
     "text": [
      "995 μs ± 21.4 μs per loop (mean ± std. dev. of 7 runs, 1,000 loops each)\n",
      "21.8 ms ± 7.12 ms per loop (mean ± std. dev. of 7 runs, 10 loops each)\n"
     ]
    }
   ],
   "source": [
    "%timeit experiment.base(0)\n",
    "%timeit experiment.sequence[0].hamiltonian(0)"
   ]
  },
  {
   "cell_type": "markdown",
   "metadata": {},
   "source": [
    "### Results\n"
   ]
  },
  {
   "cell_type": "code",
   "execution_count": null,
   "metadata": {
    "execution": {
     "iopub.execute_input": "2025-01-31T04:25:06.760500Z",
     "iopub.status.busy": "2025-01-31T04:25:06.760500Z",
     "iopub.status.idle": "2025-01-31T04:43:50.039516Z",
     "shell.execute_reply": "2025-01-31T04:43:50.039516Z"
    }
   },
   "outputs": [],
   "source": [
    "%%time\n",
    "result = backend.run(\n",
    "    experiment,\n",
    "    hilbert_space=hilbert_space,\n",
    "    timestep=1e-2,\n",
    ")"
   ]
  },
  {
   "cell_type": "code",
   "execution_count": null,
   "metadata": {
    "execution": {
     "iopub.execute_input": "2025-01-31T04:43:50.043517Z",
     "iopub.status.busy": "2025-01-31T04:43:50.042509Z",
     "iopub.status.idle": "2025-01-31T04:43:50.872516Z",
     "shell.execute_reply": "2025-01-31T04:43:50.872516Z"
    }
   },
   "outputs": [],
   "source": [
    "k = slice(None, None, 1)\n",
    "\n",
    "fig = plt.figure()\n",
    "\n",
    "ax = fig.subplots(1, 1, sharex=True)\n",
    "\n",
    "state_labels = [0, 1, 4, 5]\n",
    "plot_states = [\n",
    "    [s.ptrace([0, 1]).diag()[i] for i in state_labels] for s in result[\"states\"][k]\n",
    "]\n",
    "\n",
    "ax.plot(\n",
    "    result[\"tspan\"][k],\n",
    "    plot_states,\n",
    "    label=range(len(state_labels)),\n",
    "    alpha=0.5,\n",
    ")\n",
    "\n",
    "ax.set_xlabel(r\"$t$\", labelpad=10)\n",
    "ax.set_ylabel(r\"$P(| \\psi \\rangle)$\", labelpad=10)\n",
    "\n",
    "ax.legend()"
   ]
  },
  {
   "cell_type": "code",
   "execution_count": null,
   "metadata": {
    "execution": {
     "iopub.execute_input": "2025-01-31T04:43:50.875518Z",
     "iopub.status.busy": "2025-01-31T04:43:50.874516Z",
     "iopub.status.idle": "2025-01-31T04:43:51.127515Z",
     "shell.execute_reply": "2025-01-31T04:43:51.127515Z"
    }
   },
   "outputs": [],
   "source": [
    "k = slice(None, None, 1)\n",
    "\n",
    "fig = plt.figure()\n",
    "\n",
    "ax = fig.subplots(1, 1, sharex=True)\n",
    "\n",
    "ax.plot(\n",
    "    result[\"tspan\"][k],\n",
    "    [s.ptrace(2).diag() for s in result[\"states\"][k]],\n",
    "    label=range(fock_cutoff),\n",
    ")\n",
    "\n",
    "\n",
    "ax.set_xlabel(r\"$t$\", labelpad=10)\n",
    "ax.set_ylabel(r\"$P(| n \\rangle)$\", labelpad=10)\n",
    "\n",
    "ax.legend()"
   ]
  },
  {
   "cell_type": "code",
   "execution_count": null,
   "metadata": {},
   "outputs": [],
   "source": []
  }
 ],
 "metadata": {
  "kernelspec": {
   "display_name": "Python 3",
   "language": "python",
   "name": "python3"
  },
  "language_info": {
   "codemirror_mode": {
    "name": "ipython",
    "version": 3
   },
   "file_extension": ".py",
   "mimetype": "text/x-python",
   "name": "python",
   "nbconvert_exporter": "python",
   "pygments_lexer": "ipython3",
   "version": "3.10.14"
  }
 },
 "nbformat": 4,
 "nbformat_minor": 2
}
