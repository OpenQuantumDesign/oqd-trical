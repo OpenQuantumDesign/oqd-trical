{
  "cells": [
    {
      "cell_type": "markdown",
      "metadata": {},
      "source": [
        "## Imports\n"
      ]
    },
    {
      "cell_type": "code",
      "execution_count": 1,
      "metadata": {},
      "outputs": [],
      "source": [
        "from numpy import pi\n",
        "\n",
        "import qutip as qt\n",
        "\n",
        "from rich import print as pprint\n",
        "\n",
        "import matplotlib\n",
        "from matplotlib import colors, cm, patches\n",
        "import matplotlib.pyplot as plt\n",
        "from mpl_toolkits.axes_grid1 import make_axes_locatable\n",
        "\n",
        "import seaborn as sns\n",
        "\n",
        "from trical.light_matter import *\n",
        "from trical.backend.qutip.base import QutipBackend"
      ]
    },
    {
      "cell_type": "code",
      "execution_count": 2,
      "metadata": {},
      "outputs": [],
      "source": [
        "matplotlib.rcParams[\"figure.figsize\"] = (12, 8)\n",
        "matplotlib.rcParams[\"font.size\"] = 20\n",
        "matplotlib.rcParams[\"text.usetex\"] = True\n",
        "matplotlib.rcParams[\"mathtext.fontset\"] = \"stix\"\n",
        "matplotlib.rcParams[\"font.family\"] = \"STIXGeneral\"\n",
        "\n",
        "muted_palette = sns.color_palette(\"muted\", n_colors=10, desat=0.8)"
      ]
    },
    {
      "cell_type": "markdown",
      "metadata": {},
      "source": [
        "## Atomic Circuit\n"
      ]
    },
    {
      "cell_type": "code",
      "execution_count": 3,
      "metadata": {},
      "outputs": [],
      "source": [
        "downstate = Level(\n",
        "    principal=6,\n",
        "    spin=1 / 2,\n",
        "    orbital=0,\n",
        "    nuclear=1 / 2,\n",
        "    spin_orbital=1 / 2,\n",
        "    spin_orbital_nuclear=0,\n",
        "    spin_orbital_nuclear_magnetization=0,\n",
        "    energy=2 * np.pi * 0,\n",
        ")\n",
        "upstate = Level(\n",
        "    principal=6,\n",
        "    spin=1 / 2,\n",
        "    orbital=0,\n",
        "    nuclear=1 / 2,\n",
        "    spin_orbital=1 / 2,\n",
        "    spin_orbital_nuclear=1,\n",
        "    spin_orbital_nuclear_magnetization=0,\n",
        "    energy=2 * np.pi * 10,\n",
        ")\n",
        "estate = Level(\n",
        "    principal=5,\n",
        "    spin=1 / 2,\n",
        "    orbital=1,\n",
        "    nuclear=1 / 2,\n",
        "    spin_orbital=1 / 2,\n",
        "    spin_orbital_nuclear=1,\n",
        "    spin_orbital_nuclear_magnetization=-1,\n",
        "    energy=2 * np.pi * 100,\n",
        ")\n",
        "estate2 = Level(\n",
        "    principal=5,\n",
        "    spin=1 / 2,\n",
        "    orbital=1,\n",
        "    nuclear=1 / 2,\n",
        "    spin_orbital=1 / 2,\n",
        "    spin_orbital_nuclear=1,\n",
        "    spin_orbital_nuclear_magnetization=1,\n",
        "    energy=2 * np.pi * 200,\n",
        ")\n",
        "\n",
        "transitions = [\n",
        "    Transition(\n",
        "        level1=downstate,\n",
        "        level2=estate,\n",
        "        einsteinA=1,\n",
        "        multipole=\"E1\",\n",
        "    ),\n",
        "    Transition(\n",
        "        level1=downstate,\n",
        "        level2=estate2,\n",
        "        einsteinA=1,\n",
        "        multipole=\"E1\",\n",
        "    ),\n",
        "    Transition(\n",
        "        level1=upstate,\n",
        "        level2=estate,\n",
        "        einsteinA=1,\n",
        "        multipole=\"E1\",\n",
        "    ),\n",
        "    Transition(\n",
        "        level1=upstate,\n",
        "        level2=estate2,\n",
        "        einsteinA=1,\n",
        "        multipole=\"E1\",\n",
        "    ),\n",
        "]\n",
        "\n",
        "Yb171 = Ion(\n",
        "    mass=171,\n",
        "    charge=1,\n",
        "    position=[0, 0, 0],\n",
        "    levels=[downstate, upstate, estate, estate2],\n",
        "    transitions=transitions,\n",
        ")\n",
        "\n",
        "COM_x = Phonon(energy=0.1, eigenvector=[1, 0, 0])\n",
        "\n",
        "system = System(\n",
        "    ions=[\n",
        "        Yb171,\n",
        "    ],\n",
        "    modes=[\n",
        "        COM_x,\n",
        "    ],\n",
        ")\n",
        "\n",
        "beam = Beam(\n",
        "    transition=transitions[0],\n",
        "    rabi=2 * np.pi * 5,\n",
        "    detuning=2 * np.pi * 25,\n",
        "    phase=0,\n",
        "    polarization=[1, 0, 0],\n",
        "    wavevector=[0, 1, 0],\n",
        "    target=0,\n",
        ")\n",
        "\n",
        "beam2 = Beam(\n",
        "    transition=transitions[2],\n",
        "    rabi=2 * pi * 5,\n",
        "    detuning=2 * np.pi * 25,\n",
        "    phase=0,\n",
        "    polarization=[1, 0, 0],\n",
        "    wavevector=[0, 1, 0],\n",
        "    target=0,\n",
        ")\n",
        "\n",
        "protocol = ParallelProtocol(\n",
        "    sequence=[\n",
        "        Pulse(beam=beam, duration=10),\n",
        "        Pulse(beam=beam2, duration=6),\n",
        "    ]\n",
        ")\n",
        "\n",
        "circuit = AtomicCircuit(system=system, protocol=protocol)"
      ]
    },
    {
      "cell_type": "markdown",
      "metadata": {},
      "source": [
        "### Serialization & Deserialization\n"
      ]
    },
    {
      "cell_type": "code",
      "execution_count": 4,
      "metadata": {},
      "outputs": [],
      "source": [
        "import json\n",
        "\n",
        "circuit_json = circuit.model_dump_json()\n",
        "circuit_json = json.dumps(json.loads(circuit_json), indent=2)\n",
        "\n",
        "with open(\"3_example_uneven.json\", \"w\") as f:\n",
        "    f.write(circuit_json)"
      ]
    },
    {
      "cell_type": "code",
      "execution_count": 5,
      "metadata": {},
      "outputs": [],
      "source": [
        "with open(\"3_example_uneven.json\", \"r\") as f:\n",
        "    circuit_json = f.read()\n",
        "\n",
        "assert AtomicCircuit.model_validate_json(circuit_json) == circuit"
      ]
    },
    {
      "cell_type": "markdown",
      "metadata": {},
      "source": [
        "## Qutip Intepreter\n"
      ]
    },
    {
      "cell_type": "code",
      "execution_count": 4,
      "metadata": {},
      "outputs": [],
      "source": [
        "backend = QutipBackend()\n",
        "\n",
        "fock_cutoff = 10\n",
        "experiment, hilbert_space = backend.compile(circuit, fock_cutoff)"
      ]
    },
    {
      "cell_type": "code",
      "execution_count": null,
      "metadata": {},
      "outputs": [],
      "source": [
        "%timeit experiment.base(0)\n",
        "%timeit experiment.sequence[0].hamiltonian(0)"
      ]
    },
    {
      "cell_type": "markdown",
      "metadata": {},
      "source": [
        "### Results\n"
      ]
    },
    {
      "cell_type": "code",
      "execution_count": 5,
      "metadata": {},
      "outputs": [],
      "source": [
        "result = backend.run(\n",
        "    experiment,\n",
        "    hilbert_space=hilbert_space,\n",
        "    timestep=1e-2,\n",
        ")"
      ]
    },
    {
      "cell_type": "code",
      "execution_count": null,
      "metadata": {},
      "outputs": [],
      "source": [
        "k = slice(None, None, 1)\n",
        "\n",
        "fig = plt.figure()\n",
        "\n",
        "ax = fig.subplots(1, 1, sharex=True)\n",
        "\n",
        "ax.plot(\n",
        "    result[\"tspan\"][k],\n",
        "    [s.ptrace(0).diag()[:4] for s in result[\"states\"][k]],\n",
        "    label=range(4),\n",
        ")\n",
        "\n",
        "ax.set_xlabel(r\"$t$\", labelpad=10)\n",
        "ax.set_ylabel(r\"$P(| \\psi \\rangle)$\", labelpad=10)\n",
        "\n",
        "ax.legend()"
      ]
    }
  ],
  "metadata": {
    "kernelspec": {
      "display_name": "Python 3",
      "language": "python",
      "name": "python3"
    },
    "language_info": {
      "codemirror_mode": {
        "name": "ipython",
        "version": 3
      },
      "file_extension": ".py",
      "mimetype": "text/x-python",
      "name": "python",
      "nbconvert_exporter": "python",
      "pygments_lexer": "ipython3",
      "version": "3.10.14"
    }
  },
  "nbformat": 4,
  "nbformat_minor": 2
}
