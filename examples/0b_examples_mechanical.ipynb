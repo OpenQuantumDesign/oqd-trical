{
 "cells": [
  {
   "cell_type": "markdown",
   "metadata": {},
   "source": [
    "# Trapped Ion Calculator (TrICal)\n",
    "\n",
    "This is a package for simulating a chain of trapped ions. The aim of this package is to remove the need for rewriting the same code to calculate equilibrium spacing, normal modes, and $J_{ij}$ every time a trap is being designed.\n",
    "\n",
    "## Class Structure\n",
    "\n",
    "![class structure](class_structure_trical_mechanical.png)\n",
    "\n",
    "The basic form of the class structure is shown in the diagram. Typically in an ion trap there are three major terms in the potential; the DC part, the RF part and the coulomb part. In this code the user will input the DC and RF parts into the potential class. For the RF potential the pondermotive approximation will have to be taken before inputing the potential into the code.\n",
    "\n",
    "## Usage\n",
    "\n",
    "The typical usage for this code will be to find the normal modes and frequencies for a given trap and for a given set of voltage applied to the trap electrodes. The potential around the centre of the trap is should be calculated via an appropriate method. The results of that calculation can then be input into the Potential class via three methods. The potential class is then used to calculate equilibrium spacing and normal modes. These are in turn fed into the SimulatedSpinLattice class to get out $J_{ij}$ coefficients.\n"
   ]
  },
  {
   "cell_type": "code",
   "execution_count": 1,
   "metadata": {
    "ExecuteTime": {
     "end_time": "2020-08-07T00:14:12.383067Z",
     "start_time": "2020-08-07T00:14:11.523873Z"
    }
   },
   "outputs": [],
   "source": [
    "\n",
    "import matplotlib\n",
    "import matplotlib.colors\n",
    "import matplotlib.pyplot as plt\n",
    "import numpy as np\n",
    "import sympy as sym\n",
    "from matplotlib import cm\n",
    "\n",
    "import oqd_trical\n",
    "import oqd_trical.misc.constants as cst\n",
    "from oqd_trical.misc.polynomial import multivariate_polyfit"
   ]
  },
  {
   "cell_type": "code",
   "execution_count": 2,
   "metadata": {
    "ExecuteTime": {
     "end_time": "2020-08-07T00:14:12.655128Z",
     "start_time": "2020-08-07T00:14:12.384066Z"
    }
   },
   "outputs": [],
   "source": [
    "matplotlib.rcParams[\"figure.figsize\"] = (12, 8)\n",
    "matplotlib.rcParams[\"font.family\"] = \"serif\"\n",
    "matplotlib.rcParams[\"font.size\"] = 20\n",
    "\n",
    "sym.init_printing()"
   ]
  },
  {
   "cell_type": "markdown",
   "metadata": {},
   "source": [
    "# TrICal Classes\n"
   ]
  },
  {
   "cell_type": "markdown",
   "metadata": {},
   "source": [
    "## Potential Class\n",
    "\n",
    "The potential class represents a potential applied to the trapped ion system. <br />\n",
    "Requirements of the potential class are functions corresponding to:\n",
    "\n",
    "- Function for the potential, phi $(U)$\n",
    "- Function for creating first derivatives of the potential, dphi $\\left(\\frac{\\partial U}{\\partial a_i}\\right)$\n",
    "- Function for creating second derivatives of the potential, d2phi $\\left(\\frac{\\partial^2 U}{\\partial a_i \\partial b_j}\\right)$ <br />\n",
    "\n",
    "where $a,b \\in [x,y,z]$ and $1 \\leq i,j \\leq N$ <br />\n",
    "Optional parameters of Potential class are:\n",
    "\n",
    "- Number of ions, N\n",
    "- Dimension of the system, dim\n"
   ]
  },
  {
   "cell_type": "code",
   "execution_count": 3,
   "metadata": {
    "ExecuteTime": {
     "end_time": "2020-08-07T00:14:12.671131Z",
     "start_time": "2020-08-07T00:14:12.656128Z"
    }
   },
   "outputs": [
    {
     "name": "stdout",
     "output_type": "stream",
     "text": [
      "Position of ions:\n",
      "[[0 1 2]\n",
      " [3 4 5]\n",
      " [6 7 8]]\n",
      "Potential:\n",
      "204\n",
      "Gradient of the potential:\n",
      "[12.  0.  6. 14.  2.  8. 16.  4. 10.]\n",
      "Hessian of the potential:\n",
      "[[2. 0. 0. 0. 0. 0. 0. 0. 0.]\n",
      " [0. 2. 0. 0. 0. 0. 0. 0. 0.]\n",
      " [0. 0. 2. 0. 0. 0. 0. 0. 0.]\n",
      " [0. 0. 0. 2. 0. 0. 0. 0. 0.]\n",
      " [0. 0. 0. 0. 2. 0. 0. 0. 0.]\n",
      " [0. 0. 0. 0. 0. 2. 0. 0. 0.]\n",
      " [0. 0. 0. 0. 0. 0. 2. 0. 0.]\n",
      " [0. 0. 0. 0. 0. 0. 0. 2. 0.]\n",
      " [0. 0. 0. 0. 0. 0. 0. 0. 2.]]\n"
     ]
    }
   ],
   "source": [
    "N = 3  # Number of ions\n",
    "dim = 3  # Dimension of system\n",
    "\n",
    "\n",
    "# Function representing potential\n",
    "def phi(x):\n",
    "    x = np.array(x)\n",
    "    return (x**2).sum()\n",
    "\n",
    "\n",
    "# Function creating first derivatives of the potential\n",
    "def dphi(var):\n",
    "    a = {\"x\": 0, \"y\": 1, \"z\": 2}[var[0]]  # Direction index\n",
    "    i = int(var[1:] if isinstance(var, str) else var[1:][0]) - 1  # Ion index\n",
    "\n",
    "    # First derivative of the potential wrt to the variable a_i\n",
    "    def dphi_dai(x):\n",
    "        return 2 * x[i, a]\n",
    "\n",
    "    return dphi_dai\n",
    "\n",
    "\n",
    "# Function creating second derivatives of the potential\n",
    "def d2phi(var1, var2):\n",
    "    a = {\"x\": 0, \"y\": 1, \"z\": 2}[var1[0]]  # Direction index 1\n",
    "    b = {\"x\": 0, \"y\": 1, \"z\": 2}[var2[0]]  # Direction index 2\n",
    "    i = int(var1[1:] if isinstance(var1, str) else var1[1:][0]) - 1  # Ion index 1\n",
    "    j = int(var2[1:] if isinstance(var2, str) else var2[1:][0]) - 1  # Ion index 2\n",
    "\n",
    "    # Second derivative of the potential wrt to the variables a_i and b_j\n",
    "    def d2phi_daidbj(x):\n",
    "        if a == b and i == j:\n",
    "            return 2\n",
    "        else:\n",
    "            return 0\n",
    "\n",
    "    return d2phi_daidbj\n",
    "\n",
    "\n",
    "# Define an instance of the Potential class using the above functions for potential, first derivatives and second\n",
    "# derivatives\n",
    "p = oqd_trical.mechanical.Potential(phi, dphi, d2phi, N=N, dim=dim)\n",
    "\n",
    "# Function representing gradient of the potential\n",
    "p_grad = p.gradient()  # Method creating function for gradient of the potential\n",
    "\n",
    "# Function representing Hessian of the potential\n",
    "p_hess = p.hessian()  # Method creating function for Hessian of the potential\n",
    "\n",
    "# Test position of ions\n",
    "x = np.arange(N * dim).reshape(N, dim)\n",
    "\n",
    "print(\"Position of ions:\")\n",
    "print(x)\n",
    "print(\"Potential:\")\n",
    "print(p(x))\n",
    "print(\"Gradient of the potential:\")\n",
    "print(p_grad(x))\n",
    "print(\"Hessian of the potential:\")\n",
    "print(p_hess(x))"
   ]
  },
  {
   "cell_type": "markdown",
   "metadata": {},
   "source": [
    "### CoulombPotential Subclass\n",
    "\n",
    "The CoulombPotential subclass represents the coulomb interaction between the ions in the trapped ion syste. Corresponds to the following potential,\n",
    "\n",
    "$$\n",
    "U(\\{\\vec{x}_i\\}) = \\sum_{i \\neq j} \\frac{q^2}{4 \\pi \\epsilon_0} \\frac{1}{||\\vec{x}_i - \\vec{x}_j||_2}\n",
    "$$\n",
    "\n",
    "CoulombPotential only requires:\n",
    "\n",
    "- Number of ions, N\n",
    "- Dimension of the system, dim (default = 3)\n"
   ]
  },
  {
   "cell_type": "code",
   "execution_count": 4,
   "metadata": {
    "ExecuteTime": {
     "end_time": "2020-08-07T00:14:12.675132Z",
     "start_time": "2020-08-07T00:14:12.672132Z"
    }
   },
   "outputs": [],
   "source": [
    "N = 3  # Number of ions\n",
    "dim = 3  # Dimension of system\n",
    "\n",
    "# Define an instance of the CoulombPotential class for N ions in a dim-dimensional system\n",
    "cp = oqd_trical.mechanical.CoulombPotential(N, dim=dim)"
   ]
  },
  {
   "cell_type": "markdown",
   "metadata": {},
   "source": [
    "### GaussianOpticalPotential Subclass\n",
    "\n",
    "The GaussianOpticalPotential subclass represents the potential caused by stark shift from a gaussian beam.\n",
    "\n",
    "$$\n",
    "U(\\{\\vec{x}_i\\}) = \\frac{\\hbar \\Omega^2(\\{\\vec{x}_i\\})}{4 \\Delta} = \\frac{\\hbar \\bar{\\Omega}^2 I(\\{\\vec{x}_i\\})}{4 \\Delta} = \\frac{\\hbar \\bar{\\Omega}^2}{4 \\Delta} \\sum_{i} \\tilde{I}(\\vec{x}_i) \\\\\n",
    "\\tilde{I}(x,y,z) = I_0 \\left(\\frac{w_0}{w(x-x^*)}\\right)^2 \\mathrm{exp} \\left({\\frac{-2[(y-y^*)^2+(z-z^*)^2]}{w^2(x-x^*)}}\\right) \\\\\n",
    "w(x) = w_0 \\sqrt{1+\\left(\\frac{x}{x_R}\\right)^2}, \\quad x_R = \\frac{\\pi w_0^2 n}{\\lambda}, \\quad I_0 = \\frac{2P}{\\pi w_0^2}\\\\\n",
    "$$\n",
    "\n",
    "Where $\\vec{x}^*$ is the focal point, $w_0$ is the beam waist, $n$ is the refractive index, $\\lambda$ is the wavelength of laser, $P$ is the laser power, $\\Delta$ is the detuning from transition, and $\\bar{\\Omega}$ is the Rabi frequency per root intensity. <br />\n",
    "\n",
    "GaussianOpticalPotential requires the above list of arguments and is forced to be 3-dimensional.\n"
   ]
  },
  {
   "cell_type": "code",
   "execution_count": 5,
   "metadata": {
    "ExecuteTime": {
     "end_time": "2020-08-07T00:14:12.680134Z",
     "start_time": "2020-08-07T00:14:12.676133Z"
    }
   },
   "outputs": [],
   "source": [
    "N = 3  # Number of ions\n",
    "mass = cst.convert_m_a(171)  # Mass of an ion\n",
    "\n",
    "# Parameters of the gaussian beam (in SI units)\n",
    "focal_point = np.zeros(3)  # Center of system\n",
    "beam_waist = 1e-6\n",
    "refractive_index = 1.0\n",
    "wavelength = 375e-9\n",
    "power = 1e0\n",
    "Omega_bar = 2.23e6\n",
    "transition_wavelength = 369.52e-9\n",
    "\n",
    "# Define an instance of the GaussianOpticalPotential class\n",
    "gop = oqd_trical.mechanical.GaussianOpticalPotential(\n",
    "    focal_point,\n",
    "    power,\n",
    "    wavelength,\n",
    "    beam_waist,\n",
    "    mass=mass,\n",
    "    Omega_bar=Omega_bar,\n",
    "    transition_wavelength=transition_wavelength,\n",
    "    refractive_index=refractive_index,\n",
    ")\n",
    "\n",
    "# Assign a number of ions to the GaussianOpticalPotential class\n",
    "gop.update_params(N=N)  # Without N cannot create gradient or Hessian"
   ]
  },
  {
   "cell_type": "markdown",
   "metadata": {},
   "source": [
    "### PolynomialPotential Subclass\n",
    "\n",
    "The PolynomialPotential subclass corresponds with a multivariate polynomial potential:\n",
    "\n",
    "$$\n",
    "U(\\{\\vec{x}_i\\}) = \\sum_{i} \\tilde{U}(\\vec{x}_i) \\\\\n",
    "\\tilde{U}(x,y,z) = \\sum_{ijk} \\alpha_{ijk}  x^iy^jz^k\n",
    "$$\n"
   ]
  },
  {
   "cell_type": "code",
   "execution_count": 6,
   "metadata": {
    "ExecuteTime": {
     "end_time": "2020-08-07T00:14:12.688135Z",
     "start_time": "2020-08-07T00:14:12.681134Z"
    }
   },
   "outputs": [
    {
     "name": "stdout",
     "output_type": "stream",
     "text": [
      "Trapping strength is the x direction (Mrad/s): 2.5132741228718345\n",
      "Trapping strength is the y direction (Mrad/s): 2.261946710584651\n",
      "Trapping strength is the z direction (Mrad/s): 0.5026548245743669\n",
      "Coefficient of the multivariate polynomial:\n",
      "[[[0.00000000e+00 0.00000000e+00 3.58719449e-14]\n",
      "  [0.00000000e+00 0.00000000e+00 0.00000000e+00]\n",
      "  [7.26406884e-13 0.00000000e+00 0.00000000e+00]]\n",
      "\n",
      " [[0.00000000e+00 0.00000000e+00 0.00000000e+00]\n",
      "  [0.00000000e+00 0.00000000e+00 0.00000000e+00]\n",
      "  [0.00000000e+00 0.00000000e+00 0.00000000e+00]]\n",
      "\n",
      " [[8.96798622e-13 0.00000000e+00 0.00000000e+00]\n",
      "  [0.00000000e+00 0.00000000e+00 0.00000000e+00]\n",
      "  [0.00000000e+00 0.00000000e+00 0.00000000e+00]]]\n"
     ]
    }
   ],
   "source": [
    "N = 3  # Number of ions\n",
    "mass = cst.convert_m_a(171)  # Mass of an ion\n",
    "\n",
    "# Trapping strength (in rad/s)\n",
    "omega_x = 2 * np.pi * 0.4e6  # Direction x\n",
    "omega_y = 2 * np.pi * 0.36e6  # Direction y\n",
    "omega_z = 2 * np.pi * 0.08e6  # Direction z\n",
    "omega = np.array([omega_x, omega_y, omega_z])\n",
    "\n",
    "# Coefficients of the multivariate polynomial consistent with the trapping strength above for a harmonic potential\n",
    "alpha = np.zeros((3, 3, 3))\n",
    "alpha[2, 0, 0] = mass * (omega_x) ** 2 / 2\n",
    "alpha[0, 2, 0] = mass * (omega_y) ** 2 / 2\n",
    "alpha[0, 0, 2] = mass * (omega_z) ** 2 / 2\n",
    "\n",
    "[\n",
    "    print(\n",
    "        \"Trapping strength is the {} direction (Mrad/s): {}\".format(\n",
    "            [\"x\", \"y\", \"z\"][i], omega[i] / 1e6\n",
    "        )\n",
    "    )\n",
    "    for i in range(3)\n",
    "]\n",
    "print(\"Coefficient of the multivariate polynomial:\")\n",
    "print(alpha)\n",
    "\n",
    "# Define an instance of the PolynomialPotential class\n",
    "pp = oqd_trical.mechanical.PolynomialPotential(alpha, N=N)"
   ]
  },
  {
   "cell_type": "markdown",
   "metadata": {},
   "source": [
    "#### Fitting to a PolynomialPotential\n",
    "\n",
    "We can use a grid of points and the value of the potential at each point to create a PolynomialPotential by fitting it with a polynomial.\n"
   ]
  },
  {
   "cell_type": "code",
   "execution_count": 7,
   "metadata": {
    "ExecuteTime": {
     "end_time": "2020-08-07T00:14:13.900406Z",
     "start_time": "2020-08-07T00:14:12.689135Z"
    }
   },
   "outputs": [
    {
     "name": "stdout",
     "output_type": "stream",
     "text": [
      "Coefficient of the multivariate polynomial fit:\n",
      "[[[0.00000000e+00 0.00000000e+00 3.58719449e-14]\n",
      "  [0.00000000e+00 0.00000000e+00 0.00000000e+00]\n",
      "  [7.26406884e-13 0.00000000e+00 0.00000000e+00]]\n",
      "\n",
      " [[0.00000000e+00 0.00000000e+00 0.00000000e+00]\n",
      "  [0.00000000e+00 0.00000000e+00 0.00000000e+00]\n",
      "  [0.00000000e+00 0.00000000e+00 0.00000000e+00]]\n",
      "\n",
      " [[8.96798622e-13 0.00000000e+00 0.00000000e+00]\n",
      "  [0.00000000e+00 0.00000000e+00 0.00000000e+00]\n",
      "  [0.00000000e+00 0.00000000e+00 0.00000000e+00]]]\n"
     ]
    }
   ],
   "source": [
    "N = 3  # Number of ions\n",
    "\n",
    "# Create grid of points\n",
    "I_x = np.linspace(-2e-4, 2e-4, 81)\n",
    "I_y = np.linspace(-2e-4, 2e-4, 81)\n",
    "I_z = np.linspace(-5e-4, 5e-4, 201)\n",
    "r = np.array(np.meshgrid(I_x, I_y, I_z))\n",
    "r = r.reshape(3, -1).transpose()  # Last axis is axis for the direction x,y and z\n",
    "\n",
    "\n",
    "# Function for the potential\n",
    "def f(x, y, z):\n",
    "    return np.polynomial.polynomial.polyval3d(x, y, z, alpha)\n",
    "\n",
    "\n",
    "# Values of potential at grid points\n",
    "U_r = f(*r.transpose())\n",
    "\n",
    "# Parameters of fitting polynomial\n",
    "l = 1e-6  # length scale  # noqa: E741\n",
    "deg = (2, 2, 2)  # degree of polynomial\n",
    "\n",
    "# Fitting polynomial using the values and grid points\n",
    "alpha_fit = multivariate_polyfit(r, U_r, deg)\n",
    "\n",
    "print(\"Coefficient of the multivariate polynomial fit:\")\n",
    "print(alpha)\n",
    "\n",
    "# Define an instance of the PolynomialPotential class for the coeffiecients obtained from the multivariate polynomial fit\n",
    "pfp = oqd_trical.mechanical.PolynomialPotential(alpha_fit, N=N)"
   ]
  },
  {
   "cell_type": "markdown",
   "metadata": {},
   "source": [
    "### SymbolicPotential Subclass\n",
    "\n",
    "The SymbolicPotential class uses a symbolic expression, defined using sympy, for the potential. This is intended to be useful when you have an analytical expression for your trapping potential. Note, all ions are assumed to have the same potential, i.e.\n",
    "\n",
    "$$\n",
    "U(\\{\\vec{x}_i\\}) = \\sum_{i} \\tilde{U}(\\vec{x}_i)\n",
    "$$\n"
   ]
  },
  {
   "cell_type": "code",
   "execution_count": 8,
   "metadata": {
    "ExecuteTime": {
     "end_time": "2020-08-07T00:14:13.913409Z",
     "start_time": "2020-08-07T00:14:13.902407Z"
    },
    "scrolled": false
   },
   "outputs": [
    {
     "name": "stdout",
     "output_type": "stream",
     "text": [
      "Expression for the potential on an ion:\n",
      "8.96798621816869e-13*x**2 + 7.26406883671664e-13*y**2 + 3.58719448726748e-14*z**2\n"
     ]
    }
   ],
   "source": [
    "N = 3  # Number of ions\n",
    "dim = 3  # Dimension of system\n",
    "\n",
    "# Symbol for the directions\n",
    "x, y, z = sym.symbols(\"x, y ,z\")\n",
    "\n",
    "# Expression for the potential on an ion\n",
    "expr = (\n",
    "    mass * (omega_x) ** 2 / 2 * x**2\n",
    "    + mass * (omega_y) ** 2 / 2 * y**2\n",
    "    + mass * (omega_z) ** 2 / 2 * z**2\n",
    ")\n",
    "\n",
    "print(\"Expression for the potential on an ion:\")\n",
    "print(expr)\n",
    "\n",
    "# Define an instance of the SymbolicPotential class for the expression above\n",
    "sp = oqd_trical.mechanical.SymbolicPotential(expr, N=N, dim=dim)"
   ]
  },
  {
   "cell_type": "markdown",
   "metadata": {},
   "source": [
    "#### SymbolicOpticalPotential\n",
    "\n",
    "The SymbolicOpticalPotential is a special case of the SymbolicPotential that corresponds to an optical potential. Instead of specifying the full expression of the potential, only the expression for the intensity of the light, $\\tilde{I}(\\vec{x})$, the detuning, $\\Delta$ and the Rabi frequency per root intensity, $\\bar{\\Omega}$, is needed,\n",
    "\n",
    "$$\n",
    "U(\\{\\vec{x}_i\\}) = \\frac{\\hbar \\Omega^2(\\{\\vec{x}_i\\})}{4 \\Delta} = \\frac{\\hbar \\bar{\\Omega}^2 I(\\{\\vec{x}_i\\})}{4 \\Delta} = \\frac{\\hbar \\bar{\\Omega}^2}{4 \\Delta} \\sum_{i} \\tilde{I}(\\vec{x}_i)\n",
    "$$\n",
    "\n",
    "Note, this potential is assumed to be 3 dimensional.\n"
   ]
  },
  {
   "cell_type": "code",
   "execution_count": 9,
   "metadata": {
    "ExecuteTime": {
     "end_time": "2020-08-07T00:14:13.955419Z",
     "start_time": "2020-08-07T00:14:13.915410Z"
    }
   },
   "outputs": [],
   "source": [
    "# Parameters for a Gaussian beam\n",
    "focal_point = np.zeros(3)\n",
    "beam_waist = 1e-6\n",
    "refractive_index = 1.0\n",
    "wavelength = 375e-9\n",
    "power = 1e0\n",
    "Omega_bar = 2.23e6\n",
    "transition_wavelength = 369.52e-9\n",
    "\n",
    "# Symbol for the directions\n",
    "x, y, z = sym.symbols(\"x, y ,z\")\n",
    "\n",
    "# Defining intensity expression for the Gaussian beam with the above parameters\n",
    "delta_x, delta_y, delta_z = np.array([x, y, z]) - focal_point\n",
    "x_R = np.pi * beam_waist**2 * refractive_index / wavelength\n",
    "w = beam_waist * sym.sqrt(1 + (delta_x / x_R) ** 2)\n",
    "intensity_expr = (\n",
    "    2\n",
    "    * power\n",
    "    / (np.pi * beam_waist**2)\n",
    "    * (beam_waist / w) ** 2\n",
    "    * sym.exp(-2 * (delta_y**2 + delta_z**2) / w**2)\n",
    ")\n",
    "\n",
    "# Define an instance of the SymbolicOpticalPotential class for the Gaussian beam defined above\n",
    "sop = oqd_trical.mechanical.SymbolicOpticalPotential(\n",
    "    intensity_expr,\n",
    "    wavelength,\n",
    "    Omega_bar=Omega_bar,\n",
    "    transition_wavelength=transition_wavelength,\n",
    ")\n",
    "\n",
    "# Assign a number of ions to the SymbolicOpticalPotential class\n",
    "sop.update_params(N=N)  # Without N cannot create gradient or Hessian"
   ]
  },
  {
   "cell_type": "markdown",
   "metadata": {},
   "source": [
    "### AdvancedSymbolicPotential Subclass\n",
    "\n",
    "The AdvancedSymbolicPotential class represents a potential that can be ion dependent symbolically, i.e.\n",
    "\n",
    "$$\n",
    "U(\\{\\vec{x}_i\\}) = \\sum_{i} \\tilde{U}_i(\\vec{x}_i)\n",
    "$$\n",
    "\n",
    "This means this class works for any arbitrary potential.\n"
   ]
  },
  {
   "cell_type": "code",
   "execution_count": 10,
   "metadata": {
    "ExecuteTime": {
     "end_time": "2020-08-07T00:14:13.977424Z",
     "start_time": "2020-08-07T00:14:13.956419Z"
    }
   },
   "outputs": [],
   "source": [
    "N = 3  # Number of ions\n",
    "dim = 3  # Dimension of system\n",
    "\n",
    "# Symbols for the coordinates of the different ions\n",
    "x = np.array(sym.symbols(\" \".join([\"x{}\".format(i) for i in range(N)])))\n",
    "y = np.array(sym.symbols(\" \".join([\"y{}\".format(i) for i in range(N)])))\n",
    "z = np.array(sym.symbols(\" \".join([\"z{}\".format(i) for i in range(N)])))\n",
    "\n",
    "# Symbolic expression for the potential\n",
    "expr = (\n",
    "    (mass * omega_x**2 * x**2 / 2).sum()\n",
    "    + (mass * omega_y**2 * y**2 / 2).sum()\n",
    "    + (mass * omega_z**2 * z**2 / 2).sum()\n",
    ")\n",
    "\n",
    "# Define an instance of the AdvancedSymbolicPotential class for a harmonic potential\n",
    "asp = oqd_trical.mechanical.AdvancedSymbolicPotential(N, expr, dim=dim)"
   ]
  },
  {
   "cell_type": "markdown",
   "metadata": {},
   "source": [
    "### AutoDiffPotential Subclass\n",
    "\n",
    "The AutoDiffPotential subclass uses a function representing the potential (defined using numpy subpackage of autograd package) and uses automatic differentiation to take the derivatives. This class works for any arbitrary potential\n"
   ]
  },
  {
   "cell_type": "code",
   "execution_count": 11,
   "metadata": {
    "ExecuteTime": {
     "end_time": "2020-08-07T00:14:13.984426Z",
     "start_time": "2020-08-07T00:14:13.978424Z"
    }
   },
   "outputs": [],
   "source": [
    "from autograd import numpy as agnp\n",
    "\n",
    "N = 3  # Number of ions\n",
    "dim = 3  # Dimension of system\n",
    "\n",
    "\n",
    "# function for the potential defined using autograd.numpy\n",
    "def expr(x):\n",
    "    return agnp.sum(\n",
    "        mass * (omega_x) ** 2 / 2 * x[:, 0] ** 2\n",
    "        + mass * (omega_y) ** 2 / 2 * x[:, 1] ** 2\n",
    "        + mass * (omega_z) ** 2 / 2 * x[:, 2] ** 2\n",
    "    )\n",
    "\n",
    "\n",
    "# Define an instance of the AutoDiffPotential class for a harmonic potential\n",
    "adp = oqd_trical.mechanical.AutoDiffPotential(expr, N=N, dim=dim)"
   ]
  },
  {
   "cell_type": "markdown",
   "metadata": {},
   "source": [
    "#### OpticalPotential Subclass\n",
    "\n",
    "OpticalPotential is similar to SymbolicOpticalPotential, except it uses automatic differentiation instead of symbolic differentiation.\n",
    "\n",
    "$$\n",
    "U(\\{\\vec{x}_i\\}) = \\frac{\\hbar \\Omega^2(\\{\\vec{x}_i\\})}{4 \\Delta} = \\frac{\\hbar \\bar{\\Omega}^2 I(\\{\\vec{x}_i\\})}{4 \\Delta} = \\frac{\\hbar \\bar{\\Omega}^2}{4 \\Delta} \\sum_{i} \\tilde{I}(\\vec{x}_i)\n",
    "$$\n"
   ]
  },
  {
   "cell_type": "code",
   "execution_count": 12,
   "metadata": {
    "ExecuteTime": {
     "end_time": "2020-08-07T00:14:13.993427Z",
     "start_time": "2020-08-07T00:14:13.985426Z"
    }
   },
   "outputs": [],
   "source": [
    "N = 3  # Number of ions\n",
    "\n",
    "# Parameters for a Gaussian beam\n",
    "focal_point = np.zeros(3)\n",
    "beam_waist = 1e-6\n",
    "refractive_index = 1.0\n",
    "wavelength = 375e-9\n",
    "power = 1e0\n",
    "Omega_bar = 2.23e6\n",
    "transition_wavelength = 369.52e-9\n",
    "\n",
    "\n",
    "# Function for the intensity for the Gaussian beam with the above parameters defined using autograd.numpy\n",
    "def intensity_expr(x):\n",
    "    delta_x = x - focal_point\n",
    "    x_R = np.pi * beam_waist**2 * refractive_index / wavelength\n",
    "    w = beam_waist * agnp.sqrt(1 + (delta_x[:, 0] / x_R) ** 2)\n",
    "    return (\n",
    "        2\n",
    "        * power\n",
    "        / (np.pi * beam_waist**2)\n",
    "        * (beam_waist / w) ** 2\n",
    "        * agnp.exp(-2 * (delta_x[:, 1] ** 2 + delta_x[:, 2] ** 2) / w**2)\n",
    "    ).sum()\n",
    "\n",
    "\n",
    "# Define an instance of the OpticalPotential class for the Gaussian beam defined above\n",
    "op = oqd_trical.mechanical.OpticalPotential(\n",
    "    intensity_expr,\n",
    "    wavelength,\n",
    "    Omega_bar=Omega_bar,\n",
    "    transition_wavelength=transition_wavelength,\n",
    ")\n",
    "\n",
    "# Assign a number of ions to the SymbolicOpticalPotential class\n",
    "op.update_params(N=N)  # Without N cannot create gradient or Hessian"
   ]
  },
  {
   "cell_type": "markdown",
   "metadata": {},
   "source": [
    "## TrappedIons Class\n",
    "\n",
    "This class calculates the equilibrium positions, normal modes, and frequencies of a given number of ions and trapping potential. The method of inputing the potential should not have any bearing on the equilibrum position. Using the equilibrium_position funciton we can see that all three input methods give the same positions in z.\n",
    "\n",
    "### Single Species\n"
   ]
  },
  {
   "cell_type": "code",
   "execution_count": 13,
   "metadata": {
    "ExecuteTime": {
     "end_time": "2020-08-07T00:14:14.042439Z",
     "start_time": "2020-08-07T00:14:13.994428Z"
    }
   },
   "outputs": [
    {
     "name": "stdout",
     "output_type": "stream",
     "text": [
      "Equilibrium Position (micron):[-15.89995   0.       15.89995]\n",
      "Eigenfrequencies (Mrad/s):[2.51327 2.4625  2.38959 2.26195 2.20539 2.12368 1.21055 0.87062 0.50265]\n",
      "principal axes Eigenvectors:\n",
      "[[ 0.57735 -0.70711  0.40825  0.       0.      -0.       0.       0.\n",
      "  -0.     ]\n",
      " [ 0.57735  0.      -0.8165   0.       0.       0.      -0.      -0.\n",
      "  -0.     ]\n",
      " [ 0.57735  0.70711  0.40825  0.      -0.      -0.      -0.       0.\n",
      "  -0.     ]\n",
      " [-0.       0.      -0.       0.57735  0.70711  0.40825  0.       0.\n",
      "  -0.     ]\n",
      " [-0.       0.       0.       0.57735 -0.      -0.8165   0.      -0.\n",
      "  -0.     ]\n",
      " [-0.      -0.      -0.       0.57735 -0.70711  0.40825 -0.       0.\n",
      "  -0.     ]\n",
      " [ 0.       0.      -0.      -0.      -0.      -0.       0.40825  0.70711\n",
      "   0.57735]\n",
      " [ 0.      -0.      -0.      -0.       0.       0.      -0.8165  -0.\n",
      "   0.57735]\n",
      " [ 0.       0.       0.       0.      -0.       0.       0.40825 -0.70711\n",
      "   0.57735]]\n"
     ]
    }
   ],
   "source": [
    "N = 3  # Number of ions\n",
    "mass = cst.convert_m_a(171)  # Mass of an ion\n",
    "\n",
    "# Harmonic trapped ion system\n",
    "ti = oqd_trical.mechanical.TrappedIons(N, pp, m=mass)\n",
    "\n",
    "# Calculate equilibrium position\n",
    "ti.equilibrium_position()\n",
    "\n",
    "# Calculate normal modes\n",
    "ti.normal_modes()  # If equilibrium position does not exist it will run equilibrium_position method\n",
    "\n",
    "# Calculate normal modes in principal axes if it exist\n",
    "ti.principal_axes()  # If normal modes does not exist it will run normal_modes method\n",
    "\n",
    "print(\"{}:{}\".format(\"Equilibrium Position (micron)\", np.round(ti.x_ep[:, 2] * 1e6, 5)))\n",
    "print(\"{}:{}\".format(\"Eigenfrequencies (Mrad/s)\", np.round(ti.w_pa / 1e6, 5)))\n",
    "print(\"{}:\".format(\"principal axes Eigenvectors\"))\n",
    "print(np.round(ti.b_pa, 5))"
   ]
  },
  {
   "cell_type": "code",
   "execution_count": 14,
   "metadata": {
    "ExecuteTime": {
     "end_time": "2020-08-07T00:14:36.621513Z",
     "start_time": "2020-08-07T00:14:14.043439Z"
    },
    "scrolled": false
   },
   "outputs": [
    {
     "name": "stdout",
     "output_type": "stream",
     "text": [
      "======================================= PolynomialPotential ========================================\n",
      "Execution time for principal axes method:\n",
      "6.17 ms ± 379 μs per loop (mean ± std. dev. of 7 runs, 100 loops each)\n",
      "Equilibrium Position (micron):[-15.89995   0.       15.89995]\n",
      "Eigenfrequencies (Mrad/s):[2.51327 2.4625  2.38959 2.26195 2.20539 2.12368 1.21055 0.87062 0.50265]\n",
      "principal axes Eigenvectors:\n",
      "[[ 0.57735 -0.70711  0.40825  0.       0.      -0.       0.       0.\n",
      "  -0.     ]\n",
      " [ 0.57735  0.      -0.8165   0.       0.       0.      -0.      -0.\n",
      "  -0.     ]\n",
      " [ 0.57735  0.70711  0.40825  0.      -0.      -0.      -0.       0.\n",
      "  -0.     ]\n",
      " [-0.       0.      -0.       0.57735  0.70711  0.40825  0.       0.\n",
      "  -0.     ]\n",
      " [-0.       0.       0.       0.57735 -0.      -0.8165   0.      -0.\n",
      "  -0.     ]\n",
      " [-0.      -0.      -0.       0.57735 -0.70711  0.40825 -0.       0.\n",
      "  -0.     ]\n",
      " [ 0.       0.      -0.      -0.      -0.      -0.       0.40825  0.70711\n",
      "   0.57735]\n",
      " [ 0.      -0.      -0.      -0.       0.       0.      -0.8165  -0.\n",
      "   0.57735]\n",
      " [ 0.       0.       0.       0.      -0.       0.       0.40825 -0.70711\n",
      "   0.57735]]\n",
      "==================================== Fitted PolynomialPotential ====================================\n",
      "Execution time for principal axes method:\n",
      "6.07 ms ± 247 μs per loop (mean ± std. dev. of 7 runs, 100 loops each)\n",
      "Equilibrium Position (micron):[-15.89995  -0.       15.89995]\n",
      "Eigenfrequencies (Mrad/s):[2.51327 2.4625  2.38959 2.26195 2.20539 2.12368 1.21055 0.87062 0.50265]\n",
      "principal axes Eigenvectors:\n",
      "[[ 0.57735 -0.70711  0.40825 -0.      -0.      -0.      -0.      -0.\n",
      "  -0.     ]\n",
      " [ 0.57735  0.      -0.8165   0.       0.       0.      -0.       0.\n",
      "  -0.     ]\n",
      " [ 0.57735  0.70711  0.40825  0.      -0.       0.       0.       0.\n",
      "  -0.     ]\n",
      " [ 0.      -0.       0.       0.57735  0.70711  0.40825  0.       0.\n",
      "   0.     ]\n",
      " [ 0.      -0.       0.       0.57735 -0.      -0.8165   0.      -0.\n",
      "   0.     ]\n",
      " [-0.      -0.      -0.       0.57735 -0.70711  0.40825 -0.       0.\n",
      "  -0.     ]\n",
      " [ 0.      -0.       0.      -0.      -0.      -0.       0.40825  0.70711\n",
      "   0.57735]\n",
      " [ 0.       0.      -0.      -0.       0.       0.      -0.8165  -0.\n",
      "   0.57735]\n",
      " [ 0.       0.      -0.      -0.      -0.       0.       0.40825 -0.70711\n",
      "   0.57735]]\n",
      "======================================== SymbolicPotential =========================================\n",
      "Execution time for principal axes method:\n",
      "16.4 ms ± 1.49 ms per loop (mean ± std. dev. of 7 runs, 100 loops each)\n",
      "Equilibrium Position (micron):[-15.89995   0.       15.89995]\n",
      "Eigenfrequencies (Mrad/s):[2.51327 2.4625  2.38959 2.26195 2.20539 2.12368 1.21055 0.87062 0.50265]\n",
      "principal axes Eigenvectors:\n",
      "[[ 0.57735 -0.70711  0.40825 -0.      -0.       0.       0.       0.\n",
      "  -0.     ]\n",
      " [ 0.57735  0.      -0.8165  -0.       0.      -0.      -0.       0.\n",
      "  -0.     ]\n",
      " [ 0.57735  0.70711  0.40825 -0.      -0.      -0.      -0.      -0.\n",
      "  -0.     ]\n",
      " [ 0.      -0.      -0.       0.57735 -0.70711  0.40825 -0.       0.\n",
      "  -0.     ]\n",
      " [ 0.      -0.      -0.       0.57735  0.      -0.8165   0.      -0.\n",
      "  -0.     ]\n",
      " [ 0.       0.       0.       0.57735  0.70711  0.40825  0.       0.\n",
      "  -0.     ]\n",
      " [ 0.      -0.      -0.      -0.      -0.       0.       0.40825 -0.70711\n",
      "   0.57735]\n",
      " [ 0.      -0.      -0.       0.       0.       0.      -0.8165   0.\n",
      "   0.57735]\n",
      " [ 0.       0.       0.       0.      -0.      -0.       0.40825  0.70711\n",
      "   0.57735]]\n",
      "==================================== AdvancedSymbolicPotential =====================================\n",
      "Execution time for principal axes method:\n",
      "109 ms ± 4.01 ms per loop (mean ± std. dev. of 7 runs, 10 loops each)\n",
      "Equilibrium Position (micron):[-15.89995   0.       15.89995]\n",
      "Eigenfrequencies (Mrad/s):[2.51327 2.4625  2.38959 2.26195 2.20539 2.12368 1.21055 0.87062 0.50265]\n",
      "principal axes Eigenvectors:\n",
      "[[ 0.57735 -0.70711  0.40825  0.       0.       0.       0.      -0.\n",
      "  -0.     ]\n",
      " [ 0.57735  0.      -0.8165  -0.      -0.      -0.       0.      -0.\n",
      "  -0.     ]\n",
      " [ 0.57735  0.70711  0.40825  0.      -0.      -0.      -0.       0.\n",
      "  -0.     ]\n",
      " [ 0.      -0.      -0.       0.57735  0.70711  0.40825  0.       0.\n",
      "   0.     ]\n",
      " [-0.      -0.      -0.       0.57735 -0.      -0.8165  -0.       0.\n",
      "   0.     ]\n",
      " [ 0.      -0.      -0.       0.57735 -0.70711  0.40825  0.      -0.\n",
      "   0.     ]\n",
      " [ 0.      -0.      -0.       0.       0.      -0.       0.40825  0.70711\n",
      "   0.57735]\n",
      " [ 0.      -0.       0.       0.      -0.      -0.      -0.8165  -0.\n",
      "   0.57735]\n",
      " [ 0.       0.       0.      -0.      -0.       0.       0.40825 -0.70711\n",
      "   0.57735]]\n",
      "======================================== AutoDiffPotential =========================================\n",
      "Execution time for principal axes method:\n",
      "3.7 ms ± 129 μs per loop (mean ± std. dev. of 7 runs, 100 loops each)\n",
      "Equilibrium Position (micron):[-15.89995   0.       15.89995]\n",
      "Eigenfrequencies (Mrad/s):[2.51327 2.4625  2.38959 2.26195 2.20539 2.12368 1.21055 0.87062 0.50265]\n",
      "principal axes Eigenvectors:\n",
      "[[ 0.57735 -0.70711  0.40825  0.      -0.       0.       0.       0.\n",
      "  -0.     ]\n",
      " [ 0.57735  0.      -0.8165  -0.       0.      -0.      -0.       0.\n",
      "  -0.     ]\n",
      " [ 0.57735  0.70711  0.40825  0.       0.       0.      -0.      -0.\n",
      "  -0.     ]\n",
      " [-0.      -0.      -0.       0.57735 -0.70711  0.40825 -0.       0.\n",
      "  -0.     ]\n",
      " [-0.      -0.      -0.       0.57735  0.      -0.8165   0.      -0.\n",
      "   0.     ]\n",
      " [-0.      -0.      -0.       0.57735  0.70711  0.40825 -0.      -0.\n",
      "   0.     ]\n",
      " [ 0.      -0.      -0.      -0.      -0.       0.       0.40825 -0.70711\n",
      "   0.57735]\n",
      " [ 0.      -0.      -0.      -0.      -0.       0.      -0.8165   0.\n",
      "   0.57735]\n",
      " [ 0.       0.       0.       0.      -0.      -0.       0.40825  0.70711\n",
      "   0.57735]]\n"
     ]
    }
   ],
   "source": [
    "N = 3  # Number of ions\n",
    "mass = cst.convert_m_a(171)  # Mass of an ion\n",
    "\n",
    "# Harmonic trapped ion system defined using different methods\n",
    "ti_pp = oqd_trical.mechanical.TrappedIons(N, pp, m=mass)  # PolynomialPotential\n",
    "ti_pfp = oqd_trical.mechanical.TrappedIons(\n",
    "    N, pfp, m=mass\n",
    ")  # PolynomialPotential by fitting coeffiencients\n",
    "ti_sp = oqd_trical.mechanical.TrappedIons(N, sp, m=mass)  # SymbolicPotential\n",
    "ti_asp = oqd_trical.mechanical.TrappedIons(N, asp, m=mass)  # AdvancedSymbolicPotential\n",
    "ti_adp = oqd_trical.mechanical.TrappedIons(N, adp, m=mass)  # AutoDiffPotential\n",
    "\n",
    "print(\"{:=^100}\".format(\" PolynomialPotential \"))\n",
    "print(\"{}:\".format(\"Execution time for principal axes method\"))\n",
    "%timeit ti_pp.principal_axes()\n",
    "print(\n",
    "    \"{}:{}\".format(\"Equilibrium Position (micron)\", np.round(ti_pp.x_ep[:, 2] * 1e6, 5))\n",
    ")\n",
    "print(\"{}:{}\".format(\"Eigenfrequencies (Mrad/s)\", np.round(ti_pp.w_pa / 1e6, 5)))\n",
    "print(\"{}:\".format(\"principal axes Eigenvectors\"))\n",
    "print(np.round(ti_pp.b_pa, 5))\n",
    "\n",
    "print(\"{:=^100}\".format(\" Fitted PolynomialPotential \"))\n",
    "print(\"{}:\".format(\"Execution time for principal axes method\"))\n",
    "%timeit ti_pfp.principal_axes()\n",
    "print(\n",
    "    \"{}:{}\".format(\n",
    "        \"Equilibrium Position (micron)\", np.round(ti_pfp.x_ep[:, 2] * 1e6, 5)\n",
    "    )\n",
    ")\n",
    "print(\"{}:{}\".format(\"Eigenfrequencies (Mrad/s)\", np.round(ti_pfp.w_pa / 1e6, 5)))\n",
    "print(\"{}:\".format(\"principal axes Eigenvectors\"))\n",
    "print(np.round(ti_pfp.b_pa, 5))\n",
    "\n",
    "print(\"{:=^100}\".format(\" SymbolicPotential \"))\n",
    "print(\"{}:\".format(\"Execution time for principal axes method\"))\n",
    "%timeit ti_sp.principal_axes()\n",
    "print(\n",
    "    \"{}:{}\".format(\"Equilibrium Position (micron)\", np.round(ti_sp.x_ep[:, 2] * 1e6, 5))\n",
    ")\n",
    "print(\"{}:{}\".format(\"Eigenfrequencies (Mrad/s)\", np.round(ti_sp.w_pa / 1e6, 5)))\n",
    "print(\"{}:\".format(\"principal axes Eigenvectors\"))\n",
    "print(np.round(ti_sp.b_pa, 5))\n",
    "\n",
    "print(\"{:=^100}\".format(\" AdvancedSymbolicPotential \"))\n",
    "print(\"{}:\".format(\"Execution time for principal axes method\"))\n",
    "%timeit ti_asp.principal_axes()\n",
    "print(\n",
    "    \"{}:{}\".format(\n",
    "        \"Equilibrium Position (micron)\", np.round(ti_asp.x_ep[:, 2] * 1e6, 5)\n",
    "    )\n",
    ")\n",
    "print(\"{}:{}\".format(\"Eigenfrequencies (Mrad/s)\", np.round(ti_asp.w_pa / 1e6, 5)))\n",
    "print(\"{}:\".format(\"principal axes Eigenvectors\"))\n",
    "print(np.round(ti_asp.b_pa, 5))\n",
    "\n",
    "print(\"{:=^100}\".format(\" AutoDiffPotential \"))\n",
    "print(\"{}:\".format(\"Execution time for principal axes method\"))\n",
    "%timeit ti_adp.principal_axes()\n",
    "print(\n",
    "    \"{}:{}\".format(\n",
    "        \"Equilibrium Position (micron)\", np.round(ti_adp.x_ep[:, 2] * 1e6, 5)\n",
    "    )\n",
    ")\n",
    "print(\"{}:{}\".format(\"Eigenfrequencies (Mrad/s)\", np.round(ti_adp.w_pa / 1e6, 5)))\n",
    "print(\"{}:\".format(\"principal axes Eigenvectors\"))\n",
    "print(np.round(ti_adp.b_pa, 5))"
   ]
  },
  {
   "cell_type": "code",
   "execution_count": 15,
   "metadata": {
    "ExecuteTime": {
     "end_time": "2020-08-07T00:14:59.452124Z",
     "start_time": "2020-08-07T00:14:36.622513Z"
    }
   },
   "outputs": [
    {
     "name": "stdout",
     "output_type": "stream",
     "text": [
      "===================================== GaussianOpticalPotential =====================================\n",
      "Execution time for principal axes method:\n",
      "4.12 ms ± 95.6 μs per loop (mean ± std. dev. of 7 runs, 100 loops each)\n",
      "Equilibrium Position (micron):[-15.89995   0.       15.89995]\n",
      "Eigenfrequencies (Mrad/s):[2.51327 2.4625  2.38959 4.52781 2.21563 2.20539 4.10671 0.87062 0.79797]\n",
      "principal axes Eigenvectors:\n",
      "[[ 0.57735 -0.70711  0.40825 -0.      -0.      -0.       0.      -0.\n",
      "  -0.     ]\n",
      " [ 0.57735  0.      -0.8165  -0.       0.      -0.       0.       0.\n",
      "   0.     ]\n",
      " [ 0.57735  0.70711  0.40825 -0.      -0.       0.      -0.       0.\n",
      "  -0.     ]\n",
      " [ 0.       0.       0.       0.01297  0.70699  0.70711 -0.      -0.\n",
      "  -0.     ]\n",
      " [ 0.       0.       0.       0.99983 -0.01834  0.       0.       0.\n",
      "   0.     ]\n",
      " [ 0.       0.       0.       0.01297  0.70699 -0.70711 -0.       0.\n",
      "  -0.     ]\n",
      " [ 0.      -0.       0.      -0.       0.       0.       0.02493  0.70711\n",
      "   0.70667]\n",
      " [ 0.      -0.       0.      -0.      -0.       0.      -0.99938 -0.\n",
      "   0.03525]\n",
      " [ 0.       0.       0.       0.       0.      -0.       0.02493 -0.70711\n",
      "   0.70667]]\n",
      "===================================== SymbolicOpticalPotential =====================================\n",
      "Execution time for principal axes method:\n",
      "370 ms ± 5 ms per loop (mean ± std. dev. of 7 runs, 1 loop each)\n",
      "Equilibrium Position (micron):[-15.89995  -0.       15.89995]\n",
      "Eigenfrequencies (Mrad/s):[2.52169 2.4625  2.40421 4.52781 2.21563 2.20539 4.10671 0.87062 0.79797]\n",
      "principal axes Eigenvectors:\n",
      "[[ 0.53735 -0.70711  0.45963  0.       0.      -0.       0.      -0.\n",
      "  -0.     ]\n",
      " [ 0.65001  0.      -0.75993  0.      -0.       0.       0.       0.\n",
      "   0.     ]\n",
      " [ 0.53735  0.70711  0.45963  0.       0.      -0.      -0.       0.\n",
      "  -0.     ]\n",
      " [-0.      -0.      -0.       0.01297  0.70699 -0.70711  0.       0.\n",
      "   0.     ]\n",
      " [-0.      -0.      -0.       0.99983 -0.01834 -0.       0.      -0.\n",
      "   0.     ]\n",
      " [-0.      -0.      -0.       0.01297  0.70699  0.70711  0.      -0.\n",
      "   0.     ]\n",
      " [ 0.      -0.       0.      -0.      -0.       0.       0.02493  0.70711\n",
      "   0.70667]\n",
      " [ 0.      -0.       0.      -0.      -0.       0.      -0.99938 -0.\n",
      "   0.03525]\n",
      " [ 0.       0.       0.       0.      -0.      -0.       0.02493 -0.70711\n",
      "   0.70667]]\n",
      "========================================= OpticalPotential =========================================\n",
      "Execution time for principal axes method:\n",
      "9.07 ms ± 176 μs per loop (mean ± std. dev. of 7 runs, 100 loops each)\n",
      "Equilibrium Position (micron):[-15.89995   0.       15.89995]\n",
      "Eigenfrequencies (Mrad/s):[2.52169 2.4625  2.40421 4.52781 2.21563 2.20539 4.10671 0.87062 0.79797]\n",
      "principal axes Eigenvectors:\n",
      "[[ 0.53735 -0.70711  0.45963  0.       0.       0.       0.      -0.\n",
      "  -0.     ]\n",
      " [ 0.65001  0.      -0.75993  0.      -0.      -0.       0.       0.\n",
      "   0.     ]\n",
      " [ 0.53735  0.70711  0.45963  0.       0.       0.      -0.       0.\n",
      "  -0.     ]\n",
      " [ 0.       0.      -0.       0.01297  0.70699  0.70711 -0.       0.\n",
      "   0.     ]\n",
      " [-0.       0.      -0.       0.99983 -0.01834  0.       0.      -0.\n",
      "   0.     ]\n",
      " [-0.       0.      -0.       0.01297  0.70699 -0.70711  0.       0.\n",
      "  -0.     ]\n",
      " [ 0.      -0.       0.       0.      -0.      -0.       0.02493  0.70711\n",
      "   0.70667]\n",
      " [ 0.      -0.       0.      -0.       0.      -0.      -0.99938 -0.\n",
      "   0.03525]\n",
      " [ 0.       0.       0.      -0.       0.      -0.       0.02493 -0.70711\n",
      "   0.70667]]\n"
     ]
    }
   ],
   "source": [
    "N = 3  # Number of ions\n",
    "dim = 3  # Dimension of system\n",
    "mass = cst.convert_m_a(171)  # Mass of an ion\n",
    "\n",
    "# Harmonic trapped ion system with optical tweezers on the center ion defined using different methods\n",
    "ti_gop = oqd_trical.mechanical.TrappedIons(\n",
    "    N, adp, gop, m=mass\n",
    ")  # GaussianOpticalPotential\n",
    "ti_sop = oqd_trical.mechanical.TrappedIons(\n",
    "    N, adp, sop, m=mass\n",
    ")  # SymbolicOpticalPotential\n",
    "ti_op = oqd_trical.mechanical.TrappedIons(N, adp, op, m=mass)  # OpticalPotential\n",
    "\n",
    "print(\"{:=^100}\".format(\" GaussianOpticalPotential \"))\n",
    "print(\"{}:\".format(\"Execution time for principal axes method\"))\n",
    "%timeit ti_gop.principal_axes()\n",
    "print(\n",
    "    \"{}:{}\".format(\n",
    "        \"Equilibrium Position (micron)\", np.round(ti_gop.x_ep[:, 2] * 1e6, 5)\n",
    "    )\n",
    ")\n",
    "print(\"{}:{}\".format(\"Eigenfrequencies (Mrad/s)\", np.round(ti_gop.w_pa / 1e6, 5)))\n",
    "print(\"{}:\".format(\"principal axes Eigenvectors\"))\n",
    "print(np.round(ti_gop.b_pa, 5))\n",
    "\n",
    "print(\"{:=^100}\".format(\" SymbolicOpticalPotential \"))\n",
    "print(\"{}:\".format(\"Execution time for principal axes method\"))\n",
    "%timeit ti_sop.principal_axes()\n",
    "print(\n",
    "    \"{}:{}\".format(\n",
    "        \"Equilibrium Position (micron)\", np.round(ti_sop.x_ep[:, 2] * 1e6, 5)\n",
    "    )\n",
    ")\n",
    "print(\"{}:{}\".format(\"Eigenfrequencies (Mrad/s)\", np.round(ti_sop.w_pa / 1e6, 5)))\n",
    "print(\"{}:\".format(\"principal axes Eigenvectors\"))\n",
    "print(np.round(ti_sop.b_pa, 5))\n",
    "\n",
    "print(\"{:=^100}\".format(\" OpticalPotential \"))\n",
    "print(\"{}:\".format(\"Execution time for principal axes method\"))\n",
    "%timeit ti_op.principal_axes()\n",
    "print(\n",
    "    \"{}:{}\".format(\"Equilibrium Position (micron)\", np.round(ti_op.x_ep[:, 2] * 1e6, 5))\n",
    ")\n",
    "print(\"{}:{}\".format(\"Eigenfrequencies (Mrad/s)\", np.round(ti_op.w_pa / 1e6, 5)))\n",
    "print(\"{}:\".format(\"principal axes Eigenvectors\"))\n",
    "print(np.round(ti_op.b_pa, 5))"
   ]
  },
  {
   "cell_type": "markdown",
   "metadata": {},
   "source": [
    "### Multiple Species\n"
   ]
  },
  {
   "cell_type": "code",
   "execution_count": 16,
   "metadata": {
    "ExecuteTime": {
     "end_time": "2020-08-07T00:14:59.482131Z",
     "start_time": "2020-08-07T00:14:59.453124Z"
    }
   },
   "outputs": [
    {
     "name": "stdout",
     "output_type": "stream",
     "text": [
      "Equilibrium Position (micron):[-15.89995   0.       15.89995]\n",
      "Eigenfrequencies (Mrad/s):[3.03814 2.46616 2.4625  2.71953 2.20759 2.20539 1.30474 0.87062 0.51914]\n",
      "principal axes Eigenvectors:\n",
      "[[ 0.0646   0.70258  0.70711  0.       0.       0.       0.       0.\n",
      "  -0.     ]\n",
      " [ 0.99582 -0.11295  0.      -0.      -0.      -0.      -0.      -0.\n",
      "  -0.     ]\n",
      " [ 0.0646   0.70258 -0.70711  0.       0.       0.      -0.       0.\n",
      "  -0.     ]\n",
      " [-0.       0.      -0.       0.08092  0.70001  0.70711 -0.       0.\n",
      "  -0.     ]\n",
      " [-0.      -0.       0.       0.99343 -0.14131  0.      -0.      -0.\n",
      "   0.     ]\n",
      " [-0.      -0.       0.       0.08092  0.70001 -0.70711  0.      -0.\n",
      "   0.     ]\n",
      " [ 0.      -0.       0.      -0.       0.       0.       0.33927  0.70711\n",
      "   0.58537]\n",
      " [ 0.       0.       0.       0.      -0.       0.      -0.87738 -0.\n",
      "   0.56097]\n",
      " [ 0.       0.      -0.      -0.      -0.       0.       0.33927 -0.70711\n",
      "   0.58537]]\n"
     ]
    }
   ],
   "source": [
    "N = 3  # Number of ions\n",
    "\n",
    "myb = cst.convert_m_a(171)  # mass of ytterbium-171\n",
    "mba = cst.convert_m_a(138)  # mass of barium-138\n",
    "ms = np.array([myb, mba, myb])  # mass array (length must be equal to number of ions)\n",
    "\n",
    "\n",
    "# Expression for ion dependent multispecies harmonic potential\n",
    "def expr(x):\n",
    "    return (\n",
    "        (myb**2 * omega_x**2 * x[:, 0] ** 2 / (2 * ms)).sum()\n",
    "        + (myb**2 * omega_y**2 * x[:, 1] ** 2 / (2 * ms)).sum()\n",
    "        + (myb * omega_z**2 * x[:, 2] ** 2 / 2).sum()\n",
    "    )\n",
    "\n",
    "\n",
    "# AutoDiffPotential for above defined ion dependent multispecies harmonic potential\n",
    "adp = oqd_trical.mechanical.AutoDiffPotential(expr, N=N, dim=dim)\n",
    "\n",
    "# Multispecies harmonic trapped ion system\n",
    "ti_ms = oqd_trical.mechanical.TrappedIons(N, adp, m=ms)\n",
    "\n",
    "# Calculates equilibrium position, normal modes and normal modes in the principal axes\n",
    "ti_ms.principal_axes()\n",
    "\n",
    "print(\n",
    "    \"{}:{}\".format(\"Equilibrium Position (micron)\", np.round(ti_ms.x_ep[:, 2] * 1e6, 5))\n",
    ")\n",
    "print(\"{}:{}\".format(\"Eigenfrequencies (Mrad/s)\", np.round(ti_ms.w_pa / 1e6, 5)))\n",
    "print(\"{}:\".format(\"principal axes Eigenvectors\"))\n",
    "print(np.round(ti_ms.b_pa, 5))"
   ]
  },
  {
   "cell_type": "markdown",
   "metadata": {},
   "source": [
    "## SimulatedSpinLattice Class\n",
    "\n",
    "This class produces the simulated coupling matrix, $J_{ij}$, when an optical field is applied on the trapped ion system. The coupling matrix, $J_{ij}$, depends on the following parameters:\n",
    "\n",
    "- Rabi frequencies, Omega $(\\Omega_{in})$\n",
    "- Raman beatnote detunings, mu $(\\mu_n)$\n",
    "- Trapped ion normal modes, b $(b_{im})$ and omega $(\\omega_{m})$\n",
    "- Direction of beam, direc (\"x\",\"y\" or \"z\")\n",
    "- Wavenumber of the light, k $\\left(||\\vec{k}||\\right)$\n"
   ]
  },
  {
   "cell_type": "code",
   "execution_count": 17,
   "metadata": {
    "ExecuteTime": {
     "end_time": "2020-08-07T00:15:01.761643Z",
     "start_time": "2020-08-07T00:14:59.483131Z"
    },
    "scrolled": false
   },
   "outputs": [
    {
     "data": {
      "text/plain": [
       "<matplotlib.colorbar.Colorbar at 0x23c1e373e80>"
      ]
     },
     "execution_count": 17,
     "metadata": {},
     "output_type": "execute_result"
    },
    {
     "data": {
      "image/png": "[encoded data removed]",
      "text/plain": [
       "<Figure size 2000x1500 with 4 Axes>"
      ]
     },
     "metadata": {},
     "output_type": "display_data"
    }
   ],
   "source": [
    "N = 3  # Number of ions\n",
    "\n",
    "# Parameters for the coupling matrix\n",
    "direc = \"x\"\n",
    "wavelength = 355e-9\n",
    "detuning = 2 * np.pi * 1e3\n",
    "# detuning for 3 cases: near COM, near tilt and near zigzag on the right\n",
    "mu = np.array([np.array([ti_adp.w_pa[:N][i] + detuning]) for i in range(N)])\n",
    "omega = np.full((N, 1), 1e6)  # global beam\n",
    "\n",
    "# Initialize SimulatedSpinLattice class, which represents the coupling matrix resulting from the above parameters\n",
    "ssl = [\n",
    "    oqd_trical.mechanical.SimulatedSpinLattice(\n",
    "        ti, mu[i], omega, direc=direc, k=2 * np.pi / wavelength\n",
    "    )\n",
    "    for i in range(N)\n",
    "]\n",
    "\n",
    "# Array for the coupling matrix\n",
    "J = np.array([ssl[i].J for i in range(N)])\n",
    "\n",
    "# Plot of the coupling matrix\n",
    "norm = matplotlib.colors.Normalize(J.min(), J.max())\n",
    "sm = cm.ScalarMappable(norm, cmap=cm.viridis)\n",
    "sm.set_array(J)\n",
    "\n",
    "fig = plt.figure(figsize=(20, 15))\n",
    "ax = [fig.add_subplot(4, 3, i + 1) for i in range(N)]\n",
    "for i in range(N):\n",
    "    im = ax[i].imshow(J[i], cmap=cm.viridis, norm=norm)\n",
    "    ax[i].set_xticks(np.arange(N))\n",
    "    ax[i].set_yticks(np.arange(N))\n",
    "    ax[i].set_xticklabels(np.arange(N) + 1)\n",
    "    ax[i].set_yticklabels(np.arange(N) + 1)\n",
    "    ax[i].set_xlabel(r\"$j$\", labelpad=15)\n",
    "    ax[i].set_ylabel(r\"$i$\", labelpad=15)\n",
    "    ax[i].set_title(\"Detuning near {}\".format([\"COM\", \"tilt\", \"zigzag\"][i]))\n",
    "fig.colorbar(sm, ax=ax, label=r\"$J$\")"
   ]
  }
 ],
 "metadata": {
  "kernelspec": {
   "display_name": "Python 3",
   "language": "python",
   "name": "python3"
  },
  "language_info": {
   "codemirror_mode": {
    "name": "ipython",
    "version": 3
   },
   "file_extension": ".py",
   "mimetype": "text/x-python",
   "name": "python",
   "nbconvert_exporter": "python",
   "pygments_lexer": "ipython3",
   "version": "3.10.14"
  },
  "latex_envs": {
   "LaTeX_envs_menu_present": true,
   "autoclose": false,
   "autocomplete": true,
   "bibliofile": "biblio.bib",
   "cite_by": "apalike",
   "current_citInitial": 1,
   "eqLabelWithNumbers": true,
   "eqNumInitial": 1,
   "hotkeys": {
    "equation": "Ctrl-E",
    "itemize": "Ctrl-I"
   },
   "labels_anchors": false,
   "latex_user_defs": false,
   "report_style_numbering": false,
   "user_envs_cfg": false
  },
  "toc": {
   "base_numbering": 1,
   "nav_menu": {},
   "number_sections": true,
   "sideBar": true,
   "skip_h1_title": false,
   "title_cell": "Table of Contents",
   "title_sidebar": "Contents",
   "toc_cell": false,
   "toc_position": {
    "height": "calc(100% - 180px)",
    "left": "10px",
    "top": "150px",
    "width": "333px"
   },
   "toc_section_display": true,
   "toc_window_display": true
  }
 },
 "nbformat": 4,
 "nbformat_minor": 2
}
